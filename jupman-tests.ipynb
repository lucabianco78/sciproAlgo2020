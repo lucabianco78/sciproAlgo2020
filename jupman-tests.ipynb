{
 "cells": [
  {
   "cell_type": "code",
   "execution_count": 1,
   "metadata": {
    "nbsphinx": "hidden"
   },
   "outputs": [
    {
     "data": {
      "text/html": [
       "<style>\n",
       "\n",
       "/** ONLY AVAILABLE IN JUPYTER **/\n",
       "\n",
       "#jupman-nav {\n",
       "    position: fixed;\n",
       "    top: 10px; \n",
       "    left: 5px; \n",
       "    background: white;\n",
       "    width: 200px; \n",
       "    padding: 10px; \n",
       "    z-index: 10;\n",
       "}\n",
       "\n",
       "/* style=\"background: rgba(255, 255, 255, 0);\" class=\"unstyled\" */\n",
       "\n",
       "#jupman-toc {\n",
       "    position: fixed;\n",
       "    top: 100px; \n",
       "    left: -55px; \n",
       "    background: rgba(255, 255, 255, 0);\n",
       "    \n",
       "    height: 80%;\n",
       "    width: 200px; \n",
       "    padding: 20px; \n",
       "    z-index: 10;\n",
       "    overflow-y: scroll;        \n",
       "        /* font-size: 50%; */\n",
       "}\n",
       "\n",
       "\n",
       "\n",
       "code {\n",
       "    background-color:rgb(245, 249, 249) !important;\n",
       "}\n",
       "\n",
       "\n",
       ".jupman-nav-item {\n",
       "    font-weight:bold;\n",
       "    font-size:120%  \n",
       "}\n",
       "\n",
       ".jupman-chapter-link {\n",
       "    font-size:150%;\n",
       "    margin-right:15px;        \n",
       "}\n",
       "\n",
       ".jupman-chapter-link a {\n",
       "    text-decoration: none;\n",
       "}    \n",
       "\n",
       ".jupman-title {\n",
       "    font-size:250%; \n",
       "    font-weight:bold        \n",
       "}    \n",
       "    \n",
       ".jupman-warn {    \n",
       "    background-color: #fcf2f2;        \n",
       "    border-left: 5px solid #dfb5b4;\n",
       "    padding: 1.5em;\n",
       "    font-weight:bold;\n",
       "    margin-bottom:10px;\n",
       "}\n",
       "\n",
       ".jupman-question {    \n",
       "    background-color: rgb(251, 231, 250);\n",
       "    border-left: 5px solid rgb(189, 151, 184);\n",
       "    padding: 1.5em;\n",
       "    font-weight:bold;\n",
       "    margin-bottom:10px;\n",
       "}\n",
       "    \n",
       "\n",
       ".jupman-important {\n",
       "    background-color: rgba(255, 238, 0, 0.31);\n",
       "    border-left: 5px solid rgba(205, 208, 0, 1.0);\n",
       "    color: #000;        \n",
       "    padding: 1.5em;\n",
       "    font-weight:bold;\n",
       "    margin-bottom:10px;\n",
       "}\n",
       "\n",
       "\n",
       "#jupman-toc ul {                                                                                                                                                                           \n",
       "    list-style-type: none;                                                                                                                                                                 \n",
       "    margin-left: 5px;\n",
       "}\n",
       "\n",
       "#jupman-toc li {        \n",
       "        padding-left: 3px;\n",
       "}    \n",
       "\n",
       "#jupman-toc .h1 {\n",
       "    font-size:110%; \n",
       "    \n",
       "}\n",
       "\n",
       "#jupman-toc .h2 {\n",
       "    font-size:100%; \n",
       "    padding-left:15px;\n",
       "}\n",
       "\n",
       "#jupman-toc .h3 {\n",
       "    font-size:100%; \n",
       "    padding-left:25px;\n",
       "}\n",
       "\n",
       "\n",
       "\n",
       "#notebook-container {\n",
       "    box-shadow : none;\n",
       "-web-kit-box-shadow: none;\n",
       "}\n",
       "\n",
       "\n",
       "#jupman-toc .toc-active {\n",
       "    background: rgba(168, 254, 255, 0.32);\n",
       "}\n",
       "\n",
       "\n",
       ".jupman-toggler {\n",
       "    text-decoration: none; \n",
       "    display:block;\n",
       "}\n",
       " </style>\n",
       "\n",
       "<script>\n",
       "var JUPMAN_IN_JUPYTER = true;\n",
       "\n",
       "/**\n",
       " * JUPYTER MANAGER JavaScript https://github.com/DavidLeoni/jupman \n",
       " * \n",
       " */\n",
       "\n",
       "\n",
       "/**\n",
       " * @deprecated use jupman.toggleVisibility instead\n",
       " * @param {string} what \n",
       " */\n",
       "function toggleVisibility(what){\n",
       "    console.warn(\"global toggleVisibility is deprecated, use jupman.toggleVisibility instead\");\n",
       "    jupman.toggleVisibility(what);            \n",
       "};\n",
       "\n",
       "function showthis(url) {\n",
       "    window.open(url, \"pres\", \"toolbar=yes,scrollbars=yes,resizable=yes,top=10,left=400,width=500,height=500\");\n",
       "    return(false);\n",
       "}\n",
       "\n",
       "var jupman = {\n",
       "    \n",
       "    /** \n",
       "        Checks if toc was injected in the script. \n",
       "    */\n",
       "    hasToc : function(){\n",
       "        return $('#jupman-toc').toc;\n",
       "    },\n",
       "    \n",
       "    isReduced : function(){\n",
       "        return $(window).width() < 924;\n",
       "    },\n",
       "    hoverToc : function(){\n",
       "        return $('#jupman-toc:hover').length != 0;\n",
       "    },\n",
       "    resize : function(){\n",
       "        if (jupman.isReduced()){\n",
       "            $(\"#jupman-toc\").hide();\n",
       "                \n",
       "        } else {\n",
       "            $(\"#jupman-toc\").show();\n",
       "            $(\"#jupman-toc\").css(\"background\",\"rgba(255, 255, 255, 0)\");\n",
       "            \n",
       "            tocParams = {\n",
       "                \n",
       "                'selectors': 'h1,h2,h3', //elements to use as headings\n",
       "                'container': 'body', //element to find all selectors in\n",
       "                'smoothScrolling': true, //enable or disable smooth scrolling on click\n",
       "                 //doesn't work  'prefix': 'jupman-toc', //prefix for anchor tags and class names\n",
       "                //'onHighlight': function(el) {}, //called when a new section is highlighted \n",
       "                'highlightOnScroll': true, //add class to heading that is currently in focus\n",
       "                'highlightOffset': 100, //offset to trigger the next headline\n",
       "                'anchorName': function(i, heading, prefix) { //custom function for anchor name\n",
       "                    return prefix+i;\n",
       "                },\n",
       "                'headerText': function(i, heading, $heading) { //custom function building the header-item text                  \n",
       "                    return $heading.text().replace(\"¶\",\"\");\n",
       "                },\n",
       "                'itemClass': function(i, heading, $heading, prefix) { // custom function for item class\n",
       "                    return $heading[0].tagName.toLowerCase();\n",
       "                }                \n",
       "            }\n",
       "            \n",
       "            if (jupman.hasToc()){\n",
       "                $('#jupman-toc').toc(tocParams);\n",
       "            }\n",
       "        }\n",
       "    },\n",
       "    /**\n",
       "        Hides cell input\n",
       "        \n",
       "        Renamed in 0.19\n",
       "    */    \n",
       "    hideCell : function(prefixOrRegex){\n",
       "        \n",
       "        $('.border-box-sizing .code_cell pre').filter(function() { \n",
       "                var t = $(this).text();\n",
       "                if (typeof prefixOrRegex == \"string\"){\n",
       "                    return t.indexOf(prefixOrRegex) === 0;\n",
       "                } else if ( prefixOrRegex instanceof RegExp){\n",
       "                    return t.match(prefixOrRegex);\n",
       "                } else {\n",
       "                    console.error(\"Invalid argument:\", prefixOrRegex);\n",
       "                    throw new Error(\"Invalid argument!\");\n",
       "                }\n",
       "            }).parents('div .cell .input').hide();        \n",
       "    },\n",
       "    /**\n",
       "        Hides the cell input AND output.\n",
       "        \n",
       "        @since 0.19\n",
       "    */\n",
       "    hideCellAll : function(prefixOrRegex){        \n",
       "        $('.border-box-sizing .code_cell pre').filter(function() { \n",
       "                var t = $(this).text();\n",
       "                if (typeof prefixOrRegex == \"string\"){\n",
       "                    return t.indexOf(prefixOrRegex) === 0;\n",
       "                } else if ( prefixOrRegex instanceof RegExp){\n",
       "                    return t.match(prefixOrRegex);\n",
       "                } else {\n",
       "                    console.error(\"Invalid argument:\", prefixOrRegex);\n",
       "                    throw new Error(\"Invalid argument!\");\n",
       "                }\n",
       "            }).parents('div .cell ').hide();        \n",
       "    },\n",
       "   \n",
       "    /**\n",
       "     * NOTE: ONLY WORKS ON THE WEBSITE\n",
       "     *      \n",
       "     * @param {@string} solId i.e. jupman-sol-7\n",
       "     * @since 3.2 \n",
       "     */\n",
       "    toggleSolution : function(caller){\n",
       "        \n",
       "        let toggler = $(caller); //$('#' + solId);        \n",
       "        let content = toggler.next();\n",
       "        \n",
       "        content.addClass('jupman-sol jupman-sol-content');        \n",
       "\n",
       "        if (content.css('display') === 'none'){            \n",
       "            toggler.text(toggler.data('jupman-hide'));\n",
       "        } else {                                    \n",
       "            toggler.text(toggler.data('jupman-show'));            \n",
       "        }\n",
       "        content.slideToggle();                                \n",
       "    },\n",
       "    \n",
       "    /**\n",
       "     * Simple vanilla way to toggle an element\n",
       "     * @param {string} what i.e. someid (no # prefix)\n",
       "     */\n",
       "    toggleVisibility : function (what){\n",
       "\n",
       "        var e = document.getElementById(what);\n",
       "        if(e.style.display == 'block') {\n",
       "            e.style.display = 'none';\n",
       "        } else {\n",
       "            e.style.display = 'block';        \n",
       "        }\n",
       "    },\n",
       "\n",
       "    /**\n",
       "     *  Code common to both jupman in jupyter and Website\n",
       "    */\n",
       "    initCommon : function(){\n",
       "        \n",
       "        console.log('jupman.js initCommon start')\n",
       "        \n",
       "        console.log(\"jupman.js Initializing togglable stuff\");\n",
       "        if (typeof $ == \"undefined\"){\n",
       "            console.error(\"   No jquery found! Skipping ... \");\n",
       "        } else {\n",
       "\n",
       "            console.log(\"jupman.js Initializing solutions\");\n",
       "\n",
       "            $(\".jupman-sol-toggler\").each(function(index, value) {\n",
       "                $(value).next().hide();\n",
       "                $(value).next().next().hide(); // output\n",
       "            });\n",
       "\n",
       "            console.log(\"Initializing generic jupman-togglable stuff\");\n",
       "\n",
       "            let defaultShowMsg = 'Show';\n",
       "            let defaultHideMsg = 'Hide';            \n",
       "\n",
       "            $(\".jupman-toggler\").remove();\n",
       "            \n",
       "            $(\".jupman-togglable\").each(function(index, value) {\n",
       "                let toggler = $('<a href=\"#\"></a>');\n",
       "                toggler.addClass('jupman-toggler');\n",
       "                let showMsg = defaultShowMsg;            \n",
       "                if ($(this).data('jupman-show')){\n",
       "                    showMsg = $(this).data('jupman-show');\n",
       "                }\n",
       "                \n",
       "                toggler.text(showMsg);\n",
       "                toggler.insertBefore(value);\n",
       "            });            \n",
       "            \n",
       "            $(\".jupman-togglable\").hide();\n",
       "            $(\".jupman-toggler\").show();\n",
       "\n",
       "            $('.jupman-toggler')\n",
       "                .off('click')\n",
       "                .click(function(ev){                                \n",
       "                    let toggler = $(this);\n",
       "                    \n",
       "                    let uls = toggler.nextAll(\".jupman-togglable\");\n",
       "                    let sibling = uls.eq(0);\n",
       "                    \n",
       "                    let showMsg = defaultShowMsg;\n",
       "                    let hideMsg = defaultHideMsg;\n",
       "                    if (sibling.data('jupman-show')){\n",
       "                        showMsg = sibling.data('jupman-show');\n",
       "                    }\n",
       "                    if (sibling.data('jupman-hide')){\n",
       "                        hideMsg = sibling.data('jupman-hide');\n",
       "                    }\n",
       "                    if (sibling.css('display') === 'none'){            \n",
       "                        toggler.text(hideMsg);\n",
       "                    } else {                                    \n",
       "                        toggler.text(showMsg);\n",
       "                    }\n",
       "                    sibling.slideToggle();        \n",
       "                    ev.preventDefault();\n",
       "                    ev.stopPropagation();\n",
       "                    return false;\n",
       "            });\n",
       "        } \n",
       "        console.log('jupman.js initCommon end')\n",
       "\n",
       "    },\n",
       "\n",
       "    /**\n",
       "     *   Jupyter only instructions - doesn't run on website\n",
       "     */\n",
       "    initJupyter : function(){\n",
       "       console.log('jupman.js initJupyter start') \n",
       "\n",
       "       var toc = $(\"<div>\").attr(\"id\", \"jupman-toc\");              \n",
       "                                                             \n",
       "       var nav = $(\"<div>\")\n",
       "                     .attr(\"id\", \"jupman-nav\")\n",
       "                    \n",
       "        \n",
       "        \n",
       "       // ****************************     WARNING      ********************************\n",
       "       //         THIS HIDE STUFF DOES NOT WORK IN SPHINX, ONLY WORKS WHEN YOU MANUALLY EXPORT TO HTML \n",
       "       // ******************************************************************************\n",
       "       \n",
       "       \n",
       "       if (jupman.hasToc()){\n",
       "           if ($(\"#jupman-toc\").length === 0){\n",
       "               $(\"body\").append(toc);       \n",
       "           } else {\n",
       "               $(\"#jupman-toc\").replaceWith(toc);\n",
       "           }\n",
       "       } else {\n",
       "           $(\"#jupman-toc\").hide();\n",
       "       }\n",
       "       \n",
       "       if ($(\"#jupman-nav\").length === 0){\n",
       "           $(\"body\").append(nav);       \n",
       "       } else {\n",
       "           $(\"#jupman-nav\").replaceWith(nav);\n",
       "       }              \n",
       "\n",
       "       \n",
       "        $( window ).resize(function() {\n",
       "            jupman.resize();\n",
       "        });\n",
       "\n",
       "\n",
       "        $(\"body\").on(\"mousemove\",function(event) {\n",
       "            if (jupman.isReduced()){\n",
       "                if (event.pageX < 50) {            \n",
       "                     $(\"#jupman-toc\").show(); \n",
       "                     $(\"#jupman-toc\").css(\"background\",\"rgba(255, 255, 255, 1.0)\");\n",
       "                } else {\n",
       "                    if (jupman.hoverToc()) {                    \n",
       "                    } else {\n",
       "                        $(\"#jupman-toc\").hide();                        \n",
       "                    }\n",
       "$\n",
       "        /*            if ($(\"#jupman-toc\").is(\":visible\")){\n",
       "                        if (jupman.hoverToc()) {                    \n",
       "                        } else {\n",
       "                            $(\"#jupman-toc\").hide();                        \n",
       "                        }\n",
       "                    } else {\n",
       "                        if (jupman.hoverToc())\n",
       "                          show\n",
       "                      } else {\n",
       "                        $(\"#jupman-toc\").hide();                        \n",
       "                       }                 \n",
       "                    }\n",
       "          */     \n",
       "                }\n",
       "            }\n",
       "        });\n",
       " \n",
       "        \n",
       "       jupman.resize();\n",
       "       console.log('jupman.js initJupyter end')\n",
       "    },\n",
       "    \n",
       "    /**\n",
       "    * Website only instructions\n",
       "    */\n",
       "    initWebsite : function(){  \n",
       "        \n",
       "        console.log(\"jupman.js initWebsite start\")\n",
       "        \n",
       "        console.log(\"Fixing menu clicks for https://github.com/DavidLeoni/jupman/issues/38\")\n",
       "\n",
       "        // function copied as is from\n",
       "        // https://github.com/readthedocs/sphinx_rtd_theme/blob/master/src/theme.js#L190\n",
       "        var toggleCurrent = function (elem) {\n",
       "            var parent_li = elem.closest('li');\n",
       "            parent_li.siblings('li.current').removeClass('current');\n",
       "            parent_li.siblings().find('li.current').removeClass('current');\n",
       "            parent_li.find('> ul li.current').removeClass('current');\n",
       "            parent_li.toggleClass('current');\n",
       "        }        \n",
       "\n",
       "        \n",
       "        var fix = function(prefix){\n",
       "\n",
       "            s = 'a.reference.internal[href^=\"' + prefix + 'toc.html\"]'\n",
       "\n",
       "            // DIRTY: THIS IS A POTENTIAL BUG: IF 'index' is not the last one it won't be selected !\n",
       "           //  Made so because index may be translated in other languages   \n",
       "\n",
       "            var link = $(s).not(\":last\")\n",
       "            var span = $(s + ' > span');\n",
       "            span.off('click')\n",
       "\n",
       "            link.on('click', function (ev) {\n",
       "                ev.preventDefault();\n",
       "                toggleCurrent($(this));\n",
       "                ev.stopPropagation();\n",
       "                return false;\n",
       "            });\n",
       "        }\n",
       "\n",
       "        fix('')\n",
       "        fix('../')\n",
       "        fix('../../')    // probably useless but just in case ...\n",
       "        fix('../../../') // probably useless but just in case ... \n",
       "\n",
       "        console.log(\"Fixing Python Tutor overflow ...\");\n",
       "        \n",
       "        // need it in js as there are no css parent selectors.\n",
       "        // NOTE: these selectors are different from Jupyter ones !!!\n",
       "        var pytuts = $('.pytutorVisualizer')        \n",
       "        pytuts.closest('div.output_area.rendered_html.docutils.container')\n",
       "              .css('overflow', 'visible')\n",
       "\n",
       "        console.log(\"jupman.js initWebsite end\")\n",
       "    },\n",
       "    \n",
       "    /**\n",
       "     * Initializes jupman.js\n",
       "     */\n",
       "    init : function(){\n",
       "\n",
       "       jupman.initCommon();\n",
       "        \n",
       "       if (typeof JUPMAN_IN_JUPYTER === \"undefined\" || !JUPMAN_IN_JUPYTER ){\n",
       "           jupman.initWebsite();\n",
       "       } else {\n",
       "           jupman.initJupyter();\n",
       "       }\n",
       "        \n",
       "    }\n",
       "}\n",
       "\n",
       "$(document).ready(jupman.init);\n",
       "\n",
       "</script>\n"
      ],
      "text/plain": [
       "<IPython.core.display.HTML object>"
      ]
     },
     "execution_count": 1,
     "metadata": {},
     "output_type": "execute_result"
    }
   ],
   "source": [
    "import jupman;\n",
    "jupman.init()"
   ]
  },
  {
   "cell_type": "markdown",
   "metadata": {},
   "source": [
    "# Jupman Tests\n",
    "\n",
    "In this page we put some tests for Jupyter. The page Title has one sharp, the Sections always have two sharps.\n",
    "\n",
    "## Sezione 1\n",
    "\n",
    "bla bla \n",
    "\n",
    "## Sezione 2\n",
    "\n",
    "Subsections always have three sharps\n",
    "\n",
    "### Subsection 1\n",
    "bla bla \n",
    "\n",
    "### Subsection 2\n",
    "bla bla \n"
   ]
  },
  {
   "cell_type": "markdown",
   "metadata": {},
   "source": [
    "## Quotes"
   ]
  },
  {
   "cell_type": "markdown",
   "metadata": {},
   "source": [
    "> I'm quoted with **greater than** symbol\n",
    "> on multiple lines\n",
    "> Am I readable?"
   ]
  },
  {
   "cell_type": "markdown",
   "metadata": {},
   "source": [
    "    I'm quoted with **spaces** \n",
    "    on multiple lines\n",
    "    Am I readable?"
   ]
  },
  {
   "cell_type": "markdown",
   "metadata": {},
   "source": [
    "## Download links\n",
    "\n",
    "Files manually put in `_static` : \n",
    "\n",
    "* Download [trial.odt](_static/trial.odt)\n",
    "* Download [trial.pdf](_static/trial.pdf)\n",
    "\n",
    "Files in arbitrary folder position : \n",
    "\n",
    "* Download [requirements.txt](requirements.txt)\n",
    "\n",
    "NOTE: download links are messy, [see issue 8](https://github.com/DavidLeoni/jupman/issues/8)\n",
    "\n",
    "\n"
   ]
  },
  {
   "cell_type": "markdown",
   "metadata": {
    "collapsed": true
   },
   "source": [
    "## Info/Warning Boxes\n",
    "\n",
    "Until there is an info/warning extension for Markdown/CommonMark (see this issue), such boxes can be created by using HTML <div> elements like this:"
   ]
  },
  {
   "cell_type": "markdown",
   "metadata": {},
   "source": [
    "<div class=\"alert alert-info\">\n",
    "\n",
    "**Note:** This is an info!\n",
    "\n",
    "</div>"
   ]
  },
  {
   "cell_type": "markdown",
   "metadata": {},
   "source": [
    "<div class=\"alert alert-warning\">\n",
    "\n",
    "**Note:** This is a warn!\n",
    "\n",
    "</div>"
   ]
  },
  {
   "cell_type": "markdown",
   "metadata": {},
   "source": [
    "For this to work reliably, you should obey the following guidelines:\n",
    "\n",
    "* The class attribute has to be either \"alert alert-info\" or \"alert alert-warning\", other values will not be converted correctly.\n",
    "* No further attributes are allowed.\n",
    "* For compatibility with CommonMark, you should add an empty line between the <div> start tag and the beginning of the content.\n"
   ]
  },
  {
   "cell_type": "markdown",
   "metadata": {},
   "source": [
    "\n",
    "## Math\n",
    "\n",
    "For math stuff, [see npshpinx docs](https://nbsphinx.readthedocs.io/en/0.2.14/markdown-cells.html#Equations)\n",
    "\n",
    "Here we put just some equation to show it behaves fine in Jupman\n",
    "\n",
    "This is infinity: $\\infty$ "
   ]
  },
  {
   "cell_type": "markdown",
   "metadata": {},
   "source": [
    "## Unicode \n",
    "\n",
    "Unicode characters should display an HTML, but with latex you might have problems, and need to manually map characters in conf.py\n",
    "\n",
    "\n",
    "You should see a star in a black circle: ✪ \n",
    "\n",
    "You should see a check: ✓\n",
    "\n",
    "table characters: │ ├ └ ─"
   ]
  },
  {
   "cell_type": "markdown",
   "metadata": {},
   "source": [
    "## Image\n",
    "\n",
    "### SVG Images\n",
    "\n",
    "SVG images work in notebook, but here it is commented since it breaks Latex, [see issue](https://github.com/DavidLeoni/jupman/issues/1)\n",
    "\n",
    "```\n",
    "![An image](img/cc-by.svg)\n",
    "```\n",
    "\n",
    "This one also doesn't works (and shows ugly code in the notebook anyway)\n",
    "\n",
    "```\n",
    "from IPython.display import SVG\n",
    "SVG(filename='img/cc-by.svg')\n",
    "```\n"
   ]
  },
  {
   "cell_type": "markdown",
   "metadata": {},
   "source": [
    "### PNG Images\n",
    "\n",
    "![A PNG image](_static/img/notebook_icon.png)"
   ]
  },
  {
   "cell_type": "markdown",
   "metadata": {},
   "source": [
    "### Inline images - pure markdown"
   ]
  },
  {
   "cell_type": "markdown",
   "metadata": {},
   "source": [
    "    Bla ![A PNG image](_static/img/notebook_icon.png)  bli blo"
   ]
  },
  {
   "cell_type": "markdown",
   "metadata": {},
   "source": [
    "Bla ![A PNG image](_static/img/notebook_icon.png)  bli blo"
   ]
  },
  {
   "cell_type": "markdown",
   "metadata": {},
   "source": [
    "### Inline images - markdown and img"
   ]
  },
  {
   "cell_type": "markdown",
   "metadata": {},
   "source": [
    "    bla <img style=\"display:inline\" src=\"_static/img/notebook_icon.png\"> bli blo"
   ]
  },
  {
   "cell_type": "markdown",
   "metadata": {},
   "source": [
    "\n",
    "bla <img style=\"display:inline !important\" src=\"_static/img/notebook_icon.png\"> bli blo"
   ]
  },
  {
   "cell_type": "markdown",
   "metadata": {},
   "source": [
    "### Img class\n",
    "\n",
    "If we pass a class, it will to be present in the website:\n",
    "\n",
    "    <img class=\"jupman-inline-img\" src=\"_static/img/notebook_icon.png\">\n",
    "    \n",
    "This  <img class=\"jupman-inline-img\" src=\"_static/img/notebook_icon.png\"> should be inline"
   ]
  },
  {
   "cell_type": "markdown",
   "metadata": {},
   "source": [
    "## Expressions list\n",
    "\n",
    "Highlighting **does** work both in Jupyter and Sphinx\n",
    "\n",
    "Three quotes, multiple lines - Careful: put **exactly 4 spaces** indentation\n",
    "\n",
    "1.  ```python \n",
    "    [2,3,1] != \"[2,3,1]\"\n",
    "    ```\n",
    "1.  ```python \n",
    "    [4,8,12] == [2*2,\"4*2\",6*2]\n",
    "    ```\n",
    "1.  ```python \n",
    "    [][:] == []\n",
    "    ```"
   ]
  },
  {
   "cell_type": "markdown",
   "metadata": {},
   "source": [
    "Three quotes, multiple lines, more compact - works in Jupyter,  **doesn't** in Sphinx\n",
    "\n",
    "1.  ```python \n",
    "    [2,3,1] != \"[2,3,1]\"```\n",
    "1.  ```python \n",
    "    [4,8,12] == [2*2,\"4*2\",6*2]```\n",
    "1.  ```python \n",
    "    [][:] == []```"
   ]
  },
  {
   "cell_type": "markdown",
   "metadata": {},
   "source": [
    "Highlighting **doesn't** work in Jupyter neither in Sphinx:\n",
    "\n",
    "Three quotes, single line\n",
    "\n",
    "1. ```python [2,3,1] != [\"2\",3,1]```\n",
    "1. ```python [4,8,12] == [2*2,\"4*2\",6*2]```\n",
    "1. ```python [][:] == \"[]\"```\n",
    "\n",
    "Single quote, single line\n",
    "\n",
    "1. `python [2,3,1] != [\"2\",3,1]`\n",
    "1. `python [4,8,12] == [2*2,\"4*2\",6*2]`\n",
    "1. `python [][:] == \"[]\"`\n"
   ]
  },
  {
   "cell_type": "markdown",
   "metadata": {},
   "source": [
    "## Togglable cells\n",
    "\n",
    "There are various ways to have togglable cells.\n",
    "\n",
    "### Show/hide exercises (PREFERRED)\n",
    "\n",
    "If you need clickable show/hide buttons for exercise solutions , see here: [Usage - Exercise types](https://jupman.softpython.org/en/latest/usage.html#Type-of-exercises). It manages comprehensively use cases for display in website, student zips, exams, etc\n",
    "\n",
    "If you have other needs, we report here some test we made, but keep in mind this sort of hacks tend to change behaviour with different versions of jupyter.\n",
    "\n",
    "### Toggling with Javascript\n",
    "\n",
    "* Works in MarkDown\n",
    "* Works while in Jupyter\n",
    "* Works in HTML\n",
    "* Does not show in Latex (which might be a good point, if you intend to put somehow solutions at the end of the document)\n",
    "* NOTE: after creating the text to see the results you have to run the initial cell with jupman.init (as for the toc) \n",
    "* NOTE: you can't use Markdown block code since of Sept 2017 doesn't show well in HTML output \n",
    "\n",
    "<div class=\"jupman-togglable\">\n",
    "\n",
    "<code>\n",
    "<pre>\n",
    "    # SOME CODE\n",
    "    color = raw_input(\"What's your eyes' color?\")\n",
    "    if color == \"\":\n",
    "        sys.exit()\n",
    "</pre>\n",
    "</code>\n",
    "</div>\n",
    "\n",
    "<div class=\"jupman-togglable\" \n",
    "     data-jupman-show=\"Customized show msg\" \n",
    "     data-jupman-hide=\"Customized hide msg\">\n",
    "\n",
    "<code>\n",
    "<pre>\n",
    "    # SOME OTHER CODE\n",
    "    how_old = raw_input(\"How old are you?\")\n",
    "    x = random.randint(1,8)\n",
    "    if question == \"\":\n",
    "        sys.exit()\n",
    "        \n",
    "</pre>\n",
    "</code>\n",
    "</div>"
   ]
  },
  {
   "cell_type": "markdown",
   "metadata": {},
   "source": [
    "### HTML details in Markdown, code tag \n",
    "\n",
    "* Works while in Jupyter\n",
    "* Doesn't work in HTML output\n",
    "* as of Sept Oct 2017, not yet supported in Microsoft browsers\n",
    "\n",
    "<details>\n",
    "\n",
    "<summary>Click here to see the code</summary>\n",
    "\n",
    "<code>\n",
    "\n",
    "    question = raw_input(\"What?\")\n",
    "    answers = random.randint(1,8)\n",
    "    if question == \"\":\n",
    "        sys.exit()\n",
    "</code>\n",
    "\n",
    "</details>\n"
   ]
  },
  {
   "cell_type": "markdown",
   "metadata": {},
   "source": [
    "### HTML details in Markdown, Markdown mixed code\n",
    "\n",
    "* Works while in Jupyter \n",
    "* Doesn't work in HTML output\n",
    "* as of Sept Oct 2017, not yet supported in Microsoft browsers\n",
    "\n",
    "\n",
    "<details>\n",
    "\n",
    "<summary>Click here to see the code</summary>\n",
    "\n",
    "```python\n",
    "    question = raw_input(\"What?\")\n",
    "    answers = random.randint(1,8)\n",
    "    if question == \"\":\n",
    "        sys.exit()\n",
    "```\n",
    "\n",
    "</details>\n"
   ]
  },
  {
   "cell_type": "markdown",
   "metadata": {},
   "source": [
    "### HTML details in HTML, raw NBConvert Format \n",
    "\n",
    "* Doesn't work in Jupyter\n",
    "* Works in HTML output\n",
    "    * NOTE: as of Sept Oct 2017, not yet supported in Microsoft browsers\n",
    "* Doesn't show at all in PDF output\n"
   ]
  },
  {
   "cell_type": "raw",
   "metadata": {
    "raw_mimetype": "text/html"
   },
   "source": [
    "<details>\n",
    "<summary>Click here to see the code</summary>\n",
    "<code>\n",
    "<pre>\n",
    "    question = raw_input(\"What?\")\n",
    "    answers = random.randint(1,8)\n",
    "    if question == \"\":\n",
    "        sys.exit()\n",
    "</pre>\n",
    "</code>\n",
    "</details>"
   ]
  },
  {
   "cell_type": "markdown",
   "metadata": {},
   "source": [
    "Some other Markdown cell afterwards ...."
   ]
  },
  {
   "cell_type": "markdown",
   "metadata": {},
   "source": [
    "## Files in templates\n",
    "\n",
    "Since Dec 2019 they are not accessible [see issue 10](https://github.com/DavidLeoni/jupman/issues/10), but it is not a great problem, you can always put a link to Github, see for example [exam-yyyy-mm-dd.ipynb](https://github.com/DavidLeoni/jupman/tree/master/_templates/exam/exam-yyyy-mm-dd.ipynb)"
   ]
  },
  {
   "cell_type": "markdown",
   "metadata": {},
   "source": [
    "## Python tutor\n",
    "\n",
    "There are various ways to embed Python tutor, first we put the recommended one."
   ]
  },
  {
   "cell_type": "markdown",
   "metadata": {},
   "source": [
    "###  jupman.pytut"
   ]
  },
  {
   "cell_type": "markdown",
   "metadata": {},
   "source": [
    "**RECOMMENDED**: You can put a call to `jupman.pytut()` at the end of a cell, and the cell code will magically appear in python tutor in the output (except the call to `pytut()` of course). \n",
    "Does not need internet  connection."
   ]
  },
  {
   "cell_type": "code",
   "execution_count": 2,
   "metadata": {},
   "outputs": [
    {
     "data": {
      "text/html": [
       "\n",
       "        <script src=\"_static/js/pytutor-embed.bundle.min.js\" type=\"application/javascript\"></script>\n",
       "     \n",
       "        <script id=\"json-jm2512f843-9a6e-4181-b28a-551049466fcd\" type=\"application/json\" >\n",
       "            {\"code\": \" \\nx = [5,8,4,10,30,20,40,50,60,70,20,30]\\ny= {3:9}\\nz = [x]\", \"trace\": [{\"ordered_globals\": [], \"heap\": {}, \"stdout\": \"\", \"func_name\": \"<module>\", \"stack_to_render\": [], \"line\": 2, \"globals\": {}, \"event\": \"step_line\"}, {\"ordered_globals\": [\"x\"], \"heap\": {\"1\": [\"LIST\", 5, 8, 4, 10, 30, 20, 40, 50, 60, 70, 20, 30]}, \"stdout\": \"\", \"func_name\": \"<module>\", \"stack_to_render\": [], \"line\": 3, \"globals\": {\"x\": [\"REF\", 1]}, \"event\": \"step_line\"}, {\"ordered_globals\": [\"x\", \"y\"], \"heap\": {\"1\": [\"LIST\", 5, 8, 4, 10, 30, 20, 40, 50, 60, 70, 20, 30], \"2\": [\"DICT\", [3, 9]]}, \"stdout\": \"\", \"func_name\": \"<module>\", \"stack_to_render\": [], \"line\": 4, \"globals\": {\"y\": [\"REF\", 2], \"x\": [\"REF\", 1]}, \"event\": \"step_line\"}, {\"ordered_globals\": [\"x\", \"y\", \"z\"], \"heap\": {\"1\": [\"LIST\", 5, 8, 4, 10, 30, 20, 40, 50, 60, 70, 20, 30], \"2\": [\"DICT\", [3, 9]], \"3\": [\"LIST\", [\"REF\", 1]]}, \"stdout\": \"\", \"func_name\": \"<module>\", \"stack_to_render\": [], \"line\": 4, \"globals\": {\"y\": [\"REF\", 2], \"z\": [\"REF\", 3], \"x\": [\"REF\", 1]}, \"event\": \"return\"}]}\n",
       "        </script>\n",
       "        <div id=\"jm2512f843-9a6e-4181-b28a-551049466fcd\" class=\"pytutorVisualizer\"> </div>\n",
       " \n",
       "        <style>\n",
       "        .vizLayoutTd {\n",
       "            background-color: #fff !important;\n",
       "        }\n",
       "                            \n",
       "        #pyStdout {\n",
       "            min-height:25px;\n",
       "        }\n",
       "\n",
       "        /* 'Edit this code' link, hiding because replaces browser tab !!!*/\n",
       "        #editCodeLinkDiv {\n",
       "            display:none;  \n",
       "        }\n",
       "        </style>   \n",
       "                            \n",
       "        <script>\n",
       "        (function(){\n",
       "\n",
       "            var trace = JSON.parse(document.getElementById('json-jm2512f843-9a6e-4181-b28a-551049466fcd').innerHTML);                                        \n",
       "            // NOTE 1: id without #\n",
       "            // NOTE 2 - maybe there are more predictable ways, but this will work anyway\n",
       "            //        - id should be number\n",
       "            visualizerIdOverride = Math.trunc(Math.random() * 100000000000)\n",
       "            addVisualizerToPage(trace, 'jm2512f843-9a6e-4181-b28a-551049466fcd',{'embeddedMode' : false,\n",
       "                                             'visualizerIdOverride':visualizerIdOverride})  \n",
       "            \n",
       "            \n",
       "            // set overflow for pytuts - need to do in python as css \n",
       "            // does not allow parent selection\n",
       "            var pytuts = $('.pytutorVisualizer')\n",
       "            pytuts.closest('div.output_html.rendered_html.output_result')\n",
       "                    .css('overflow-x', 'visible')\n",
       "        \n",
       "            //pytuts.closest('div.output_html.rendered_html.output_result')\n",
       "            //      .css('background-color','red')                \n",
       "            \n",
       "        })()\n",
       "        </script>\n",
       "                \n",
       "                "
      ],
      "text/plain": [
       "<IPython.core.display.HTML object>"
      ]
     },
     "execution_count": 2,
     "metadata": {},
     "output_type": "execute_result"
    }
   ],
   "source": [
    "x = [5,8,4,10,30,20,40,50,60,70,20,30]\n",
    "y= {3:9}\n",
    "z = [x]\n",
    "\n",
    "jupman.pytut()"
   ]
  },
  {
   "cell_type": "markdown",
   "metadata": {},
   "source": [
    "**jupman.pytut scope**: BEWARE of variables which were initialized in previous cells, they WILL NOT be available in Python Tutor:"
   ]
  },
  {
   "cell_type": "code",
   "execution_count": 3,
   "metadata": {},
   "outputs": [],
   "source": [
    "w = 8"
   ]
  },
  {
   "cell_type": "code",
   "execution_count": 4,
   "metadata": {
    "scrolled": false
   },
   "outputs": [
    {
     "name": "stderr",
     "output_type": "stream",
     "text": [
      "Traceback (most recent call last):\n",
      "  File \"/home/da/Da/prj/jupman/prj/jupman.py\", line 2305, in _runscript\n",
      "    self.run(script_str, user_globals, user_globals)\n",
      "  File \"/usr/lib/python3.5/bdb.py\", line 431, in run\n",
      "    exec(cmd, globals, locals)\n",
      "  File \"<string>\", line 2, in <module>\n",
      "NameError: name 'w' is not defined\n"
     ]
    },
    {
     "data": {
      "text/html": [
       "\n",
       "        <script src=\"_static/js/pytutor-embed.bundle.min.js\" type=\"application/javascript\"></script>\n",
       "     \n",
       "        <script id=\"json-jmf5081de8-c6f2-4c68-a84e-91d0c3db80c7\" type=\"application/json\" >\n",
       "            {\"code\": \" \\nx =  w + 5\", \"trace\": [{\"ordered_globals\": [], \"heap\": {}, \"stdout\": \"\", \"func_name\": \"<module>\", \"stack_to_render\": [], \"line\": 2, \"globals\": {}, \"event\": \"step_line\"}, {\"ordered_globals\": [], \"heap\": {}, \"stdout\": \"\", \"func_name\": \"<module>\", \"stack_to_render\": [], \"line\": 2, \"exception_msg\": \"NameError: name 'w' is not defined\", \"globals\": {}, \"event\": \"exception\"}]}\n",
       "        </script>\n",
       "        <div id=\"jmf5081de8-c6f2-4c68-a84e-91d0c3db80c7\" class=\"pytutorVisualizer\"> </div>\n",
       " \n",
       "        <style>\n",
       "        .vizLayoutTd {\n",
       "            background-color: #fff !important;\n",
       "        }\n",
       "                            \n",
       "        #pyStdout {\n",
       "            min-height:25px;\n",
       "        }\n",
       "\n",
       "        /* 'Edit this code' link, hiding because replaces browser tab !!!*/\n",
       "        #editCodeLinkDiv {\n",
       "            display:none;  \n",
       "        }\n",
       "        </style>   \n",
       "                            \n",
       "        <script>\n",
       "        (function(){\n",
       "\n",
       "            var trace = JSON.parse(document.getElementById('json-jmf5081de8-c6f2-4c68-a84e-91d0c3db80c7').innerHTML);                                        \n",
       "            // NOTE 1: id without #\n",
       "            // NOTE 2 - maybe there are more predictable ways, but this will work anyway\n",
       "            //        - id should be number\n",
       "            visualizerIdOverride = Math.trunc(Math.random() * 100000000000)\n",
       "            addVisualizerToPage(trace, 'jmf5081de8-c6f2-4c68-a84e-91d0c3db80c7',{'embeddedMode' : false,\n",
       "                                             'visualizerIdOverride':visualizerIdOverride})  \n",
       "            \n",
       "            \n",
       "            // set overflow for pytuts - need to do in python as css \n",
       "            // does not allow parent selection\n",
       "            var pytuts = $('.pytutorVisualizer')\n",
       "            pytuts.closest('div.output_html.rendered_html.output_result')\n",
       "                    .css('overflow-x', 'visible')\n",
       "        \n",
       "            //pytuts.closest('div.output_html.rendered_html.output_result')\n",
       "            //      .css('background-color','red')                \n",
       "            \n",
       "        })()\n",
       "        </script>\n",
       "                \n",
       "                "
      ],
      "text/plain": [
       "<IPython.core.display.HTML object>"
      ]
     },
     "execution_count": 4,
     "metadata": {},
     "output_type": "execute_result"
    }
   ],
   "source": [
    "x =  w + 5\n",
    "jupman.pytut()"
   ]
  },
  {
   "cell_type": "markdown",
   "metadata": {},
   "source": [
    "**jupman.pytut window overflow**: When too much right space is taken, it might be difficult to scroll:\n"
   ]
  },
  {
   "cell_type": "code",
   "execution_count": 5,
   "metadata": {},
   "outputs": [
    {
     "data": {
      "text/html": [
       "\n",
       "        <script src=\"_static/js/pytutor-embed.bundle.min.js\" type=\"application/javascript\"></script>\n",
       "     \n",
       "        <script id=\"json-jm779b2b42-6163-4ac4-8527-f9e8ad6d81b4\" type=\"application/json\" >\n",
       "            {\"code\": \" \\nx = [3,2,5,2,42,34,2,4,34,2,3,4,23,4,23,4,2,34,23,4,23,4,23,4,234,34,23,4,23,4,23,4,2]\", \"trace\": [{\"ordered_globals\": [], \"heap\": {}, \"stdout\": \"\", \"func_name\": \"<module>\", \"stack_to_render\": [], \"line\": 2, \"globals\": {}, \"event\": \"step_line\"}, {\"ordered_globals\": [\"x\"], \"heap\": {\"1\": [\"LIST\", 3, 2, 5, 2, 42, 34, 2, 4, 34, 2, 3, 4, 23, 4, 23, 4, 2, 34, 23, 4, 23, 4, 23, 4, 234, 34, 23, 4, 23, 4, 23, 4, 2]}, \"stdout\": \"\", \"func_name\": \"<module>\", \"stack_to_render\": [], \"line\": 2, \"globals\": {\"x\": [\"REF\", 1]}, \"event\": \"return\"}]}\n",
       "        </script>\n",
       "        <div id=\"jm779b2b42-6163-4ac4-8527-f9e8ad6d81b4\" class=\"pytutorVisualizer\"> </div>\n",
       " \n",
       "        <style>\n",
       "        .vizLayoutTd {\n",
       "            background-color: #fff !important;\n",
       "        }\n",
       "                            \n",
       "        #pyStdout {\n",
       "            min-height:25px;\n",
       "        }\n",
       "\n",
       "        /* 'Edit this code' link, hiding because replaces browser tab !!!*/\n",
       "        #editCodeLinkDiv {\n",
       "            display:none;  \n",
       "        }\n",
       "        </style>   \n",
       "                            \n",
       "        <script>\n",
       "        (function(){\n",
       "\n",
       "            var trace = JSON.parse(document.getElementById('json-jm779b2b42-6163-4ac4-8527-f9e8ad6d81b4').innerHTML);                                        \n",
       "            // NOTE 1: id without #\n",
       "            // NOTE 2 - maybe there are more predictable ways, but this will work anyway\n",
       "            //        - id should be number\n",
       "            visualizerIdOverride = Math.trunc(Math.random() * 100000000000)\n",
       "            addVisualizerToPage(trace, 'jm779b2b42-6163-4ac4-8527-f9e8ad6d81b4',{'embeddedMode' : false,\n",
       "                                             'visualizerIdOverride':visualizerIdOverride})  \n",
       "            \n",
       "            \n",
       "            // set overflow for pytuts - need to do in python as css \n",
       "            // does not allow parent selection\n",
       "            var pytuts = $('.pytutorVisualizer')\n",
       "            pytuts.closest('div.output_html.rendered_html.output_result')\n",
       "                    .css('overflow-x', 'visible')\n",
       "        \n",
       "            //pytuts.closest('div.output_html.rendered_html.output_result')\n",
       "            //      .css('background-color','red')                \n",
       "            \n",
       "        })()\n",
       "        </script>\n",
       "                \n",
       "                "
      ],
      "text/plain": [
       "<IPython.core.display.HTML object>"
      ]
     },
     "execution_count": 5,
     "metadata": {},
     "output_type": "execute_result"
    }
   ],
   "source": [
    "x = [3,2,5,2,42,34,2,4,34,2,3,4,23,4,23,4,2,34,23,4,23,4,23,4,234,34,23,4,23,4,23,4,2]\n",
    "\n",
    "jupman.pytut()"
   ]
  },
  {
   "cell_type": "code",
   "execution_count": 6,
   "metadata": {},
   "outputs": [
    {
     "name": "stderr",
     "output_type": "stream",
     "text": [
      "Traceback (most recent call last):\n",
      "  File \"/home/da/Da/prj/jupman/prj/jupman.py\", line 2305, in _runscript\n",
      "    self.run(script_str, user_globals, user_globals)\n",
      "  File \"/usr/lib/python3.5/bdb.py\", line 431, in run\n",
      "    exec(cmd, globals, locals)\n",
      "  File \"<string>\", line 2, in <module>\n",
      "NameError: name 'w' is not defined\n"
     ]
    },
    {
     "data": {
      "text/html": [
       "\n",
       "        <script src=\"_static/js/pytutor-embed.bundle.min.js\" type=\"application/javascript\"></script>\n",
       "     \n",
       "        <script id=\"json-jm6e3b79ce-f7d8-4c7a-a9af-41e9b4e6c15d\" type=\"application/json\" >\n",
       "            {\"code\": \" \\nx =  w + 5\", \"trace\": [{\"ordered_globals\": [], \"heap\": {}, \"stdout\": \"\", \"func_name\": \"<module>\", \"stack_to_render\": [], \"line\": 2, \"globals\": {}, \"event\": \"step_line\"}, {\"ordered_globals\": [], \"heap\": {}, \"stdout\": \"\", \"func_name\": \"<module>\", \"stack_to_render\": [], \"line\": 2, \"exception_msg\": \"NameError: name 'w' is not defined\", \"globals\": {}, \"event\": \"exception\"}]}\n",
       "        </script>\n",
       "        <div id=\"jm6e3b79ce-f7d8-4c7a-a9af-41e9b4e6c15d\" class=\"pytutorVisualizer\"> </div>\n",
       " \n",
       "        <style>\n",
       "        .vizLayoutTd {\n",
       "            background-color: #fff !important;\n",
       "        }\n",
       "                            \n",
       "        #pyStdout {\n",
       "            min-height:25px;\n",
       "        }\n",
       "\n",
       "        /* 'Edit this code' link, hiding because replaces browser tab !!!*/\n",
       "        #editCodeLinkDiv {\n",
       "            display:none;  \n",
       "        }\n",
       "        </style>   \n",
       "                            \n",
       "        <script>\n",
       "        (function(){\n",
       "\n",
       "            var trace = JSON.parse(document.getElementById('json-jm6e3b79ce-f7d8-4c7a-a9af-41e9b4e6c15d').innerHTML);                                        \n",
       "            // NOTE 1: id without #\n",
       "            // NOTE 2 - maybe there are more predictable ways, but this will work anyway\n",
       "            //        - id should be number\n",
       "            visualizerIdOverride = Math.trunc(Math.random() * 100000000000)\n",
       "            addVisualizerToPage(trace, 'jm6e3b79ce-f7d8-4c7a-a9af-41e9b4e6c15d',{'embeddedMode' : false,\n",
       "                                             'visualizerIdOverride':visualizerIdOverride})  \n",
       "            \n",
       "            \n",
       "            // set overflow for pytuts - need to do in python as css \n",
       "            // does not allow parent selection\n",
       "            var pytuts = $('.pytutorVisualizer')\n",
       "            pytuts.closest('div.output_html.rendered_html.output_result')\n",
       "                    .css('overflow-x', 'visible')\n",
       "        \n",
       "            //pytuts.closest('div.output_html.rendered_html.output_result')\n",
       "            //      .css('background-color','red')                \n",
       "            \n",
       "        })()\n",
       "        </script>\n",
       "                \n",
       "                "
      ],
      "text/plain": [
       "<IPython.core.display.HTML object>"
      ]
     },
     "execution_count": 6,
     "metadata": {},
     "output_type": "execute_result"
    }
   ],
   "source": [
    "x =  w + 5\n",
    "jupman.pytut()"
   ]
  },
  {
   "cell_type": "markdown",
   "metadata": {},
   "source": [
    "**jupman.pytut execution:** Some cells might execute in Jupyter but not so well in Python Tutor, due to [its inherent limitations](https://github.com/pgbovine/OnlinePythonTutor/blob/master/unsupported-features.md):"
   ]
  },
  {
   "cell_type": "code",
   "execution_count": 7,
   "metadata": {},
   "outputs": [
    {
     "name": "stdout",
     "output_type": "stream",
     "text": [
      "10000\n"
     ]
    },
    {
     "data": {
      "text/html": [
       "\n",
       "        <script src=\"_static/js/pytutor-embed.bundle.min.js\" type=\"application/javascript\"></script>\n",
       "     \n",
       "        <script id=\"json-jm16664355-dfa9-4093-a8eb-4f8c1a4c26bf\" type=\"application/json\" >\n",
       "            {\"code\": \" \\nx = 0\\nfor i in range(10000):\\n    x += 1\\nprint(x)\", \"trace\": [{\"ordered_globals\": [], \"heap\": {}, \"stdout\": \"\", \"func_name\": \"<module>\", \"stack_to_render\": [], \"line\": 2, \"globals\": {}, \"event\": \"step_line\"}, {\"ordered_globals\": [\"x\"], \"heap\": {}, \"stdout\": \"\", \"func_name\": \"<module>\", \"stack_to_render\": [], \"line\": 3, \"globals\": {\"x\": 0}, \"event\": \"step_line\"}, {\"ordered_globals\": [\"x\", \"i\"], \"heap\": {}, \"stdout\": \"\", \"func_name\": \"<module>\", \"stack_to_render\": [], \"line\": 4, \"globals\": {\"i\": 0, \"x\": 0}, \"event\": \"step_line\"}, {\"ordered_globals\": [\"x\", \"i\"], \"heap\": {}, \"stdout\": \"\", \"func_name\": \"<module>\", \"stack_to_render\": [], \"line\": 3, \"globals\": {\"i\": 0, \"x\": 1}, \"event\": \"step_line\"}, {\"ordered_globals\": [\"x\", \"i\"], \"heap\": {}, \"stdout\": \"\", \"func_name\": \"<module>\", \"stack_to_render\": [], \"line\": 4, \"globals\": {\"i\": 1, \"x\": 1}, \"event\": \"step_line\"}, {\"ordered_globals\": [\"x\", \"i\"], \"heap\": {}, \"stdout\": \"\", \"func_name\": \"<module>\", \"stack_to_render\": [], \"line\": 3, \"globals\": {\"i\": 1, \"x\": 2}, \"event\": \"step_line\"}, {\"ordered_globals\": [\"x\", \"i\"], \"heap\": {}, \"stdout\": \"\", \"func_name\": \"<module>\", \"stack_to_render\": [], \"line\": 4, \"globals\": {\"i\": 2, \"x\": 2}, \"event\": \"step_line\"}, {\"ordered_globals\": [\"x\", \"i\"], \"heap\": {}, \"stdout\": \"\", \"func_name\": \"<module>\", \"stack_to_render\": [], \"line\": 3, \"globals\": {\"i\": 2, \"x\": 3}, \"event\": \"step_line\"}, {\"ordered_globals\": [\"x\", \"i\"], \"heap\": {}, \"stdout\": \"\", \"func_name\": \"<module>\", \"stack_to_render\": [], \"line\": 4, \"globals\": {\"i\": 3, \"x\": 3}, \"event\": \"step_line\"}, {\"ordered_globals\": [\"x\", \"i\"], \"heap\": {}, \"stdout\": \"\", \"func_name\": \"<module>\", \"stack_to_render\": [], \"line\": 3, \"globals\": {\"i\": 3, \"x\": 4}, \"event\": \"step_line\"}, {\"ordered_globals\": [\"x\", \"i\"], \"heap\": {}, \"stdout\": \"\", \"func_name\": \"<module>\", \"stack_to_render\": [], \"line\": 4, \"globals\": {\"i\": 4, \"x\": 4}, \"event\": \"step_line\"}, {\"ordered_globals\": [\"x\", \"i\"], \"heap\": {}, \"stdout\": \"\", \"func_name\": \"<module>\", \"stack_to_render\": [], \"line\": 3, \"globals\": {\"i\": 4, \"x\": 5}, \"event\": \"step_line\"}, {\"ordered_globals\": [\"x\", \"i\"], \"heap\": {}, \"stdout\": \"\", \"func_name\": \"<module>\", \"stack_to_render\": [], \"line\": 4, \"globals\": {\"i\": 5, \"x\": 5}, \"event\": \"step_line\"}, {\"ordered_globals\": [\"x\", \"i\"], \"heap\": {}, \"stdout\": \"\", \"func_name\": \"<module>\", \"stack_to_render\": [], \"line\": 3, \"globals\": {\"i\": 5, \"x\": 6}, \"event\": \"step_line\"}, {\"ordered_globals\": [\"x\", \"i\"], \"heap\": {}, \"stdout\": \"\", \"func_name\": \"<module>\", \"stack_to_render\": [], \"line\": 4, \"globals\": {\"i\": 6, \"x\": 6}, \"event\": \"step_line\"}, {\"ordered_globals\": [\"x\", \"i\"], \"heap\": {}, \"stdout\": \"\", \"func_name\": \"<module>\", \"stack_to_render\": [], \"line\": 3, \"globals\": {\"i\": 6, \"x\": 7}, \"event\": \"step_line\"}, {\"ordered_globals\": [\"x\", \"i\"], \"heap\": {}, \"stdout\": \"\", \"func_name\": \"<module>\", \"stack_to_render\": [], \"line\": 4, \"globals\": {\"i\": 7, \"x\": 7}, \"event\": \"step_line\"}, {\"ordered_globals\": [\"x\", \"i\"], \"heap\": {}, \"stdout\": \"\", \"func_name\": \"<module>\", \"stack_to_render\": [], \"line\": 3, \"globals\": {\"i\": 7, \"x\": 8}, \"event\": \"step_line\"}, {\"ordered_globals\": [\"x\", \"i\"], \"heap\": {}, \"stdout\": \"\", \"func_name\": \"<module>\", \"stack_to_render\": [], \"line\": 4, \"globals\": {\"i\": 8, \"x\": 8}, \"event\": \"step_line\"}, {\"ordered_globals\": [\"x\", \"i\"], \"heap\": {}, \"stdout\": \"\", \"func_name\": \"<module>\", \"stack_to_render\": [], \"line\": 3, \"globals\": {\"i\": 8, \"x\": 9}, \"event\": \"step_line\"}, {\"ordered_globals\": [\"x\", \"i\"], \"heap\": {}, \"stdout\": \"\", \"func_name\": \"<module>\", \"stack_to_render\": [], \"line\": 4, \"globals\": {\"i\": 9, \"x\": 9}, \"event\": \"step_line\"}, {\"ordered_globals\": [\"x\", \"i\"], \"heap\": {}, \"stdout\": \"\", \"func_name\": \"<module>\", \"stack_to_render\": [], \"line\": 3, \"globals\": {\"i\": 9, \"x\": 10}, \"event\": \"step_line\"}, {\"ordered_globals\": [\"x\", \"i\"], \"heap\": {}, \"stdout\": \"\", \"func_name\": \"<module>\", \"stack_to_render\": [], \"line\": 4, \"globals\": {\"i\": 10, \"x\": 10}, \"event\": \"step_line\"}, {\"ordered_globals\": [\"x\", \"i\"], \"heap\": {}, \"stdout\": \"\", \"func_name\": \"<module>\", \"stack_to_render\": [], \"line\": 3, \"globals\": {\"i\": 10, \"x\": 11}, \"event\": \"step_line\"}, {\"ordered_globals\": [\"x\", \"i\"], \"heap\": {}, \"stdout\": \"\", \"func_name\": \"<module>\", \"stack_to_render\": [], \"line\": 4, \"globals\": {\"i\": 11, \"x\": 11}, \"event\": \"step_line\"}, {\"ordered_globals\": [\"x\", \"i\"], \"heap\": {}, \"stdout\": \"\", \"func_name\": \"<module>\", \"stack_to_render\": [], \"line\": 3, \"globals\": {\"i\": 11, \"x\": 12}, \"event\": \"step_line\"}, {\"ordered_globals\": [\"x\", \"i\"], \"heap\": {}, \"stdout\": \"\", \"func_name\": \"<module>\", \"stack_to_render\": [], \"line\": 4, \"globals\": {\"i\": 12, \"x\": 12}, \"event\": \"step_line\"}, {\"ordered_globals\": [\"x\", \"i\"], \"heap\": {}, \"stdout\": \"\", \"func_name\": \"<module>\", \"stack_to_render\": [], \"line\": 3, \"globals\": {\"i\": 12, \"x\": 13}, \"event\": \"step_line\"}, {\"ordered_globals\": [\"x\", \"i\"], \"heap\": {}, \"stdout\": \"\", \"func_name\": \"<module>\", \"stack_to_render\": [], \"line\": 4, \"globals\": {\"i\": 13, \"x\": 13}, \"event\": \"step_line\"}, {\"ordered_globals\": [\"x\", \"i\"], \"heap\": {}, \"stdout\": \"\", \"func_name\": \"<module>\", \"stack_to_render\": [], \"line\": 3, \"globals\": {\"i\": 13, \"x\": 14}, \"event\": \"step_line\"}, {\"ordered_globals\": [\"x\", \"i\"], \"heap\": {}, \"stdout\": \"\", \"func_name\": \"<module>\", \"stack_to_render\": [], \"line\": 4, \"globals\": {\"i\": 14, \"x\": 14}, \"event\": \"step_line\"}, {\"ordered_globals\": [\"x\", \"i\"], \"heap\": {}, \"stdout\": \"\", \"func_name\": \"<module>\", \"stack_to_render\": [], \"line\": 3, \"globals\": {\"i\": 14, \"x\": 15}, \"event\": \"step_line\"}, {\"ordered_globals\": [\"x\", \"i\"], \"heap\": {}, \"stdout\": \"\", \"func_name\": \"<module>\", \"stack_to_render\": [], \"line\": 4, \"globals\": {\"i\": 15, \"x\": 15}, \"event\": \"step_line\"}, {\"ordered_globals\": [\"x\", \"i\"], \"heap\": {}, \"stdout\": \"\", \"func_name\": \"<module>\", \"stack_to_render\": [], \"line\": 3, \"globals\": {\"i\": 15, \"x\": 16}, \"event\": \"step_line\"}, {\"ordered_globals\": [\"x\", \"i\"], \"heap\": {}, \"stdout\": \"\", \"func_name\": \"<module>\", \"stack_to_render\": [], \"line\": 4, \"globals\": {\"i\": 16, \"x\": 16}, \"event\": \"step_line\"}, {\"ordered_globals\": [\"x\", \"i\"], \"heap\": {}, \"stdout\": \"\", \"func_name\": \"<module>\", \"stack_to_render\": [], \"line\": 3, \"globals\": {\"i\": 16, \"x\": 17}, \"event\": \"step_line\"}, {\"ordered_globals\": [\"x\", \"i\"], \"heap\": {}, \"stdout\": \"\", \"func_name\": \"<module>\", \"stack_to_render\": [], \"line\": 4, \"globals\": {\"i\": 17, \"x\": 17}, \"event\": \"step_line\"}, {\"ordered_globals\": [\"x\", \"i\"], \"heap\": {}, \"stdout\": \"\", \"func_name\": \"<module>\", \"stack_to_render\": [], \"line\": 3, \"globals\": {\"i\": 17, \"x\": 18}, \"event\": \"step_line\"}, {\"ordered_globals\": [\"x\", \"i\"], \"heap\": {}, \"stdout\": \"\", \"func_name\": \"<module>\", \"stack_to_render\": [], \"line\": 4, \"globals\": {\"i\": 18, \"x\": 18}, \"event\": \"step_line\"}, {\"ordered_globals\": [\"x\", \"i\"], \"heap\": {}, \"stdout\": \"\", \"func_name\": \"<module>\", \"stack_to_render\": [], \"line\": 3, \"globals\": {\"i\": 18, \"x\": 19}, \"event\": \"step_line\"}, {\"ordered_globals\": [\"x\", \"i\"], \"heap\": {}, \"stdout\": \"\", \"func_name\": \"<module>\", \"stack_to_render\": [], \"line\": 4, \"globals\": {\"i\": 19, \"x\": 19}, \"event\": \"step_line\"}, {\"ordered_globals\": [\"x\", \"i\"], \"heap\": {}, \"stdout\": \"\", \"func_name\": \"<module>\", \"stack_to_render\": [], \"line\": 3, \"globals\": {\"i\": 19, \"x\": 20}, \"event\": \"step_line\"}, {\"ordered_globals\": [\"x\", \"i\"], \"heap\": {}, \"stdout\": \"\", \"func_name\": \"<module>\", \"stack_to_render\": [], \"line\": 4, \"globals\": {\"i\": 20, \"x\": 20}, \"event\": \"step_line\"}, {\"ordered_globals\": [\"x\", \"i\"], \"heap\": {}, \"stdout\": \"\", \"func_name\": \"<module>\", \"stack_to_render\": [], \"line\": 3, \"globals\": {\"i\": 20, \"x\": 21}, \"event\": \"step_line\"}, {\"ordered_globals\": [\"x\", \"i\"], \"heap\": {}, \"stdout\": \"\", \"func_name\": \"<module>\", \"stack_to_render\": [], \"line\": 4, \"globals\": {\"i\": 21, \"x\": 21}, \"event\": \"step_line\"}, {\"ordered_globals\": [\"x\", \"i\"], \"heap\": {}, \"stdout\": \"\", \"func_name\": \"<module>\", \"stack_to_render\": [], \"line\": 3, \"globals\": {\"i\": 21, \"x\": 22}, \"event\": \"step_line\"}, {\"ordered_globals\": [\"x\", \"i\"], \"heap\": {}, \"stdout\": \"\", \"func_name\": \"<module>\", \"stack_to_render\": [], \"line\": 4, \"globals\": {\"i\": 22, \"x\": 22}, \"event\": \"step_line\"}, {\"ordered_globals\": [\"x\", \"i\"], \"heap\": {}, \"stdout\": \"\", \"func_name\": \"<module>\", \"stack_to_render\": [], \"line\": 3, \"globals\": {\"i\": 22, \"x\": 23}, \"event\": \"step_line\"}, {\"ordered_globals\": [\"x\", \"i\"], \"heap\": {}, \"stdout\": \"\", \"func_name\": \"<module>\", \"stack_to_render\": [], \"line\": 4, \"globals\": {\"i\": 23, \"x\": 23}, \"event\": \"step_line\"}, {\"ordered_globals\": [\"x\", \"i\"], \"heap\": {}, \"stdout\": \"\", \"func_name\": \"<module>\", \"stack_to_render\": [], \"line\": 3, \"globals\": {\"i\": 23, \"x\": 24}, \"event\": \"step_line\"}, {\"ordered_globals\": [\"x\", \"i\"], \"heap\": {}, \"stdout\": \"\", \"func_name\": \"<module>\", \"stack_to_render\": [], \"line\": 4, \"globals\": {\"i\": 24, \"x\": 24}, \"event\": \"step_line\"}, {\"ordered_globals\": [\"x\", \"i\"], \"heap\": {}, \"stdout\": \"\", \"func_name\": \"<module>\", \"stack_to_render\": [], \"line\": 3, \"globals\": {\"i\": 24, \"x\": 25}, \"event\": \"step_line\"}, {\"ordered_globals\": [\"x\", \"i\"], \"heap\": {}, \"stdout\": \"\", \"func_name\": \"<module>\", \"stack_to_render\": [], \"line\": 4, \"globals\": {\"i\": 25, \"x\": 25}, \"event\": \"step_line\"}, {\"ordered_globals\": [\"x\", \"i\"], \"heap\": {}, \"stdout\": \"\", \"func_name\": \"<module>\", \"stack_to_render\": [], \"line\": 3, \"globals\": {\"i\": 25, \"x\": 26}, \"event\": \"step_line\"}, {\"ordered_globals\": [\"x\", \"i\"], \"heap\": {}, \"stdout\": \"\", \"func_name\": \"<module>\", \"stack_to_render\": [], \"line\": 4, \"globals\": {\"i\": 26, \"x\": 26}, \"event\": \"step_line\"}, {\"ordered_globals\": [\"x\", \"i\"], \"heap\": {}, \"stdout\": \"\", \"func_name\": \"<module>\", \"stack_to_render\": [], \"line\": 3, \"globals\": {\"i\": 26, \"x\": 27}, \"event\": \"step_line\"}, {\"ordered_globals\": [\"x\", \"i\"], \"heap\": {}, \"stdout\": \"\", \"func_name\": \"<module>\", \"stack_to_render\": [], \"line\": 4, \"globals\": {\"i\": 27, \"x\": 27}, \"event\": \"step_line\"}, {\"ordered_globals\": [\"x\", \"i\"], \"heap\": {}, \"stdout\": \"\", \"func_name\": \"<module>\", \"stack_to_render\": [], \"line\": 3, \"globals\": {\"i\": 27, \"x\": 28}, \"event\": \"step_line\"}, {\"ordered_globals\": [\"x\", \"i\"], \"heap\": {}, \"stdout\": \"\", \"func_name\": \"<module>\", \"stack_to_render\": [], \"line\": 4, \"globals\": {\"i\": 28, \"x\": 28}, \"event\": \"step_line\"}, {\"ordered_globals\": [\"x\", \"i\"], \"heap\": {}, \"stdout\": \"\", \"func_name\": \"<module>\", \"stack_to_render\": [], \"line\": 3, \"globals\": {\"i\": 28, \"x\": 29}, \"event\": \"step_line\"}, {\"ordered_globals\": [\"x\", \"i\"], \"heap\": {}, \"stdout\": \"\", \"func_name\": \"<module>\", \"stack_to_render\": [], \"line\": 4, \"globals\": {\"i\": 29, \"x\": 29}, \"event\": \"step_line\"}, {\"ordered_globals\": [\"x\", \"i\"], \"heap\": {}, \"stdout\": \"\", \"func_name\": \"<module>\", \"stack_to_render\": [], \"line\": 3, \"globals\": {\"i\": 29, \"x\": 30}, \"event\": \"step_line\"}, {\"ordered_globals\": [\"x\", \"i\"], \"heap\": {}, \"stdout\": \"\", \"func_name\": \"<module>\", \"stack_to_render\": [], \"line\": 4, \"globals\": {\"i\": 30, \"x\": 30}, \"event\": \"step_line\"}, {\"ordered_globals\": [\"x\", \"i\"], \"heap\": {}, \"stdout\": \"\", \"func_name\": \"<module>\", \"stack_to_render\": [], \"line\": 3, \"globals\": {\"i\": 30, \"x\": 31}, \"event\": \"step_line\"}, {\"ordered_globals\": [\"x\", \"i\"], \"heap\": {}, \"stdout\": \"\", \"func_name\": \"<module>\", \"stack_to_render\": [], \"line\": 4, \"globals\": {\"i\": 31, \"x\": 31}, \"event\": \"step_line\"}, {\"ordered_globals\": [\"x\", \"i\"], \"heap\": {}, \"stdout\": \"\", \"func_name\": \"<module>\", \"stack_to_render\": [], \"line\": 3, \"globals\": {\"i\": 31, \"x\": 32}, \"event\": \"step_line\"}, {\"ordered_globals\": [\"x\", \"i\"], \"heap\": {}, \"stdout\": \"\", \"func_name\": \"<module>\", \"stack_to_render\": [], \"line\": 4, \"globals\": {\"i\": 32, \"x\": 32}, \"event\": \"step_line\"}, {\"ordered_globals\": [\"x\", \"i\"], \"heap\": {}, \"stdout\": \"\", \"func_name\": \"<module>\", \"stack_to_render\": [], \"line\": 3, \"globals\": {\"i\": 32, \"x\": 33}, \"event\": \"step_line\"}, {\"ordered_globals\": [\"x\", \"i\"], \"heap\": {}, \"stdout\": \"\", \"func_name\": \"<module>\", \"stack_to_render\": [], \"line\": 4, \"globals\": {\"i\": 33, \"x\": 33}, \"event\": \"step_line\"}, {\"ordered_globals\": [\"x\", \"i\"], \"heap\": {}, \"stdout\": \"\", \"func_name\": \"<module>\", \"stack_to_render\": [], \"line\": 3, \"globals\": {\"i\": 33, \"x\": 34}, \"event\": \"step_line\"}, {\"ordered_globals\": [\"x\", \"i\"], \"heap\": {}, \"stdout\": \"\", \"func_name\": \"<module>\", \"stack_to_render\": [], \"line\": 4, \"globals\": {\"i\": 34, \"x\": 34}, \"event\": \"step_line\"}, {\"ordered_globals\": [\"x\", \"i\"], \"heap\": {}, \"stdout\": \"\", \"func_name\": \"<module>\", \"stack_to_render\": [], \"line\": 3, \"globals\": {\"i\": 34, \"x\": 35}, \"event\": \"step_line\"}, {\"ordered_globals\": [\"x\", \"i\"], \"heap\": {}, \"stdout\": \"\", \"func_name\": \"<module>\", \"stack_to_render\": [], \"line\": 4, \"globals\": {\"i\": 35, \"x\": 35}, \"event\": \"step_line\"}, {\"ordered_globals\": [\"x\", \"i\"], \"heap\": {}, \"stdout\": \"\", \"func_name\": \"<module>\", \"stack_to_render\": [], \"line\": 3, \"globals\": {\"i\": 35, \"x\": 36}, \"event\": \"step_line\"}, {\"ordered_globals\": [\"x\", \"i\"], \"heap\": {}, \"stdout\": \"\", \"func_name\": \"<module>\", \"stack_to_render\": [], \"line\": 4, \"globals\": {\"i\": 36, \"x\": 36}, \"event\": \"step_line\"}, {\"ordered_globals\": [\"x\", \"i\"], \"heap\": {}, \"stdout\": \"\", \"func_name\": \"<module>\", \"stack_to_render\": [], \"line\": 3, \"globals\": {\"i\": 36, \"x\": 37}, \"event\": \"step_line\"}, {\"ordered_globals\": [\"x\", \"i\"], \"heap\": {}, \"stdout\": \"\", \"func_name\": \"<module>\", \"stack_to_render\": [], \"line\": 4, \"globals\": {\"i\": 37, \"x\": 37}, \"event\": \"step_line\"}, {\"ordered_globals\": [\"x\", \"i\"], \"heap\": {}, \"stdout\": \"\", \"func_name\": \"<module>\", \"stack_to_render\": [], \"line\": 3, \"globals\": {\"i\": 37, \"x\": 38}, \"event\": \"step_line\"}, {\"ordered_globals\": [\"x\", \"i\"], \"heap\": {}, \"stdout\": \"\", \"func_name\": \"<module>\", \"stack_to_render\": [], \"line\": 4, \"globals\": {\"i\": 38, \"x\": 38}, \"event\": \"step_line\"}, {\"ordered_globals\": [\"x\", \"i\"], \"heap\": {}, \"stdout\": \"\", \"func_name\": \"<module>\", \"stack_to_render\": [], \"line\": 3, \"globals\": {\"i\": 38, \"x\": 39}, \"event\": \"step_line\"}, {\"ordered_globals\": [\"x\", \"i\"], \"heap\": {}, \"stdout\": \"\", \"func_name\": \"<module>\", \"stack_to_render\": [], \"line\": 4, \"globals\": {\"i\": 39, \"x\": 39}, \"event\": \"step_line\"}, {\"ordered_globals\": [\"x\", \"i\"], \"heap\": {}, \"stdout\": \"\", \"func_name\": \"<module>\", \"stack_to_render\": [], \"line\": 3, \"globals\": {\"i\": 39, \"x\": 40}, \"event\": \"step_line\"}, {\"ordered_globals\": [\"x\", \"i\"], \"heap\": {}, \"stdout\": \"\", \"func_name\": \"<module>\", \"stack_to_render\": [], \"line\": 4, \"globals\": {\"i\": 40, \"x\": 40}, \"event\": \"step_line\"}, {\"ordered_globals\": [\"x\", \"i\"], \"heap\": {}, \"stdout\": \"\", \"func_name\": \"<module>\", \"stack_to_render\": [], \"line\": 3, \"globals\": {\"i\": 40, \"x\": 41}, \"event\": \"step_line\"}, {\"ordered_globals\": [\"x\", \"i\"], \"heap\": {}, \"stdout\": \"\", \"func_name\": \"<module>\", \"stack_to_render\": [], \"line\": 4, \"globals\": {\"i\": 41, \"x\": 41}, \"event\": \"step_line\"}, {\"ordered_globals\": [\"x\", \"i\"], \"heap\": {}, \"stdout\": \"\", \"func_name\": \"<module>\", \"stack_to_render\": [], \"line\": 3, \"globals\": {\"i\": 41, \"x\": 42}, \"event\": \"step_line\"}, {\"ordered_globals\": [\"x\", \"i\"], \"heap\": {}, \"stdout\": \"\", \"func_name\": \"<module>\", \"stack_to_render\": [], \"line\": 4, \"globals\": {\"i\": 42, \"x\": 42}, \"event\": \"step_line\"}, {\"ordered_globals\": [\"x\", \"i\"], \"heap\": {}, \"stdout\": \"\", \"func_name\": \"<module>\", \"stack_to_render\": [], \"line\": 3, \"globals\": {\"i\": 42, \"x\": 43}, \"event\": \"step_line\"}, {\"ordered_globals\": [\"x\", \"i\"], \"heap\": {}, \"stdout\": \"\", \"func_name\": \"<module>\", \"stack_to_render\": [], \"line\": 4, \"globals\": {\"i\": 43, \"x\": 43}, \"event\": \"step_line\"}, {\"ordered_globals\": [\"x\", \"i\"], \"heap\": {}, \"stdout\": \"\", \"func_name\": \"<module>\", \"stack_to_render\": [], \"line\": 3, \"globals\": {\"i\": 43, \"x\": 44}, \"event\": \"step_line\"}, {\"ordered_globals\": [\"x\", \"i\"], \"heap\": {}, \"stdout\": \"\", \"func_name\": \"<module>\", \"stack_to_render\": [], \"line\": 4, \"globals\": {\"i\": 44, \"x\": 44}, \"event\": \"step_line\"}, {\"ordered_globals\": [\"x\", \"i\"], \"heap\": {}, \"stdout\": \"\", \"func_name\": \"<module>\", \"stack_to_render\": [], \"line\": 3, \"globals\": {\"i\": 44, \"x\": 45}, \"event\": \"step_line\"}, {\"ordered_globals\": [\"x\", \"i\"], \"heap\": {}, \"stdout\": \"\", \"func_name\": \"<module>\", \"stack_to_render\": [], \"line\": 4, \"globals\": {\"i\": 45, \"x\": 45}, \"event\": \"step_line\"}, {\"ordered_globals\": [\"x\", \"i\"], \"heap\": {}, \"stdout\": \"\", \"func_name\": \"<module>\", \"stack_to_render\": [], \"line\": 3, \"globals\": {\"i\": 45, \"x\": 46}, \"event\": \"step_line\"}, {\"ordered_globals\": [\"x\", \"i\"], \"heap\": {}, \"stdout\": \"\", \"func_name\": \"<module>\", \"stack_to_render\": [], \"line\": 4, \"globals\": {\"i\": 46, \"x\": 46}, \"event\": \"step_line\"}, {\"ordered_globals\": [\"x\", \"i\"], \"heap\": {}, \"stdout\": \"\", \"func_name\": \"<module>\", \"stack_to_render\": [], \"line\": 3, \"globals\": {\"i\": 46, \"x\": 47}, \"event\": \"step_line\"}, {\"ordered_globals\": [\"x\", \"i\"], \"heap\": {}, \"stdout\": \"\", \"func_name\": \"<module>\", \"stack_to_render\": [], \"line\": 4, \"globals\": {\"i\": 47, \"x\": 47}, \"event\": \"step_line\"}, {\"ordered_globals\": [\"x\", \"i\"], \"heap\": {}, \"stdout\": \"\", \"func_name\": \"<module>\", \"stack_to_render\": [], \"line\": 3, \"globals\": {\"i\": 47, \"x\": 48}, \"event\": \"step_line\"}, {\"ordered_globals\": [\"x\", \"i\"], \"heap\": {}, \"stdout\": \"\", \"func_name\": \"<module>\", \"stack_to_render\": [], \"line\": 4, \"globals\": {\"i\": 48, \"x\": 48}, \"event\": \"step_line\"}, {\"ordered_globals\": [\"x\", \"i\"], \"heap\": {}, \"stdout\": \"\", \"func_name\": \"<module>\", \"stack_to_render\": [], \"line\": 3, \"globals\": {\"i\": 48, \"x\": 49}, \"event\": \"step_line\"}, {\"ordered_globals\": [\"x\", \"i\"], \"heap\": {}, \"stdout\": \"\", \"func_name\": \"<module>\", \"stack_to_render\": [], \"line\": 4, \"globals\": {\"i\": 49, \"x\": 49}, \"event\": \"step_line\"}, {\"ordered_globals\": [\"x\", \"i\"], \"heap\": {}, \"stdout\": \"\", \"func_name\": \"<module>\", \"stack_to_render\": [], \"line\": 3, \"globals\": {\"i\": 49, \"x\": 50}, \"event\": \"step_line\"}, {\"ordered_globals\": [\"x\", \"i\"], \"heap\": {}, \"stdout\": \"\", \"func_name\": \"<module>\", \"stack_to_render\": [], \"line\": 4, \"globals\": {\"i\": 50, \"x\": 50}, \"event\": \"step_line\"}, {\"ordered_globals\": [\"x\", \"i\"], \"heap\": {}, \"stdout\": \"\", \"func_name\": \"<module>\", \"stack_to_render\": [], \"line\": 3, \"globals\": {\"i\": 50, \"x\": 51}, \"event\": \"step_line\"}, {\"ordered_globals\": [\"x\", \"i\"], \"heap\": {}, \"stdout\": \"\", \"func_name\": \"<module>\", \"stack_to_render\": [], \"line\": 4, \"globals\": {\"i\": 51, \"x\": 51}, \"event\": \"step_line\"}, {\"ordered_globals\": [\"x\", \"i\"], \"heap\": {}, \"stdout\": \"\", \"func_name\": \"<module>\", \"stack_to_render\": [], \"line\": 3, \"globals\": {\"i\": 51, \"x\": 52}, \"event\": \"step_line\"}, {\"ordered_globals\": [\"x\", \"i\"], \"heap\": {}, \"stdout\": \"\", \"func_name\": \"<module>\", \"stack_to_render\": [], \"line\": 4, \"globals\": {\"i\": 52, \"x\": 52}, \"event\": \"step_line\"}, {\"ordered_globals\": [\"x\", \"i\"], \"heap\": {}, \"stdout\": \"\", \"func_name\": \"<module>\", \"stack_to_render\": [], \"line\": 3, \"globals\": {\"i\": 52, \"x\": 53}, \"event\": \"step_line\"}, {\"ordered_globals\": [\"x\", \"i\"], \"heap\": {}, \"stdout\": \"\", \"func_name\": \"<module>\", \"stack_to_render\": [], \"line\": 4, \"globals\": {\"i\": 53, \"x\": 53}, \"event\": \"step_line\"}, {\"ordered_globals\": [\"x\", \"i\"], \"heap\": {}, \"stdout\": \"\", \"func_name\": \"<module>\", \"stack_to_render\": [], \"line\": 3, \"globals\": {\"i\": 53, \"x\": 54}, \"event\": \"step_line\"}, {\"ordered_globals\": [\"x\", \"i\"], \"heap\": {}, \"stdout\": \"\", \"func_name\": \"<module>\", \"stack_to_render\": [], \"line\": 4, \"globals\": {\"i\": 54, \"x\": 54}, \"event\": \"step_line\"}, {\"ordered_globals\": [\"x\", \"i\"], \"heap\": {}, \"stdout\": \"\", \"func_name\": \"<module>\", \"stack_to_render\": [], \"line\": 3, \"globals\": {\"i\": 54, \"x\": 55}, \"event\": \"step_line\"}, {\"ordered_globals\": [\"x\", \"i\"], \"heap\": {}, \"stdout\": \"\", \"func_name\": \"<module>\", \"stack_to_render\": [], \"line\": 4, \"globals\": {\"i\": 55, \"x\": 55}, \"event\": \"step_line\"}, {\"ordered_globals\": [\"x\", \"i\"], \"heap\": {}, \"stdout\": \"\", \"func_name\": \"<module>\", \"stack_to_render\": [], \"line\": 3, \"globals\": {\"i\": 55, \"x\": 56}, \"event\": \"step_line\"}, {\"ordered_globals\": [\"x\", \"i\"], \"heap\": {}, \"stdout\": \"\", \"func_name\": \"<module>\", \"stack_to_render\": [], \"line\": 4, \"globals\": {\"i\": 56, \"x\": 56}, \"event\": \"step_line\"}, {\"ordered_globals\": [\"x\", \"i\"], \"heap\": {}, \"stdout\": \"\", \"func_name\": \"<module>\", \"stack_to_render\": [], \"line\": 3, \"globals\": {\"i\": 56, \"x\": 57}, \"event\": \"step_line\"}, {\"ordered_globals\": [\"x\", \"i\"], \"heap\": {}, \"stdout\": \"\", \"func_name\": \"<module>\", \"stack_to_render\": [], \"line\": 4, \"globals\": {\"i\": 57, \"x\": 57}, \"event\": \"step_line\"}, {\"ordered_globals\": [\"x\", \"i\"], \"heap\": {}, \"stdout\": \"\", \"func_name\": \"<module>\", \"stack_to_render\": [], \"line\": 3, \"globals\": {\"i\": 57, \"x\": 58}, \"event\": \"step_line\"}, {\"ordered_globals\": [\"x\", \"i\"], \"heap\": {}, \"stdout\": \"\", \"func_name\": \"<module>\", \"stack_to_render\": [], \"line\": 4, \"globals\": {\"i\": 58, \"x\": 58}, \"event\": \"step_line\"}, {\"ordered_globals\": [\"x\", \"i\"], \"heap\": {}, \"stdout\": \"\", \"func_name\": \"<module>\", \"stack_to_render\": [], \"line\": 3, \"globals\": {\"i\": 58, \"x\": 59}, \"event\": \"step_line\"}, {\"ordered_globals\": [\"x\", \"i\"], \"heap\": {}, \"stdout\": \"\", \"func_name\": \"<module>\", \"stack_to_render\": [], \"line\": 4, \"globals\": {\"i\": 59, \"x\": 59}, \"event\": \"step_line\"}, {\"ordered_globals\": [\"x\", \"i\"], \"heap\": {}, \"stdout\": \"\", \"func_name\": \"<module>\", \"stack_to_render\": [], \"line\": 3, \"globals\": {\"i\": 59, \"x\": 60}, \"event\": \"step_line\"}, {\"ordered_globals\": [\"x\", \"i\"], \"heap\": {}, \"stdout\": \"\", \"func_name\": \"<module>\", \"stack_to_render\": [], \"line\": 4, \"globals\": {\"i\": 60, \"x\": 60}, \"event\": \"step_line\"}, {\"ordered_globals\": [\"x\", \"i\"], \"heap\": {}, \"stdout\": \"\", \"func_name\": \"<module>\", \"stack_to_render\": [], \"line\": 3, \"globals\": {\"i\": 60, \"x\": 61}, \"event\": \"step_line\"}, {\"ordered_globals\": [\"x\", \"i\"], \"heap\": {}, \"stdout\": \"\", \"func_name\": \"<module>\", \"stack_to_render\": [], \"line\": 4, \"globals\": {\"i\": 61, \"x\": 61}, \"event\": \"step_line\"}, {\"ordered_globals\": [\"x\", \"i\"], \"heap\": {}, \"stdout\": \"\", \"func_name\": \"<module>\", \"stack_to_render\": [], \"line\": 3, \"globals\": {\"i\": 61, \"x\": 62}, \"event\": \"step_line\"}, {\"ordered_globals\": [\"x\", \"i\"], \"heap\": {}, \"stdout\": \"\", \"func_name\": \"<module>\", \"stack_to_render\": [], \"line\": 4, \"globals\": {\"i\": 62, \"x\": 62}, \"event\": \"step_line\"}, {\"ordered_globals\": [\"x\", \"i\"], \"heap\": {}, \"stdout\": \"\", \"func_name\": \"<module>\", \"stack_to_render\": [], \"line\": 3, \"globals\": {\"i\": 62, \"x\": 63}, \"event\": \"step_line\"}, {\"ordered_globals\": [\"x\", \"i\"], \"heap\": {}, \"stdout\": \"\", \"func_name\": \"<module>\", \"stack_to_render\": [], \"line\": 4, \"globals\": {\"i\": 63, \"x\": 63}, \"event\": \"step_line\"}, {\"ordered_globals\": [\"x\", \"i\"], \"heap\": {}, \"stdout\": \"\", \"func_name\": \"<module>\", \"stack_to_render\": [], \"line\": 3, \"globals\": {\"i\": 63, \"x\": 64}, \"event\": \"step_line\"}, {\"ordered_globals\": [\"x\", \"i\"], \"heap\": {}, \"stdout\": \"\", \"func_name\": \"<module>\", \"stack_to_render\": [], \"line\": 4, \"globals\": {\"i\": 64, \"x\": 64}, \"event\": \"step_line\"}, {\"ordered_globals\": [\"x\", \"i\"], \"heap\": {}, \"stdout\": \"\", \"func_name\": \"<module>\", \"stack_to_render\": [], \"line\": 3, \"globals\": {\"i\": 64, \"x\": 65}, \"event\": \"step_line\"}, {\"ordered_globals\": [\"x\", \"i\"], \"heap\": {}, \"stdout\": \"\", \"func_name\": \"<module>\", \"stack_to_render\": [], \"line\": 4, \"globals\": {\"i\": 65, \"x\": 65}, \"event\": \"step_line\"}, {\"ordered_globals\": [\"x\", \"i\"], \"heap\": {}, \"stdout\": \"\", \"func_name\": \"<module>\", \"stack_to_render\": [], \"line\": 3, \"globals\": {\"i\": 65, \"x\": 66}, \"event\": \"step_line\"}, {\"ordered_globals\": [\"x\", \"i\"], \"heap\": {}, \"stdout\": \"\", \"func_name\": \"<module>\", \"stack_to_render\": [], \"line\": 4, \"globals\": {\"i\": 66, \"x\": 66}, \"event\": \"step_line\"}, {\"ordered_globals\": [\"x\", \"i\"], \"heap\": {}, \"stdout\": \"\", \"func_name\": \"<module>\", \"stack_to_render\": [], \"line\": 3, \"globals\": {\"i\": 66, \"x\": 67}, \"event\": \"step_line\"}, {\"ordered_globals\": [\"x\", \"i\"], \"heap\": {}, \"stdout\": \"\", \"func_name\": \"<module>\", \"stack_to_render\": [], \"line\": 4, \"globals\": {\"i\": 67, \"x\": 67}, \"event\": \"step_line\"}, {\"ordered_globals\": [\"x\", \"i\"], \"heap\": {}, \"stdout\": \"\", \"func_name\": \"<module>\", \"stack_to_render\": [], \"line\": 3, \"globals\": {\"i\": 67, \"x\": 68}, \"event\": \"step_line\"}, {\"ordered_globals\": [\"x\", \"i\"], \"heap\": {}, \"stdout\": \"\", \"func_name\": \"<module>\", \"stack_to_render\": [], \"line\": 4, \"globals\": {\"i\": 68, \"x\": 68}, \"event\": \"step_line\"}, {\"ordered_globals\": [\"x\", \"i\"], \"heap\": {}, \"stdout\": \"\", \"func_name\": \"<module>\", \"stack_to_render\": [], \"line\": 3, \"globals\": {\"i\": 68, \"x\": 69}, \"event\": \"step_line\"}, {\"ordered_globals\": [\"x\", \"i\"], \"heap\": {}, \"stdout\": \"\", \"func_name\": \"<module>\", \"stack_to_render\": [], \"line\": 4, \"globals\": {\"i\": 69, \"x\": 69}, \"event\": \"step_line\"}, {\"ordered_globals\": [\"x\", \"i\"], \"heap\": {}, \"stdout\": \"\", \"func_name\": \"<module>\", \"stack_to_render\": [], \"line\": 3, \"globals\": {\"i\": 69, \"x\": 70}, \"event\": \"step_line\"}, {\"ordered_globals\": [\"x\", \"i\"], \"heap\": {}, \"stdout\": \"\", \"func_name\": \"<module>\", \"stack_to_render\": [], \"line\": 4, \"globals\": {\"i\": 70, \"x\": 70}, \"event\": \"step_line\"}, {\"ordered_globals\": [\"x\", \"i\"], \"heap\": {}, \"stdout\": \"\", \"func_name\": \"<module>\", \"stack_to_render\": [], \"line\": 3, \"globals\": {\"i\": 70, \"x\": 71}, \"event\": \"step_line\"}, {\"ordered_globals\": [\"x\", \"i\"], \"heap\": {}, \"stdout\": \"\", \"func_name\": \"<module>\", \"stack_to_render\": [], \"line\": 4, \"globals\": {\"i\": 71, \"x\": 71}, \"event\": \"step_line\"}, {\"ordered_globals\": [\"x\", \"i\"], \"heap\": {}, \"stdout\": \"\", \"func_name\": \"<module>\", \"stack_to_render\": [], \"line\": 3, \"globals\": {\"i\": 71, \"x\": 72}, \"event\": \"step_line\"}, {\"ordered_globals\": [\"x\", \"i\"], \"heap\": {}, \"stdout\": \"\", \"func_name\": \"<module>\", \"stack_to_render\": [], \"line\": 4, \"globals\": {\"i\": 72, \"x\": 72}, \"event\": \"step_line\"}, {\"ordered_globals\": [\"x\", \"i\"], \"heap\": {}, \"stdout\": \"\", \"func_name\": \"<module>\", \"stack_to_render\": [], \"line\": 3, \"globals\": {\"i\": 72, \"x\": 73}, \"event\": \"step_line\"}, {\"ordered_globals\": [\"x\", \"i\"], \"heap\": {}, \"stdout\": \"\", \"func_name\": \"<module>\", \"stack_to_render\": [], \"line\": 4, \"globals\": {\"i\": 73, \"x\": 73}, \"event\": \"step_line\"}, {\"ordered_globals\": [\"x\", \"i\"], \"heap\": {}, \"stdout\": \"\", \"func_name\": \"<module>\", \"stack_to_render\": [], \"line\": 3, \"globals\": {\"i\": 73, \"x\": 74}, \"event\": \"step_line\"}, {\"ordered_globals\": [\"x\", \"i\"], \"heap\": {}, \"stdout\": \"\", \"func_name\": \"<module>\", \"stack_to_render\": [], \"line\": 4, \"globals\": {\"i\": 74, \"x\": 74}, \"event\": \"step_line\"}, {\"ordered_globals\": [\"x\", \"i\"], \"heap\": {}, \"stdout\": \"\", \"func_name\": \"<module>\", \"stack_to_render\": [], \"line\": 3, \"globals\": {\"i\": 74, \"x\": 75}, \"event\": \"step_line\"}, {\"ordered_globals\": [\"x\", \"i\"], \"heap\": {}, \"stdout\": \"\", \"func_name\": \"<module>\", \"stack_to_render\": [], \"line\": 4, \"globals\": {\"i\": 75, \"x\": 75}, \"event\": \"step_line\"}, {\"ordered_globals\": [\"x\", \"i\"], \"heap\": {}, \"stdout\": \"\", \"func_name\": \"<module>\", \"stack_to_render\": [], \"line\": 3, \"globals\": {\"i\": 75, \"x\": 76}, \"event\": \"step_line\"}, {\"ordered_globals\": [\"x\", \"i\"], \"heap\": {}, \"stdout\": \"\", \"func_name\": \"<module>\", \"stack_to_render\": [], \"line\": 4, \"globals\": {\"i\": 76, \"x\": 76}, \"event\": \"step_line\"}, {\"ordered_globals\": [\"x\", \"i\"], \"heap\": {}, \"stdout\": \"\", \"func_name\": \"<module>\", \"stack_to_render\": [], \"line\": 3, \"globals\": {\"i\": 76, \"x\": 77}, \"event\": \"step_line\"}, {\"ordered_globals\": [\"x\", \"i\"], \"heap\": {}, \"stdout\": \"\", \"func_name\": \"<module>\", \"stack_to_render\": [], \"line\": 4, \"globals\": {\"i\": 77, \"x\": 77}, \"event\": \"step_line\"}, {\"ordered_globals\": [\"x\", \"i\"], \"heap\": {}, \"stdout\": \"\", \"func_name\": \"<module>\", \"stack_to_render\": [], \"line\": 3, \"globals\": {\"i\": 77, \"x\": 78}, \"event\": \"step_line\"}, {\"ordered_globals\": [\"x\", \"i\"], \"heap\": {}, \"stdout\": \"\", \"func_name\": \"<module>\", \"stack_to_render\": [], \"line\": 4, \"globals\": {\"i\": 78, \"x\": 78}, \"event\": \"step_line\"}, {\"ordered_globals\": [\"x\", \"i\"], \"heap\": {}, \"stdout\": \"\", \"func_name\": \"<module>\", \"stack_to_render\": [], \"line\": 3, \"globals\": {\"i\": 78, \"x\": 79}, \"event\": \"step_line\"}, {\"ordered_globals\": [\"x\", \"i\"], \"heap\": {}, \"stdout\": \"\", \"func_name\": \"<module>\", \"stack_to_render\": [], \"line\": 4, \"globals\": {\"i\": 79, \"x\": 79}, \"event\": \"step_line\"}, {\"ordered_globals\": [\"x\", \"i\"], \"heap\": {}, \"stdout\": \"\", \"func_name\": \"<module>\", \"stack_to_render\": [], \"line\": 3, \"globals\": {\"i\": 79, \"x\": 80}, \"event\": \"step_line\"}, {\"ordered_globals\": [\"x\", \"i\"], \"heap\": {}, \"stdout\": \"\", \"func_name\": \"<module>\", \"stack_to_render\": [], \"line\": 4, \"globals\": {\"i\": 80, \"x\": 80}, \"event\": \"step_line\"}, {\"ordered_globals\": [\"x\", \"i\"], \"heap\": {}, \"stdout\": \"\", \"func_name\": \"<module>\", \"stack_to_render\": [], \"line\": 3, \"globals\": {\"i\": 80, \"x\": 81}, \"event\": \"step_line\"}, {\"ordered_globals\": [\"x\", \"i\"], \"heap\": {}, \"stdout\": \"\", \"func_name\": \"<module>\", \"stack_to_render\": [], \"line\": 4, \"globals\": {\"i\": 81, \"x\": 81}, \"event\": \"step_line\"}, {\"ordered_globals\": [\"x\", \"i\"], \"heap\": {}, \"stdout\": \"\", \"func_name\": \"<module>\", \"stack_to_render\": [], \"line\": 3, \"globals\": {\"i\": 81, \"x\": 82}, \"event\": \"step_line\"}, {\"ordered_globals\": [\"x\", \"i\"], \"heap\": {}, \"stdout\": \"\", \"func_name\": \"<module>\", \"stack_to_render\": [], \"line\": 4, \"globals\": {\"i\": 82, \"x\": 82}, \"event\": \"step_line\"}, {\"ordered_globals\": [\"x\", \"i\"], \"heap\": {}, \"stdout\": \"\", \"func_name\": \"<module>\", \"stack_to_render\": [], \"line\": 3, \"globals\": {\"i\": 82, \"x\": 83}, \"event\": \"step_line\"}, {\"ordered_globals\": [\"x\", \"i\"], \"heap\": {}, \"stdout\": \"\", \"func_name\": \"<module>\", \"stack_to_render\": [], \"line\": 4, \"globals\": {\"i\": 83, \"x\": 83}, \"event\": \"step_line\"}, {\"ordered_globals\": [\"x\", \"i\"], \"heap\": {}, \"stdout\": \"\", \"func_name\": \"<module>\", \"stack_to_render\": [], \"line\": 3, \"globals\": {\"i\": 83, \"x\": 84}, \"event\": \"step_line\"}, {\"ordered_globals\": [\"x\", \"i\"], \"heap\": {}, \"stdout\": \"\", \"func_name\": \"<module>\", \"stack_to_render\": [], \"line\": 4, \"globals\": {\"i\": 84, \"x\": 84}, \"event\": \"step_line\"}, {\"ordered_globals\": [\"x\", \"i\"], \"heap\": {}, \"stdout\": \"\", \"func_name\": \"<module>\", \"stack_to_render\": [], \"line\": 3, \"globals\": {\"i\": 84, \"x\": 85}, \"event\": \"step_line\"}, {\"ordered_globals\": [\"x\", \"i\"], \"heap\": {}, \"stdout\": \"\", \"func_name\": \"<module>\", \"stack_to_render\": [], \"line\": 4, \"globals\": {\"i\": 85, \"x\": 85}, \"event\": \"step_line\"}, {\"ordered_globals\": [\"x\", \"i\"], \"heap\": {}, \"stdout\": \"\", \"func_name\": \"<module>\", \"stack_to_render\": [], \"line\": 3, \"globals\": {\"i\": 85, \"x\": 86}, \"event\": \"step_line\"}, {\"ordered_globals\": [\"x\", \"i\"], \"heap\": {}, \"stdout\": \"\", \"func_name\": \"<module>\", \"stack_to_render\": [], \"line\": 4, \"globals\": {\"i\": 86, \"x\": 86}, \"event\": \"step_line\"}, {\"ordered_globals\": [\"x\", \"i\"], \"heap\": {}, \"stdout\": \"\", \"func_name\": \"<module>\", \"stack_to_render\": [], \"line\": 3, \"globals\": {\"i\": 86, \"x\": 87}, \"event\": \"step_line\"}, {\"ordered_globals\": [\"x\", \"i\"], \"heap\": {}, \"stdout\": \"\", \"func_name\": \"<module>\", \"stack_to_render\": [], \"line\": 4, \"globals\": {\"i\": 87, \"x\": 87}, \"event\": \"step_line\"}, {\"ordered_globals\": [\"x\", \"i\"], \"heap\": {}, \"stdout\": \"\", \"func_name\": \"<module>\", \"stack_to_render\": [], \"line\": 3, \"globals\": {\"i\": 87, \"x\": 88}, \"event\": \"step_line\"}, {\"ordered_globals\": [\"x\", \"i\"], \"heap\": {}, \"stdout\": \"\", \"func_name\": \"<module>\", \"stack_to_render\": [], \"line\": 4, \"globals\": {\"i\": 88, \"x\": 88}, \"event\": \"step_line\"}, {\"ordered_globals\": [\"x\", \"i\"], \"heap\": {}, \"stdout\": \"\", \"func_name\": \"<module>\", \"stack_to_render\": [], \"line\": 3, \"globals\": {\"i\": 88, \"x\": 89}, \"event\": \"step_line\"}, {\"ordered_globals\": [\"x\", \"i\"], \"heap\": {}, \"stdout\": \"\", \"func_name\": \"<module>\", \"stack_to_render\": [], \"line\": 4, \"globals\": {\"i\": 89, \"x\": 89}, \"event\": \"step_line\"}, {\"ordered_globals\": [\"x\", \"i\"], \"heap\": {}, \"stdout\": \"\", \"func_name\": \"<module>\", \"stack_to_render\": [], \"line\": 3, \"globals\": {\"i\": 89, \"x\": 90}, \"event\": \"step_line\"}, {\"ordered_globals\": [\"x\", \"i\"], \"heap\": {}, \"stdout\": \"\", \"func_name\": \"<module>\", \"stack_to_render\": [], \"line\": 4, \"globals\": {\"i\": 90, \"x\": 90}, \"event\": \"step_line\"}, {\"ordered_globals\": [\"x\", \"i\"], \"heap\": {}, \"stdout\": \"\", \"func_name\": \"<module>\", \"stack_to_render\": [], \"line\": 3, \"globals\": {\"i\": 90, \"x\": 91}, \"event\": \"step_line\"}, {\"ordered_globals\": [\"x\", \"i\"], \"heap\": {}, \"stdout\": \"\", \"func_name\": \"<module>\", \"stack_to_render\": [], \"line\": 4, \"globals\": {\"i\": 91, \"x\": 91}, \"event\": \"step_line\"}, {\"ordered_globals\": [\"x\", \"i\"], \"heap\": {}, \"stdout\": \"\", \"func_name\": \"<module>\", \"stack_to_render\": [], \"line\": 3, \"globals\": {\"i\": 91, \"x\": 92}, \"event\": \"step_line\"}, {\"ordered_globals\": [\"x\", \"i\"], \"heap\": {}, \"stdout\": \"\", \"func_name\": \"<module>\", \"stack_to_render\": [], \"line\": 4, \"globals\": {\"i\": 92, \"x\": 92}, \"event\": \"step_line\"}, {\"ordered_globals\": [\"x\", \"i\"], \"heap\": {}, \"stdout\": \"\", \"func_name\": \"<module>\", \"stack_to_render\": [], \"line\": 3, \"globals\": {\"i\": 92, \"x\": 93}, \"event\": \"step_line\"}, {\"ordered_globals\": [\"x\", \"i\"], \"heap\": {}, \"stdout\": \"\", \"func_name\": \"<module>\", \"stack_to_render\": [], \"line\": 4, \"globals\": {\"i\": 93, \"x\": 93}, \"event\": \"step_line\"}, {\"ordered_globals\": [\"x\", \"i\"], \"heap\": {}, \"stdout\": \"\", \"func_name\": \"<module>\", \"stack_to_render\": [], \"line\": 3, \"globals\": {\"i\": 93, \"x\": 94}, \"event\": \"step_line\"}, {\"ordered_globals\": [\"x\", \"i\"], \"heap\": {}, \"stdout\": \"\", \"func_name\": \"<module>\", \"stack_to_render\": [], \"line\": 4, \"globals\": {\"i\": 94, \"x\": 94}, \"event\": \"step_line\"}, {\"ordered_globals\": [\"x\", \"i\"], \"heap\": {}, \"stdout\": \"\", \"func_name\": \"<module>\", \"stack_to_render\": [], \"line\": 3, \"globals\": {\"i\": 94, \"x\": 95}, \"event\": \"step_line\"}, {\"ordered_globals\": [\"x\", \"i\"], \"heap\": {}, \"stdout\": \"\", \"func_name\": \"<module>\", \"stack_to_render\": [], \"line\": 4, \"globals\": {\"i\": 95, \"x\": 95}, \"event\": \"step_line\"}, {\"ordered_globals\": [\"x\", \"i\"], \"heap\": {}, \"stdout\": \"\", \"func_name\": \"<module>\", \"stack_to_render\": [], \"line\": 3, \"globals\": {\"i\": 95, \"x\": 96}, \"event\": \"step_line\"}, {\"ordered_globals\": [\"x\", \"i\"], \"heap\": {}, \"stdout\": \"\", \"func_name\": \"<module>\", \"stack_to_render\": [], \"line\": 4, \"globals\": {\"i\": 96, \"x\": 96}, \"event\": \"step_line\"}, {\"ordered_globals\": [\"x\", \"i\"], \"heap\": {}, \"stdout\": \"\", \"func_name\": \"<module>\", \"stack_to_render\": [], \"line\": 3, \"globals\": {\"i\": 96, \"x\": 97}, \"event\": \"step_line\"}, {\"ordered_globals\": [\"x\", \"i\"], \"heap\": {}, \"stdout\": \"\", \"func_name\": \"<module>\", \"stack_to_render\": [], \"line\": 4, \"globals\": {\"i\": 97, \"x\": 97}, \"event\": \"step_line\"}, {\"ordered_globals\": [\"x\", \"i\"], \"heap\": {}, \"stdout\": \"\", \"func_name\": \"<module>\", \"stack_to_render\": [], \"line\": 3, \"globals\": {\"i\": 97, \"x\": 98}, \"event\": \"step_line\"}, {\"ordered_globals\": [\"x\", \"i\"], \"heap\": {}, \"stdout\": \"\", \"func_name\": \"<module>\", \"stack_to_render\": [], \"line\": 4, \"globals\": {\"i\": 98, \"x\": 98}, \"event\": \"step_line\"}, {\"ordered_globals\": [\"x\", \"i\"], \"heap\": {}, \"stdout\": \"\", \"func_name\": \"<module>\", \"stack_to_render\": [], \"line\": 3, \"globals\": {\"i\": 98, \"x\": 99}, \"event\": \"step_line\"}, {\"ordered_globals\": [\"x\", \"i\"], \"heap\": {}, \"stdout\": \"\", \"func_name\": \"<module>\", \"stack_to_render\": [], \"line\": 4, \"globals\": {\"i\": 99, \"x\": 99}, \"event\": \"step_line\"}, {\"ordered_globals\": [\"x\", \"i\"], \"heap\": {}, \"stdout\": \"\", \"func_name\": \"<module>\", \"stack_to_render\": [], \"line\": 3, \"globals\": {\"i\": 99, \"x\": 100}, \"event\": \"step_line\"}, {\"ordered_globals\": [\"x\", \"i\"], \"heap\": {}, \"stdout\": \"\", \"func_name\": \"<module>\", \"stack_to_render\": [], \"line\": 4, \"globals\": {\"i\": 100, \"x\": 100}, \"event\": \"step_line\"}, {\"ordered_globals\": [\"x\", \"i\"], \"heap\": {}, \"stdout\": \"\", \"func_name\": \"<module>\", \"stack_to_render\": [], \"line\": 3, \"globals\": {\"i\": 100, \"x\": 101}, \"event\": \"step_line\"}, {\"ordered_globals\": [\"x\", \"i\"], \"heap\": {}, \"stdout\": \"\", \"func_name\": \"<module>\", \"stack_to_render\": [], \"line\": 4, \"globals\": {\"i\": 101, \"x\": 101}, \"event\": \"step_line\"}, {\"ordered_globals\": [\"x\", \"i\"], \"heap\": {}, \"stdout\": \"\", \"func_name\": \"<module>\", \"stack_to_render\": [], \"line\": 3, \"globals\": {\"i\": 101, \"x\": 102}, \"event\": \"step_line\"}, {\"ordered_globals\": [\"x\", \"i\"], \"heap\": {}, \"stdout\": \"\", \"func_name\": \"<module>\", \"stack_to_render\": [], \"line\": 4, \"globals\": {\"i\": 102, \"x\": 102}, \"event\": \"step_line\"}, {\"ordered_globals\": [\"x\", \"i\"], \"heap\": {}, \"stdout\": \"\", \"func_name\": \"<module>\", \"stack_to_render\": [], \"line\": 3, \"globals\": {\"i\": 102, \"x\": 103}, \"event\": \"step_line\"}, {\"ordered_globals\": [\"x\", \"i\"], \"heap\": {}, \"stdout\": \"\", \"func_name\": \"<module>\", \"stack_to_render\": [], \"line\": 4, \"globals\": {\"i\": 103, \"x\": 103}, \"event\": \"step_line\"}, {\"ordered_globals\": [\"x\", \"i\"], \"heap\": {}, \"stdout\": \"\", \"func_name\": \"<module>\", \"stack_to_render\": [], \"line\": 3, \"globals\": {\"i\": 103, \"x\": 104}, \"event\": \"step_line\"}, {\"ordered_globals\": [\"x\", \"i\"], \"heap\": {}, \"stdout\": \"\", \"func_name\": \"<module>\", \"stack_to_render\": [], \"line\": 4, \"globals\": {\"i\": 104, \"x\": 104}, \"event\": \"step_line\"}, {\"ordered_globals\": [\"x\", \"i\"], \"heap\": {}, \"stdout\": \"\", \"func_name\": \"<module>\", \"stack_to_render\": [], \"line\": 3, \"globals\": {\"i\": 104, \"x\": 105}, \"event\": \"step_line\"}, {\"ordered_globals\": [\"x\", \"i\"], \"heap\": {}, \"stdout\": \"\", \"func_name\": \"<module>\", \"stack_to_render\": [], \"line\": 4, \"globals\": {\"i\": 105, \"x\": 105}, \"event\": \"step_line\"}, {\"ordered_globals\": [\"x\", \"i\"], \"heap\": {}, \"stdout\": \"\", \"func_name\": \"<module>\", \"stack_to_render\": [], \"line\": 3, \"globals\": {\"i\": 105, \"x\": 106}, \"event\": \"step_line\"}, {\"ordered_globals\": [\"x\", \"i\"], \"heap\": {}, \"stdout\": \"\", \"func_name\": \"<module>\", \"stack_to_render\": [], \"line\": 4, \"globals\": {\"i\": 106, \"x\": 106}, \"event\": \"step_line\"}, {\"ordered_globals\": [\"x\", \"i\"], \"heap\": {}, \"stdout\": \"\", \"func_name\": \"<module>\", \"stack_to_render\": [], \"line\": 3, \"globals\": {\"i\": 106, \"x\": 107}, \"event\": \"step_line\"}, {\"ordered_globals\": [\"x\", \"i\"], \"heap\": {}, \"stdout\": \"\", \"func_name\": \"<module>\", \"stack_to_render\": [], \"line\": 4, \"globals\": {\"i\": 107, \"x\": 107}, \"event\": \"step_line\"}, {\"ordered_globals\": [\"x\", \"i\"], \"heap\": {}, \"stdout\": \"\", \"func_name\": \"<module>\", \"stack_to_render\": [], \"line\": 3, \"globals\": {\"i\": 107, \"x\": 108}, \"event\": \"step_line\"}, {\"ordered_globals\": [\"x\", \"i\"], \"heap\": {}, \"stdout\": \"\", \"func_name\": \"<module>\", \"stack_to_render\": [], \"line\": 4, \"globals\": {\"i\": 108, \"x\": 108}, \"event\": \"step_line\"}, {\"ordered_globals\": [\"x\", \"i\"], \"heap\": {}, \"stdout\": \"\", \"func_name\": \"<module>\", \"stack_to_render\": [], \"line\": 3, \"globals\": {\"i\": 108, \"x\": 109}, \"event\": \"step_line\"}, {\"ordered_globals\": [\"x\", \"i\"], \"heap\": {}, \"stdout\": \"\", \"func_name\": \"<module>\", \"stack_to_render\": [], \"line\": 4, \"globals\": {\"i\": 109, \"x\": 109}, \"event\": \"step_line\"}, {\"ordered_globals\": [\"x\", \"i\"], \"heap\": {}, \"stdout\": \"\", \"func_name\": \"<module>\", \"stack_to_render\": [], \"line\": 3, \"globals\": {\"i\": 109, \"x\": 110}, \"event\": \"step_line\"}, {\"ordered_globals\": [\"x\", \"i\"], \"heap\": {}, \"stdout\": \"\", \"func_name\": \"<module>\", \"stack_to_render\": [], \"line\": 4, \"globals\": {\"i\": 110, \"x\": 110}, \"event\": \"step_line\"}, {\"ordered_globals\": [\"x\", \"i\"], \"heap\": {}, \"stdout\": \"\", \"func_name\": \"<module>\", \"stack_to_render\": [], \"line\": 3, \"globals\": {\"i\": 110, \"x\": 111}, \"event\": \"step_line\"}, {\"ordered_globals\": [\"x\", \"i\"], \"heap\": {}, \"stdout\": \"\", \"func_name\": \"<module>\", \"stack_to_render\": [], \"line\": 4, \"globals\": {\"i\": 111, \"x\": 111}, \"event\": \"step_line\"}, {\"ordered_globals\": [\"x\", \"i\"], \"heap\": {}, \"stdout\": \"\", \"func_name\": \"<module>\", \"stack_to_render\": [], \"line\": 3, \"globals\": {\"i\": 111, \"x\": 112}, \"event\": \"step_line\"}, {\"ordered_globals\": [\"x\", \"i\"], \"heap\": {}, \"stdout\": \"\", \"func_name\": \"<module>\", \"stack_to_render\": [], \"line\": 4, \"globals\": {\"i\": 112, \"x\": 112}, \"event\": \"step_line\"}, {\"ordered_globals\": [\"x\", \"i\"], \"heap\": {}, \"stdout\": \"\", \"func_name\": \"<module>\", \"stack_to_render\": [], \"line\": 3, \"globals\": {\"i\": 112, \"x\": 113}, \"event\": \"step_line\"}, {\"ordered_globals\": [\"x\", \"i\"], \"heap\": {}, \"stdout\": \"\", \"func_name\": \"<module>\", \"stack_to_render\": [], \"line\": 4, \"globals\": {\"i\": 113, \"x\": 113}, \"event\": \"step_line\"}, {\"ordered_globals\": [\"x\", \"i\"], \"heap\": {}, \"stdout\": \"\", \"func_name\": \"<module>\", \"stack_to_render\": [], \"line\": 3, \"globals\": {\"i\": 113, \"x\": 114}, \"event\": \"step_line\"}, {\"ordered_globals\": [\"x\", \"i\"], \"heap\": {}, \"stdout\": \"\", \"func_name\": \"<module>\", \"stack_to_render\": [], \"line\": 4, \"globals\": {\"i\": 114, \"x\": 114}, \"event\": \"step_line\"}, {\"ordered_globals\": [\"x\", \"i\"], \"heap\": {}, \"stdout\": \"\", \"func_name\": \"<module>\", \"stack_to_render\": [], \"line\": 3, \"globals\": {\"i\": 114, \"x\": 115}, \"event\": \"step_line\"}, {\"ordered_globals\": [\"x\", \"i\"], \"heap\": {}, \"stdout\": \"\", \"func_name\": \"<module>\", \"stack_to_render\": [], \"line\": 4, \"globals\": {\"i\": 115, \"x\": 115}, \"event\": \"step_line\"}, {\"ordered_globals\": [\"x\", \"i\"], \"heap\": {}, \"stdout\": \"\", \"func_name\": \"<module>\", \"stack_to_render\": [], \"line\": 3, \"globals\": {\"i\": 115, \"x\": 116}, \"event\": \"step_line\"}, {\"ordered_globals\": [\"x\", \"i\"], \"heap\": {}, \"stdout\": \"\", \"func_name\": \"<module>\", \"stack_to_render\": [], \"line\": 4, \"globals\": {\"i\": 116, \"x\": 116}, \"event\": \"step_line\"}, {\"ordered_globals\": [\"x\", \"i\"], \"heap\": {}, \"stdout\": \"\", \"func_name\": \"<module>\", \"stack_to_render\": [], \"line\": 3, \"globals\": {\"i\": 116, \"x\": 117}, \"event\": \"step_line\"}, {\"ordered_globals\": [\"x\", \"i\"], \"heap\": {}, \"stdout\": \"\", \"func_name\": \"<module>\", \"stack_to_render\": [], \"line\": 4, \"globals\": {\"i\": 117, \"x\": 117}, \"event\": \"step_line\"}, {\"ordered_globals\": [\"x\", \"i\"], \"heap\": {}, \"stdout\": \"\", \"func_name\": \"<module>\", \"stack_to_render\": [], \"line\": 3, \"globals\": {\"i\": 117, \"x\": 118}, \"event\": \"step_line\"}, {\"ordered_globals\": [\"x\", \"i\"], \"heap\": {}, \"stdout\": \"\", \"func_name\": \"<module>\", \"stack_to_render\": [], \"line\": 4, \"globals\": {\"i\": 118, \"x\": 118}, \"event\": \"step_line\"}, {\"ordered_globals\": [\"x\", \"i\"], \"heap\": {}, \"stdout\": \"\", \"func_name\": \"<module>\", \"stack_to_render\": [], \"line\": 3, \"globals\": {\"i\": 118, \"x\": 119}, \"event\": \"step_line\"}, {\"ordered_globals\": [\"x\", \"i\"], \"heap\": {}, \"stdout\": \"\", \"func_name\": \"<module>\", \"stack_to_render\": [], \"line\": 4, \"globals\": {\"i\": 119, \"x\": 119}, \"event\": \"step_line\"}, {\"ordered_globals\": [\"x\", \"i\"], \"heap\": {}, \"stdout\": \"\", \"func_name\": \"<module>\", \"stack_to_render\": [], \"line\": 3, \"globals\": {\"i\": 119, \"x\": 120}, \"event\": \"step_line\"}, {\"ordered_globals\": [\"x\", \"i\"], \"heap\": {}, \"stdout\": \"\", \"func_name\": \"<module>\", \"stack_to_render\": [], \"line\": 4, \"globals\": {\"i\": 120, \"x\": 120}, \"event\": \"step_line\"}, {\"ordered_globals\": [\"x\", \"i\"], \"heap\": {}, \"stdout\": \"\", \"func_name\": \"<module>\", \"stack_to_render\": [], \"line\": 3, \"globals\": {\"i\": 120, \"x\": 121}, \"event\": \"step_line\"}, {\"ordered_globals\": [\"x\", \"i\"], \"heap\": {}, \"stdout\": \"\", \"func_name\": \"<module>\", \"stack_to_render\": [], \"line\": 4, \"globals\": {\"i\": 121, \"x\": 121}, \"event\": \"step_line\"}, {\"ordered_globals\": [\"x\", \"i\"], \"heap\": {}, \"stdout\": \"\", \"func_name\": \"<module>\", \"stack_to_render\": [], \"line\": 3, \"globals\": {\"i\": 121, \"x\": 122}, \"event\": \"step_line\"}, {\"ordered_globals\": [\"x\", \"i\"], \"heap\": {}, \"stdout\": \"\", \"func_name\": \"<module>\", \"stack_to_render\": [], \"line\": 4, \"globals\": {\"i\": 122, \"x\": 122}, \"event\": \"step_line\"}, {\"ordered_globals\": [\"x\", \"i\"], \"heap\": {}, \"stdout\": \"\", \"func_name\": \"<module>\", \"stack_to_render\": [], \"line\": 3, \"globals\": {\"i\": 122, \"x\": 123}, \"event\": \"step_line\"}, {\"ordered_globals\": [\"x\", \"i\"], \"heap\": {}, \"stdout\": \"\", \"func_name\": \"<module>\", \"stack_to_render\": [], \"line\": 4, \"globals\": {\"i\": 123, \"x\": 123}, \"event\": \"step_line\"}, {\"ordered_globals\": [\"x\", \"i\"], \"heap\": {}, \"stdout\": \"\", \"func_name\": \"<module>\", \"stack_to_render\": [], \"line\": 3, \"globals\": {\"i\": 123, \"x\": 124}, \"event\": \"step_line\"}, {\"ordered_globals\": [\"x\", \"i\"], \"heap\": {}, \"stdout\": \"\", \"func_name\": \"<module>\", \"stack_to_render\": [], \"line\": 4, \"globals\": {\"i\": 124, \"x\": 124}, \"event\": \"step_line\"}, {\"ordered_globals\": [\"x\", \"i\"], \"heap\": {}, \"stdout\": \"\", \"func_name\": \"<module>\", \"stack_to_render\": [], \"line\": 3, \"globals\": {\"i\": 124, \"x\": 125}, \"event\": \"step_line\"}, {\"ordered_globals\": [\"x\", \"i\"], \"heap\": {}, \"stdout\": \"\", \"func_name\": \"<module>\", \"stack_to_render\": [], \"line\": 4, \"globals\": {\"i\": 125, \"x\": 125}, \"event\": \"step_line\"}, {\"ordered_globals\": [\"x\", \"i\"], \"heap\": {}, \"stdout\": \"\", \"func_name\": \"<module>\", \"stack_to_render\": [], \"line\": 3, \"globals\": {\"i\": 125, \"x\": 126}, \"event\": \"step_line\"}, {\"ordered_globals\": [\"x\", \"i\"], \"heap\": {}, \"stdout\": \"\", \"func_name\": \"<module>\", \"stack_to_render\": [], \"line\": 4, \"globals\": {\"i\": 126, \"x\": 126}, \"event\": \"step_line\"}, {\"ordered_globals\": [\"x\", \"i\"], \"heap\": {}, \"stdout\": \"\", \"func_name\": \"<module>\", \"stack_to_render\": [], \"line\": 3, \"globals\": {\"i\": 126, \"x\": 127}, \"event\": \"step_line\"}, {\"ordered_globals\": [\"x\", \"i\"], \"heap\": {}, \"stdout\": \"\", \"func_name\": \"<module>\", \"stack_to_render\": [], \"line\": 4, \"globals\": {\"i\": 127, \"x\": 127}, \"event\": \"step_line\"}, {\"ordered_globals\": [\"x\", \"i\"], \"heap\": {}, \"stdout\": \"\", \"func_name\": \"<module>\", \"stack_to_render\": [], \"line\": 3, \"globals\": {\"i\": 127, \"x\": 128}, \"event\": \"step_line\"}, {\"ordered_globals\": [\"x\", \"i\"], \"heap\": {}, \"stdout\": \"\", \"func_name\": \"<module>\", \"stack_to_render\": [], \"line\": 4, \"globals\": {\"i\": 128, \"x\": 128}, \"event\": \"step_line\"}, {\"ordered_globals\": [\"x\", \"i\"], \"heap\": {}, \"stdout\": \"\", \"func_name\": \"<module>\", \"stack_to_render\": [], \"line\": 3, \"globals\": {\"i\": 128, \"x\": 129}, \"event\": \"step_line\"}, {\"ordered_globals\": [\"x\", \"i\"], \"heap\": {}, \"stdout\": \"\", \"func_name\": \"<module>\", \"stack_to_render\": [], \"line\": 4, \"globals\": {\"i\": 129, \"x\": 129}, \"event\": \"step_line\"}, {\"ordered_globals\": [\"x\", \"i\"], \"heap\": {}, \"stdout\": \"\", \"func_name\": \"<module>\", \"stack_to_render\": [], \"line\": 3, \"globals\": {\"i\": 129, \"x\": 130}, \"event\": \"step_line\"}, {\"ordered_globals\": [\"x\", \"i\"], \"heap\": {}, \"stdout\": \"\", \"func_name\": \"<module>\", \"stack_to_render\": [], \"line\": 4, \"globals\": {\"i\": 130, \"x\": 130}, \"event\": \"step_line\"}, {\"ordered_globals\": [\"x\", \"i\"], \"heap\": {}, \"stdout\": \"\", \"func_name\": \"<module>\", \"stack_to_render\": [], \"line\": 3, \"globals\": {\"i\": 130, \"x\": 131}, \"event\": \"step_line\"}, {\"ordered_globals\": [\"x\", \"i\"], \"heap\": {}, \"stdout\": \"\", \"func_name\": \"<module>\", \"stack_to_render\": [], \"line\": 4, \"globals\": {\"i\": 131, \"x\": 131}, \"event\": \"step_line\"}, {\"ordered_globals\": [\"x\", \"i\"], \"heap\": {}, \"stdout\": \"\", \"func_name\": \"<module>\", \"stack_to_render\": [], \"line\": 3, \"globals\": {\"i\": 131, \"x\": 132}, \"event\": \"step_line\"}, {\"ordered_globals\": [\"x\", \"i\"], \"heap\": {}, \"stdout\": \"\", \"func_name\": \"<module>\", \"stack_to_render\": [], \"line\": 4, \"globals\": {\"i\": 132, \"x\": 132}, \"event\": \"step_line\"}, {\"ordered_globals\": [\"x\", \"i\"], \"heap\": {}, \"stdout\": \"\", \"func_name\": \"<module>\", \"stack_to_render\": [], \"line\": 3, \"globals\": {\"i\": 132, \"x\": 133}, \"event\": \"step_line\"}, {\"ordered_globals\": [\"x\", \"i\"], \"heap\": {}, \"stdout\": \"\", \"func_name\": \"<module>\", \"stack_to_render\": [], \"line\": 4, \"globals\": {\"i\": 133, \"x\": 133}, \"event\": \"step_line\"}, {\"ordered_globals\": [\"x\", \"i\"], \"heap\": {}, \"stdout\": \"\", \"func_name\": \"<module>\", \"stack_to_render\": [], \"line\": 3, \"globals\": {\"i\": 133, \"x\": 134}, \"event\": \"step_line\"}, {\"ordered_globals\": [\"x\", \"i\"], \"heap\": {}, \"stdout\": \"\", \"func_name\": \"<module>\", \"stack_to_render\": [], \"line\": 4, \"globals\": {\"i\": 134, \"x\": 134}, \"event\": \"step_line\"}, {\"ordered_globals\": [\"x\", \"i\"], \"heap\": {}, \"stdout\": \"\", \"func_name\": \"<module>\", \"stack_to_render\": [], \"line\": 3, \"globals\": {\"i\": 134, \"x\": 135}, \"event\": \"step_line\"}, {\"ordered_globals\": [\"x\", \"i\"], \"heap\": {}, \"stdout\": \"\", \"func_name\": \"<module>\", \"stack_to_render\": [], \"line\": 4, \"globals\": {\"i\": 135, \"x\": 135}, \"event\": \"step_line\"}, {\"ordered_globals\": [\"x\", \"i\"], \"heap\": {}, \"stdout\": \"\", \"func_name\": \"<module>\", \"stack_to_render\": [], \"line\": 3, \"globals\": {\"i\": 135, \"x\": 136}, \"event\": \"step_line\"}, {\"ordered_globals\": [\"x\", \"i\"], \"heap\": {}, \"stdout\": \"\", \"func_name\": \"<module>\", \"stack_to_render\": [], \"line\": 4, \"globals\": {\"i\": 136, \"x\": 136}, \"event\": \"step_line\"}, {\"ordered_globals\": [\"x\", \"i\"], \"heap\": {}, \"stdout\": \"\", \"func_name\": \"<module>\", \"stack_to_render\": [], \"line\": 3, \"globals\": {\"i\": 136, \"x\": 137}, \"event\": \"step_line\"}, {\"ordered_globals\": [\"x\", \"i\"], \"heap\": {}, \"stdout\": \"\", \"func_name\": \"<module>\", \"stack_to_render\": [], \"line\": 4, \"globals\": {\"i\": 137, \"x\": 137}, \"event\": \"step_line\"}, {\"ordered_globals\": [\"x\", \"i\"], \"heap\": {}, \"stdout\": \"\", \"func_name\": \"<module>\", \"stack_to_render\": [], \"line\": 3, \"globals\": {\"i\": 137, \"x\": 138}, \"event\": \"step_line\"}, {\"ordered_globals\": [\"x\", \"i\"], \"heap\": {}, \"stdout\": \"\", \"func_name\": \"<module>\", \"stack_to_render\": [], \"line\": 4, \"globals\": {\"i\": 138, \"x\": 138}, \"event\": \"step_line\"}, {\"ordered_globals\": [\"x\", \"i\"], \"heap\": {}, \"stdout\": \"\", \"func_name\": \"<module>\", \"stack_to_render\": [], \"line\": 3, \"globals\": {\"i\": 138, \"x\": 139}, \"event\": \"step_line\"}, {\"ordered_globals\": [\"x\", \"i\"], \"heap\": {}, \"stdout\": \"\", \"func_name\": \"<module>\", \"stack_to_render\": [], \"line\": 4, \"globals\": {\"i\": 139, \"x\": 139}, \"event\": \"step_line\"}, {\"ordered_globals\": [\"x\", \"i\"], \"heap\": {}, \"stdout\": \"\", \"func_name\": \"<module>\", \"stack_to_render\": [], \"line\": 3, \"globals\": {\"i\": 139, \"x\": 140}, \"event\": \"step_line\"}, {\"ordered_globals\": [\"x\", \"i\"], \"heap\": {}, \"stdout\": \"\", \"func_name\": \"<module>\", \"stack_to_render\": [], \"line\": 4, \"globals\": {\"i\": 140, \"x\": 140}, \"event\": \"step_line\"}, {\"ordered_globals\": [\"x\", \"i\"], \"heap\": {}, \"stdout\": \"\", \"func_name\": \"<module>\", \"stack_to_render\": [], \"line\": 3, \"globals\": {\"i\": 140, \"x\": 141}, \"event\": \"step_line\"}, {\"ordered_globals\": [\"x\", \"i\"], \"heap\": {}, \"stdout\": \"\", \"func_name\": \"<module>\", \"stack_to_render\": [], \"line\": 4, \"globals\": {\"i\": 141, \"x\": 141}, \"event\": \"step_line\"}, {\"ordered_globals\": [\"x\", \"i\"], \"heap\": {}, \"stdout\": \"\", \"func_name\": \"<module>\", \"stack_to_render\": [], \"line\": 3, \"globals\": {\"i\": 141, \"x\": 142}, \"event\": \"step_line\"}, {\"ordered_globals\": [\"x\", \"i\"], \"heap\": {}, \"stdout\": \"\", \"func_name\": \"<module>\", \"stack_to_render\": [], \"line\": 4, \"globals\": {\"i\": 142, \"x\": 142}, \"event\": \"step_line\"}, {\"ordered_globals\": [\"x\", \"i\"], \"heap\": {}, \"stdout\": \"\", \"func_name\": \"<module>\", \"stack_to_render\": [], \"line\": 3, \"globals\": {\"i\": 142, \"x\": 143}, \"event\": \"step_line\"}, {\"ordered_globals\": [\"x\", \"i\"], \"heap\": {}, \"stdout\": \"\", \"func_name\": \"<module>\", \"stack_to_render\": [], \"line\": 4, \"globals\": {\"i\": 143, \"x\": 143}, \"event\": \"step_line\"}, {\"ordered_globals\": [\"x\", \"i\"], \"heap\": {}, \"stdout\": \"\", \"func_name\": \"<module>\", \"stack_to_render\": [], \"line\": 3, \"globals\": {\"i\": 143, \"x\": 144}, \"event\": \"step_line\"}, {\"ordered_globals\": [\"x\", \"i\"], \"heap\": {}, \"stdout\": \"\", \"func_name\": \"<module>\", \"stack_to_render\": [], \"line\": 4, \"globals\": {\"i\": 144, \"x\": 144}, \"event\": \"step_line\"}, {\"ordered_globals\": [\"x\", \"i\"], \"heap\": {}, \"stdout\": \"\", \"func_name\": \"<module>\", \"stack_to_render\": [], \"line\": 3, \"globals\": {\"i\": 144, \"x\": 145}, \"event\": \"step_line\"}, {\"ordered_globals\": [\"x\", \"i\"], \"heap\": {}, \"stdout\": \"\", \"func_name\": \"<module>\", \"stack_to_render\": [], \"line\": 4, \"globals\": {\"i\": 145, \"x\": 145}, \"event\": \"step_line\"}, {\"ordered_globals\": [\"x\", \"i\"], \"heap\": {}, \"stdout\": \"\", \"func_name\": \"<module>\", \"stack_to_render\": [], \"line\": 3, \"globals\": {\"i\": 145, \"x\": 146}, \"event\": \"step_line\"}, {\"ordered_globals\": [\"x\", \"i\"], \"heap\": {}, \"stdout\": \"\", \"func_name\": \"<module>\", \"stack_to_render\": [], \"line\": 4, \"globals\": {\"i\": 146, \"x\": 146}, \"event\": \"step_line\"}, {\"ordered_globals\": [\"x\", \"i\"], \"heap\": {}, \"stdout\": \"\", \"func_name\": \"<module>\", \"stack_to_render\": [], \"line\": 3, \"globals\": {\"i\": 146, \"x\": 147}, \"event\": \"step_line\"}, {\"ordered_globals\": [\"x\", \"i\"], \"heap\": {}, \"stdout\": \"\", \"func_name\": \"<module>\", \"stack_to_render\": [], \"line\": 4, \"globals\": {\"i\": 147, \"x\": 147}, \"event\": \"step_line\"}, {\"ordered_globals\": [\"x\", \"i\"], \"heap\": {}, \"stdout\": \"\", \"func_name\": \"<module>\", \"stack_to_render\": [], \"line\": 3, \"globals\": {\"i\": 147, \"x\": 148}, \"event\": \"step_line\"}, {\"ordered_globals\": [\"x\", \"i\"], \"heap\": {}, \"stdout\": \"\", \"func_name\": \"<module>\", \"stack_to_render\": [], \"line\": 4, \"globals\": {\"i\": 148, \"x\": 148}, \"event\": \"step_line\"}, {\"ordered_globals\": [\"x\", \"i\"], \"heap\": {}, \"stdout\": \"\", \"func_name\": \"<module>\", \"stack_to_render\": [], \"line\": 3, \"globals\": {\"i\": 148, \"x\": 149}, \"event\": \"step_line\"}, {\"ordered_globals\": [\"x\", \"i\"], \"heap\": {}, \"stdout\": \"\", \"func_name\": \"<module>\", \"stack_to_render\": [], \"line\": 4, \"globals\": {\"i\": 149, \"x\": 149}, \"event\": \"step_line\"}, {\"ordered_globals\": [\"x\", \"i\"], \"heap\": {}, \"stdout\": \"\", \"func_name\": \"<module>\", \"stack_to_render\": [], \"line\": 3, \"globals\": {\"i\": 149, \"x\": 150}, \"event\": \"step_line\"}, {\"ordered_globals\": [\"x\", \"i\"], \"heap\": {}, \"stdout\": \"\", \"func_name\": \"<module>\", \"stack_to_render\": [], \"line\": 4, \"globals\": {\"i\": 150, \"x\": 150}, \"event\": \"step_line\"}, {\"ordered_globals\": [\"x\", \"i\"], \"heap\": {}, \"stdout\": \"\", \"func_name\": \"<module>\", \"stack_to_render\": [], \"line\": 3, \"globals\": {\"i\": 150, \"x\": 151}, \"event\": \"step_line\"}, {\"ordered_globals\": [\"x\", \"i\"], \"heap\": {}, \"stdout\": \"\", \"func_name\": \"<module>\", \"stack_to_render\": [], \"line\": 4, \"globals\": {\"i\": 151, \"x\": 151}, \"event\": \"step_line\"}, {\"ordered_globals\": [\"x\", \"i\"], \"heap\": {}, \"stdout\": \"\", \"func_name\": \"<module>\", \"stack_to_render\": [], \"line\": 3, \"globals\": {\"i\": 151, \"x\": 152}, \"event\": \"step_line\"}, {\"ordered_globals\": [\"x\", \"i\"], \"heap\": {}, \"stdout\": \"\", \"func_name\": \"<module>\", \"stack_to_render\": [], \"line\": 4, \"globals\": {\"i\": 152, \"x\": 152}, \"event\": \"step_line\"}, {\"ordered_globals\": [\"x\", \"i\"], \"heap\": {}, \"stdout\": \"\", \"func_name\": \"<module>\", \"stack_to_render\": [], \"line\": 3, \"globals\": {\"i\": 152, \"x\": 153}, \"event\": \"step_line\"}, {\"ordered_globals\": [\"x\", \"i\"], \"heap\": {}, \"stdout\": \"\", \"func_name\": \"<module>\", \"stack_to_render\": [], \"line\": 4, \"globals\": {\"i\": 153, \"x\": 153}, \"event\": \"step_line\"}, {\"ordered_globals\": [\"x\", \"i\"], \"heap\": {}, \"stdout\": \"\", \"func_name\": \"<module>\", \"stack_to_render\": [], \"line\": 3, \"globals\": {\"i\": 153, \"x\": 154}, \"event\": \"step_line\"}, {\"ordered_globals\": [\"x\", \"i\"], \"heap\": {}, \"stdout\": \"\", \"func_name\": \"<module>\", \"stack_to_render\": [], \"line\": 4, \"globals\": {\"i\": 154, \"x\": 154}, \"event\": \"step_line\"}, {\"ordered_globals\": [\"x\", \"i\"], \"heap\": {}, \"stdout\": \"\", \"func_name\": \"<module>\", \"stack_to_render\": [], \"line\": 3, \"globals\": {\"i\": 154, \"x\": 155}, \"event\": \"step_line\"}, {\"ordered_globals\": [\"x\", \"i\"], \"heap\": {}, \"stdout\": \"\", \"func_name\": \"<module>\", \"stack_to_render\": [], \"line\": 4, \"globals\": {\"i\": 155, \"x\": 155}, \"event\": \"step_line\"}, {\"ordered_globals\": [\"x\", \"i\"], \"heap\": {}, \"stdout\": \"\", \"func_name\": \"<module>\", \"stack_to_render\": [], \"line\": 3, \"globals\": {\"i\": 155, \"x\": 156}, \"event\": \"step_line\"}, {\"ordered_globals\": [\"x\", \"i\"], \"heap\": {}, \"stdout\": \"\", \"func_name\": \"<module>\", \"stack_to_render\": [], \"line\": 4, \"globals\": {\"i\": 156, \"x\": 156}, \"event\": \"step_line\"}, {\"ordered_globals\": [\"x\", \"i\"], \"heap\": {}, \"stdout\": \"\", \"func_name\": \"<module>\", \"stack_to_render\": [], \"line\": 3, \"globals\": {\"i\": 156, \"x\": 157}, \"event\": \"step_line\"}, {\"ordered_globals\": [\"x\", \"i\"], \"heap\": {}, \"stdout\": \"\", \"func_name\": \"<module>\", \"stack_to_render\": [], \"line\": 4, \"globals\": {\"i\": 157, \"x\": 157}, \"event\": \"step_line\"}, {\"ordered_globals\": [\"x\", \"i\"], \"heap\": {}, \"stdout\": \"\", \"func_name\": \"<module>\", \"stack_to_render\": [], \"line\": 3, \"globals\": {\"i\": 157, \"x\": 158}, \"event\": \"step_line\"}, {\"ordered_globals\": [\"x\", \"i\"], \"heap\": {}, \"stdout\": \"\", \"func_name\": \"<module>\", \"stack_to_render\": [], \"line\": 4, \"globals\": {\"i\": 158, \"x\": 158}, \"event\": \"step_line\"}, {\"ordered_globals\": [\"x\", \"i\"], \"heap\": {}, \"stdout\": \"\", \"func_name\": \"<module>\", \"stack_to_render\": [], \"line\": 3, \"globals\": {\"i\": 158, \"x\": 159}, \"event\": \"step_line\"}, {\"ordered_globals\": [\"x\", \"i\"], \"heap\": {}, \"stdout\": \"\", \"func_name\": \"<module>\", \"stack_to_render\": [], \"line\": 4, \"globals\": {\"i\": 159, \"x\": 159}, \"event\": \"step_line\"}, {\"ordered_globals\": [\"x\", \"i\"], \"heap\": {}, \"stdout\": \"\", \"func_name\": \"<module>\", \"stack_to_render\": [], \"line\": 3, \"globals\": {\"i\": 159, \"x\": 160}, \"event\": \"step_line\"}, {\"ordered_globals\": [\"x\", \"i\"], \"heap\": {}, \"stdout\": \"\", \"func_name\": \"<module>\", \"stack_to_render\": [], \"line\": 4, \"globals\": {\"i\": 160, \"x\": 160}, \"event\": \"step_line\"}, {\"ordered_globals\": [\"x\", \"i\"], \"heap\": {}, \"stdout\": \"\", \"func_name\": \"<module>\", \"stack_to_render\": [], \"line\": 3, \"globals\": {\"i\": 160, \"x\": 161}, \"event\": \"step_line\"}, {\"ordered_globals\": [\"x\", \"i\"], \"heap\": {}, \"stdout\": \"\", \"func_name\": \"<module>\", \"stack_to_render\": [], \"line\": 4, \"globals\": {\"i\": 161, \"x\": 161}, \"event\": \"step_line\"}, {\"ordered_globals\": [\"x\", \"i\"], \"heap\": {}, \"stdout\": \"\", \"func_name\": \"<module>\", \"stack_to_render\": [], \"line\": 3, \"globals\": {\"i\": 161, \"x\": 162}, \"event\": \"step_line\"}, {\"ordered_globals\": [\"x\", \"i\"], \"heap\": {}, \"stdout\": \"\", \"func_name\": \"<module>\", \"stack_to_render\": [], \"line\": 4, \"globals\": {\"i\": 162, \"x\": 162}, \"event\": \"step_line\"}, {\"ordered_globals\": [\"x\", \"i\"], \"heap\": {}, \"stdout\": \"\", \"func_name\": \"<module>\", \"stack_to_render\": [], \"line\": 3, \"globals\": {\"i\": 162, \"x\": 163}, \"event\": \"step_line\"}, {\"ordered_globals\": [\"x\", \"i\"], \"heap\": {}, \"stdout\": \"\", \"func_name\": \"<module>\", \"stack_to_render\": [], \"line\": 4, \"globals\": {\"i\": 163, \"x\": 163}, \"event\": \"step_line\"}, {\"ordered_globals\": [\"x\", \"i\"], \"heap\": {}, \"stdout\": \"\", \"func_name\": \"<module>\", \"stack_to_render\": [], \"line\": 3, \"globals\": {\"i\": 163, \"x\": 164}, \"event\": \"step_line\"}, {\"ordered_globals\": [\"x\", \"i\"], \"heap\": {}, \"stdout\": \"\", \"func_name\": \"<module>\", \"stack_to_render\": [], \"line\": 4, \"globals\": {\"i\": 164, \"x\": 164}, \"event\": \"step_line\"}, {\"ordered_globals\": [\"x\", \"i\"], \"heap\": {}, \"stdout\": \"\", \"func_name\": \"<module>\", \"stack_to_render\": [], \"line\": 3, \"globals\": {\"i\": 164, \"x\": 165}, \"event\": \"step_line\"}, {\"ordered_globals\": [\"x\", \"i\"], \"heap\": {}, \"stdout\": \"\", \"func_name\": \"<module>\", \"stack_to_render\": [], \"line\": 4, \"globals\": {\"i\": 165, \"x\": 165}, \"event\": \"step_line\"}, {\"ordered_globals\": [\"x\", \"i\"], \"heap\": {}, \"stdout\": \"\", \"func_name\": \"<module>\", \"stack_to_render\": [], \"line\": 3, \"globals\": {\"i\": 165, \"x\": 166}, \"event\": \"step_line\"}, {\"ordered_globals\": [\"x\", \"i\"], \"heap\": {}, \"stdout\": \"\", \"func_name\": \"<module>\", \"stack_to_render\": [], \"line\": 4, \"globals\": {\"i\": 166, \"x\": 166}, \"event\": \"step_line\"}, {\"ordered_globals\": [\"x\", \"i\"], \"heap\": {}, \"stdout\": \"\", \"func_name\": \"<module>\", \"stack_to_render\": [], \"line\": 3, \"globals\": {\"i\": 166, \"x\": 167}, \"event\": \"step_line\"}, {\"ordered_globals\": [\"x\", \"i\"], \"heap\": {}, \"stdout\": \"\", \"func_name\": \"<module>\", \"stack_to_render\": [], \"line\": 4, \"globals\": {\"i\": 167, \"x\": 167}, \"event\": \"step_line\"}, {\"ordered_globals\": [\"x\", \"i\"], \"heap\": {}, \"stdout\": \"\", \"func_name\": \"<module>\", \"stack_to_render\": [], \"line\": 3, \"globals\": {\"i\": 167, \"x\": 168}, \"event\": \"step_line\"}, {\"ordered_globals\": [\"x\", \"i\"], \"heap\": {}, \"stdout\": \"\", \"func_name\": \"<module>\", \"stack_to_render\": [], \"line\": 4, \"globals\": {\"i\": 168, \"x\": 168}, \"event\": \"step_line\"}, {\"ordered_globals\": [\"x\", \"i\"], \"heap\": {}, \"stdout\": \"\", \"func_name\": \"<module>\", \"stack_to_render\": [], \"line\": 3, \"globals\": {\"i\": 168, \"x\": 169}, \"event\": \"step_line\"}, {\"ordered_globals\": [\"x\", \"i\"], \"heap\": {}, \"stdout\": \"\", \"func_name\": \"<module>\", \"stack_to_render\": [], \"line\": 4, \"globals\": {\"i\": 169, \"x\": 169}, \"event\": \"step_line\"}, {\"ordered_globals\": [\"x\", \"i\"], \"heap\": {}, \"stdout\": \"\", \"func_name\": \"<module>\", \"stack_to_render\": [], \"line\": 3, \"globals\": {\"i\": 169, \"x\": 170}, \"event\": \"step_line\"}, {\"ordered_globals\": [\"x\", \"i\"], \"heap\": {}, \"stdout\": \"\", \"func_name\": \"<module>\", \"stack_to_render\": [], \"line\": 4, \"globals\": {\"i\": 170, \"x\": 170}, \"event\": \"step_line\"}, {\"ordered_globals\": [\"x\", \"i\"], \"heap\": {}, \"stdout\": \"\", \"func_name\": \"<module>\", \"stack_to_render\": [], \"line\": 3, \"globals\": {\"i\": 170, \"x\": 171}, \"event\": \"step_line\"}, {\"ordered_globals\": [\"x\", \"i\"], \"heap\": {}, \"stdout\": \"\", \"func_name\": \"<module>\", \"stack_to_render\": [], \"line\": 4, \"globals\": {\"i\": 171, \"x\": 171}, \"event\": \"step_line\"}, {\"ordered_globals\": [\"x\", \"i\"], \"heap\": {}, \"stdout\": \"\", \"func_name\": \"<module>\", \"stack_to_render\": [], \"line\": 3, \"globals\": {\"i\": 171, \"x\": 172}, \"event\": \"step_line\"}, {\"ordered_globals\": [\"x\", \"i\"], \"heap\": {}, \"stdout\": \"\", \"func_name\": \"<module>\", \"stack_to_render\": [], \"line\": 4, \"globals\": {\"i\": 172, \"x\": 172}, \"event\": \"step_line\"}, {\"ordered_globals\": [\"x\", \"i\"], \"heap\": {}, \"stdout\": \"\", \"func_name\": \"<module>\", \"stack_to_render\": [], \"line\": 3, \"globals\": {\"i\": 172, \"x\": 173}, \"event\": \"step_line\"}, {\"ordered_globals\": [\"x\", \"i\"], \"heap\": {}, \"stdout\": \"\", \"func_name\": \"<module>\", \"stack_to_render\": [], \"line\": 4, \"globals\": {\"i\": 173, \"x\": 173}, \"event\": \"step_line\"}, {\"ordered_globals\": [\"x\", \"i\"], \"heap\": {}, \"stdout\": \"\", \"func_name\": \"<module>\", \"stack_to_render\": [], \"line\": 3, \"globals\": {\"i\": 173, \"x\": 174}, \"event\": \"step_line\"}, {\"ordered_globals\": [\"x\", \"i\"], \"heap\": {}, \"stdout\": \"\", \"func_name\": \"<module>\", \"stack_to_render\": [], \"line\": 4, \"globals\": {\"i\": 174, \"x\": 174}, \"event\": \"step_line\"}, {\"ordered_globals\": [\"x\", \"i\"], \"heap\": {}, \"stdout\": \"\", \"func_name\": \"<module>\", \"stack_to_render\": [], \"line\": 3, \"globals\": {\"i\": 174, \"x\": 175}, \"event\": \"step_line\"}, {\"ordered_globals\": [\"x\", \"i\"], \"heap\": {}, \"stdout\": \"\", \"func_name\": \"<module>\", \"stack_to_render\": [], \"line\": 4, \"globals\": {\"i\": 175, \"x\": 175}, \"event\": \"step_line\"}, {\"ordered_globals\": [\"x\", \"i\"], \"heap\": {}, \"stdout\": \"\", \"func_name\": \"<module>\", \"stack_to_render\": [], \"line\": 3, \"globals\": {\"i\": 175, \"x\": 176}, \"event\": \"step_line\"}, {\"ordered_globals\": [\"x\", \"i\"], \"heap\": {}, \"stdout\": \"\", \"func_name\": \"<module>\", \"stack_to_render\": [], \"line\": 4, \"globals\": {\"i\": 176, \"x\": 176}, \"event\": \"step_line\"}, {\"ordered_globals\": [\"x\", \"i\"], \"heap\": {}, \"stdout\": \"\", \"func_name\": \"<module>\", \"stack_to_render\": [], \"line\": 3, \"globals\": {\"i\": 176, \"x\": 177}, \"event\": \"step_line\"}, {\"ordered_globals\": [\"x\", \"i\"], \"heap\": {}, \"stdout\": \"\", \"func_name\": \"<module>\", \"stack_to_render\": [], \"line\": 4, \"globals\": {\"i\": 177, \"x\": 177}, \"event\": \"step_line\"}, {\"ordered_globals\": [\"x\", \"i\"], \"heap\": {}, \"stdout\": \"\", \"func_name\": \"<module>\", \"stack_to_render\": [], \"line\": 3, \"globals\": {\"i\": 177, \"x\": 178}, \"event\": \"step_line\"}, {\"ordered_globals\": [\"x\", \"i\"], \"heap\": {}, \"stdout\": \"\", \"func_name\": \"<module>\", \"stack_to_render\": [], \"line\": 4, \"globals\": {\"i\": 178, \"x\": 178}, \"event\": \"step_line\"}, {\"ordered_globals\": [\"x\", \"i\"], \"heap\": {}, \"stdout\": \"\", \"func_name\": \"<module>\", \"stack_to_render\": [], \"line\": 3, \"globals\": {\"i\": 178, \"x\": 179}, \"event\": \"step_line\"}, {\"ordered_globals\": [\"x\", \"i\"], \"heap\": {}, \"stdout\": \"\", \"func_name\": \"<module>\", \"stack_to_render\": [], \"line\": 4, \"globals\": {\"i\": 179, \"x\": 179}, \"event\": \"step_line\"}, {\"ordered_globals\": [\"x\", \"i\"], \"heap\": {}, \"stdout\": \"\", \"func_name\": \"<module>\", \"stack_to_render\": [], \"line\": 3, \"globals\": {\"i\": 179, \"x\": 180}, \"event\": \"step_line\"}, {\"ordered_globals\": [\"x\", \"i\"], \"heap\": {}, \"stdout\": \"\", \"func_name\": \"<module>\", \"stack_to_render\": [], \"line\": 4, \"globals\": {\"i\": 180, \"x\": 180}, \"event\": \"step_line\"}, {\"ordered_globals\": [\"x\", \"i\"], \"heap\": {}, \"stdout\": \"\", \"func_name\": \"<module>\", \"stack_to_render\": [], \"line\": 3, \"globals\": {\"i\": 180, \"x\": 181}, \"event\": \"step_line\"}, {\"ordered_globals\": [\"x\", \"i\"], \"heap\": {}, \"stdout\": \"\", \"func_name\": \"<module>\", \"stack_to_render\": [], \"line\": 4, \"globals\": {\"i\": 181, \"x\": 181}, \"event\": \"step_line\"}, {\"ordered_globals\": [\"x\", \"i\"], \"heap\": {}, \"stdout\": \"\", \"func_name\": \"<module>\", \"stack_to_render\": [], \"line\": 3, \"globals\": {\"i\": 181, \"x\": 182}, \"event\": \"step_line\"}, {\"ordered_globals\": [\"x\", \"i\"], \"heap\": {}, \"stdout\": \"\", \"func_name\": \"<module>\", \"stack_to_render\": [], \"line\": 4, \"globals\": {\"i\": 182, \"x\": 182}, \"event\": \"step_line\"}, {\"ordered_globals\": [\"x\", \"i\"], \"heap\": {}, \"stdout\": \"\", \"func_name\": \"<module>\", \"stack_to_render\": [], \"line\": 3, \"globals\": {\"i\": 182, \"x\": 183}, \"event\": \"step_line\"}, {\"ordered_globals\": [\"x\", \"i\"], \"heap\": {}, \"stdout\": \"\", \"func_name\": \"<module>\", \"stack_to_render\": [], \"line\": 4, \"globals\": {\"i\": 183, \"x\": 183}, \"event\": \"step_line\"}, {\"ordered_globals\": [\"x\", \"i\"], \"heap\": {}, \"stdout\": \"\", \"func_name\": \"<module>\", \"stack_to_render\": [], \"line\": 3, \"globals\": {\"i\": 183, \"x\": 184}, \"event\": \"step_line\"}, {\"ordered_globals\": [\"x\", \"i\"], \"heap\": {}, \"stdout\": \"\", \"func_name\": \"<module>\", \"stack_to_render\": [], \"line\": 4, \"globals\": {\"i\": 184, \"x\": 184}, \"event\": \"step_line\"}, {\"ordered_globals\": [\"x\", \"i\"], \"heap\": {}, \"stdout\": \"\", \"func_name\": \"<module>\", \"stack_to_render\": [], \"line\": 3, \"globals\": {\"i\": 184, \"x\": 185}, \"event\": \"step_line\"}, {\"ordered_globals\": [\"x\", \"i\"], \"heap\": {}, \"stdout\": \"\", \"func_name\": \"<module>\", \"stack_to_render\": [], \"line\": 4, \"globals\": {\"i\": 185, \"x\": 185}, \"event\": \"step_line\"}, {\"ordered_globals\": [\"x\", \"i\"], \"heap\": {}, \"stdout\": \"\", \"func_name\": \"<module>\", \"stack_to_render\": [], \"line\": 3, \"globals\": {\"i\": 185, \"x\": 186}, \"event\": \"step_line\"}, {\"ordered_globals\": [\"x\", \"i\"], \"heap\": {}, \"stdout\": \"\", \"func_name\": \"<module>\", \"stack_to_render\": [], \"line\": 4, \"globals\": {\"i\": 186, \"x\": 186}, \"event\": \"step_line\"}, {\"ordered_globals\": [\"x\", \"i\"], \"heap\": {}, \"stdout\": \"\", \"func_name\": \"<module>\", \"stack_to_render\": [], \"line\": 3, \"globals\": {\"i\": 186, \"x\": 187}, \"event\": \"step_line\"}, {\"ordered_globals\": [\"x\", \"i\"], \"heap\": {}, \"stdout\": \"\", \"func_name\": \"<module>\", \"stack_to_render\": [], \"line\": 4, \"globals\": {\"i\": 187, \"x\": 187}, \"event\": \"step_line\"}, {\"ordered_globals\": [\"x\", \"i\"], \"heap\": {}, \"stdout\": \"\", \"func_name\": \"<module>\", \"stack_to_render\": [], \"line\": 3, \"globals\": {\"i\": 187, \"x\": 188}, \"event\": \"step_line\"}, {\"ordered_globals\": [\"x\", \"i\"], \"heap\": {}, \"stdout\": \"\", \"func_name\": \"<module>\", \"stack_to_render\": [], \"line\": 4, \"globals\": {\"i\": 188, \"x\": 188}, \"event\": \"step_line\"}, {\"ordered_globals\": [\"x\", \"i\"], \"heap\": {}, \"stdout\": \"\", \"func_name\": \"<module>\", \"stack_to_render\": [], \"line\": 3, \"globals\": {\"i\": 188, \"x\": 189}, \"event\": \"step_line\"}, {\"ordered_globals\": [\"x\", \"i\"], \"heap\": {}, \"stdout\": \"\", \"func_name\": \"<module>\", \"stack_to_render\": [], \"line\": 4, \"globals\": {\"i\": 189, \"x\": 189}, \"event\": \"step_line\"}, {\"ordered_globals\": [\"x\", \"i\"], \"heap\": {}, \"stdout\": \"\", \"func_name\": \"<module>\", \"stack_to_render\": [], \"line\": 3, \"globals\": {\"i\": 189, \"x\": 190}, \"event\": \"step_line\"}, {\"ordered_globals\": [\"x\", \"i\"], \"heap\": {}, \"stdout\": \"\", \"func_name\": \"<module>\", \"stack_to_render\": [], \"line\": 4, \"globals\": {\"i\": 190, \"x\": 190}, \"event\": \"step_line\"}, {\"ordered_globals\": [\"x\", \"i\"], \"heap\": {}, \"stdout\": \"\", \"func_name\": \"<module>\", \"stack_to_render\": [], \"line\": 3, \"globals\": {\"i\": 190, \"x\": 191}, \"event\": \"step_line\"}, {\"ordered_globals\": [\"x\", \"i\"], \"heap\": {}, \"stdout\": \"\", \"func_name\": \"<module>\", \"stack_to_render\": [], \"line\": 4, \"globals\": {\"i\": 191, \"x\": 191}, \"event\": \"step_line\"}, {\"ordered_globals\": [\"x\", \"i\"], \"heap\": {}, \"stdout\": \"\", \"func_name\": \"<module>\", \"stack_to_render\": [], \"line\": 3, \"globals\": {\"i\": 191, \"x\": 192}, \"event\": \"step_line\"}, {\"ordered_globals\": [\"x\", \"i\"], \"heap\": {}, \"stdout\": \"\", \"func_name\": \"<module>\", \"stack_to_render\": [], \"line\": 4, \"globals\": {\"i\": 192, \"x\": 192}, \"event\": \"step_line\"}, {\"ordered_globals\": [\"x\", \"i\"], \"heap\": {}, \"stdout\": \"\", \"func_name\": \"<module>\", \"stack_to_render\": [], \"line\": 3, \"globals\": {\"i\": 192, \"x\": 193}, \"event\": \"step_line\"}, {\"ordered_globals\": [\"x\", \"i\"], \"heap\": {}, \"stdout\": \"\", \"func_name\": \"<module>\", \"stack_to_render\": [], \"line\": 4, \"globals\": {\"i\": 193, \"x\": 193}, \"event\": \"step_line\"}, {\"ordered_globals\": [\"x\", \"i\"], \"heap\": {}, \"stdout\": \"\", \"func_name\": \"<module>\", \"stack_to_render\": [], \"line\": 3, \"globals\": {\"i\": 193, \"x\": 194}, \"event\": \"step_line\"}, {\"ordered_globals\": [\"x\", \"i\"], \"heap\": {}, \"stdout\": \"\", \"func_name\": \"<module>\", \"stack_to_render\": [], \"line\": 4, \"globals\": {\"i\": 194, \"x\": 194}, \"event\": \"step_line\"}, {\"ordered_globals\": [\"x\", \"i\"], \"heap\": {}, \"stdout\": \"\", \"func_name\": \"<module>\", \"stack_to_render\": [], \"line\": 3, \"globals\": {\"i\": 194, \"x\": 195}, \"event\": \"step_line\"}, {\"ordered_globals\": [\"x\", \"i\"], \"heap\": {}, \"stdout\": \"\", \"func_name\": \"<module>\", \"stack_to_render\": [], \"line\": 4, \"globals\": {\"i\": 195, \"x\": 195}, \"event\": \"step_line\"}, {\"ordered_globals\": [\"x\", \"i\"], \"heap\": {}, \"stdout\": \"\", \"func_name\": \"<module>\", \"stack_to_render\": [], \"line\": 3, \"globals\": {\"i\": 195, \"x\": 196}, \"event\": \"step_line\"}, {\"ordered_globals\": [\"x\", \"i\"], \"heap\": {}, \"stdout\": \"\", \"func_name\": \"<module>\", \"stack_to_render\": [], \"line\": 4, \"globals\": {\"i\": 196, \"x\": 196}, \"event\": \"step_line\"}, {\"ordered_globals\": [\"x\", \"i\"], \"heap\": {}, \"stdout\": \"\", \"func_name\": \"<module>\", \"stack_to_render\": [], \"line\": 3, \"globals\": {\"i\": 196, \"x\": 197}, \"event\": \"step_line\"}, {\"ordered_globals\": [\"x\", \"i\"], \"heap\": {}, \"stdout\": \"\", \"func_name\": \"<module>\", \"stack_to_render\": [], \"line\": 4, \"globals\": {\"i\": 197, \"x\": 197}, \"event\": \"step_line\"}, {\"ordered_globals\": [\"x\", \"i\"], \"heap\": {}, \"stdout\": \"\", \"func_name\": \"<module>\", \"stack_to_render\": [], \"line\": 3, \"globals\": {\"i\": 197, \"x\": 198}, \"event\": \"step_line\"}, {\"ordered_globals\": [\"x\", \"i\"], \"heap\": {}, \"stdout\": \"\", \"func_name\": \"<module>\", \"stack_to_render\": [], \"line\": 4, \"globals\": {\"i\": 198, \"x\": 198}, \"event\": \"step_line\"}, {\"ordered_globals\": [\"x\", \"i\"], \"heap\": {}, \"stdout\": \"\", \"func_name\": \"<module>\", \"stack_to_render\": [], \"line\": 3, \"globals\": {\"i\": 198, \"x\": 199}, \"event\": \"step_line\"}, {\"ordered_globals\": [\"x\", \"i\"], \"heap\": {}, \"stdout\": \"\", \"func_name\": \"<module>\", \"stack_to_render\": [], \"line\": 4, \"globals\": {\"i\": 199, \"x\": 199}, \"event\": \"step_line\"}, {\"ordered_globals\": [\"x\", \"i\"], \"heap\": {}, \"stdout\": \"\", \"func_name\": \"<module>\", \"stack_to_render\": [], \"line\": 3, \"globals\": {\"i\": 199, \"x\": 200}, \"event\": \"step_line\"}, {\"ordered_globals\": [\"x\", \"i\"], \"heap\": {}, \"stdout\": \"\", \"func_name\": \"<module>\", \"stack_to_render\": [], \"line\": 4, \"globals\": {\"i\": 200, \"x\": 200}, \"event\": \"step_line\"}, {\"ordered_globals\": [\"x\", \"i\"], \"heap\": {}, \"stdout\": \"\", \"func_name\": \"<module>\", \"stack_to_render\": [], \"line\": 3, \"globals\": {\"i\": 200, \"x\": 201}, \"event\": \"step_line\"}, {\"ordered_globals\": [\"x\", \"i\"], \"heap\": {}, \"stdout\": \"\", \"func_name\": \"<module>\", \"stack_to_render\": [], \"line\": 4, \"globals\": {\"i\": 201, \"x\": 201}, \"event\": \"step_line\"}, {\"ordered_globals\": [\"x\", \"i\"], \"heap\": {}, \"stdout\": \"\", \"func_name\": \"<module>\", \"stack_to_render\": [], \"line\": 3, \"globals\": {\"i\": 201, \"x\": 202}, \"event\": \"step_line\"}, {\"ordered_globals\": [\"x\", \"i\"], \"heap\": {}, \"stdout\": \"\", \"func_name\": \"<module>\", \"stack_to_render\": [], \"line\": 4, \"globals\": {\"i\": 202, \"x\": 202}, \"event\": \"step_line\"}, {\"ordered_globals\": [\"x\", \"i\"], \"heap\": {}, \"stdout\": \"\", \"func_name\": \"<module>\", \"stack_to_render\": [], \"line\": 3, \"globals\": {\"i\": 202, \"x\": 203}, \"event\": \"step_line\"}, {\"ordered_globals\": [\"x\", \"i\"], \"heap\": {}, \"stdout\": \"\", \"func_name\": \"<module>\", \"stack_to_render\": [], \"line\": 4, \"globals\": {\"i\": 203, \"x\": 203}, \"event\": \"step_line\"}, {\"ordered_globals\": [\"x\", \"i\"], \"heap\": {}, \"stdout\": \"\", \"func_name\": \"<module>\", \"stack_to_render\": [], \"line\": 3, \"globals\": {\"i\": 203, \"x\": 204}, \"event\": \"step_line\"}, {\"ordered_globals\": [\"x\", \"i\"], \"heap\": {}, \"stdout\": \"\", \"func_name\": \"<module>\", \"stack_to_render\": [], \"line\": 4, \"globals\": {\"i\": 204, \"x\": 204}, \"event\": \"step_line\"}, {\"ordered_globals\": [\"x\", \"i\"], \"heap\": {}, \"stdout\": \"\", \"func_name\": \"<module>\", \"stack_to_render\": [], \"line\": 3, \"globals\": {\"i\": 204, \"x\": 205}, \"event\": \"step_line\"}, {\"ordered_globals\": [\"x\", \"i\"], \"heap\": {}, \"stdout\": \"\", \"func_name\": \"<module>\", \"stack_to_render\": [], \"line\": 4, \"globals\": {\"i\": 205, \"x\": 205}, \"event\": \"step_line\"}, {\"ordered_globals\": [\"x\", \"i\"], \"heap\": {}, \"stdout\": \"\", \"func_name\": \"<module>\", \"stack_to_render\": [], \"line\": 3, \"globals\": {\"i\": 205, \"x\": 206}, \"event\": \"step_line\"}, {\"ordered_globals\": [\"x\", \"i\"], \"heap\": {}, \"stdout\": \"\", \"func_name\": \"<module>\", \"stack_to_render\": [], \"line\": 4, \"globals\": {\"i\": 206, \"x\": 206}, \"event\": \"step_line\"}, {\"ordered_globals\": [\"x\", \"i\"], \"heap\": {}, \"stdout\": \"\", \"func_name\": \"<module>\", \"stack_to_render\": [], \"line\": 3, \"globals\": {\"i\": 206, \"x\": 207}, \"event\": \"step_line\"}, {\"ordered_globals\": [\"x\", \"i\"], \"heap\": {}, \"stdout\": \"\", \"func_name\": \"<module>\", \"stack_to_render\": [], \"line\": 4, \"globals\": {\"i\": 207, \"x\": 207}, \"event\": \"step_line\"}, {\"ordered_globals\": [\"x\", \"i\"], \"heap\": {}, \"stdout\": \"\", \"func_name\": \"<module>\", \"stack_to_render\": [], \"line\": 3, \"globals\": {\"i\": 207, \"x\": 208}, \"event\": \"step_line\"}, {\"ordered_globals\": [\"x\", \"i\"], \"heap\": {}, \"stdout\": \"\", \"func_name\": \"<module>\", \"stack_to_render\": [], \"line\": 4, \"globals\": {\"i\": 208, \"x\": 208}, \"event\": \"step_line\"}, {\"ordered_globals\": [\"x\", \"i\"], \"heap\": {}, \"stdout\": \"\", \"func_name\": \"<module>\", \"stack_to_render\": [], \"line\": 3, \"globals\": {\"i\": 208, \"x\": 209}, \"event\": \"step_line\"}, {\"ordered_globals\": [\"x\", \"i\"], \"heap\": {}, \"stdout\": \"\", \"func_name\": \"<module>\", \"stack_to_render\": [], \"line\": 4, \"globals\": {\"i\": 209, \"x\": 209}, \"event\": \"step_line\"}, {\"ordered_globals\": [\"x\", \"i\"], \"heap\": {}, \"stdout\": \"\", \"func_name\": \"<module>\", \"stack_to_render\": [], \"line\": 3, \"globals\": {\"i\": 209, \"x\": 210}, \"event\": \"step_line\"}, {\"ordered_globals\": [\"x\", \"i\"], \"heap\": {}, \"stdout\": \"\", \"func_name\": \"<module>\", \"stack_to_render\": [], \"line\": 4, \"globals\": {\"i\": 210, \"x\": 210}, \"event\": \"step_line\"}, {\"ordered_globals\": [\"x\", \"i\"], \"heap\": {}, \"stdout\": \"\", \"func_name\": \"<module>\", \"stack_to_render\": [], \"line\": 3, \"globals\": {\"i\": 210, \"x\": 211}, \"event\": \"step_line\"}, {\"ordered_globals\": [\"x\", \"i\"], \"heap\": {}, \"stdout\": \"\", \"func_name\": \"<module>\", \"stack_to_render\": [], \"line\": 4, \"globals\": {\"i\": 211, \"x\": 211}, \"event\": \"step_line\"}, {\"ordered_globals\": [\"x\", \"i\"], \"heap\": {}, \"stdout\": \"\", \"func_name\": \"<module>\", \"stack_to_render\": [], \"line\": 3, \"globals\": {\"i\": 211, \"x\": 212}, \"event\": \"step_line\"}, {\"ordered_globals\": [\"x\", \"i\"], \"heap\": {}, \"stdout\": \"\", \"func_name\": \"<module>\", \"stack_to_render\": [], \"line\": 4, \"globals\": {\"i\": 212, \"x\": 212}, \"event\": \"step_line\"}, {\"ordered_globals\": [\"x\", \"i\"], \"heap\": {}, \"stdout\": \"\", \"func_name\": \"<module>\", \"stack_to_render\": [], \"line\": 3, \"globals\": {\"i\": 212, \"x\": 213}, \"event\": \"step_line\"}, {\"ordered_globals\": [\"x\", \"i\"], \"heap\": {}, \"stdout\": \"\", \"func_name\": \"<module>\", \"stack_to_render\": [], \"line\": 4, \"globals\": {\"i\": 213, \"x\": 213}, \"event\": \"step_line\"}, {\"ordered_globals\": [\"x\", \"i\"], \"heap\": {}, \"stdout\": \"\", \"func_name\": \"<module>\", \"stack_to_render\": [], \"line\": 3, \"globals\": {\"i\": 213, \"x\": 214}, \"event\": \"step_line\"}, {\"ordered_globals\": [\"x\", \"i\"], \"heap\": {}, \"stdout\": \"\", \"func_name\": \"<module>\", \"stack_to_render\": [], \"line\": 4, \"globals\": {\"i\": 214, \"x\": 214}, \"event\": \"step_line\"}, {\"ordered_globals\": [\"x\", \"i\"], \"heap\": {}, \"stdout\": \"\", \"func_name\": \"<module>\", \"stack_to_render\": [], \"line\": 3, \"globals\": {\"i\": 214, \"x\": 215}, \"event\": \"step_line\"}, {\"ordered_globals\": [\"x\", \"i\"], \"heap\": {}, \"stdout\": \"\", \"func_name\": \"<module>\", \"stack_to_render\": [], \"line\": 4, \"globals\": {\"i\": 215, \"x\": 215}, \"event\": \"step_line\"}, {\"ordered_globals\": [\"x\", \"i\"], \"heap\": {}, \"stdout\": \"\", \"func_name\": \"<module>\", \"stack_to_render\": [], \"line\": 3, \"globals\": {\"i\": 215, \"x\": 216}, \"event\": \"step_line\"}, {\"ordered_globals\": [\"x\", \"i\"], \"heap\": {}, \"stdout\": \"\", \"func_name\": \"<module>\", \"stack_to_render\": [], \"line\": 4, \"globals\": {\"i\": 216, \"x\": 216}, \"event\": \"step_line\"}, {\"ordered_globals\": [\"x\", \"i\"], \"heap\": {}, \"stdout\": \"\", \"func_name\": \"<module>\", \"stack_to_render\": [], \"line\": 3, \"globals\": {\"i\": 216, \"x\": 217}, \"event\": \"step_line\"}, {\"ordered_globals\": [\"x\", \"i\"], \"heap\": {}, \"stdout\": \"\", \"func_name\": \"<module>\", \"stack_to_render\": [], \"line\": 4, \"globals\": {\"i\": 217, \"x\": 217}, \"event\": \"step_line\"}, {\"ordered_globals\": [\"x\", \"i\"], \"heap\": {}, \"stdout\": \"\", \"func_name\": \"<module>\", \"stack_to_render\": [], \"line\": 3, \"globals\": {\"i\": 217, \"x\": 218}, \"event\": \"step_line\"}, {\"ordered_globals\": [\"x\", \"i\"], \"heap\": {}, \"stdout\": \"\", \"func_name\": \"<module>\", \"stack_to_render\": [], \"line\": 4, \"globals\": {\"i\": 218, \"x\": 218}, \"event\": \"step_line\"}, {\"ordered_globals\": [\"x\", \"i\"], \"heap\": {}, \"stdout\": \"\", \"func_name\": \"<module>\", \"stack_to_render\": [], \"line\": 3, \"globals\": {\"i\": 218, \"x\": 219}, \"event\": \"step_line\"}, {\"ordered_globals\": [\"x\", \"i\"], \"heap\": {}, \"stdout\": \"\", \"func_name\": \"<module>\", \"stack_to_render\": [], \"line\": 4, \"globals\": {\"i\": 219, \"x\": 219}, \"event\": \"step_line\"}, {\"ordered_globals\": [\"x\", \"i\"], \"heap\": {}, \"stdout\": \"\", \"func_name\": \"<module>\", \"stack_to_render\": [], \"line\": 3, \"globals\": {\"i\": 219, \"x\": 220}, \"event\": \"step_line\"}, {\"ordered_globals\": [\"x\", \"i\"], \"heap\": {}, \"stdout\": \"\", \"func_name\": \"<module>\", \"stack_to_render\": [], \"line\": 4, \"globals\": {\"i\": 220, \"x\": 220}, \"event\": \"step_line\"}, {\"ordered_globals\": [\"x\", \"i\"], \"heap\": {}, \"stdout\": \"\", \"func_name\": \"<module>\", \"stack_to_render\": [], \"line\": 3, \"globals\": {\"i\": 220, \"x\": 221}, \"event\": \"step_line\"}, {\"ordered_globals\": [\"x\", \"i\"], \"heap\": {}, \"stdout\": \"\", \"func_name\": \"<module>\", \"stack_to_render\": [], \"line\": 4, \"globals\": {\"i\": 221, \"x\": 221}, \"event\": \"step_line\"}, {\"ordered_globals\": [\"x\", \"i\"], \"heap\": {}, \"stdout\": \"\", \"func_name\": \"<module>\", \"stack_to_render\": [], \"line\": 3, \"globals\": {\"i\": 221, \"x\": 222}, \"event\": \"step_line\"}, {\"ordered_globals\": [\"x\", \"i\"], \"heap\": {}, \"stdout\": \"\", \"func_name\": \"<module>\", \"stack_to_render\": [], \"line\": 4, \"globals\": {\"i\": 222, \"x\": 222}, \"event\": \"step_line\"}, {\"ordered_globals\": [\"x\", \"i\"], \"heap\": {}, \"stdout\": \"\", \"func_name\": \"<module>\", \"stack_to_render\": [], \"line\": 3, \"globals\": {\"i\": 222, \"x\": 223}, \"event\": \"step_line\"}, {\"ordered_globals\": [\"x\", \"i\"], \"heap\": {}, \"stdout\": \"\", \"func_name\": \"<module>\", \"stack_to_render\": [], \"line\": 4, \"globals\": {\"i\": 223, \"x\": 223}, \"event\": \"step_line\"}, {\"ordered_globals\": [\"x\", \"i\"], \"heap\": {}, \"stdout\": \"\", \"func_name\": \"<module>\", \"stack_to_render\": [], \"line\": 3, \"globals\": {\"i\": 223, \"x\": 224}, \"event\": \"step_line\"}, {\"ordered_globals\": [\"x\", \"i\"], \"heap\": {}, \"stdout\": \"\", \"func_name\": \"<module>\", \"stack_to_render\": [], \"line\": 4, \"globals\": {\"i\": 224, \"x\": 224}, \"event\": \"step_line\"}, {\"ordered_globals\": [\"x\", \"i\"], \"heap\": {}, \"stdout\": \"\", \"func_name\": \"<module>\", \"stack_to_render\": [], \"line\": 3, \"globals\": {\"i\": 224, \"x\": 225}, \"event\": \"step_line\"}, {\"ordered_globals\": [\"x\", \"i\"], \"heap\": {}, \"stdout\": \"\", \"func_name\": \"<module>\", \"stack_to_render\": [], \"line\": 4, \"globals\": {\"i\": 225, \"x\": 225}, \"event\": \"step_line\"}, {\"ordered_globals\": [\"x\", \"i\"], \"heap\": {}, \"stdout\": \"\", \"func_name\": \"<module>\", \"stack_to_render\": [], \"line\": 3, \"globals\": {\"i\": 225, \"x\": 226}, \"event\": \"step_line\"}, {\"ordered_globals\": [\"x\", \"i\"], \"heap\": {}, \"stdout\": \"\", \"func_name\": \"<module>\", \"stack_to_render\": [], \"line\": 4, \"globals\": {\"i\": 226, \"x\": 226}, \"event\": \"step_line\"}, {\"ordered_globals\": [\"x\", \"i\"], \"heap\": {}, \"stdout\": \"\", \"func_name\": \"<module>\", \"stack_to_render\": [], \"line\": 3, \"globals\": {\"i\": 226, \"x\": 227}, \"event\": \"step_line\"}, {\"ordered_globals\": [\"x\", \"i\"], \"heap\": {}, \"stdout\": \"\", \"func_name\": \"<module>\", \"stack_to_render\": [], \"line\": 4, \"globals\": {\"i\": 227, \"x\": 227}, \"event\": \"step_line\"}, {\"ordered_globals\": [\"x\", \"i\"], \"heap\": {}, \"stdout\": \"\", \"func_name\": \"<module>\", \"stack_to_render\": [], \"line\": 3, \"globals\": {\"i\": 227, \"x\": 228}, \"event\": \"step_line\"}, {\"ordered_globals\": [\"x\", \"i\"], \"heap\": {}, \"stdout\": \"\", \"func_name\": \"<module>\", \"stack_to_render\": [], \"line\": 4, \"globals\": {\"i\": 228, \"x\": 228}, \"event\": \"step_line\"}, {\"ordered_globals\": [\"x\", \"i\"], \"heap\": {}, \"stdout\": \"\", \"func_name\": \"<module>\", \"stack_to_render\": [], \"line\": 3, \"globals\": {\"i\": 228, \"x\": 229}, \"event\": \"step_line\"}, {\"ordered_globals\": [\"x\", \"i\"], \"heap\": {}, \"stdout\": \"\", \"func_name\": \"<module>\", \"stack_to_render\": [], \"line\": 4, \"globals\": {\"i\": 229, \"x\": 229}, \"event\": \"step_line\"}, {\"ordered_globals\": [\"x\", \"i\"], \"heap\": {}, \"stdout\": \"\", \"func_name\": \"<module>\", \"stack_to_render\": [], \"line\": 3, \"globals\": {\"i\": 229, \"x\": 230}, \"event\": \"step_line\"}, {\"ordered_globals\": [\"x\", \"i\"], \"heap\": {}, \"stdout\": \"\", \"func_name\": \"<module>\", \"stack_to_render\": [], \"line\": 4, \"globals\": {\"i\": 230, \"x\": 230}, \"event\": \"step_line\"}, {\"ordered_globals\": [\"x\", \"i\"], \"heap\": {}, \"stdout\": \"\", \"func_name\": \"<module>\", \"stack_to_render\": [], \"line\": 3, \"globals\": {\"i\": 230, \"x\": 231}, \"event\": \"step_line\"}, {\"ordered_globals\": [\"x\", \"i\"], \"heap\": {}, \"stdout\": \"\", \"func_name\": \"<module>\", \"stack_to_render\": [], \"line\": 4, \"globals\": {\"i\": 231, \"x\": 231}, \"event\": \"step_line\"}, {\"ordered_globals\": [\"x\", \"i\"], \"heap\": {}, \"stdout\": \"\", \"func_name\": \"<module>\", \"stack_to_render\": [], \"line\": 3, \"globals\": {\"i\": 231, \"x\": 232}, \"event\": \"step_line\"}, {\"ordered_globals\": [\"x\", \"i\"], \"heap\": {}, \"stdout\": \"\", \"func_name\": \"<module>\", \"stack_to_render\": [], \"line\": 4, \"globals\": {\"i\": 232, \"x\": 232}, \"event\": \"step_line\"}, {\"ordered_globals\": [\"x\", \"i\"], \"heap\": {}, \"stdout\": \"\", \"func_name\": \"<module>\", \"stack_to_render\": [], \"line\": 3, \"globals\": {\"i\": 232, \"x\": 233}, \"event\": \"step_line\"}, {\"ordered_globals\": [\"x\", \"i\"], \"heap\": {}, \"stdout\": \"\", \"func_name\": \"<module>\", \"stack_to_render\": [], \"line\": 4, \"globals\": {\"i\": 233, \"x\": 233}, \"event\": \"step_line\"}, {\"ordered_globals\": [\"x\", \"i\"], \"heap\": {}, \"stdout\": \"\", \"func_name\": \"<module>\", \"stack_to_render\": [], \"line\": 3, \"globals\": {\"i\": 233, \"x\": 234}, \"event\": \"step_line\"}, {\"ordered_globals\": [\"x\", \"i\"], \"heap\": {}, \"stdout\": \"\", \"func_name\": \"<module>\", \"stack_to_render\": [], \"line\": 4, \"globals\": {\"i\": 234, \"x\": 234}, \"event\": \"step_line\"}, {\"ordered_globals\": [\"x\", \"i\"], \"heap\": {}, \"stdout\": \"\", \"func_name\": \"<module>\", \"stack_to_render\": [], \"line\": 3, \"globals\": {\"i\": 234, \"x\": 235}, \"event\": \"step_line\"}, {\"ordered_globals\": [\"x\", \"i\"], \"heap\": {}, \"stdout\": \"\", \"func_name\": \"<module>\", \"stack_to_render\": [], \"line\": 4, \"globals\": {\"i\": 235, \"x\": 235}, \"event\": \"step_line\"}, {\"ordered_globals\": [\"x\", \"i\"], \"heap\": {}, \"stdout\": \"\", \"func_name\": \"<module>\", \"stack_to_render\": [], \"line\": 3, \"globals\": {\"i\": 235, \"x\": 236}, \"event\": \"step_line\"}, {\"ordered_globals\": [\"x\", \"i\"], \"heap\": {}, \"stdout\": \"\", \"func_name\": \"<module>\", \"stack_to_render\": [], \"line\": 4, \"globals\": {\"i\": 236, \"x\": 236}, \"event\": \"step_line\"}, {\"ordered_globals\": [\"x\", \"i\"], \"heap\": {}, \"stdout\": \"\", \"func_name\": \"<module>\", \"stack_to_render\": [], \"line\": 3, \"globals\": {\"i\": 236, \"x\": 237}, \"event\": \"step_line\"}, {\"ordered_globals\": [\"x\", \"i\"], \"heap\": {}, \"stdout\": \"\", \"func_name\": \"<module>\", \"stack_to_render\": [], \"line\": 4, \"globals\": {\"i\": 237, \"x\": 237}, \"event\": \"step_line\"}, {\"ordered_globals\": [\"x\", \"i\"], \"heap\": {}, \"stdout\": \"\", \"func_name\": \"<module>\", \"stack_to_render\": [], \"line\": 3, \"globals\": {\"i\": 237, \"x\": 238}, \"event\": \"step_line\"}, {\"ordered_globals\": [\"x\", \"i\"], \"heap\": {}, \"stdout\": \"\", \"func_name\": \"<module>\", \"stack_to_render\": [], \"line\": 4, \"globals\": {\"i\": 238, \"x\": 238}, \"event\": \"step_line\"}, {\"ordered_globals\": [\"x\", \"i\"], \"heap\": {}, \"stdout\": \"\", \"func_name\": \"<module>\", \"stack_to_render\": [], \"line\": 3, \"globals\": {\"i\": 238, \"x\": 239}, \"event\": \"step_line\"}, {\"ordered_globals\": [\"x\", \"i\"], \"heap\": {}, \"stdout\": \"\", \"func_name\": \"<module>\", \"stack_to_render\": [], \"line\": 4, \"globals\": {\"i\": 239, \"x\": 239}, \"event\": \"step_line\"}, {\"ordered_globals\": [\"x\", \"i\"], \"heap\": {}, \"stdout\": \"\", \"func_name\": \"<module>\", \"stack_to_render\": [], \"line\": 3, \"globals\": {\"i\": 239, \"x\": 240}, \"event\": \"step_line\"}, {\"ordered_globals\": [\"x\", \"i\"], \"heap\": {}, \"stdout\": \"\", \"func_name\": \"<module>\", \"stack_to_render\": [], \"line\": 4, \"globals\": {\"i\": 240, \"x\": 240}, \"event\": \"step_line\"}, {\"ordered_globals\": [\"x\", \"i\"], \"heap\": {}, \"stdout\": \"\", \"func_name\": \"<module>\", \"stack_to_render\": [], \"line\": 3, \"globals\": {\"i\": 240, \"x\": 241}, \"event\": \"step_line\"}, {\"ordered_globals\": [\"x\", \"i\"], \"heap\": {}, \"stdout\": \"\", \"func_name\": \"<module>\", \"stack_to_render\": [], \"line\": 4, \"globals\": {\"i\": 241, \"x\": 241}, \"event\": \"step_line\"}, {\"ordered_globals\": [\"x\", \"i\"], \"heap\": {}, \"stdout\": \"\", \"func_name\": \"<module>\", \"stack_to_render\": [], \"line\": 3, \"globals\": {\"i\": 241, \"x\": 242}, \"event\": \"step_line\"}, {\"ordered_globals\": [\"x\", \"i\"], \"heap\": {}, \"stdout\": \"\", \"func_name\": \"<module>\", \"stack_to_render\": [], \"line\": 4, \"globals\": {\"i\": 242, \"x\": 242}, \"event\": \"step_line\"}, {\"ordered_globals\": [\"x\", \"i\"], \"heap\": {}, \"stdout\": \"\", \"func_name\": \"<module>\", \"stack_to_render\": [], \"line\": 3, \"globals\": {\"i\": 242, \"x\": 243}, \"event\": \"step_line\"}, {\"ordered_globals\": [\"x\", \"i\"], \"heap\": {}, \"stdout\": \"\", \"func_name\": \"<module>\", \"stack_to_render\": [], \"line\": 4, \"globals\": {\"i\": 243, \"x\": 243}, \"event\": \"step_line\"}, {\"ordered_globals\": [\"x\", \"i\"], \"heap\": {}, \"stdout\": \"\", \"func_name\": \"<module>\", \"stack_to_render\": [], \"line\": 3, \"globals\": {\"i\": 243, \"x\": 244}, \"event\": \"step_line\"}, {\"ordered_globals\": [\"x\", \"i\"], \"heap\": {}, \"stdout\": \"\", \"func_name\": \"<module>\", \"stack_to_render\": [], \"line\": 4, \"globals\": {\"i\": 244, \"x\": 244}, \"event\": \"step_line\"}, {\"ordered_globals\": [\"x\", \"i\"], \"heap\": {}, \"stdout\": \"\", \"func_name\": \"<module>\", \"stack_to_render\": [], \"line\": 3, \"globals\": {\"i\": 244, \"x\": 245}, \"event\": \"step_line\"}, {\"ordered_globals\": [\"x\", \"i\"], \"heap\": {}, \"stdout\": \"\", \"func_name\": \"<module>\", \"stack_to_render\": [], \"line\": 4, \"globals\": {\"i\": 245, \"x\": 245}, \"event\": \"step_line\"}, {\"ordered_globals\": [\"x\", \"i\"], \"heap\": {}, \"stdout\": \"\", \"func_name\": \"<module>\", \"stack_to_render\": [], \"line\": 3, \"globals\": {\"i\": 245, \"x\": 246}, \"event\": \"step_line\"}, {\"ordered_globals\": [\"x\", \"i\"], \"heap\": {}, \"stdout\": \"\", \"func_name\": \"<module>\", \"stack_to_render\": [], \"line\": 4, \"globals\": {\"i\": 246, \"x\": 246}, \"event\": \"step_line\"}, {\"ordered_globals\": [\"x\", \"i\"], \"heap\": {}, \"stdout\": \"\", \"func_name\": \"<module>\", \"stack_to_render\": [], \"line\": 3, \"globals\": {\"i\": 246, \"x\": 247}, \"event\": \"step_line\"}, {\"ordered_globals\": [\"x\", \"i\"], \"heap\": {}, \"stdout\": \"\", \"func_name\": \"<module>\", \"stack_to_render\": [], \"line\": 4, \"globals\": {\"i\": 247, \"x\": 247}, \"event\": \"step_line\"}, {\"ordered_globals\": [\"x\", \"i\"], \"heap\": {}, \"stdout\": \"\", \"func_name\": \"<module>\", \"stack_to_render\": [], \"line\": 3, \"globals\": {\"i\": 247, \"x\": 248}, \"event\": \"step_line\"}, {\"ordered_globals\": [\"x\", \"i\"], \"heap\": {}, \"stdout\": \"\", \"func_name\": \"<module>\", \"stack_to_render\": [], \"line\": 4, \"globals\": {\"i\": 248, \"x\": 248}, \"event\": \"step_line\"}, {\"ordered_globals\": [\"x\", \"i\"], \"heap\": {}, \"stdout\": \"\", \"func_name\": \"<module>\", \"stack_to_render\": [], \"line\": 3, \"globals\": {\"i\": 248, \"x\": 249}, \"event\": \"step_line\"}, {\"ordered_globals\": [\"x\", \"i\"], \"heap\": {}, \"stdout\": \"\", \"func_name\": \"<module>\", \"stack_to_render\": [], \"line\": 4, \"globals\": {\"i\": 249, \"x\": 249}, \"event\": \"step_line\"}, {\"ordered_globals\": [\"x\", \"i\"], \"heap\": {}, \"stdout\": \"\", \"func_name\": \"<module>\", \"stack_to_render\": [], \"line\": 3, \"globals\": {\"i\": 249, \"x\": 250}, \"event\": \"step_line\"}, {\"ordered_globals\": [\"x\", \"i\"], \"heap\": {}, \"stdout\": \"\", \"func_name\": \"<module>\", \"stack_to_render\": [], \"line\": 4, \"globals\": {\"i\": 250, \"x\": 250}, \"event\": \"step_line\"}, {\"ordered_globals\": [\"x\", \"i\"], \"heap\": {}, \"stdout\": \"\", \"func_name\": \"<module>\", \"stack_to_render\": [], \"line\": 3, \"globals\": {\"i\": 250, \"x\": 251}, \"event\": \"step_line\"}, {\"ordered_globals\": [\"x\", \"i\"], \"heap\": {}, \"stdout\": \"\", \"func_name\": \"<module>\", \"stack_to_render\": [], \"line\": 4, \"globals\": {\"i\": 251, \"x\": 251}, \"event\": \"step_line\"}, {\"ordered_globals\": [\"x\", \"i\"], \"heap\": {}, \"stdout\": \"\", \"func_name\": \"<module>\", \"stack_to_render\": [], \"line\": 3, \"globals\": {\"i\": 251, \"x\": 252}, \"event\": \"step_line\"}, {\"ordered_globals\": [\"x\", \"i\"], \"heap\": {}, \"stdout\": \"\", \"func_name\": \"<module>\", \"stack_to_render\": [], \"line\": 4, \"globals\": {\"i\": 252, \"x\": 252}, \"event\": \"step_line\"}, {\"ordered_globals\": [\"x\", \"i\"], \"heap\": {}, \"stdout\": \"\", \"func_name\": \"<module>\", \"stack_to_render\": [], \"line\": 3, \"globals\": {\"i\": 252, \"x\": 253}, \"event\": \"step_line\"}, {\"ordered_globals\": [\"x\", \"i\"], \"heap\": {}, \"stdout\": \"\", \"func_name\": \"<module>\", \"stack_to_render\": [], \"line\": 4, \"globals\": {\"i\": 253, \"x\": 253}, \"event\": \"step_line\"}, {\"ordered_globals\": [\"x\", \"i\"], \"heap\": {}, \"stdout\": \"\", \"func_name\": \"<module>\", \"stack_to_render\": [], \"line\": 3, \"globals\": {\"i\": 253, \"x\": 254}, \"event\": \"step_line\"}, {\"ordered_globals\": [\"x\", \"i\"], \"heap\": {}, \"stdout\": \"\", \"func_name\": \"<module>\", \"stack_to_render\": [], \"line\": 4, \"globals\": {\"i\": 254, \"x\": 254}, \"event\": \"step_line\"}, {\"ordered_globals\": [\"x\", \"i\"], \"heap\": {}, \"stdout\": \"\", \"func_name\": \"<module>\", \"stack_to_render\": [], \"line\": 3, \"globals\": {\"i\": 254, \"x\": 255}, \"event\": \"step_line\"}, {\"ordered_globals\": [\"x\", \"i\"], \"heap\": {}, \"stdout\": \"\", \"func_name\": \"<module>\", \"stack_to_render\": [], \"line\": 4, \"globals\": {\"i\": 255, \"x\": 255}, \"event\": \"step_line\"}, {\"ordered_globals\": [\"x\", \"i\"], \"heap\": {}, \"stdout\": \"\", \"func_name\": \"<module>\", \"stack_to_render\": [], \"line\": 3, \"globals\": {\"i\": 255, \"x\": 256}, \"event\": \"step_line\"}, {\"ordered_globals\": [\"x\", \"i\"], \"heap\": {}, \"stdout\": \"\", \"func_name\": \"<module>\", \"stack_to_render\": [], \"line\": 4, \"globals\": {\"i\": 256, \"x\": 256}, \"event\": \"step_line\"}, {\"ordered_globals\": [\"x\", \"i\"], \"heap\": {}, \"stdout\": \"\", \"func_name\": \"<module>\", \"stack_to_render\": [], \"line\": 3, \"globals\": {\"i\": 256, \"x\": 257}, \"event\": \"step_line\"}, {\"ordered_globals\": [\"x\", \"i\"], \"heap\": {}, \"stdout\": \"\", \"func_name\": \"<module>\", \"stack_to_render\": [], \"line\": 4, \"globals\": {\"i\": 257, \"x\": 257}, \"event\": \"step_line\"}, {\"ordered_globals\": [\"x\", \"i\"], \"heap\": {}, \"stdout\": \"\", \"func_name\": \"<module>\", \"stack_to_render\": [], \"line\": 3, \"globals\": {\"i\": 257, \"x\": 258}, \"event\": \"step_line\"}, {\"ordered_globals\": [\"x\", \"i\"], \"heap\": {}, \"stdout\": \"\", \"func_name\": \"<module>\", \"stack_to_render\": [], \"line\": 4, \"globals\": {\"i\": 258, \"x\": 258}, \"event\": \"step_line\"}, {\"ordered_globals\": [\"x\", \"i\"], \"heap\": {}, \"stdout\": \"\", \"func_name\": \"<module>\", \"stack_to_render\": [], \"line\": 3, \"globals\": {\"i\": 258, \"x\": 259}, \"event\": \"step_line\"}, {\"ordered_globals\": [\"x\", \"i\"], \"heap\": {}, \"stdout\": \"\", \"func_name\": \"<module>\", \"stack_to_render\": [], \"line\": 4, \"globals\": {\"i\": 259, \"x\": 259}, \"event\": \"step_line\"}, {\"ordered_globals\": [\"x\", \"i\"], \"heap\": {}, \"stdout\": \"\", \"func_name\": \"<module>\", \"stack_to_render\": [], \"line\": 3, \"globals\": {\"i\": 259, \"x\": 260}, \"event\": \"step_line\"}, {\"ordered_globals\": [\"x\", \"i\"], \"heap\": {}, \"stdout\": \"\", \"func_name\": \"<module>\", \"stack_to_render\": [], \"line\": 4, \"globals\": {\"i\": 260, \"x\": 260}, \"event\": \"step_line\"}, {\"ordered_globals\": [\"x\", \"i\"], \"heap\": {}, \"stdout\": \"\", \"func_name\": \"<module>\", \"stack_to_render\": [], \"line\": 3, \"globals\": {\"i\": 260, \"x\": 261}, \"event\": \"step_line\"}, {\"ordered_globals\": [\"x\", \"i\"], \"heap\": {}, \"stdout\": \"\", \"func_name\": \"<module>\", \"stack_to_render\": [], \"line\": 4, \"globals\": {\"i\": 261, \"x\": 261}, \"event\": \"step_line\"}, {\"ordered_globals\": [\"x\", \"i\"], \"heap\": {}, \"stdout\": \"\", \"func_name\": \"<module>\", \"stack_to_render\": [], \"line\": 3, \"globals\": {\"i\": 261, \"x\": 262}, \"event\": \"step_line\"}, {\"ordered_globals\": [\"x\", \"i\"], \"heap\": {}, \"stdout\": \"\", \"func_name\": \"<module>\", \"stack_to_render\": [], \"line\": 4, \"globals\": {\"i\": 262, \"x\": 262}, \"event\": \"step_line\"}, {\"ordered_globals\": [\"x\", \"i\"], \"heap\": {}, \"stdout\": \"\", \"func_name\": \"<module>\", \"stack_to_render\": [], \"line\": 3, \"globals\": {\"i\": 262, \"x\": 263}, \"event\": \"step_line\"}, {\"ordered_globals\": [\"x\", \"i\"], \"heap\": {}, \"stdout\": \"\", \"func_name\": \"<module>\", \"stack_to_render\": [], \"line\": 4, \"globals\": {\"i\": 263, \"x\": 263}, \"event\": \"step_line\"}, {\"ordered_globals\": [\"x\", \"i\"], \"heap\": {}, \"stdout\": \"\", \"func_name\": \"<module>\", \"stack_to_render\": [], \"line\": 3, \"globals\": {\"i\": 263, \"x\": 264}, \"event\": \"step_line\"}, {\"ordered_globals\": [\"x\", \"i\"], \"heap\": {}, \"stdout\": \"\", \"func_name\": \"<module>\", \"stack_to_render\": [], \"line\": 4, \"globals\": {\"i\": 264, \"x\": 264}, \"event\": \"step_line\"}, {\"ordered_globals\": [\"x\", \"i\"], \"heap\": {}, \"stdout\": \"\", \"func_name\": \"<module>\", \"stack_to_render\": [], \"line\": 3, \"globals\": {\"i\": 264, \"x\": 265}, \"event\": \"step_line\"}, {\"ordered_globals\": [\"x\", \"i\"], \"heap\": {}, \"stdout\": \"\", \"func_name\": \"<module>\", \"stack_to_render\": [], \"line\": 4, \"globals\": {\"i\": 265, \"x\": 265}, \"event\": \"step_line\"}, {\"ordered_globals\": [\"x\", \"i\"], \"heap\": {}, \"stdout\": \"\", \"func_name\": \"<module>\", \"stack_to_render\": [], \"line\": 3, \"globals\": {\"i\": 265, \"x\": 266}, \"event\": \"step_line\"}, {\"ordered_globals\": [\"x\", \"i\"], \"heap\": {}, \"stdout\": \"\", \"func_name\": \"<module>\", \"stack_to_render\": [], \"line\": 4, \"globals\": {\"i\": 266, \"x\": 266}, \"event\": \"step_line\"}, {\"ordered_globals\": [\"x\", \"i\"], \"heap\": {}, \"stdout\": \"\", \"func_name\": \"<module>\", \"stack_to_render\": [], \"line\": 3, \"globals\": {\"i\": 266, \"x\": 267}, \"event\": \"step_line\"}, {\"ordered_globals\": [\"x\", \"i\"], \"heap\": {}, \"stdout\": \"\", \"func_name\": \"<module>\", \"stack_to_render\": [], \"line\": 4, \"globals\": {\"i\": 267, \"x\": 267}, \"event\": \"step_line\"}, {\"ordered_globals\": [\"x\", \"i\"], \"heap\": {}, \"stdout\": \"\", \"func_name\": \"<module>\", \"stack_to_render\": [], \"line\": 3, \"globals\": {\"i\": 267, \"x\": 268}, \"event\": \"step_line\"}, {\"ordered_globals\": [\"x\", \"i\"], \"heap\": {}, \"stdout\": \"\", \"func_name\": \"<module>\", \"stack_to_render\": [], \"line\": 4, \"globals\": {\"i\": 268, \"x\": 268}, \"event\": \"step_line\"}, {\"ordered_globals\": [\"x\", \"i\"], \"heap\": {}, \"stdout\": \"\", \"func_name\": \"<module>\", \"stack_to_render\": [], \"line\": 3, \"globals\": {\"i\": 268, \"x\": 269}, \"event\": \"step_line\"}, {\"ordered_globals\": [\"x\", \"i\"], \"heap\": {}, \"stdout\": \"\", \"func_name\": \"<module>\", \"stack_to_render\": [], \"line\": 4, \"globals\": {\"i\": 269, \"x\": 269}, \"event\": \"step_line\"}, {\"ordered_globals\": [\"x\", \"i\"], \"heap\": {}, \"stdout\": \"\", \"func_name\": \"<module>\", \"stack_to_render\": [], \"line\": 3, \"globals\": {\"i\": 269, \"x\": 270}, \"event\": \"step_line\"}, {\"ordered_globals\": [\"x\", \"i\"], \"heap\": {}, \"stdout\": \"\", \"func_name\": \"<module>\", \"stack_to_render\": [], \"line\": 4, \"globals\": {\"i\": 270, \"x\": 270}, \"event\": \"step_line\"}, {\"ordered_globals\": [\"x\", \"i\"], \"heap\": {}, \"stdout\": \"\", \"func_name\": \"<module>\", \"stack_to_render\": [], \"line\": 3, \"globals\": {\"i\": 270, \"x\": 271}, \"event\": \"step_line\"}, {\"ordered_globals\": [\"x\", \"i\"], \"heap\": {}, \"stdout\": \"\", \"func_name\": \"<module>\", \"stack_to_render\": [], \"line\": 4, \"globals\": {\"i\": 271, \"x\": 271}, \"event\": \"step_line\"}, {\"ordered_globals\": [\"x\", \"i\"], \"heap\": {}, \"stdout\": \"\", \"func_name\": \"<module>\", \"stack_to_render\": [], \"line\": 3, \"globals\": {\"i\": 271, \"x\": 272}, \"event\": \"step_line\"}, {\"ordered_globals\": [\"x\", \"i\"], \"heap\": {}, \"stdout\": \"\", \"func_name\": \"<module>\", \"stack_to_render\": [], \"line\": 4, \"globals\": {\"i\": 272, \"x\": 272}, \"event\": \"step_line\"}, {\"ordered_globals\": [\"x\", \"i\"], \"heap\": {}, \"stdout\": \"\", \"func_name\": \"<module>\", \"stack_to_render\": [], \"line\": 3, \"globals\": {\"i\": 272, \"x\": 273}, \"event\": \"step_line\"}, {\"ordered_globals\": [\"x\", \"i\"], \"heap\": {}, \"stdout\": \"\", \"func_name\": \"<module>\", \"stack_to_render\": [], \"line\": 4, \"globals\": {\"i\": 273, \"x\": 273}, \"event\": \"step_line\"}, {\"ordered_globals\": [\"x\", \"i\"], \"heap\": {}, \"stdout\": \"\", \"func_name\": \"<module>\", \"stack_to_render\": [], \"line\": 3, \"globals\": {\"i\": 273, \"x\": 274}, \"event\": \"step_line\"}, {\"ordered_globals\": [\"x\", \"i\"], \"heap\": {}, \"stdout\": \"\", \"func_name\": \"<module>\", \"stack_to_render\": [], \"line\": 4, \"globals\": {\"i\": 274, \"x\": 274}, \"event\": \"step_line\"}, {\"ordered_globals\": [\"x\", \"i\"], \"heap\": {}, \"stdout\": \"\", \"func_name\": \"<module>\", \"stack_to_render\": [], \"line\": 3, \"globals\": {\"i\": 274, \"x\": 275}, \"event\": \"step_line\"}, {\"ordered_globals\": [\"x\", \"i\"], \"heap\": {}, \"stdout\": \"\", \"func_name\": \"<module>\", \"stack_to_render\": [], \"line\": 4, \"globals\": {\"i\": 275, \"x\": 275}, \"event\": \"step_line\"}, {\"ordered_globals\": [\"x\", \"i\"], \"heap\": {}, \"stdout\": \"\", \"func_name\": \"<module>\", \"stack_to_render\": [], \"line\": 3, \"globals\": {\"i\": 275, \"x\": 276}, \"event\": \"step_line\"}, {\"ordered_globals\": [\"x\", \"i\"], \"heap\": {}, \"stdout\": \"\", \"func_name\": \"<module>\", \"stack_to_render\": [], \"line\": 4, \"globals\": {\"i\": 276, \"x\": 276}, \"event\": \"step_line\"}, {\"ordered_globals\": [\"x\", \"i\"], \"heap\": {}, \"stdout\": \"\", \"func_name\": \"<module>\", \"stack_to_render\": [], \"line\": 3, \"globals\": {\"i\": 276, \"x\": 277}, \"event\": \"step_line\"}, {\"ordered_globals\": [\"x\", \"i\"], \"heap\": {}, \"stdout\": \"\", \"func_name\": \"<module>\", \"stack_to_render\": [], \"line\": 4, \"globals\": {\"i\": 277, \"x\": 277}, \"event\": \"step_line\"}, {\"ordered_globals\": [\"x\", \"i\"], \"heap\": {}, \"stdout\": \"\", \"func_name\": \"<module>\", \"stack_to_render\": [], \"line\": 3, \"globals\": {\"i\": 277, \"x\": 278}, \"event\": \"step_line\"}, {\"ordered_globals\": [\"x\", \"i\"], \"heap\": {}, \"stdout\": \"\", \"func_name\": \"<module>\", \"stack_to_render\": [], \"line\": 4, \"globals\": {\"i\": 278, \"x\": 278}, \"event\": \"step_line\"}, {\"ordered_globals\": [\"x\", \"i\"], \"heap\": {}, \"stdout\": \"\", \"func_name\": \"<module>\", \"stack_to_render\": [], \"line\": 3, \"globals\": {\"i\": 278, \"x\": 279}, \"event\": \"step_line\"}, {\"ordered_globals\": [\"x\", \"i\"], \"heap\": {}, \"stdout\": \"\", \"func_name\": \"<module>\", \"stack_to_render\": [], \"line\": 4, \"globals\": {\"i\": 279, \"x\": 279}, \"event\": \"step_line\"}, {\"ordered_globals\": [\"x\", \"i\"], \"heap\": {}, \"stdout\": \"\", \"func_name\": \"<module>\", \"stack_to_render\": [], \"line\": 3, \"globals\": {\"i\": 279, \"x\": 280}, \"event\": \"step_line\"}, {\"ordered_globals\": [\"x\", \"i\"], \"heap\": {}, \"stdout\": \"\", \"func_name\": \"<module>\", \"stack_to_render\": [], \"line\": 4, \"globals\": {\"i\": 280, \"x\": 280}, \"event\": \"step_line\"}, {\"ordered_globals\": [\"x\", \"i\"], \"heap\": {}, \"stdout\": \"\", \"func_name\": \"<module>\", \"stack_to_render\": [], \"line\": 3, \"globals\": {\"i\": 280, \"x\": 281}, \"event\": \"step_line\"}, {\"ordered_globals\": [\"x\", \"i\"], \"heap\": {}, \"stdout\": \"\", \"func_name\": \"<module>\", \"stack_to_render\": [], \"line\": 4, \"globals\": {\"i\": 281, \"x\": 281}, \"event\": \"step_line\"}, {\"ordered_globals\": [\"x\", \"i\"], \"heap\": {}, \"stdout\": \"\", \"func_name\": \"<module>\", \"stack_to_render\": [], \"line\": 3, \"globals\": {\"i\": 281, \"x\": 282}, \"event\": \"step_line\"}, {\"ordered_globals\": [\"x\", \"i\"], \"heap\": {}, \"stdout\": \"\", \"func_name\": \"<module>\", \"stack_to_render\": [], \"line\": 4, \"globals\": {\"i\": 282, \"x\": 282}, \"event\": \"step_line\"}, {\"ordered_globals\": [\"x\", \"i\"], \"heap\": {}, \"stdout\": \"\", \"func_name\": \"<module>\", \"stack_to_render\": [], \"line\": 3, \"globals\": {\"i\": 282, \"x\": 283}, \"event\": \"step_line\"}, {\"ordered_globals\": [\"x\", \"i\"], \"heap\": {}, \"stdout\": \"\", \"func_name\": \"<module>\", \"stack_to_render\": [], \"line\": 4, \"globals\": {\"i\": 283, \"x\": 283}, \"event\": \"step_line\"}, {\"ordered_globals\": [\"x\", \"i\"], \"heap\": {}, \"stdout\": \"\", \"func_name\": \"<module>\", \"stack_to_render\": [], \"line\": 3, \"globals\": {\"i\": 283, \"x\": 284}, \"event\": \"step_line\"}, {\"ordered_globals\": [\"x\", \"i\"], \"heap\": {}, \"stdout\": \"\", \"func_name\": \"<module>\", \"stack_to_render\": [], \"line\": 4, \"globals\": {\"i\": 284, \"x\": 284}, \"event\": \"step_line\"}, {\"ordered_globals\": [\"x\", \"i\"], \"heap\": {}, \"stdout\": \"\", \"func_name\": \"<module>\", \"stack_to_render\": [], \"line\": 3, \"globals\": {\"i\": 284, \"x\": 285}, \"event\": \"step_line\"}, {\"ordered_globals\": [\"x\", \"i\"], \"heap\": {}, \"stdout\": \"\", \"func_name\": \"<module>\", \"stack_to_render\": [], \"line\": 4, \"globals\": {\"i\": 285, \"x\": 285}, \"event\": \"step_line\"}, {\"ordered_globals\": [\"x\", \"i\"], \"heap\": {}, \"stdout\": \"\", \"func_name\": \"<module>\", \"stack_to_render\": [], \"line\": 3, \"globals\": {\"i\": 285, \"x\": 286}, \"event\": \"step_line\"}, {\"ordered_globals\": [\"x\", \"i\"], \"heap\": {}, \"stdout\": \"\", \"func_name\": \"<module>\", \"stack_to_render\": [], \"line\": 4, \"globals\": {\"i\": 286, \"x\": 286}, \"event\": \"step_line\"}, {\"ordered_globals\": [\"x\", \"i\"], \"heap\": {}, \"stdout\": \"\", \"func_name\": \"<module>\", \"stack_to_render\": [], \"line\": 3, \"globals\": {\"i\": 286, \"x\": 287}, \"event\": \"step_line\"}, {\"ordered_globals\": [\"x\", \"i\"], \"heap\": {}, \"stdout\": \"\", \"func_name\": \"<module>\", \"stack_to_render\": [], \"line\": 4, \"globals\": {\"i\": 287, \"x\": 287}, \"event\": \"step_line\"}, {\"ordered_globals\": [\"x\", \"i\"], \"heap\": {}, \"stdout\": \"\", \"func_name\": \"<module>\", \"stack_to_render\": [], \"line\": 3, \"globals\": {\"i\": 287, \"x\": 288}, \"event\": \"step_line\"}, {\"ordered_globals\": [\"x\", \"i\"], \"heap\": {}, \"stdout\": \"\", \"func_name\": \"<module>\", \"stack_to_render\": [], \"line\": 4, \"globals\": {\"i\": 288, \"x\": 288}, \"event\": \"step_line\"}, {\"ordered_globals\": [\"x\", \"i\"], \"heap\": {}, \"stdout\": \"\", \"func_name\": \"<module>\", \"stack_to_render\": [], \"line\": 3, \"globals\": {\"i\": 288, \"x\": 289}, \"event\": \"step_line\"}, {\"ordered_globals\": [\"x\", \"i\"], \"heap\": {}, \"stdout\": \"\", \"func_name\": \"<module>\", \"stack_to_render\": [], \"line\": 4, \"globals\": {\"i\": 289, \"x\": 289}, \"event\": \"step_line\"}, {\"ordered_globals\": [\"x\", \"i\"], \"heap\": {}, \"stdout\": \"\", \"func_name\": \"<module>\", \"stack_to_render\": [], \"line\": 3, \"globals\": {\"i\": 289, \"x\": 290}, \"event\": \"step_line\"}, {\"ordered_globals\": [\"x\", \"i\"], \"heap\": {}, \"stdout\": \"\", \"func_name\": \"<module>\", \"stack_to_render\": [], \"line\": 4, \"globals\": {\"i\": 290, \"x\": 290}, \"event\": \"step_line\"}, {\"ordered_globals\": [\"x\", \"i\"], \"heap\": {}, \"stdout\": \"\", \"func_name\": \"<module>\", \"stack_to_render\": [], \"line\": 3, \"globals\": {\"i\": 290, \"x\": 291}, \"event\": \"step_line\"}, {\"ordered_globals\": [\"x\", \"i\"], \"heap\": {}, \"stdout\": \"\", \"func_name\": \"<module>\", \"stack_to_render\": [], \"line\": 4, \"globals\": {\"i\": 291, \"x\": 291}, \"event\": \"step_line\"}, {\"ordered_globals\": [\"x\", \"i\"], \"heap\": {}, \"stdout\": \"\", \"func_name\": \"<module>\", \"stack_to_render\": [], \"line\": 3, \"globals\": {\"i\": 291, \"x\": 292}, \"event\": \"step_line\"}, {\"ordered_globals\": [\"x\", \"i\"], \"heap\": {}, \"stdout\": \"\", \"func_name\": \"<module>\", \"stack_to_render\": [], \"line\": 4, \"globals\": {\"i\": 292, \"x\": 292}, \"event\": \"step_line\"}, {\"ordered_globals\": [\"x\", \"i\"], \"heap\": {}, \"stdout\": \"\", \"func_name\": \"<module>\", \"stack_to_render\": [], \"line\": 3, \"globals\": {\"i\": 292, \"x\": 293}, \"event\": \"step_line\"}, {\"ordered_globals\": [\"x\", \"i\"], \"heap\": {}, \"stdout\": \"\", \"func_name\": \"<module>\", \"stack_to_render\": [], \"line\": 4, \"globals\": {\"i\": 293, \"x\": 293}, \"event\": \"step_line\"}, {\"ordered_globals\": [\"x\", \"i\"], \"heap\": {}, \"stdout\": \"\", \"func_name\": \"<module>\", \"stack_to_render\": [], \"line\": 3, \"globals\": {\"i\": 293, \"x\": 294}, \"event\": \"step_line\"}, {\"ordered_globals\": [\"x\", \"i\"], \"heap\": {}, \"stdout\": \"\", \"func_name\": \"<module>\", \"stack_to_render\": [], \"line\": 4, \"globals\": {\"i\": 294, \"x\": 294}, \"event\": \"step_line\"}, {\"ordered_globals\": [\"x\", \"i\"], \"heap\": {}, \"stdout\": \"\", \"func_name\": \"<module>\", \"stack_to_render\": [], \"line\": 3, \"globals\": {\"i\": 294, \"x\": 295}, \"event\": \"step_line\"}, {\"ordered_globals\": [\"x\", \"i\"], \"heap\": {}, \"stdout\": \"\", \"func_name\": \"<module>\", \"stack_to_render\": [], \"line\": 4, \"globals\": {\"i\": 295, \"x\": 295}, \"event\": \"step_line\"}, {\"ordered_globals\": [\"x\", \"i\"], \"heap\": {}, \"stdout\": \"\", \"func_name\": \"<module>\", \"stack_to_render\": [], \"line\": 3, \"globals\": {\"i\": 295, \"x\": 296}, \"event\": \"step_line\"}, {\"ordered_globals\": [\"x\", \"i\"], \"heap\": {}, \"stdout\": \"\", \"func_name\": \"<module>\", \"stack_to_render\": [], \"line\": 4, \"globals\": {\"i\": 296, \"x\": 296}, \"event\": \"step_line\"}, {\"ordered_globals\": [\"x\", \"i\"], \"heap\": {}, \"stdout\": \"\", \"func_name\": \"<module>\", \"stack_to_render\": [], \"line\": 3, \"globals\": {\"i\": 296, \"x\": 297}, \"event\": \"step_line\"}, {\"ordered_globals\": [\"x\", \"i\"], \"heap\": {}, \"stdout\": \"\", \"func_name\": \"<module>\", \"stack_to_render\": [], \"line\": 4, \"globals\": {\"i\": 297, \"x\": 297}, \"event\": \"step_line\"}, {\"ordered_globals\": [\"x\", \"i\"], \"heap\": {}, \"stdout\": \"\", \"func_name\": \"<module>\", \"stack_to_render\": [], \"line\": 3, \"globals\": {\"i\": 297, \"x\": 298}, \"event\": \"step_line\"}, {\"ordered_globals\": [\"x\", \"i\"], \"heap\": {}, \"stdout\": \"\", \"func_name\": \"<module>\", \"stack_to_render\": [], \"line\": 4, \"globals\": {\"i\": 298, \"x\": 298}, \"event\": \"step_line\"}, {\"ordered_globals\": [\"x\", \"i\"], \"heap\": {}, \"stdout\": \"\", \"func_name\": \"<module>\", \"stack_to_render\": [], \"line\": 3, \"globals\": {\"i\": 298, \"x\": 299}, \"event\": \"step_line\"}, {\"ordered_globals\": [\"x\", \"i\"], \"heap\": {}, \"stdout\": \"\", \"func_name\": \"<module>\", \"stack_to_render\": [], \"line\": 4, \"globals\": {\"i\": 299, \"x\": 299}, \"event\": \"step_line\"}, {\"ordered_globals\": [\"x\", \"i\"], \"heap\": {}, \"stdout\": \"\", \"func_name\": \"<module>\", \"stack_to_render\": [], \"line\": 3, \"globals\": {\"i\": 299, \"x\": 300}, \"event\": \"step_line\"}, {\"ordered_globals\": [\"x\", \"i\"], \"heap\": {}, \"stdout\": \"\", \"func_name\": \"<module>\", \"stack_to_render\": [], \"line\": 4, \"globals\": {\"i\": 300, \"x\": 300}, \"event\": \"step_line\"}, {\"ordered_globals\": [\"x\", \"i\"], \"heap\": {}, \"stdout\": \"\", \"func_name\": \"<module>\", \"stack_to_render\": [], \"line\": 3, \"globals\": {\"i\": 300, \"x\": 301}, \"event\": \"step_line\"}, {\"ordered_globals\": [\"x\", \"i\"], \"heap\": {}, \"stdout\": \"\", \"func_name\": \"<module>\", \"stack_to_render\": [], \"line\": 4, \"globals\": {\"i\": 301, \"x\": 301}, \"event\": \"step_line\"}, {\"ordered_globals\": [\"x\", \"i\"], \"heap\": {}, \"stdout\": \"\", \"func_name\": \"<module>\", \"stack_to_render\": [], \"line\": 3, \"globals\": {\"i\": 301, \"x\": 302}, \"event\": \"step_line\"}, {\"ordered_globals\": [\"x\", \"i\"], \"heap\": {}, \"stdout\": \"\", \"func_name\": \"<module>\", \"stack_to_render\": [], \"line\": 4, \"globals\": {\"i\": 302, \"x\": 302}, \"event\": \"step_line\"}, {\"ordered_globals\": [\"x\", \"i\"], \"heap\": {}, \"stdout\": \"\", \"func_name\": \"<module>\", \"stack_to_render\": [], \"line\": 3, \"globals\": {\"i\": 302, \"x\": 303}, \"event\": \"step_line\"}, {\"ordered_globals\": [\"x\", \"i\"], \"heap\": {}, \"stdout\": \"\", \"func_name\": \"<module>\", \"stack_to_render\": [], \"line\": 4, \"globals\": {\"i\": 303, \"x\": 303}, \"event\": \"step_line\"}, {\"ordered_globals\": [\"x\", \"i\"], \"heap\": {}, \"stdout\": \"\", \"func_name\": \"<module>\", \"stack_to_render\": [], \"line\": 3, \"globals\": {\"i\": 303, \"x\": 304}, \"event\": \"step_line\"}, {\"ordered_globals\": [\"x\", \"i\"], \"heap\": {}, \"stdout\": \"\", \"func_name\": \"<module>\", \"stack_to_render\": [], \"line\": 4, \"globals\": {\"i\": 304, \"x\": 304}, \"event\": \"step_line\"}, {\"ordered_globals\": [\"x\", \"i\"], \"heap\": {}, \"stdout\": \"\", \"func_name\": \"<module>\", \"stack_to_render\": [], \"line\": 3, \"globals\": {\"i\": 304, \"x\": 305}, \"event\": \"step_line\"}, {\"ordered_globals\": [\"x\", \"i\"], \"heap\": {}, \"stdout\": \"\", \"func_name\": \"<module>\", \"stack_to_render\": [], \"line\": 4, \"globals\": {\"i\": 305, \"x\": 305}, \"event\": \"step_line\"}, {\"ordered_globals\": [\"x\", \"i\"], \"heap\": {}, \"stdout\": \"\", \"func_name\": \"<module>\", \"stack_to_render\": [], \"line\": 3, \"globals\": {\"i\": 305, \"x\": 306}, \"event\": \"step_line\"}, {\"ordered_globals\": [\"x\", \"i\"], \"heap\": {}, \"stdout\": \"\", \"func_name\": \"<module>\", \"stack_to_render\": [], \"line\": 4, \"globals\": {\"i\": 306, \"x\": 306}, \"event\": \"step_line\"}, {\"ordered_globals\": [\"x\", \"i\"], \"heap\": {}, \"stdout\": \"\", \"func_name\": \"<module>\", \"stack_to_render\": [], \"line\": 3, \"globals\": {\"i\": 306, \"x\": 307}, \"event\": \"step_line\"}, {\"ordered_globals\": [\"x\", \"i\"], \"heap\": {}, \"stdout\": \"\", \"func_name\": \"<module>\", \"stack_to_render\": [], \"line\": 4, \"globals\": {\"i\": 307, \"x\": 307}, \"event\": \"step_line\"}, {\"ordered_globals\": [\"x\", \"i\"], \"heap\": {}, \"stdout\": \"\", \"func_name\": \"<module>\", \"stack_to_render\": [], \"line\": 3, \"globals\": {\"i\": 307, \"x\": 308}, \"event\": \"step_line\"}, {\"ordered_globals\": [\"x\", \"i\"], \"heap\": {}, \"stdout\": \"\", \"func_name\": \"<module>\", \"stack_to_render\": [], \"line\": 4, \"globals\": {\"i\": 308, \"x\": 308}, \"event\": \"step_line\"}, {\"ordered_globals\": [\"x\", \"i\"], \"heap\": {}, \"stdout\": \"\", \"func_name\": \"<module>\", \"stack_to_render\": [], \"line\": 3, \"globals\": {\"i\": 308, \"x\": 309}, \"event\": \"step_line\"}, {\"ordered_globals\": [\"x\", \"i\"], \"heap\": {}, \"stdout\": \"\", \"func_name\": \"<module>\", \"stack_to_render\": [], \"line\": 4, \"globals\": {\"i\": 309, \"x\": 309}, \"event\": \"step_line\"}, {\"ordered_globals\": [\"x\", \"i\"], \"heap\": {}, \"stdout\": \"\", \"func_name\": \"<module>\", \"stack_to_render\": [], \"line\": 3, \"globals\": {\"i\": 309, \"x\": 310}, \"event\": \"step_line\"}, {\"ordered_globals\": [\"x\", \"i\"], \"heap\": {}, \"stdout\": \"\", \"func_name\": \"<module>\", \"stack_to_render\": [], \"line\": 4, \"globals\": {\"i\": 310, \"x\": 310}, \"event\": \"step_line\"}, {\"ordered_globals\": [\"x\", \"i\"], \"heap\": {}, \"stdout\": \"\", \"func_name\": \"<module>\", \"stack_to_render\": [], \"line\": 3, \"globals\": {\"i\": 310, \"x\": 311}, \"event\": \"step_line\"}, {\"ordered_globals\": [\"x\", \"i\"], \"heap\": {}, \"stdout\": \"\", \"func_name\": \"<module>\", \"stack_to_render\": [], \"line\": 4, \"globals\": {\"i\": 311, \"x\": 311}, \"event\": \"step_line\"}, {\"ordered_globals\": [\"x\", \"i\"], \"heap\": {}, \"stdout\": \"\", \"func_name\": \"<module>\", \"stack_to_render\": [], \"line\": 3, \"globals\": {\"i\": 311, \"x\": 312}, \"event\": \"step_line\"}, {\"ordered_globals\": [\"x\", \"i\"], \"heap\": {}, \"stdout\": \"\", \"func_name\": \"<module>\", \"stack_to_render\": [], \"line\": 4, \"globals\": {\"i\": 312, \"x\": 312}, \"event\": \"step_line\"}, {\"ordered_globals\": [\"x\", \"i\"], \"heap\": {}, \"stdout\": \"\", \"func_name\": \"<module>\", \"stack_to_render\": [], \"line\": 3, \"globals\": {\"i\": 312, \"x\": 313}, \"event\": \"step_line\"}, {\"ordered_globals\": [\"x\", \"i\"], \"heap\": {}, \"stdout\": \"\", \"func_name\": \"<module>\", \"stack_to_render\": [], \"line\": 4, \"globals\": {\"i\": 313, \"x\": 313}, \"event\": \"step_line\"}, {\"ordered_globals\": [\"x\", \"i\"], \"heap\": {}, \"stdout\": \"\", \"func_name\": \"<module>\", \"stack_to_render\": [], \"line\": 3, \"globals\": {\"i\": 313, \"x\": 314}, \"event\": \"step_line\"}, {\"ordered_globals\": [\"x\", \"i\"], \"heap\": {}, \"stdout\": \"\", \"func_name\": \"<module>\", \"stack_to_render\": [], \"line\": 4, \"globals\": {\"i\": 314, \"x\": 314}, \"event\": \"step_line\"}, {\"ordered_globals\": [\"x\", \"i\"], \"heap\": {}, \"stdout\": \"\", \"func_name\": \"<module>\", \"stack_to_render\": [], \"line\": 3, \"globals\": {\"i\": 314, \"x\": 315}, \"event\": \"step_line\"}, {\"ordered_globals\": [\"x\", \"i\"], \"heap\": {}, \"stdout\": \"\", \"func_name\": \"<module>\", \"stack_to_render\": [], \"line\": 4, \"globals\": {\"i\": 315, \"x\": 315}, \"event\": \"step_line\"}, {\"ordered_globals\": [\"x\", \"i\"], \"heap\": {}, \"stdout\": \"\", \"func_name\": \"<module>\", \"stack_to_render\": [], \"line\": 3, \"globals\": {\"i\": 315, \"x\": 316}, \"event\": \"step_line\"}, {\"ordered_globals\": [\"x\", \"i\"], \"heap\": {}, \"stdout\": \"\", \"func_name\": \"<module>\", \"stack_to_render\": [], \"line\": 4, \"globals\": {\"i\": 316, \"x\": 316}, \"event\": \"step_line\"}, {\"ordered_globals\": [\"x\", \"i\"], \"heap\": {}, \"stdout\": \"\", \"func_name\": \"<module>\", \"stack_to_render\": [], \"line\": 3, \"globals\": {\"i\": 316, \"x\": 317}, \"event\": \"step_line\"}, {\"ordered_globals\": [\"x\", \"i\"], \"heap\": {}, \"stdout\": \"\", \"func_name\": \"<module>\", \"stack_to_render\": [], \"line\": 4, \"globals\": {\"i\": 317, \"x\": 317}, \"event\": \"step_line\"}, {\"ordered_globals\": [\"x\", \"i\"], \"heap\": {}, \"stdout\": \"\", \"func_name\": \"<module>\", \"stack_to_render\": [], \"line\": 3, \"globals\": {\"i\": 317, \"x\": 318}, \"event\": \"step_line\"}, {\"ordered_globals\": [\"x\", \"i\"], \"heap\": {}, \"stdout\": \"\", \"func_name\": \"<module>\", \"stack_to_render\": [], \"line\": 4, \"globals\": {\"i\": 318, \"x\": 318}, \"event\": \"step_line\"}, {\"ordered_globals\": [\"x\", \"i\"], \"heap\": {}, \"stdout\": \"\", \"func_name\": \"<module>\", \"stack_to_render\": [], \"line\": 3, \"globals\": {\"i\": 318, \"x\": 319}, \"event\": \"step_line\"}, {\"ordered_globals\": [\"x\", \"i\"], \"heap\": {}, \"stdout\": \"\", \"func_name\": \"<module>\", \"stack_to_render\": [], \"line\": 4, \"globals\": {\"i\": 319, \"x\": 319}, \"event\": \"step_line\"}, {\"ordered_globals\": [\"x\", \"i\"], \"heap\": {}, \"stdout\": \"\", \"func_name\": \"<module>\", \"stack_to_render\": [], \"line\": 3, \"globals\": {\"i\": 319, \"x\": 320}, \"event\": \"step_line\"}, {\"ordered_globals\": [\"x\", \"i\"], \"heap\": {}, \"stdout\": \"\", \"func_name\": \"<module>\", \"stack_to_render\": [], \"line\": 4, \"globals\": {\"i\": 320, \"x\": 320}, \"event\": \"step_line\"}, {\"ordered_globals\": [\"x\", \"i\"], \"heap\": {}, \"stdout\": \"\", \"func_name\": \"<module>\", \"stack_to_render\": [], \"line\": 3, \"globals\": {\"i\": 320, \"x\": 321}, \"event\": \"step_line\"}, {\"ordered_globals\": [\"x\", \"i\"], \"heap\": {}, \"stdout\": \"\", \"func_name\": \"<module>\", \"stack_to_render\": [], \"line\": 4, \"globals\": {\"i\": 321, \"x\": 321}, \"event\": \"step_line\"}, {\"ordered_globals\": [\"x\", \"i\"], \"heap\": {}, \"stdout\": \"\", \"func_name\": \"<module>\", \"stack_to_render\": [], \"line\": 3, \"globals\": {\"i\": 321, \"x\": 322}, \"event\": \"step_line\"}, {\"ordered_globals\": [\"x\", \"i\"], \"heap\": {}, \"stdout\": \"\", \"func_name\": \"<module>\", \"stack_to_render\": [], \"line\": 4, \"globals\": {\"i\": 322, \"x\": 322}, \"event\": \"step_line\"}, {\"ordered_globals\": [\"x\", \"i\"], \"heap\": {}, \"stdout\": \"\", \"func_name\": \"<module>\", \"stack_to_render\": [], \"line\": 3, \"globals\": {\"i\": 322, \"x\": 323}, \"event\": \"step_line\"}, {\"ordered_globals\": [\"x\", \"i\"], \"heap\": {}, \"stdout\": \"\", \"func_name\": \"<module>\", \"stack_to_render\": [], \"line\": 4, \"globals\": {\"i\": 323, \"x\": 323}, \"event\": \"step_line\"}, {\"ordered_globals\": [\"x\", \"i\"], \"heap\": {}, \"stdout\": \"\", \"func_name\": \"<module>\", \"stack_to_render\": [], \"line\": 3, \"globals\": {\"i\": 323, \"x\": 324}, \"event\": \"step_line\"}, {\"ordered_globals\": [\"x\", \"i\"], \"heap\": {}, \"stdout\": \"\", \"func_name\": \"<module>\", \"stack_to_render\": [], \"line\": 4, \"globals\": {\"i\": 324, \"x\": 324}, \"event\": \"step_line\"}, {\"ordered_globals\": [\"x\", \"i\"], \"heap\": {}, \"stdout\": \"\", \"func_name\": \"<module>\", \"stack_to_render\": [], \"line\": 3, \"globals\": {\"i\": 324, \"x\": 325}, \"event\": \"step_line\"}, {\"ordered_globals\": [\"x\", \"i\"], \"heap\": {}, \"stdout\": \"\", \"func_name\": \"<module>\", \"stack_to_render\": [], \"line\": 4, \"globals\": {\"i\": 325, \"x\": 325}, \"event\": \"step_line\"}, {\"ordered_globals\": [\"x\", \"i\"], \"heap\": {}, \"stdout\": \"\", \"func_name\": \"<module>\", \"stack_to_render\": [], \"line\": 3, \"globals\": {\"i\": 325, \"x\": 326}, \"event\": \"step_line\"}, {\"ordered_globals\": [\"x\", \"i\"], \"heap\": {}, \"stdout\": \"\", \"func_name\": \"<module>\", \"stack_to_render\": [], \"line\": 4, \"globals\": {\"i\": 326, \"x\": 326}, \"event\": \"step_line\"}, {\"ordered_globals\": [\"x\", \"i\"], \"heap\": {}, \"stdout\": \"\", \"func_name\": \"<module>\", \"stack_to_render\": [], \"line\": 3, \"globals\": {\"i\": 326, \"x\": 327}, \"event\": \"step_line\"}, {\"ordered_globals\": [\"x\", \"i\"], \"heap\": {}, \"stdout\": \"\", \"func_name\": \"<module>\", \"stack_to_render\": [], \"line\": 4, \"globals\": {\"i\": 327, \"x\": 327}, \"event\": \"step_line\"}, {\"ordered_globals\": [\"x\", \"i\"], \"heap\": {}, \"stdout\": \"\", \"func_name\": \"<module>\", \"stack_to_render\": [], \"line\": 3, \"globals\": {\"i\": 327, \"x\": 328}, \"event\": \"step_line\"}, {\"ordered_globals\": [\"x\", \"i\"], \"heap\": {}, \"stdout\": \"\", \"func_name\": \"<module>\", \"stack_to_render\": [], \"line\": 4, \"globals\": {\"i\": 328, \"x\": 328}, \"event\": \"step_line\"}, {\"ordered_globals\": [\"x\", \"i\"], \"heap\": {}, \"stdout\": \"\", \"func_name\": \"<module>\", \"stack_to_render\": [], \"line\": 3, \"globals\": {\"i\": 328, \"x\": 329}, \"event\": \"step_line\"}, {\"ordered_globals\": [\"x\", \"i\"], \"heap\": {}, \"stdout\": \"\", \"func_name\": \"<module>\", \"stack_to_render\": [], \"line\": 4, \"globals\": {\"i\": 329, \"x\": 329}, \"event\": \"step_line\"}, {\"ordered_globals\": [\"x\", \"i\"], \"heap\": {}, \"stdout\": \"\", \"func_name\": \"<module>\", \"stack_to_render\": [], \"line\": 3, \"globals\": {\"i\": 329, \"x\": 330}, \"event\": \"step_line\"}, {\"ordered_globals\": [\"x\", \"i\"], \"heap\": {}, \"stdout\": \"\", \"func_name\": \"<module>\", \"stack_to_render\": [], \"line\": 4, \"globals\": {\"i\": 330, \"x\": 330}, \"event\": \"step_line\"}, {\"ordered_globals\": [\"x\", \"i\"], \"heap\": {}, \"stdout\": \"\", \"func_name\": \"<module>\", \"stack_to_render\": [], \"line\": 3, \"globals\": {\"i\": 330, \"x\": 331}, \"event\": \"step_line\"}, {\"ordered_globals\": [\"x\", \"i\"], \"heap\": {}, \"stdout\": \"\", \"func_name\": \"<module>\", \"stack_to_render\": [], \"line\": 4, \"globals\": {\"i\": 331, \"x\": 331}, \"event\": \"step_line\"}, {\"ordered_globals\": [\"x\", \"i\"], \"heap\": {}, \"stdout\": \"\", \"func_name\": \"<module>\", \"stack_to_render\": [], \"line\": 3, \"globals\": {\"i\": 331, \"x\": 332}, \"event\": \"step_line\"}, {\"ordered_globals\": [\"x\", \"i\"], \"heap\": {}, \"stdout\": \"\", \"func_name\": \"<module>\", \"stack_to_render\": [], \"line\": 4, \"globals\": {\"i\": 332, \"x\": 332}, \"event\": \"step_line\"}, {\"ordered_globals\": [\"x\", \"i\"], \"heap\": {}, \"stdout\": \"\", \"func_name\": \"<module>\", \"stack_to_render\": [], \"line\": 3, \"globals\": {\"i\": 332, \"x\": 333}, \"event\": \"step_line\"}, {\"ordered_globals\": [\"x\", \"i\"], \"heap\": {}, \"stdout\": \"\", \"func_name\": \"<module>\", \"stack_to_render\": [], \"line\": 4, \"globals\": {\"i\": 333, \"x\": 333}, \"event\": \"step_line\"}, {\"ordered_globals\": [\"x\", \"i\"], \"heap\": {}, \"stdout\": \"\", \"func_name\": \"<module>\", \"stack_to_render\": [], \"line\": 3, \"globals\": {\"i\": 333, \"x\": 334}, \"event\": \"step_line\"}, {\"ordered_globals\": [\"x\", \"i\"], \"heap\": {}, \"stdout\": \"\", \"func_name\": \"<module>\", \"stack_to_render\": [], \"line\": 4, \"globals\": {\"i\": 334, \"x\": 334}, \"event\": \"step_line\"}, {\"ordered_globals\": [\"x\", \"i\"], \"heap\": {}, \"stdout\": \"\", \"func_name\": \"<module>\", \"stack_to_render\": [], \"line\": 3, \"globals\": {\"i\": 334, \"x\": 335}, \"event\": \"step_line\"}, {\"ordered_globals\": [\"x\", \"i\"], \"heap\": {}, \"stdout\": \"\", \"func_name\": \"<module>\", \"stack_to_render\": [], \"line\": 4, \"globals\": {\"i\": 335, \"x\": 335}, \"event\": \"step_line\"}, {\"ordered_globals\": [\"x\", \"i\"], \"heap\": {}, \"stdout\": \"\", \"func_name\": \"<module>\", \"stack_to_render\": [], \"line\": 3, \"globals\": {\"i\": 335, \"x\": 336}, \"event\": \"step_line\"}, {\"ordered_globals\": [\"x\", \"i\"], \"heap\": {}, \"stdout\": \"\", \"func_name\": \"<module>\", \"stack_to_render\": [], \"line\": 4, \"globals\": {\"i\": 336, \"x\": 336}, \"event\": \"step_line\"}, {\"ordered_globals\": [\"x\", \"i\"], \"heap\": {}, \"stdout\": \"\", \"func_name\": \"<module>\", \"stack_to_render\": [], \"line\": 3, \"globals\": {\"i\": 336, \"x\": 337}, \"event\": \"step_line\"}, {\"ordered_globals\": [\"x\", \"i\"], \"heap\": {}, \"stdout\": \"\", \"func_name\": \"<module>\", \"stack_to_render\": [], \"line\": 4, \"globals\": {\"i\": 337, \"x\": 337}, \"event\": \"step_line\"}, {\"ordered_globals\": [\"x\", \"i\"], \"heap\": {}, \"stdout\": \"\", \"func_name\": \"<module>\", \"stack_to_render\": [], \"line\": 3, \"globals\": {\"i\": 337, \"x\": 338}, \"event\": \"step_line\"}, {\"ordered_globals\": [\"x\", \"i\"], \"heap\": {}, \"stdout\": \"\", \"func_name\": \"<module>\", \"stack_to_render\": [], \"line\": 4, \"globals\": {\"i\": 338, \"x\": 338}, \"event\": \"step_line\"}, {\"ordered_globals\": [\"x\", \"i\"], \"heap\": {}, \"stdout\": \"\", \"func_name\": \"<module>\", \"stack_to_render\": [], \"line\": 3, \"globals\": {\"i\": 338, \"x\": 339}, \"event\": \"step_line\"}, {\"ordered_globals\": [\"x\", \"i\"], \"heap\": {}, \"stdout\": \"\", \"func_name\": \"<module>\", \"stack_to_render\": [], \"line\": 4, \"globals\": {\"i\": 339, \"x\": 339}, \"event\": \"step_line\"}, {\"ordered_globals\": [\"x\", \"i\"], \"heap\": {}, \"stdout\": \"\", \"func_name\": \"<module>\", \"stack_to_render\": [], \"line\": 3, \"globals\": {\"i\": 339, \"x\": 340}, \"event\": \"step_line\"}, {\"ordered_globals\": [\"x\", \"i\"], \"heap\": {}, \"stdout\": \"\", \"func_name\": \"<module>\", \"stack_to_render\": [], \"line\": 4, \"globals\": {\"i\": 340, \"x\": 340}, \"event\": \"step_line\"}, {\"ordered_globals\": [\"x\", \"i\"], \"heap\": {}, \"stdout\": \"\", \"func_name\": \"<module>\", \"stack_to_render\": [], \"line\": 3, \"globals\": {\"i\": 340, \"x\": 341}, \"event\": \"step_line\"}, {\"ordered_globals\": [\"x\", \"i\"], \"heap\": {}, \"stdout\": \"\", \"func_name\": \"<module>\", \"stack_to_render\": [], \"line\": 4, \"globals\": {\"i\": 341, \"x\": 341}, \"event\": \"step_line\"}, {\"ordered_globals\": [\"x\", \"i\"], \"heap\": {}, \"stdout\": \"\", \"func_name\": \"<module>\", \"stack_to_render\": [], \"line\": 3, \"globals\": {\"i\": 341, \"x\": 342}, \"event\": \"step_line\"}, {\"ordered_globals\": [\"x\", \"i\"], \"heap\": {}, \"stdout\": \"\", \"func_name\": \"<module>\", \"stack_to_render\": [], \"line\": 4, \"globals\": {\"i\": 342, \"x\": 342}, \"event\": \"step_line\"}, {\"ordered_globals\": [\"x\", \"i\"], \"heap\": {}, \"stdout\": \"\", \"func_name\": \"<module>\", \"stack_to_render\": [], \"line\": 3, \"globals\": {\"i\": 342, \"x\": 343}, \"event\": \"step_line\"}, {\"ordered_globals\": [\"x\", \"i\"], \"heap\": {}, \"stdout\": \"\", \"func_name\": \"<module>\", \"stack_to_render\": [], \"line\": 4, \"globals\": {\"i\": 343, \"x\": 343}, \"event\": \"step_line\"}, {\"ordered_globals\": [\"x\", \"i\"], \"heap\": {}, \"stdout\": \"\", \"func_name\": \"<module>\", \"stack_to_render\": [], \"line\": 3, \"globals\": {\"i\": 343, \"x\": 344}, \"event\": \"step_line\"}, {\"ordered_globals\": [\"x\", \"i\"], \"heap\": {}, \"stdout\": \"\", \"func_name\": \"<module>\", \"stack_to_render\": [], \"line\": 4, \"globals\": {\"i\": 344, \"x\": 344}, \"event\": \"step_line\"}, {\"ordered_globals\": [\"x\", \"i\"], \"heap\": {}, \"stdout\": \"\", \"func_name\": \"<module>\", \"stack_to_render\": [], \"line\": 3, \"globals\": {\"i\": 344, \"x\": 345}, \"event\": \"step_line\"}, {\"ordered_globals\": [\"x\", \"i\"], \"heap\": {}, \"stdout\": \"\", \"func_name\": \"<module>\", \"stack_to_render\": [], \"line\": 4, \"globals\": {\"i\": 345, \"x\": 345}, \"event\": \"step_line\"}, {\"ordered_globals\": [\"x\", \"i\"], \"heap\": {}, \"stdout\": \"\", \"func_name\": \"<module>\", \"stack_to_render\": [], \"line\": 3, \"globals\": {\"i\": 345, \"x\": 346}, \"event\": \"step_line\"}, {\"ordered_globals\": [\"x\", \"i\"], \"heap\": {}, \"stdout\": \"\", \"func_name\": \"<module>\", \"stack_to_render\": [], \"line\": 4, \"globals\": {\"i\": 346, \"x\": 346}, \"event\": \"step_line\"}, {\"ordered_globals\": [\"x\", \"i\"], \"heap\": {}, \"stdout\": \"\", \"func_name\": \"<module>\", \"stack_to_render\": [], \"line\": 3, \"globals\": {\"i\": 346, \"x\": 347}, \"event\": \"step_line\"}, {\"ordered_globals\": [\"x\", \"i\"], \"heap\": {}, \"stdout\": \"\", \"func_name\": \"<module>\", \"stack_to_render\": [], \"line\": 4, \"globals\": {\"i\": 347, \"x\": 347}, \"event\": \"step_line\"}, {\"ordered_globals\": [\"x\", \"i\"], \"heap\": {}, \"stdout\": \"\", \"func_name\": \"<module>\", \"stack_to_render\": [], \"line\": 3, \"globals\": {\"i\": 347, \"x\": 348}, \"event\": \"step_line\"}, {\"ordered_globals\": [\"x\", \"i\"], \"heap\": {}, \"stdout\": \"\", \"func_name\": \"<module>\", \"stack_to_render\": [], \"line\": 4, \"globals\": {\"i\": 348, \"x\": 348}, \"event\": \"step_line\"}, {\"ordered_globals\": [\"x\", \"i\"], \"heap\": {}, \"stdout\": \"\", \"func_name\": \"<module>\", \"stack_to_render\": [], \"line\": 3, \"globals\": {\"i\": 348, \"x\": 349}, \"event\": \"step_line\"}, {\"ordered_globals\": [\"x\", \"i\"], \"heap\": {}, \"stdout\": \"\", \"func_name\": \"<module>\", \"stack_to_render\": [], \"line\": 4, \"globals\": {\"i\": 349, \"x\": 349}, \"event\": \"step_line\"}, {\"ordered_globals\": [\"x\", \"i\"], \"heap\": {}, \"stdout\": \"\", \"func_name\": \"<module>\", \"stack_to_render\": [], \"line\": 3, \"globals\": {\"i\": 349, \"x\": 350}, \"event\": \"step_line\"}, {\"ordered_globals\": [\"x\", \"i\"], \"heap\": {}, \"stdout\": \"\", \"func_name\": \"<module>\", \"stack_to_render\": [], \"line\": 4, \"globals\": {\"i\": 350, \"x\": 350}, \"event\": \"step_line\"}, {\"ordered_globals\": [\"x\", \"i\"], \"heap\": {}, \"stdout\": \"\", \"func_name\": \"<module>\", \"stack_to_render\": [], \"line\": 3, \"globals\": {\"i\": 350, \"x\": 351}, \"event\": \"step_line\"}, {\"ordered_globals\": [\"x\", \"i\"], \"heap\": {}, \"stdout\": \"\", \"func_name\": \"<module>\", \"stack_to_render\": [], \"line\": 4, \"globals\": {\"i\": 351, \"x\": 351}, \"event\": \"step_line\"}, {\"ordered_globals\": [\"x\", \"i\"], \"heap\": {}, \"stdout\": \"\", \"func_name\": \"<module>\", \"stack_to_render\": [], \"line\": 3, \"globals\": {\"i\": 351, \"x\": 352}, \"event\": \"step_line\"}, {\"ordered_globals\": [\"x\", \"i\"], \"heap\": {}, \"stdout\": \"\", \"func_name\": \"<module>\", \"stack_to_render\": [], \"line\": 4, \"globals\": {\"i\": 352, \"x\": 352}, \"event\": \"step_line\"}, {\"ordered_globals\": [\"x\", \"i\"], \"heap\": {}, \"stdout\": \"\", \"func_name\": \"<module>\", \"stack_to_render\": [], \"line\": 3, \"globals\": {\"i\": 352, \"x\": 353}, \"event\": \"step_line\"}, {\"ordered_globals\": [\"x\", \"i\"], \"heap\": {}, \"stdout\": \"\", \"func_name\": \"<module>\", \"stack_to_render\": [], \"line\": 4, \"globals\": {\"i\": 353, \"x\": 353}, \"event\": \"step_line\"}, {\"ordered_globals\": [\"x\", \"i\"], \"heap\": {}, \"stdout\": \"\", \"func_name\": \"<module>\", \"stack_to_render\": [], \"line\": 3, \"globals\": {\"i\": 353, \"x\": 354}, \"event\": \"step_line\"}, {\"ordered_globals\": [\"x\", \"i\"], \"heap\": {}, \"stdout\": \"\", \"func_name\": \"<module>\", \"stack_to_render\": [], \"line\": 4, \"globals\": {\"i\": 354, \"x\": 354}, \"event\": \"step_line\"}, {\"ordered_globals\": [\"x\", \"i\"], \"heap\": {}, \"stdout\": \"\", \"func_name\": \"<module>\", \"stack_to_render\": [], \"line\": 3, \"globals\": {\"i\": 354, \"x\": 355}, \"event\": \"step_line\"}, {\"ordered_globals\": [\"x\", \"i\"], \"heap\": {}, \"stdout\": \"\", \"func_name\": \"<module>\", \"stack_to_render\": [], \"line\": 4, \"globals\": {\"i\": 355, \"x\": 355}, \"event\": \"step_line\"}, {\"ordered_globals\": [\"x\", \"i\"], \"heap\": {}, \"stdout\": \"\", \"func_name\": \"<module>\", \"stack_to_render\": [], \"line\": 3, \"globals\": {\"i\": 355, \"x\": 356}, \"event\": \"step_line\"}, {\"ordered_globals\": [\"x\", \"i\"], \"heap\": {}, \"stdout\": \"\", \"func_name\": \"<module>\", \"stack_to_render\": [], \"line\": 4, \"globals\": {\"i\": 356, \"x\": 356}, \"event\": \"step_line\"}, {\"ordered_globals\": [\"x\", \"i\"], \"heap\": {}, \"stdout\": \"\", \"func_name\": \"<module>\", \"stack_to_render\": [], \"line\": 3, \"globals\": {\"i\": 356, \"x\": 357}, \"event\": \"step_line\"}, {\"ordered_globals\": [\"x\", \"i\"], \"heap\": {}, \"stdout\": \"\", \"func_name\": \"<module>\", \"stack_to_render\": [], \"line\": 4, \"globals\": {\"i\": 357, \"x\": 357}, \"event\": \"step_line\"}, {\"ordered_globals\": [\"x\", \"i\"], \"heap\": {}, \"stdout\": \"\", \"func_name\": \"<module>\", \"stack_to_render\": [], \"line\": 3, \"globals\": {\"i\": 357, \"x\": 358}, \"event\": \"step_line\"}, {\"ordered_globals\": [\"x\", \"i\"], \"heap\": {}, \"stdout\": \"\", \"func_name\": \"<module>\", \"stack_to_render\": [], \"line\": 4, \"globals\": {\"i\": 358, \"x\": 358}, \"event\": \"step_line\"}, {\"ordered_globals\": [\"x\", \"i\"], \"heap\": {}, \"stdout\": \"\", \"func_name\": \"<module>\", \"stack_to_render\": [], \"line\": 3, \"globals\": {\"i\": 358, \"x\": 359}, \"event\": \"step_line\"}, {\"ordered_globals\": [\"x\", \"i\"], \"heap\": {}, \"stdout\": \"\", \"func_name\": \"<module>\", \"stack_to_render\": [], \"line\": 4, \"globals\": {\"i\": 359, \"x\": 359}, \"event\": \"step_line\"}, {\"ordered_globals\": [\"x\", \"i\"], \"heap\": {}, \"stdout\": \"\", \"func_name\": \"<module>\", \"stack_to_render\": [], \"line\": 3, \"globals\": {\"i\": 359, \"x\": 360}, \"event\": \"step_line\"}, {\"ordered_globals\": [\"x\", \"i\"], \"heap\": {}, \"stdout\": \"\", \"func_name\": \"<module>\", \"stack_to_render\": [], \"line\": 4, \"globals\": {\"i\": 360, \"x\": 360}, \"event\": \"step_line\"}, {\"ordered_globals\": [\"x\", \"i\"], \"heap\": {}, \"stdout\": \"\", \"func_name\": \"<module>\", \"stack_to_render\": [], \"line\": 3, \"globals\": {\"i\": 360, \"x\": 361}, \"event\": \"step_line\"}, {\"ordered_globals\": [\"x\", \"i\"], \"heap\": {}, \"stdout\": \"\", \"func_name\": \"<module>\", \"stack_to_render\": [], \"line\": 4, \"globals\": {\"i\": 361, \"x\": 361}, \"event\": \"step_line\"}, {\"ordered_globals\": [\"x\", \"i\"], \"heap\": {}, \"stdout\": \"\", \"func_name\": \"<module>\", \"stack_to_render\": [], \"line\": 3, \"globals\": {\"i\": 361, \"x\": 362}, \"event\": \"step_line\"}, {\"ordered_globals\": [\"x\", \"i\"], \"heap\": {}, \"stdout\": \"\", \"func_name\": \"<module>\", \"stack_to_render\": [], \"line\": 4, \"globals\": {\"i\": 362, \"x\": 362}, \"event\": \"step_line\"}, {\"ordered_globals\": [\"x\", \"i\"], \"heap\": {}, \"stdout\": \"\", \"func_name\": \"<module>\", \"stack_to_render\": [], \"line\": 3, \"globals\": {\"i\": 362, \"x\": 363}, \"event\": \"step_line\"}, {\"ordered_globals\": [\"x\", \"i\"], \"heap\": {}, \"stdout\": \"\", \"func_name\": \"<module>\", \"stack_to_render\": [], \"line\": 4, \"globals\": {\"i\": 363, \"x\": 363}, \"event\": \"step_line\"}, {\"ordered_globals\": [\"x\", \"i\"], \"heap\": {}, \"stdout\": \"\", \"func_name\": \"<module>\", \"stack_to_render\": [], \"line\": 3, \"globals\": {\"i\": 363, \"x\": 364}, \"event\": \"step_line\"}, {\"ordered_globals\": [\"x\", \"i\"], \"heap\": {}, \"stdout\": \"\", \"func_name\": \"<module>\", \"stack_to_render\": [], \"line\": 4, \"globals\": {\"i\": 364, \"x\": 364}, \"event\": \"step_line\"}, {\"ordered_globals\": [\"x\", \"i\"], \"heap\": {}, \"stdout\": \"\", \"func_name\": \"<module>\", \"stack_to_render\": [], \"line\": 3, \"globals\": {\"i\": 364, \"x\": 365}, \"event\": \"step_line\"}, {\"ordered_globals\": [\"x\", \"i\"], \"heap\": {}, \"stdout\": \"\", \"func_name\": \"<module>\", \"stack_to_render\": [], \"line\": 4, \"globals\": {\"i\": 365, \"x\": 365}, \"event\": \"step_line\"}, {\"ordered_globals\": [\"x\", \"i\"], \"heap\": {}, \"stdout\": \"\", \"func_name\": \"<module>\", \"stack_to_render\": [], \"line\": 3, \"globals\": {\"i\": 365, \"x\": 366}, \"event\": \"step_line\"}, {\"ordered_globals\": [\"x\", \"i\"], \"heap\": {}, \"stdout\": \"\", \"func_name\": \"<module>\", \"stack_to_render\": [], \"line\": 4, \"globals\": {\"i\": 366, \"x\": 366}, \"event\": \"step_line\"}, {\"ordered_globals\": [\"x\", \"i\"], \"heap\": {}, \"stdout\": \"\", \"func_name\": \"<module>\", \"stack_to_render\": [], \"line\": 3, \"globals\": {\"i\": 366, \"x\": 367}, \"event\": \"step_line\"}, {\"ordered_globals\": [\"x\", \"i\"], \"heap\": {}, \"stdout\": \"\", \"func_name\": \"<module>\", \"stack_to_render\": [], \"line\": 4, \"globals\": {\"i\": 367, \"x\": 367}, \"event\": \"step_line\"}, {\"ordered_globals\": [\"x\", \"i\"], \"heap\": {}, \"stdout\": \"\", \"func_name\": \"<module>\", \"stack_to_render\": [], \"line\": 3, \"globals\": {\"i\": 367, \"x\": 368}, \"event\": \"step_line\"}, {\"ordered_globals\": [\"x\", \"i\"], \"heap\": {}, \"stdout\": \"\", \"func_name\": \"<module>\", \"stack_to_render\": [], \"line\": 4, \"globals\": {\"i\": 368, \"x\": 368}, \"event\": \"step_line\"}, {\"ordered_globals\": [\"x\", \"i\"], \"heap\": {}, \"stdout\": \"\", \"func_name\": \"<module>\", \"stack_to_render\": [], \"line\": 3, \"globals\": {\"i\": 368, \"x\": 369}, \"event\": \"step_line\"}, {\"ordered_globals\": [\"x\", \"i\"], \"heap\": {}, \"stdout\": \"\", \"func_name\": \"<module>\", \"stack_to_render\": [], \"line\": 4, \"globals\": {\"i\": 369, \"x\": 369}, \"event\": \"step_line\"}, {\"ordered_globals\": [\"x\", \"i\"], \"heap\": {}, \"stdout\": \"\", \"func_name\": \"<module>\", \"stack_to_render\": [], \"line\": 3, \"globals\": {\"i\": 369, \"x\": 370}, \"event\": \"step_line\"}, {\"ordered_globals\": [\"x\", \"i\"], \"heap\": {}, \"stdout\": \"\", \"func_name\": \"<module>\", \"stack_to_render\": [], \"line\": 4, \"globals\": {\"i\": 370, \"x\": 370}, \"event\": \"step_line\"}, {\"ordered_globals\": [\"x\", \"i\"], \"heap\": {}, \"stdout\": \"\", \"func_name\": \"<module>\", \"stack_to_render\": [], \"line\": 3, \"globals\": {\"i\": 370, \"x\": 371}, \"event\": \"step_line\"}, {\"ordered_globals\": [\"x\", \"i\"], \"heap\": {}, \"stdout\": \"\", \"func_name\": \"<module>\", \"stack_to_render\": [], \"line\": 4, \"globals\": {\"i\": 371, \"x\": 371}, \"event\": \"step_line\"}, {\"ordered_globals\": [\"x\", \"i\"], \"heap\": {}, \"stdout\": \"\", \"func_name\": \"<module>\", \"stack_to_render\": [], \"line\": 3, \"globals\": {\"i\": 371, \"x\": 372}, \"event\": \"step_line\"}, {\"ordered_globals\": [\"x\", \"i\"], \"heap\": {}, \"stdout\": \"\", \"func_name\": \"<module>\", \"stack_to_render\": [], \"line\": 4, \"globals\": {\"i\": 372, \"x\": 372}, \"event\": \"step_line\"}, {\"ordered_globals\": [\"x\", \"i\"], \"heap\": {}, \"stdout\": \"\", \"func_name\": \"<module>\", \"stack_to_render\": [], \"line\": 3, \"globals\": {\"i\": 372, \"x\": 373}, \"event\": \"step_line\"}, {\"ordered_globals\": [\"x\", \"i\"], \"heap\": {}, \"stdout\": \"\", \"func_name\": \"<module>\", \"stack_to_render\": [], \"line\": 4, \"globals\": {\"i\": 373, \"x\": 373}, \"event\": \"step_line\"}, {\"ordered_globals\": [\"x\", \"i\"], \"heap\": {}, \"stdout\": \"\", \"func_name\": \"<module>\", \"stack_to_render\": [], \"line\": 3, \"globals\": {\"i\": 373, \"x\": 374}, \"event\": \"step_line\"}, {\"ordered_globals\": [\"x\", \"i\"], \"heap\": {}, \"stdout\": \"\", \"func_name\": \"<module>\", \"stack_to_render\": [], \"line\": 4, \"globals\": {\"i\": 374, \"x\": 374}, \"event\": \"step_line\"}, {\"ordered_globals\": [\"x\", \"i\"], \"heap\": {}, \"stdout\": \"\", \"func_name\": \"<module>\", \"stack_to_render\": [], \"line\": 3, \"globals\": {\"i\": 374, \"x\": 375}, \"event\": \"step_line\"}, {\"ordered_globals\": [\"x\", \"i\"], \"heap\": {}, \"stdout\": \"\", \"func_name\": \"<module>\", \"stack_to_render\": [], \"line\": 4, \"globals\": {\"i\": 375, \"x\": 375}, \"event\": \"step_line\"}, {\"ordered_globals\": [\"x\", \"i\"], \"heap\": {}, \"stdout\": \"\", \"func_name\": \"<module>\", \"stack_to_render\": [], \"line\": 3, \"globals\": {\"i\": 375, \"x\": 376}, \"event\": \"step_line\"}, {\"ordered_globals\": [\"x\", \"i\"], \"heap\": {}, \"stdout\": \"\", \"func_name\": \"<module>\", \"stack_to_render\": [], \"line\": 4, \"globals\": {\"i\": 376, \"x\": 376}, \"event\": \"step_line\"}, {\"ordered_globals\": [\"x\", \"i\"], \"heap\": {}, \"stdout\": \"\", \"func_name\": \"<module>\", \"stack_to_render\": [], \"line\": 3, \"globals\": {\"i\": 376, \"x\": 377}, \"event\": \"step_line\"}, {\"ordered_globals\": [\"x\", \"i\"], \"heap\": {}, \"stdout\": \"\", \"func_name\": \"<module>\", \"stack_to_render\": [], \"line\": 4, \"globals\": {\"i\": 377, \"x\": 377}, \"event\": \"step_line\"}, {\"ordered_globals\": [\"x\", \"i\"], \"heap\": {}, \"stdout\": \"\", \"func_name\": \"<module>\", \"stack_to_render\": [], \"line\": 3, \"globals\": {\"i\": 377, \"x\": 378}, \"event\": \"step_line\"}, {\"ordered_globals\": [\"x\", \"i\"], \"heap\": {}, \"stdout\": \"\", \"func_name\": \"<module>\", \"stack_to_render\": [], \"line\": 4, \"globals\": {\"i\": 378, \"x\": 378}, \"event\": \"step_line\"}, {\"ordered_globals\": [\"x\", \"i\"], \"heap\": {}, \"stdout\": \"\", \"func_name\": \"<module>\", \"stack_to_render\": [], \"line\": 3, \"globals\": {\"i\": 378, \"x\": 379}, \"event\": \"step_line\"}, {\"ordered_globals\": [\"x\", \"i\"], \"heap\": {}, \"stdout\": \"\", \"func_name\": \"<module>\", \"stack_to_render\": [], \"line\": 4, \"globals\": {\"i\": 379, \"x\": 379}, \"event\": \"step_line\"}, {\"ordered_globals\": [\"x\", \"i\"], \"heap\": {}, \"stdout\": \"\", \"func_name\": \"<module>\", \"stack_to_render\": [], \"line\": 3, \"globals\": {\"i\": 379, \"x\": 380}, \"event\": \"step_line\"}, {\"ordered_globals\": [\"x\", \"i\"], \"heap\": {}, \"stdout\": \"\", \"func_name\": \"<module>\", \"stack_to_render\": [], \"line\": 4, \"globals\": {\"i\": 380, \"x\": 380}, \"event\": \"step_line\"}, {\"ordered_globals\": [\"x\", \"i\"], \"heap\": {}, \"stdout\": \"\", \"func_name\": \"<module>\", \"stack_to_render\": [], \"line\": 3, \"globals\": {\"i\": 380, \"x\": 381}, \"event\": \"step_line\"}, {\"ordered_globals\": [\"x\", \"i\"], \"heap\": {}, \"stdout\": \"\", \"func_name\": \"<module>\", \"stack_to_render\": [], \"line\": 4, \"globals\": {\"i\": 381, \"x\": 381}, \"event\": \"step_line\"}, {\"ordered_globals\": [\"x\", \"i\"], \"heap\": {}, \"stdout\": \"\", \"func_name\": \"<module>\", \"stack_to_render\": [], \"line\": 3, \"globals\": {\"i\": 381, \"x\": 382}, \"event\": \"step_line\"}, {\"ordered_globals\": [\"x\", \"i\"], \"heap\": {}, \"stdout\": \"\", \"func_name\": \"<module>\", \"stack_to_render\": [], \"line\": 4, \"globals\": {\"i\": 382, \"x\": 382}, \"event\": \"step_line\"}, {\"ordered_globals\": [\"x\", \"i\"], \"heap\": {}, \"stdout\": \"\", \"func_name\": \"<module>\", \"stack_to_render\": [], \"line\": 3, \"globals\": {\"i\": 382, \"x\": 383}, \"event\": \"step_line\"}, {\"ordered_globals\": [\"x\", \"i\"], \"heap\": {}, \"stdout\": \"\", \"func_name\": \"<module>\", \"stack_to_render\": [], \"line\": 4, \"globals\": {\"i\": 383, \"x\": 383}, \"event\": \"step_line\"}, {\"ordered_globals\": [\"x\", \"i\"], \"heap\": {}, \"stdout\": \"\", \"func_name\": \"<module>\", \"stack_to_render\": [], \"line\": 3, \"globals\": {\"i\": 383, \"x\": 384}, \"event\": \"step_line\"}, {\"ordered_globals\": [\"x\", \"i\"], \"heap\": {}, \"stdout\": \"\", \"func_name\": \"<module>\", \"stack_to_render\": [], \"line\": 4, \"globals\": {\"i\": 384, \"x\": 384}, \"event\": \"step_line\"}, {\"ordered_globals\": [\"x\", \"i\"], \"heap\": {}, \"stdout\": \"\", \"func_name\": \"<module>\", \"stack_to_render\": [], \"line\": 3, \"globals\": {\"i\": 384, \"x\": 385}, \"event\": \"step_line\"}, {\"ordered_globals\": [\"x\", \"i\"], \"heap\": {}, \"stdout\": \"\", \"func_name\": \"<module>\", \"stack_to_render\": [], \"line\": 4, \"globals\": {\"i\": 385, \"x\": 385}, \"event\": \"step_line\"}, {\"ordered_globals\": [\"x\", \"i\"], \"heap\": {}, \"stdout\": \"\", \"func_name\": \"<module>\", \"stack_to_render\": [], \"line\": 3, \"globals\": {\"i\": 385, \"x\": 386}, \"event\": \"step_line\"}, {\"ordered_globals\": [\"x\", \"i\"], \"heap\": {}, \"stdout\": \"\", \"func_name\": \"<module>\", \"stack_to_render\": [], \"line\": 4, \"globals\": {\"i\": 386, \"x\": 386}, \"event\": \"step_line\"}, {\"ordered_globals\": [\"x\", \"i\"], \"heap\": {}, \"stdout\": \"\", \"func_name\": \"<module>\", \"stack_to_render\": [], \"line\": 3, \"globals\": {\"i\": 386, \"x\": 387}, \"event\": \"step_line\"}, {\"ordered_globals\": [\"x\", \"i\"], \"heap\": {}, \"stdout\": \"\", \"func_name\": \"<module>\", \"stack_to_render\": [], \"line\": 4, \"globals\": {\"i\": 387, \"x\": 387}, \"event\": \"step_line\"}, {\"ordered_globals\": [\"x\", \"i\"], \"heap\": {}, \"stdout\": \"\", \"func_name\": \"<module>\", \"stack_to_render\": [], \"line\": 3, \"globals\": {\"i\": 387, \"x\": 388}, \"event\": \"step_line\"}, {\"ordered_globals\": [\"x\", \"i\"], \"heap\": {}, \"stdout\": \"\", \"func_name\": \"<module>\", \"stack_to_render\": [], \"line\": 4, \"globals\": {\"i\": 388, \"x\": 388}, \"event\": \"step_line\"}, {\"ordered_globals\": [\"x\", \"i\"], \"heap\": {}, \"stdout\": \"\", \"func_name\": \"<module>\", \"stack_to_render\": [], \"line\": 3, \"globals\": {\"i\": 388, \"x\": 389}, \"event\": \"step_line\"}, {\"ordered_globals\": [\"x\", \"i\"], \"heap\": {}, \"stdout\": \"\", \"func_name\": \"<module>\", \"stack_to_render\": [], \"line\": 4, \"globals\": {\"i\": 389, \"x\": 389}, \"event\": \"step_line\"}, {\"ordered_globals\": [\"x\", \"i\"], \"heap\": {}, \"stdout\": \"\", \"func_name\": \"<module>\", \"stack_to_render\": [], \"line\": 3, \"globals\": {\"i\": 389, \"x\": 390}, \"event\": \"step_line\"}, {\"ordered_globals\": [\"x\", \"i\"], \"heap\": {}, \"stdout\": \"\", \"func_name\": \"<module>\", \"stack_to_render\": [], \"line\": 4, \"globals\": {\"i\": 390, \"x\": 390}, \"event\": \"step_line\"}, {\"ordered_globals\": [\"x\", \"i\"], \"heap\": {}, \"stdout\": \"\", \"func_name\": \"<module>\", \"stack_to_render\": [], \"line\": 3, \"globals\": {\"i\": 390, \"x\": 391}, \"event\": \"step_line\"}, {\"ordered_globals\": [\"x\", \"i\"], \"heap\": {}, \"stdout\": \"\", \"func_name\": \"<module>\", \"stack_to_render\": [], \"line\": 4, \"globals\": {\"i\": 391, \"x\": 391}, \"event\": \"step_line\"}, {\"ordered_globals\": [\"x\", \"i\"], \"heap\": {}, \"stdout\": \"\", \"func_name\": \"<module>\", \"stack_to_render\": [], \"line\": 3, \"globals\": {\"i\": 391, \"x\": 392}, \"event\": \"step_line\"}, {\"ordered_globals\": [\"x\", \"i\"], \"heap\": {}, \"stdout\": \"\", \"func_name\": \"<module>\", \"stack_to_render\": [], \"line\": 4, \"globals\": {\"i\": 392, \"x\": 392}, \"event\": \"step_line\"}, {\"ordered_globals\": [\"x\", \"i\"], \"heap\": {}, \"stdout\": \"\", \"func_name\": \"<module>\", \"stack_to_render\": [], \"line\": 3, \"globals\": {\"i\": 392, \"x\": 393}, \"event\": \"step_line\"}, {\"ordered_globals\": [\"x\", \"i\"], \"heap\": {}, \"stdout\": \"\", \"func_name\": \"<module>\", \"stack_to_render\": [], \"line\": 4, \"globals\": {\"i\": 393, \"x\": 393}, \"event\": \"step_line\"}, {\"ordered_globals\": [\"x\", \"i\"], \"heap\": {}, \"stdout\": \"\", \"func_name\": \"<module>\", \"stack_to_render\": [], \"line\": 3, \"globals\": {\"i\": 393, \"x\": 394}, \"event\": \"step_line\"}, {\"ordered_globals\": [\"x\", \"i\"], \"heap\": {}, \"stdout\": \"\", \"func_name\": \"<module>\", \"stack_to_render\": [], \"line\": 4, \"globals\": {\"i\": 394, \"x\": 394}, \"event\": \"step_line\"}, {\"ordered_globals\": [\"x\", \"i\"], \"heap\": {}, \"stdout\": \"\", \"func_name\": \"<module>\", \"stack_to_render\": [], \"line\": 3, \"globals\": {\"i\": 394, \"x\": 395}, \"event\": \"step_line\"}, {\"ordered_globals\": [\"x\", \"i\"], \"heap\": {}, \"stdout\": \"\", \"func_name\": \"<module>\", \"stack_to_render\": [], \"line\": 4, \"globals\": {\"i\": 395, \"x\": 395}, \"event\": \"step_line\"}, {\"ordered_globals\": [\"x\", \"i\"], \"heap\": {}, \"stdout\": \"\", \"func_name\": \"<module>\", \"stack_to_render\": [], \"line\": 3, \"globals\": {\"i\": 395, \"x\": 396}, \"event\": \"step_line\"}, {\"ordered_globals\": [\"x\", \"i\"], \"heap\": {}, \"stdout\": \"\", \"func_name\": \"<module>\", \"stack_to_render\": [], \"line\": 4, \"globals\": {\"i\": 396, \"x\": 396}, \"event\": \"step_line\"}, {\"ordered_globals\": [\"x\", \"i\"], \"heap\": {}, \"stdout\": \"\", \"func_name\": \"<module>\", \"stack_to_render\": [], \"line\": 3, \"globals\": {\"i\": 396, \"x\": 397}, \"event\": \"step_line\"}, {\"ordered_globals\": [\"x\", \"i\"], \"heap\": {}, \"stdout\": \"\", \"func_name\": \"<module>\", \"stack_to_render\": [], \"line\": 4, \"globals\": {\"i\": 397, \"x\": 397}, \"event\": \"step_line\"}, {\"ordered_globals\": [\"x\", \"i\"], \"heap\": {}, \"stdout\": \"\", \"func_name\": \"<module>\", \"stack_to_render\": [], \"line\": 3, \"globals\": {\"i\": 397, \"x\": 398}, \"event\": \"step_line\"}, {\"ordered_globals\": [\"x\", \"i\"], \"heap\": {}, \"stdout\": \"\", \"func_name\": \"<module>\", \"stack_to_render\": [], \"line\": 4, \"globals\": {\"i\": 398, \"x\": 398}, \"event\": \"step_line\"}, {\"ordered_globals\": [\"x\", \"i\"], \"heap\": {}, \"stdout\": \"\", \"func_name\": \"<module>\", \"stack_to_render\": [], \"line\": 3, \"globals\": {\"i\": 398, \"x\": 399}, \"event\": \"step_line\"}, {\"ordered_globals\": [\"x\", \"i\"], \"heap\": {}, \"stdout\": \"\", \"func_name\": \"<module>\", \"stack_to_render\": [], \"line\": 4, \"globals\": {\"i\": 399, \"x\": 399}, \"event\": \"step_line\"}, {\"ordered_globals\": [\"x\", \"i\"], \"heap\": {}, \"stdout\": \"\", \"func_name\": \"<module>\", \"stack_to_render\": [], \"line\": 3, \"globals\": {\"i\": 399, \"x\": 400}, \"event\": \"step_line\"}, {\"ordered_globals\": [\"x\", \"i\"], \"heap\": {}, \"stdout\": \"\", \"func_name\": \"<module>\", \"stack_to_render\": [], \"line\": 4, \"globals\": {\"i\": 400, \"x\": 400}, \"event\": \"step_line\"}, {\"ordered_globals\": [\"x\", \"i\"], \"heap\": {}, \"stdout\": \"\", \"func_name\": \"<module>\", \"stack_to_render\": [], \"line\": 3, \"globals\": {\"i\": 400, \"x\": 401}, \"event\": \"step_line\"}, {\"ordered_globals\": [\"x\", \"i\"], \"heap\": {}, \"stdout\": \"\", \"func_name\": \"<module>\", \"stack_to_render\": [], \"line\": 4, \"globals\": {\"i\": 401, \"x\": 401}, \"event\": \"step_line\"}, {\"ordered_globals\": [\"x\", \"i\"], \"heap\": {}, \"stdout\": \"\", \"func_name\": \"<module>\", \"stack_to_render\": [], \"line\": 3, \"globals\": {\"i\": 401, \"x\": 402}, \"event\": \"step_line\"}, {\"ordered_globals\": [\"x\", \"i\"], \"heap\": {}, \"stdout\": \"\", \"func_name\": \"<module>\", \"stack_to_render\": [], \"line\": 4, \"globals\": {\"i\": 402, \"x\": 402}, \"event\": \"step_line\"}, {\"ordered_globals\": [\"x\", \"i\"], \"heap\": {}, \"stdout\": \"\", \"func_name\": \"<module>\", \"stack_to_render\": [], \"line\": 3, \"globals\": {\"i\": 402, \"x\": 403}, \"event\": \"step_line\"}, {\"ordered_globals\": [\"x\", \"i\"], \"heap\": {}, \"stdout\": \"\", \"func_name\": \"<module>\", \"stack_to_render\": [], \"line\": 4, \"globals\": {\"i\": 403, \"x\": 403}, \"event\": \"step_line\"}, {\"ordered_globals\": [\"x\", \"i\"], \"heap\": {}, \"stdout\": \"\", \"func_name\": \"<module>\", \"stack_to_render\": [], \"line\": 3, \"globals\": {\"i\": 403, \"x\": 404}, \"event\": \"step_line\"}, {\"ordered_globals\": [\"x\", \"i\"], \"heap\": {}, \"stdout\": \"\", \"func_name\": \"<module>\", \"stack_to_render\": [], \"line\": 4, \"globals\": {\"i\": 404, \"x\": 404}, \"event\": \"step_line\"}, {\"ordered_globals\": [\"x\", \"i\"], \"heap\": {}, \"stdout\": \"\", \"func_name\": \"<module>\", \"stack_to_render\": [], \"line\": 3, \"globals\": {\"i\": 404, \"x\": 405}, \"event\": \"step_line\"}, {\"ordered_globals\": [\"x\", \"i\"], \"heap\": {}, \"stdout\": \"\", \"func_name\": \"<module>\", \"stack_to_render\": [], \"line\": 4, \"globals\": {\"i\": 405, \"x\": 405}, \"event\": \"step_line\"}, {\"ordered_globals\": [\"x\", \"i\"], \"heap\": {}, \"stdout\": \"\", \"func_name\": \"<module>\", \"stack_to_render\": [], \"line\": 3, \"globals\": {\"i\": 405, \"x\": 406}, \"event\": \"step_line\"}, {\"ordered_globals\": [\"x\", \"i\"], \"heap\": {}, \"stdout\": \"\", \"func_name\": \"<module>\", \"stack_to_render\": [], \"line\": 4, \"globals\": {\"i\": 406, \"x\": 406}, \"event\": \"step_line\"}, {\"ordered_globals\": [\"x\", \"i\"], \"heap\": {}, \"stdout\": \"\", \"func_name\": \"<module>\", \"stack_to_render\": [], \"line\": 3, \"globals\": {\"i\": 406, \"x\": 407}, \"event\": \"step_line\"}, {\"ordered_globals\": [\"x\", \"i\"], \"heap\": {}, \"stdout\": \"\", \"func_name\": \"<module>\", \"stack_to_render\": [], \"line\": 4, \"globals\": {\"i\": 407, \"x\": 407}, \"event\": \"step_line\"}, {\"ordered_globals\": [\"x\", \"i\"], \"heap\": {}, \"stdout\": \"\", \"func_name\": \"<module>\", \"stack_to_render\": [], \"line\": 3, \"globals\": {\"i\": 407, \"x\": 408}, \"event\": \"step_line\"}, {\"ordered_globals\": [\"x\", \"i\"], \"heap\": {}, \"stdout\": \"\", \"func_name\": \"<module>\", \"stack_to_render\": [], \"line\": 4, \"globals\": {\"i\": 408, \"x\": 408}, \"event\": \"step_line\"}, {\"ordered_globals\": [\"x\", \"i\"], \"heap\": {}, \"stdout\": \"\", \"func_name\": \"<module>\", \"stack_to_render\": [], \"line\": 3, \"globals\": {\"i\": 408, \"x\": 409}, \"event\": \"step_line\"}, {\"ordered_globals\": [\"x\", \"i\"], \"heap\": {}, \"stdout\": \"\", \"func_name\": \"<module>\", \"stack_to_render\": [], \"line\": 4, \"globals\": {\"i\": 409, \"x\": 409}, \"event\": \"step_line\"}, {\"ordered_globals\": [\"x\", \"i\"], \"heap\": {}, \"stdout\": \"\", \"func_name\": \"<module>\", \"stack_to_render\": [], \"line\": 3, \"globals\": {\"i\": 409, \"x\": 410}, \"event\": \"step_line\"}, {\"ordered_globals\": [\"x\", \"i\"], \"heap\": {}, \"stdout\": \"\", \"func_name\": \"<module>\", \"stack_to_render\": [], \"line\": 4, \"globals\": {\"i\": 410, \"x\": 410}, \"event\": \"step_line\"}, {\"ordered_globals\": [\"x\", \"i\"], \"heap\": {}, \"stdout\": \"\", \"func_name\": \"<module>\", \"stack_to_render\": [], \"line\": 3, \"globals\": {\"i\": 410, \"x\": 411}, \"event\": \"step_line\"}, {\"ordered_globals\": [\"x\", \"i\"], \"heap\": {}, \"stdout\": \"\", \"func_name\": \"<module>\", \"stack_to_render\": [], \"line\": 4, \"globals\": {\"i\": 411, \"x\": 411}, \"event\": \"step_line\"}, {\"ordered_globals\": [\"x\", \"i\"], \"heap\": {}, \"stdout\": \"\", \"func_name\": \"<module>\", \"stack_to_render\": [], \"line\": 3, \"globals\": {\"i\": 411, \"x\": 412}, \"event\": \"step_line\"}, {\"ordered_globals\": [\"x\", \"i\"], \"heap\": {}, \"stdout\": \"\", \"func_name\": \"<module>\", \"stack_to_render\": [], \"line\": 4, \"globals\": {\"i\": 412, \"x\": 412}, \"event\": \"step_line\"}, {\"ordered_globals\": [\"x\", \"i\"], \"heap\": {}, \"stdout\": \"\", \"func_name\": \"<module>\", \"stack_to_render\": [], \"line\": 3, \"globals\": {\"i\": 412, \"x\": 413}, \"event\": \"step_line\"}, {\"ordered_globals\": [\"x\", \"i\"], \"heap\": {}, \"stdout\": \"\", \"func_name\": \"<module>\", \"stack_to_render\": [], \"line\": 4, \"globals\": {\"i\": 413, \"x\": 413}, \"event\": \"step_line\"}, {\"ordered_globals\": [\"x\", \"i\"], \"heap\": {}, \"stdout\": \"\", \"func_name\": \"<module>\", \"stack_to_render\": [], \"line\": 3, \"globals\": {\"i\": 413, \"x\": 414}, \"event\": \"step_line\"}, {\"ordered_globals\": [\"x\", \"i\"], \"heap\": {}, \"stdout\": \"\", \"func_name\": \"<module>\", \"stack_to_render\": [], \"line\": 4, \"globals\": {\"i\": 414, \"x\": 414}, \"event\": \"step_line\"}, {\"ordered_globals\": [\"x\", \"i\"], \"heap\": {}, \"stdout\": \"\", \"func_name\": \"<module>\", \"stack_to_render\": [], \"line\": 3, \"globals\": {\"i\": 414, \"x\": 415}, \"event\": \"step_line\"}, {\"ordered_globals\": [\"x\", \"i\"], \"heap\": {}, \"stdout\": \"\", \"func_name\": \"<module>\", \"stack_to_render\": [], \"line\": 4, \"globals\": {\"i\": 415, \"x\": 415}, \"event\": \"step_line\"}, {\"ordered_globals\": [\"x\", \"i\"], \"heap\": {}, \"stdout\": \"\", \"func_name\": \"<module>\", \"stack_to_render\": [], \"line\": 3, \"globals\": {\"i\": 415, \"x\": 416}, \"event\": \"step_line\"}, {\"ordered_globals\": [\"x\", \"i\"], \"heap\": {}, \"stdout\": \"\", \"func_name\": \"<module>\", \"stack_to_render\": [], \"line\": 4, \"globals\": {\"i\": 416, \"x\": 416}, \"event\": \"step_line\"}, {\"ordered_globals\": [\"x\", \"i\"], \"heap\": {}, \"stdout\": \"\", \"func_name\": \"<module>\", \"stack_to_render\": [], \"line\": 3, \"globals\": {\"i\": 416, \"x\": 417}, \"event\": \"step_line\"}, {\"ordered_globals\": [\"x\", \"i\"], \"heap\": {}, \"stdout\": \"\", \"func_name\": \"<module>\", \"stack_to_render\": [], \"line\": 4, \"globals\": {\"i\": 417, \"x\": 417}, \"event\": \"step_line\"}, {\"ordered_globals\": [\"x\", \"i\"], \"heap\": {}, \"stdout\": \"\", \"func_name\": \"<module>\", \"stack_to_render\": [], \"line\": 3, \"globals\": {\"i\": 417, \"x\": 418}, \"event\": \"step_line\"}, {\"ordered_globals\": [\"x\", \"i\"], \"heap\": {}, \"stdout\": \"\", \"func_name\": \"<module>\", \"stack_to_render\": [], \"line\": 4, \"globals\": {\"i\": 418, \"x\": 418}, \"event\": \"step_line\"}, {\"ordered_globals\": [\"x\", \"i\"], \"heap\": {}, \"stdout\": \"\", \"func_name\": \"<module>\", \"stack_to_render\": [], \"line\": 3, \"globals\": {\"i\": 418, \"x\": 419}, \"event\": \"step_line\"}, {\"ordered_globals\": [\"x\", \"i\"], \"heap\": {}, \"stdout\": \"\", \"func_name\": \"<module>\", \"stack_to_render\": [], \"line\": 4, \"globals\": {\"i\": 419, \"x\": 419}, \"event\": \"step_line\"}, {\"ordered_globals\": [\"x\", \"i\"], \"heap\": {}, \"stdout\": \"\", \"func_name\": \"<module>\", \"stack_to_render\": [], \"line\": 3, \"globals\": {\"i\": 419, \"x\": 420}, \"event\": \"step_line\"}, {\"ordered_globals\": [\"x\", \"i\"], \"heap\": {}, \"stdout\": \"\", \"func_name\": \"<module>\", \"stack_to_render\": [], \"line\": 4, \"globals\": {\"i\": 420, \"x\": 420}, \"event\": \"step_line\"}, {\"ordered_globals\": [\"x\", \"i\"], \"heap\": {}, \"stdout\": \"\", \"func_name\": \"<module>\", \"stack_to_render\": [], \"line\": 3, \"globals\": {\"i\": 420, \"x\": 421}, \"event\": \"step_line\"}, {\"ordered_globals\": [\"x\", \"i\"], \"heap\": {}, \"stdout\": \"\", \"func_name\": \"<module>\", \"stack_to_render\": [], \"line\": 4, \"globals\": {\"i\": 421, \"x\": 421}, \"event\": \"step_line\"}, {\"ordered_globals\": [\"x\", \"i\"], \"heap\": {}, \"stdout\": \"\", \"func_name\": \"<module>\", \"stack_to_render\": [], \"line\": 3, \"globals\": {\"i\": 421, \"x\": 422}, \"event\": \"step_line\"}, {\"ordered_globals\": [\"x\", \"i\"], \"heap\": {}, \"stdout\": \"\", \"func_name\": \"<module>\", \"stack_to_render\": [], \"line\": 4, \"globals\": {\"i\": 422, \"x\": 422}, \"event\": \"step_line\"}, {\"ordered_globals\": [\"x\", \"i\"], \"heap\": {}, \"stdout\": \"\", \"func_name\": \"<module>\", \"stack_to_render\": [], \"line\": 3, \"globals\": {\"i\": 422, \"x\": 423}, \"event\": \"step_line\"}, {\"ordered_globals\": [\"x\", \"i\"], \"heap\": {}, \"stdout\": \"\", \"func_name\": \"<module>\", \"stack_to_render\": [], \"line\": 4, \"globals\": {\"i\": 423, \"x\": 423}, \"event\": \"step_line\"}, {\"ordered_globals\": [\"x\", \"i\"], \"heap\": {}, \"stdout\": \"\", \"func_name\": \"<module>\", \"stack_to_render\": [], \"line\": 3, \"globals\": {\"i\": 423, \"x\": 424}, \"event\": \"step_line\"}, {\"ordered_globals\": [\"x\", \"i\"], \"heap\": {}, \"stdout\": \"\", \"func_name\": \"<module>\", \"stack_to_render\": [], \"line\": 4, \"globals\": {\"i\": 424, \"x\": 424}, \"event\": \"step_line\"}, {\"ordered_globals\": [\"x\", \"i\"], \"heap\": {}, \"stdout\": \"\", \"func_name\": \"<module>\", \"stack_to_render\": [], \"line\": 3, \"globals\": {\"i\": 424, \"x\": 425}, \"event\": \"step_line\"}, {\"ordered_globals\": [\"x\", \"i\"], \"heap\": {}, \"stdout\": \"\", \"func_name\": \"<module>\", \"stack_to_render\": [], \"line\": 4, \"globals\": {\"i\": 425, \"x\": 425}, \"event\": \"step_line\"}, {\"ordered_globals\": [\"x\", \"i\"], \"heap\": {}, \"stdout\": \"\", \"func_name\": \"<module>\", \"stack_to_render\": [], \"line\": 3, \"globals\": {\"i\": 425, \"x\": 426}, \"event\": \"step_line\"}, {\"ordered_globals\": [\"x\", \"i\"], \"heap\": {}, \"stdout\": \"\", \"func_name\": \"<module>\", \"stack_to_render\": [], \"line\": 4, \"globals\": {\"i\": 426, \"x\": 426}, \"event\": \"step_line\"}, {\"ordered_globals\": [\"x\", \"i\"], \"heap\": {}, \"stdout\": \"\", \"func_name\": \"<module>\", \"stack_to_render\": [], \"line\": 3, \"globals\": {\"i\": 426, \"x\": 427}, \"event\": \"step_line\"}, {\"ordered_globals\": [\"x\", \"i\"], \"heap\": {}, \"stdout\": \"\", \"func_name\": \"<module>\", \"stack_to_render\": [], \"line\": 4, \"globals\": {\"i\": 427, \"x\": 427}, \"event\": \"step_line\"}, {\"ordered_globals\": [\"x\", \"i\"], \"heap\": {}, \"stdout\": \"\", \"func_name\": \"<module>\", \"stack_to_render\": [], \"line\": 3, \"globals\": {\"i\": 427, \"x\": 428}, \"event\": \"step_line\"}, {\"ordered_globals\": [\"x\", \"i\"], \"heap\": {}, \"stdout\": \"\", \"func_name\": \"<module>\", \"stack_to_render\": [], \"line\": 4, \"globals\": {\"i\": 428, \"x\": 428}, \"event\": \"step_line\"}, {\"ordered_globals\": [\"x\", \"i\"], \"heap\": {}, \"stdout\": \"\", \"func_name\": \"<module>\", \"stack_to_render\": [], \"line\": 3, \"globals\": {\"i\": 428, \"x\": 429}, \"event\": \"step_line\"}, {\"ordered_globals\": [\"x\", \"i\"], \"heap\": {}, \"stdout\": \"\", \"func_name\": \"<module>\", \"stack_to_render\": [], \"line\": 4, \"globals\": {\"i\": 429, \"x\": 429}, \"event\": \"step_line\"}, {\"ordered_globals\": [\"x\", \"i\"], \"heap\": {}, \"stdout\": \"\", \"func_name\": \"<module>\", \"stack_to_render\": [], \"line\": 3, \"globals\": {\"i\": 429, \"x\": 430}, \"event\": \"step_line\"}, {\"ordered_globals\": [\"x\", \"i\"], \"heap\": {}, \"stdout\": \"\", \"func_name\": \"<module>\", \"stack_to_render\": [], \"line\": 4, \"globals\": {\"i\": 430, \"x\": 430}, \"event\": \"step_line\"}, {\"ordered_globals\": [\"x\", \"i\"], \"heap\": {}, \"stdout\": \"\", \"func_name\": \"<module>\", \"stack_to_render\": [], \"line\": 3, \"globals\": {\"i\": 430, \"x\": 431}, \"event\": \"step_line\"}, {\"ordered_globals\": [\"x\", \"i\"], \"heap\": {}, \"stdout\": \"\", \"func_name\": \"<module>\", \"stack_to_render\": [], \"line\": 4, \"globals\": {\"i\": 431, \"x\": 431}, \"event\": \"step_line\"}, {\"ordered_globals\": [\"x\", \"i\"], \"heap\": {}, \"stdout\": \"\", \"func_name\": \"<module>\", \"stack_to_render\": [], \"line\": 3, \"globals\": {\"i\": 431, \"x\": 432}, \"event\": \"step_line\"}, {\"ordered_globals\": [\"x\", \"i\"], \"heap\": {}, \"stdout\": \"\", \"func_name\": \"<module>\", \"stack_to_render\": [], \"line\": 4, \"globals\": {\"i\": 432, \"x\": 432}, \"event\": \"step_line\"}, {\"ordered_globals\": [\"x\", \"i\"], \"heap\": {}, \"stdout\": \"\", \"func_name\": \"<module>\", \"stack_to_render\": [], \"line\": 3, \"globals\": {\"i\": 432, \"x\": 433}, \"event\": \"step_line\"}, {\"ordered_globals\": [\"x\", \"i\"], \"heap\": {}, \"stdout\": \"\", \"func_name\": \"<module>\", \"stack_to_render\": [], \"line\": 4, \"globals\": {\"i\": 433, \"x\": 433}, \"event\": \"step_line\"}, {\"ordered_globals\": [\"x\", \"i\"], \"heap\": {}, \"stdout\": \"\", \"func_name\": \"<module>\", \"stack_to_render\": [], \"line\": 3, \"globals\": {\"i\": 433, \"x\": 434}, \"event\": \"step_line\"}, {\"ordered_globals\": [\"x\", \"i\"], \"heap\": {}, \"stdout\": \"\", \"func_name\": \"<module>\", \"stack_to_render\": [], \"line\": 4, \"globals\": {\"i\": 434, \"x\": 434}, \"event\": \"step_line\"}, {\"ordered_globals\": [\"x\", \"i\"], \"heap\": {}, \"stdout\": \"\", \"func_name\": \"<module>\", \"stack_to_render\": [], \"line\": 3, \"globals\": {\"i\": 434, \"x\": 435}, \"event\": \"step_line\"}, {\"ordered_globals\": [\"x\", \"i\"], \"heap\": {}, \"stdout\": \"\", \"func_name\": \"<module>\", \"stack_to_render\": [], \"line\": 4, \"globals\": {\"i\": 435, \"x\": 435}, \"event\": \"step_line\"}, {\"ordered_globals\": [\"x\", \"i\"], \"heap\": {}, \"stdout\": \"\", \"func_name\": \"<module>\", \"stack_to_render\": [], \"line\": 3, \"globals\": {\"i\": 435, \"x\": 436}, \"event\": \"step_line\"}, {\"ordered_globals\": [\"x\", \"i\"], \"heap\": {}, \"stdout\": \"\", \"func_name\": \"<module>\", \"stack_to_render\": [], \"line\": 4, \"globals\": {\"i\": 436, \"x\": 436}, \"event\": \"step_line\"}, {\"ordered_globals\": [\"x\", \"i\"], \"heap\": {}, \"stdout\": \"\", \"func_name\": \"<module>\", \"stack_to_render\": [], \"line\": 3, \"globals\": {\"i\": 436, \"x\": 437}, \"event\": \"step_line\"}, {\"ordered_globals\": [\"x\", \"i\"], \"heap\": {}, \"stdout\": \"\", \"func_name\": \"<module>\", \"stack_to_render\": [], \"line\": 4, \"globals\": {\"i\": 437, \"x\": 437}, \"event\": \"step_line\"}, {\"ordered_globals\": [\"x\", \"i\"], \"heap\": {}, \"stdout\": \"\", \"func_name\": \"<module>\", \"stack_to_render\": [], \"line\": 3, \"globals\": {\"i\": 437, \"x\": 438}, \"event\": \"step_line\"}, {\"ordered_globals\": [\"x\", \"i\"], \"heap\": {}, \"stdout\": \"\", \"func_name\": \"<module>\", \"stack_to_render\": [], \"line\": 4, \"globals\": {\"i\": 438, \"x\": 438}, \"event\": \"step_line\"}, {\"ordered_globals\": [\"x\", \"i\"], \"heap\": {}, \"stdout\": \"\", \"func_name\": \"<module>\", \"stack_to_render\": [], \"line\": 3, \"globals\": {\"i\": 438, \"x\": 439}, \"event\": \"step_line\"}, {\"ordered_globals\": [\"x\", \"i\"], \"heap\": {}, \"stdout\": \"\", \"func_name\": \"<module>\", \"stack_to_render\": [], \"line\": 4, \"globals\": {\"i\": 439, \"x\": 439}, \"event\": \"step_line\"}, {\"ordered_globals\": [\"x\", \"i\"], \"heap\": {}, \"stdout\": \"\", \"func_name\": \"<module>\", \"stack_to_render\": [], \"line\": 3, \"globals\": {\"i\": 439, \"x\": 440}, \"event\": \"step_line\"}, {\"ordered_globals\": [\"x\", \"i\"], \"heap\": {}, \"stdout\": \"\", \"func_name\": \"<module>\", \"stack_to_render\": [], \"line\": 4, \"globals\": {\"i\": 440, \"x\": 440}, \"event\": \"step_line\"}, {\"ordered_globals\": [\"x\", \"i\"], \"heap\": {}, \"stdout\": \"\", \"func_name\": \"<module>\", \"stack_to_render\": [], \"line\": 3, \"globals\": {\"i\": 440, \"x\": 441}, \"event\": \"step_line\"}, {\"ordered_globals\": [\"x\", \"i\"], \"heap\": {}, \"stdout\": \"\", \"func_name\": \"<module>\", \"stack_to_render\": [], \"line\": 4, \"globals\": {\"i\": 441, \"x\": 441}, \"event\": \"step_line\"}, {\"ordered_globals\": [\"x\", \"i\"], \"heap\": {}, \"stdout\": \"\", \"func_name\": \"<module>\", \"stack_to_render\": [], \"line\": 3, \"globals\": {\"i\": 441, \"x\": 442}, \"event\": \"step_line\"}, {\"ordered_globals\": [\"x\", \"i\"], \"heap\": {}, \"stdout\": \"\", \"func_name\": \"<module>\", \"stack_to_render\": [], \"line\": 4, \"globals\": {\"i\": 442, \"x\": 442}, \"event\": \"step_line\"}, {\"ordered_globals\": [\"x\", \"i\"], \"heap\": {}, \"stdout\": \"\", \"func_name\": \"<module>\", \"stack_to_render\": [], \"line\": 3, \"globals\": {\"i\": 442, \"x\": 443}, \"event\": \"step_line\"}, {\"ordered_globals\": [\"x\", \"i\"], \"heap\": {}, \"stdout\": \"\", \"func_name\": \"<module>\", \"stack_to_render\": [], \"line\": 4, \"globals\": {\"i\": 443, \"x\": 443}, \"event\": \"step_line\"}, {\"ordered_globals\": [\"x\", \"i\"], \"heap\": {}, \"stdout\": \"\", \"func_name\": \"<module>\", \"stack_to_render\": [], \"line\": 3, \"globals\": {\"i\": 443, \"x\": 444}, \"event\": \"step_line\"}, {\"ordered_globals\": [\"x\", \"i\"], \"heap\": {}, \"stdout\": \"\", \"func_name\": \"<module>\", \"stack_to_render\": [], \"line\": 4, \"globals\": {\"i\": 444, \"x\": 444}, \"event\": \"step_line\"}, {\"ordered_globals\": [\"x\", \"i\"], \"heap\": {}, \"stdout\": \"\", \"func_name\": \"<module>\", \"stack_to_render\": [], \"line\": 3, \"globals\": {\"i\": 444, \"x\": 445}, \"event\": \"step_line\"}, {\"ordered_globals\": [\"x\", \"i\"], \"heap\": {}, \"stdout\": \"\", \"func_name\": \"<module>\", \"stack_to_render\": [], \"line\": 4, \"globals\": {\"i\": 445, \"x\": 445}, \"event\": \"step_line\"}, {\"ordered_globals\": [\"x\", \"i\"], \"heap\": {}, \"stdout\": \"\", \"func_name\": \"<module>\", \"stack_to_render\": [], \"line\": 3, \"globals\": {\"i\": 445, \"x\": 446}, \"event\": \"step_line\"}, {\"ordered_globals\": [\"x\", \"i\"], \"heap\": {}, \"stdout\": \"\", \"func_name\": \"<module>\", \"stack_to_render\": [], \"line\": 4, \"globals\": {\"i\": 446, \"x\": 446}, \"event\": \"step_line\"}, {\"ordered_globals\": [\"x\", \"i\"], \"heap\": {}, \"stdout\": \"\", \"func_name\": \"<module>\", \"stack_to_render\": [], \"line\": 3, \"globals\": {\"i\": 446, \"x\": 447}, \"event\": \"step_line\"}, {\"ordered_globals\": [\"x\", \"i\"], \"heap\": {}, \"stdout\": \"\", \"func_name\": \"<module>\", \"stack_to_render\": [], \"line\": 4, \"globals\": {\"i\": 447, \"x\": 447}, \"event\": \"step_line\"}, {\"ordered_globals\": [\"x\", \"i\"], \"heap\": {}, \"stdout\": \"\", \"func_name\": \"<module>\", \"stack_to_render\": [], \"line\": 3, \"globals\": {\"i\": 447, \"x\": 448}, \"event\": \"step_line\"}, {\"ordered_globals\": [\"x\", \"i\"], \"heap\": {}, \"stdout\": \"\", \"func_name\": \"<module>\", \"stack_to_render\": [], \"line\": 4, \"globals\": {\"i\": 448, \"x\": 448}, \"event\": \"step_line\"}, {\"ordered_globals\": [\"x\", \"i\"], \"heap\": {}, \"stdout\": \"\", \"func_name\": \"<module>\", \"stack_to_render\": [], \"line\": 3, \"globals\": {\"i\": 448, \"x\": 449}, \"event\": \"step_line\"}, {\"ordered_globals\": [\"x\", \"i\"], \"heap\": {}, \"stdout\": \"\", \"func_name\": \"<module>\", \"stack_to_render\": [], \"line\": 4, \"globals\": {\"i\": 449, \"x\": 449}, \"event\": \"step_line\"}, {\"ordered_globals\": [\"x\", \"i\"], \"heap\": {}, \"stdout\": \"\", \"func_name\": \"<module>\", \"stack_to_render\": [], \"line\": 3, \"globals\": {\"i\": 449, \"x\": 450}, \"event\": \"step_line\"}, {\"ordered_globals\": [\"x\", \"i\"], \"heap\": {}, \"stdout\": \"\", \"func_name\": \"<module>\", \"stack_to_render\": [], \"line\": 4, \"globals\": {\"i\": 450, \"x\": 450}, \"event\": \"step_line\"}, {\"ordered_globals\": [\"x\", \"i\"], \"heap\": {}, \"stdout\": \"\", \"func_name\": \"<module>\", \"stack_to_render\": [], \"line\": 3, \"globals\": {\"i\": 450, \"x\": 451}, \"event\": \"step_line\"}, {\"ordered_globals\": [\"x\", \"i\"], \"heap\": {}, \"stdout\": \"\", \"func_name\": \"<module>\", \"stack_to_render\": [], \"line\": 4, \"globals\": {\"i\": 451, \"x\": 451}, \"event\": \"step_line\"}, {\"ordered_globals\": [\"x\", \"i\"], \"heap\": {}, \"stdout\": \"\", \"func_name\": \"<module>\", \"stack_to_render\": [], \"line\": 3, \"globals\": {\"i\": 451, \"x\": 452}, \"event\": \"step_line\"}, {\"ordered_globals\": [\"x\", \"i\"], \"heap\": {}, \"stdout\": \"\", \"func_name\": \"<module>\", \"stack_to_render\": [], \"line\": 4, \"globals\": {\"i\": 452, \"x\": 452}, \"event\": \"step_line\"}, {\"ordered_globals\": [\"x\", \"i\"], \"heap\": {}, \"stdout\": \"\", \"func_name\": \"<module>\", \"stack_to_render\": [], \"line\": 3, \"globals\": {\"i\": 452, \"x\": 453}, \"event\": \"step_line\"}, {\"ordered_globals\": [\"x\", \"i\"], \"heap\": {}, \"stdout\": \"\", \"func_name\": \"<module>\", \"stack_to_render\": [], \"line\": 4, \"globals\": {\"i\": 453, \"x\": 453}, \"event\": \"step_line\"}, {\"ordered_globals\": [\"x\", \"i\"], \"heap\": {}, \"stdout\": \"\", \"func_name\": \"<module>\", \"stack_to_render\": [], \"line\": 3, \"globals\": {\"i\": 453, \"x\": 454}, \"event\": \"step_line\"}, {\"ordered_globals\": [\"x\", \"i\"], \"heap\": {}, \"stdout\": \"\", \"func_name\": \"<module>\", \"stack_to_render\": [], \"line\": 4, \"globals\": {\"i\": 454, \"x\": 454}, \"event\": \"step_line\"}, {\"ordered_globals\": [\"x\", \"i\"], \"heap\": {}, \"stdout\": \"\", \"func_name\": \"<module>\", \"stack_to_render\": [], \"line\": 3, \"globals\": {\"i\": 454, \"x\": 455}, \"event\": \"step_line\"}, {\"ordered_globals\": [\"x\", \"i\"], \"heap\": {}, \"stdout\": \"\", \"func_name\": \"<module>\", \"stack_to_render\": [], \"line\": 4, \"globals\": {\"i\": 455, \"x\": 455}, \"event\": \"step_line\"}, {\"ordered_globals\": [\"x\", \"i\"], \"heap\": {}, \"stdout\": \"\", \"func_name\": \"<module>\", \"stack_to_render\": [], \"line\": 3, \"globals\": {\"i\": 455, \"x\": 456}, \"event\": \"step_line\"}, {\"ordered_globals\": [\"x\", \"i\"], \"heap\": {}, \"stdout\": \"\", \"func_name\": \"<module>\", \"stack_to_render\": [], \"line\": 4, \"globals\": {\"i\": 456, \"x\": 456}, \"event\": \"step_line\"}, {\"ordered_globals\": [\"x\", \"i\"], \"heap\": {}, \"stdout\": \"\", \"func_name\": \"<module>\", \"stack_to_render\": [], \"line\": 3, \"globals\": {\"i\": 456, \"x\": 457}, \"event\": \"step_line\"}, {\"ordered_globals\": [\"x\", \"i\"], \"heap\": {}, \"stdout\": \"\", \"func_name\": \"<module>\", \"stack_to_render\": [], \"line\": 4, \"globals\": {\"i\": 457, \"x\": 457}, \"event\": \"step_line\"}, {\"ordered_globals\": [\"x\", \"i\"], \"heap\": {}, \"stdout\": \"\", \"func_name\": \"<module>\", \"stack_to_render\": [], \"line\": 3, \"globals\": {\"i\": 457, \"x\": 458}, \"event\": \"step_line\"}, {\"ordered_globals\": [\"x\", \"i\"], \"heap\": {}, \"stdout\": \"\", \"func_name\": \"<module>\", \"stack_to_render\": [], \"line\": 4, \"globals\": {\"i\": 458, \"x\": 458}, \"event\": \"step_line\"}, {\"ordered_globals\": [\"x\", \"i\"], \"heap\": {}, \"stdout\": \"\", \"func_name\": \"<module>\", \"stack_to_render\": [], \"line\": 3, \"globals\": {\"i\": 458, \"x\": 459}, \"event\": \"step_line\"}, {\"ordered_globals\": [\"x\", \"i\"], \"heap\": {}, \"stdout\": \"\", \"func_name\": \"<module>\", \"stack_to_render\": [], \"line\": 4, \"globals\": {\"i\": 459, \"x\": 459}, \"event\": \"step_line\"}, {\"ordered_globals\": [\"x\", \"i\"], \"heap\": {}, \"stdout\": \"\", \"func_name\": \"<module>\", \"stack_to_render\": [], \"line\": 3, \"globals\": {\"i\": 459, \"x\": 460}, \"event\": \"step_line\"}, {\"ordered_globals\": [\"x\", \"i\"], \"heap\": {}, \"stdout\": \"\", \"func_name\": \"<module>\", \"stack_to_render\": [], \"line\": 4, \"globals\": {\"i\": 460, \"x\": 460}, \"event\": \"step_line\"}, {\"ordered_globals\": [\"x\", \"i\"], \"heap\": {}, \"stdout\": \"\", \"func_name\": \"<module>\", \"stack_to_render\": [], \"line\": 3, \"globals\": {\"i\": 460, \"x\": 461}, \"event\": \"step_line\"}, {\"ordered_globals\": [\"x\", \"i\"], \"heap\": {}, \"stdout\": \"\", \"func_name\": \"<module>\", \"stack_to_render\": [], \"line\": 4, \"globals\": {\"i\": 461, \"x\": 461}, \"event\": \"step_line\"}, {\"ordered_globals\": [\"x\", \"i\"], \"heap\": {}, \"stdout\": \"\", \"func_name\": \"<module>\", \"stack_to_render\": [], \"line\": 3, \"globals\": {\"i\": 461, \"x\": 462}, \"event\": \"step_line\"}, {\"ordered_globals\": [\"x\", \"i\"], \"heap\": {}, \"stdout\": \"\", \"func_name\": \"<module>\", \"stack_to_render\": [], \"line\": 4, \"globals\": {\"i\": 462, \"x\": 462}, \"event\": \"step_line\"}, {\"ordered_globals\": [\"x\", \"i\"], \"heap\": {}, \"stdout\": \"\", \"func_name\": \"<module>\", \"stack_to_render\": [], \"line\": 3, \"globals\": {\"i\": 462, \"x\": 463}, \"event\": \"step_line\"}, {\"ordered_globals\": [\"x\", \"i\"], \"heap\": {}, \"stdout\": \"\", \"func_name\": \"<module>\", \"stack_to_render\": [], \"line\": 4, \"globals\": {\"i\": 463, \"x\": 463}, \"event\": \"step_line\"}, {\"ordered_globals\": [\"x\", \"i\"], \"heap\": {}, \"stdout\": \"\", \"func_name\": \"<module>\", \"stack_to_render\": [], \"line\": 3, \"globals\": {\"i\": 463, \"x\": 464}, \"event\": \"step_line\"}, {\"ordered_globals\": [\"x\", \"i\"], \"heap\": {}, \"stdout\": \"\", \"func_name\": \"<module>\", \"stack_to_render\": [], \"line\": 4, \"globals\": {\"i\": 464, \"x\": 464}, \"event\": \"step_line\"}, {\"ordered_globals\": [\"x\", \"i\"], \"heap\": {}, \"stdout\": \"\", \"func_name\": \"<module>\", \"stack_to_render\": [], \"line\": 3, \"globals\": {\"i\": 464, \"x\": 465}, \"event\": \"step_line\"}, {\"ordered_globals\": [\"x\", \"i\"], \"heap\": {}, \"stdout\": \"\", \"func_name\": \"<module>\", \"stack_to_render\": [], \"line\": 4, \"globals\": {\"i\": 465, \"x\": 465}, \"event\": \"step_line\"}, {\"ordered_globals\": [\"x\", \"i\"], \"heap\": {}, \"stdout\": \"\", \"func_name\": \"<module>\", \"stack_to_render\": [], \"line\": 3, \"globals\": {\"i\": 465, \"x\": 466}, \"event\": \"step_line\"}, {\"ordered_globals\": [\"x\", \"i\"], \"heap\": {}, \"stdout\": \"\", \"func_name\": \"<module>\", \"stack_to_render\": [], \"line\": 4, \"globals\": {\"i\": 466, \"x\": 466}, \"event\": \"step_line\"}, {\"ordered_globals\": [\"x\", \"i\"], \"heap\": {}, \"stdout\": \"\", \"func_name\": \"<module>\", \"stack_to_render\": [], \"line\": 3, \"globals\": {\"i\": 466, \"x\": 467}, \"event\": \"step_line\"}, {\"ordered_globals\": [\"x\", \"i\"], \"heap\": {}, \"stdout\": \"\", \"func_name\": \"<module>\", \"stack_to_render\": [], \"line\": 4, \"globals\": {\"i\": 467, \"x\": 467}, \"event\": \"step_line\"}, {\"ordered_globals\": [\"x\", \"i\"], \"heap\": {}, \"stdout\": \"\", \"func_name\": \"<module>\", \"stack_to_render\": [], \"line\": 3, \"globals\": {\"i\": 467, \"x\": 468}, \"event\": \"step_line\"}, {\"ordered_globals\": [\"x\", \"i\"], \"heap\": {}, \"stdout\": \"\", \"func_name\": \"<module>\", \"stack_to_render\": [], \"line\": 4, \"globals\": {\"i\": 468, \"x\": 468}, \"event\": \"step_line\"}, {\"ordered_globals\": [\"x\", \"i\"], \"heap\": {}, \"stdout\": \"\", \"func_name\": \"<module>\", \"stack_to_render\": [], \"line\": 3, \"globals\": {\"i\": 468, \"x\": 469}, \"event\": \"step_line\"}, {\"ordered_globals\": [\"x\", \"i\"], \"heap\": {}, \"stdout\": \"\", \"func_name\": \"<module>\", \"stack_to_render\": [], \"line\": 4, \"globals\": {\"i\": 469, \"x\": 469}, \"event\": \"step_line\"}, {\"ordered_globals\": [\"x\", \"i\"], \"heap\": {}, \"stdout\": \"\", \"func_name\": \"<module>\", \"stack_to_render\": [], \"line\": 3, \"globals\": {\"i\": 469, \"x\": 470}, \"event\": \"step_line\"}, {\"ordered_globals\": [\"x\", \"i\"], \"heap\": {}, \"stdout\": \"\", \"func_name\": \"<module>\", \"stack_to_render\": [], \"line\": 4, \"globals\": {\"i\": 470, \"x\": 470}, \"event\": \"step_line\"}, {\"ordered_globals\": [\"x\", \"i\"], \"heap\": {}, \"stdout\": \"\", \"func_name\": \"<module>\", \"stack_to_render\": [], \"line\": 3, \"globals\": {\"i\": 470, \"x\": 471}, \"event\": \"step_line\"}, {\"ordered_globals\": [\"x\", \"i\"], \"heap\": {}, \"stdout\": \"\", \"func_name\": \"<module>\", \"stack_to_render\": [], \"line\": 4, \"globals\": {\"i\": 471, \"x\": 471}, \"event\": \"step_line\"}, {\"ordered_globals\": [\"x\", \"i\"], \"heap\": {}, \"stdout\": \"\", \"func_name\": \"<module>\", \"stack_to_render\": [], \"line\": 3, \"globals\": {\"i\": 471, \"x\": 472}, \"event\": \"step_line\"}, {\"ordered_globals\": [\"x\", \"i\"], \"heap\": {}, \"stdout\": \"\", \"func_name\": \"<module>\", \"stack_to_render\": [], \"line\": 4, \"globals\": {\"i\": 472, \"x\": 472}, \"event\": \"step_line\"}, {\"ordered_globals\": [\"x\", \"i\"], \"heap\": {}, \"stdout\": \"\", \"func_name\": \"<module>\", \"stack_to_render\": [], \"line\": 3, \"globals\": {\"i\": 472, \"x\": 473}, \"event\": \"step_line\"}, {\"ordered_globals\": [\"x\", \"i\"], \"heap\": {}, \"stdout\": \"\", \"func_name\": \"<module>\", \"stack_to_render\": [], \"line\": 4, \"globals\": {\"i\": 473, \"x\": 473}, \"event\": \"step_line\"}, {\"ordered_globals\": [\"x\", \"i\"], \"heap\": {}, \"stdout\": \"\", \"func_name\": \"<module>\", \"stack_to_render\": [], \"line\": 3, \"globals\": {\"i\": 473, \"x\": 474}, \"event\": \"step_line\"}, {\"ordered_globals\": [\"x\", \"i\"], \"heap\": {}, \"stdout\": \"\", \"func_name\": \"<module>\", \"stack_to_render\": [], \"line\": 4, \"globals\": {\"i\": 474, \"x\": 474}, \"event\": \"step_line\"}, {\"ordered_globals\": [\"x\", \"i\"], \"heap\": {}, \"stdout\": \"\", \"func_name\": \"<module>\", \"stack_to_render\": [], \"line\": 3, \"globals\": {\"i\": 474, \"x\": 475}, \"event\": \"step_line\"}, {\"ordered_globals\": [\"x\", \"i\"], \"heap\": {}, \"stdout\": \"\", \"func_name\": \"<module>\", \"stack_to_render\": [], \"line\": 4, \"globals\": {\"i\": 475, \"x\": 475}, \"event\": \"step_line\"}, {\"ordered_globals\": [\"x\", \"i\"], \"heap\": {}, \"stdout\": \"\", \"func_name\": \"<module>\", \"stack_to_render\": [], \"line\": 3, \"globals\": {\"i\": 475, \"x\": 476}, \"event\": \"step_line\"}, {\"ordered_globals\": [\"x\", \"i\"], \"heap\": {}, \"stdout\": \"\", \"func_name\": \"<module>\", \"stack_to_render\": [], \"line\": 4, \"globals\": {\"i\": 476, \"x\": 476}, \"event\": \"step_line\"}, {\"ordered_globals\": [\"x\", \"i\"], \"heap\": {}, \"stdout\": \"\", \"func_name\": \"<module>\", \"stack_to_render\": [], \"line\": 3, \"globals\": {\"i\": 476, \"x\": 477}, \"event\": \"step_line\"}, {\"ordered_globals\": [\"x\", \"i\"], \"heap\": {}, \"stdout\": \"\", \"func_name\": \"<module>\", \"stack_to_render\": [], \"line\": 4, \"globals\": {\"i\": 477, \"x\": 477}, \"event\": \"step_line\"}, {\"ordered_globals\": [\"x\", \"i\"], \"heap\": {}, \"stdout\": \"\", \"func_name\": \"<module>\", \"stack_to_render\": [], \"line\": 3, \"globals\": {\"i\": 477, \"x\": 478}, \"event\": \"step_line\"}, {\"ordered_globals\": [\"x\", \"i\"], \"heap\": {}, \"stdout\": \"\", \"func_name\": \"<module>\", \"stack_to_render\": [], \"line\": 4, \"globals\": {\"i\": 478, \"x\": 478}, \"event\": \"step_line\"}, {\"ordered_globals\": [\"x\", \"i\"], \"heap\": {}, \"stdout\": \"\", \"func_name\": \"<module>\", \"stack_to_render\": [], \"line\": 3, \"globals\": {\"i\": 478, \"x\": 479}, \"event\": \"step_line\"}, {\"ordered_globals\": [\"x\", \"i\"], \"heap\": {}, \"stdout\": \"\", \"func_name\": \"<module>\", \"stack_to_render\": [], \"line\": 4, \"globals\": {\"i\": 479, \"x\": 479}, \"event\": \"step_line\"}, {\"ordered_globals\": [\"x\", \"i\"], \"heap\": {}, \"stdout\": \"\", \"func_name\": \"<module>\", \"stack_to_render\": [], \"line\": 3, \"globals\": {\"i\": 479, \"x\": 480}, \"event\": \"step_line\"}, {\"ordered_globals\": [\"x\", \"i\"], \"heap\": {}, \"stdout\": \"\", \"func_name\": \"<module>\", \"stack_to_render\": [], \"line\": 4, \"globals\": {\"i\": 480, \"x\": 480}, \"event\": \"step_line\"}, {\"ordered_globals\": [\"x\", \"i\"], \"heap\": {}, \"stdout\": \"\", \"func_name\": \"<module>\", \"stack_to_render\": [], \"line\": 3, \"globals\": {\"i\": 480, \"x\": 481}, \"event\": \"step_line\"}, {\"ordered_globals\": [\"x\", \"i\"], \"heap\": {}, \"stdout\": \"\", \"func_name\": \"<module>\", \"stack_to_render\": [], \"line\": 4, \"globals\": {\"i\": 481, \"x\": 481}, \"event\": \"step_line\"}, {\"ordered_globals\": [\"x\", \"i\"], \"heap\": {}, \"stdout\": \"\", \"func_name\": \"<module>\", \"stack_to_render\": [], \"line\": 3, \"globals\": {\"i\": 481, \"x\": 482}, \"event\": \"step_line\"}, {\"ordered_globals\": [\"x\", \"i\"], \"heap\": {}, \"stdout\": \"\", \"func_name\": \"<module>\", \"stack_to_render\": [], \"line\": 4, \"globals\": {\"i\": 482, \"x\": 482}, \"event\": \"step_line\"}, {\"ordered_globals\": [\"x\", \"i\"], \"heap\": {}, \"stdout\": \"\", \"func_name\": \"<module>\", \"stack_to_render\": [], \"line\": 3, \"globals\": {\"i\": 482, \"x\": 483}, \"event\": \"step_line\"}, {\"ordered_globals\": [\"x\", \"i\"], \"heap\": {}, \"stdout\": \"\", \"func_name\": \"<module>\", \"stack_to_render\": [], \"line\": 4, \"globals\": {\"i\": 483, \"x\": 483}, \"event\": \"step_line\"}, {\"ordered_globals\": [\"x\", \"i\"], \"heap\": {}, \"stdout\": \"\", \"func_name\": \"<module>\", \"stack_to_render\": [], \"line\": 3, \"globals\": {\"i\": 483, \"x\": 484}, \"event\": \"step_line\"}, {\"ordered_globals\": [\"x\", \"i\"], \"heap\": {}, \"stdout\": \"\", \"func_name\": \"<module>\", \"stack_to_render\": [], \"line\": 4, \"globals\": {\"i\": 484, \"x\": 484}, \"event\": \"step_line\"}, {\"ordered_globals\": [\"x\", \"i\"], \"heap\": {}, \"stdout\": \"\", \"func_name\": \"<module>\", \"stack_to_render\": [], \"line\": 3, \"globals\": {\"i\": 484, \"x\": 485}, \"event\": \"step_line\"}, {\"ordered_globals\": [\"x\", \"i\"], \"heap\": {}, \"stdout\": \"\", \"func_name\": \"<module>\", \"stack_to_render\": [], \"line\": 4, \"globals\": {\"i\": 485, \"x\": 485}, \"event\": \"step_line\"}, {\"ordered_globals\": [\"x\", \"i\"], \"heap\": {}, \"stdout\": \"\", \"func_name\": \"<module>\", \"stack_to_render\": [], \"line\": 3, \"globals\": {\"i\": 485, \"x\": 486}, \"event\": \"step_line\"}, {\"ordered_globals\": [\"x\", \"i\"], \"heap\": {}, \"stdout\": \"\", \"func_name\": \"<module>\", \"stack_to_render\": [], \"line\": 4, \"globals\": {\"i\": 486, \"x\": 486}, \"event\": \"step_line\"}, {\"ordered_globals\": [\"x\", \"i\"], \"heap\": {}, \"stdout\": \"\", \"func_name\": \"<module>\", \"stack_to_render\": [], \"line\": 3, \"globals\": {\"i\": 486, \"x\": 487}, \"event\": \"step_line\"}, {\"ordered_globals\": [\"x\", \"i\"], \"heap\": {}, \"stdout\": \"\", \"func_name\": \"<module>\", \"stack_to_render\": [], \"line\": 4, \"globals\": {\"i\": 487, \"x\": 487}, \"event\": \"step_line\"}, {\"ordered_globals\": [\"x\", \"i\"], \"heap\": {}, \"stdout\": \"\", \"func_name\": \"<module>\", \"stack_to_render\": [], \"line\": 3, \"globals\": {\"i\": 487, \"x\": 488}, \"event\": \"step_line\"}, {\"ordered_globals\": [\"x\", \"i\"], \"heap\": {}, \"stdout\": \"\", \"func_name\": \"<module>\", \"stack_to_render\": [], \"line\": 4, \"globals\": {\"i\": 488, \"x\": 488}, \"event\": \"step_line\"}, {\"ordered_globals\": [\"x\", \"i\"], \"heap\": {}, \"stdout\": \"\", \"func_name\": \"<module>\", \"stack_to_render\": [], \"line\": 3, \"globals\": {\"i\": 488, \"x\": 489}, \"event\": \"step_line\"}, {\"ordered_globals\": [\"x\", \"i\"], \"heap\": {}, \"stdout\": \"\", \"func_name\": \"<module>\", \"stack_to_render\": [], \"line\": 4, \"globals\": {\"i\": 489, \"x\": 489}, \"event\": \"step_line\"}, {\"ordered_globals\": [\"x\", \"i\"], \"heap\": {}, \"stdout\": \"\", \"func_name\": \"<module>\", \"stack_to_render\": [], \"line\": 3, \"globals\": {\"i\": 489, \"x\": 490}, \"event\": \"step_line\"}, {\"ordered_globals\": [\"x\", \"i\"], \"heap\": {}, \"stdout\": \"\", \"func_name\": \"<module>\", \"stack_to_render\": [], \"line\": 4, \"globals\": {\"i\": 490, \"x\": 490}, \"event\": \"step_line\"}, {\"ordered_globals\": [\"x\", \"i\"], \"heap\": {}, \"stdout\": \"\", \"func_name\": \"<module>\", \"stack_to_render\": [], \"line\": 3, \"globals\": {\"i\": 490, \"x\": 491}, \"event\": \"step_line\"}, {\"ordered_globals\": [\"x\", \"i\"], \"heap\": {}, \"stdout\": \"\", \"func_name\": \"<module>\", \"stack_to_render\": [], \"line\": 4, \"globals\": {\"i\": 491, \"x\": 491}, \"event\": \"step_line\"}, {\"ordered_globals\": [\"x\", \"i\"], \"heap\": {}, \"stdout\": \"\", \"func_name\": \"<module>\", \"stack_to_render\": [], \"line\": 3, \"globals\": {\"i\": 491, \"x\": 492}, \"event\": \"step_line\"}, {\"ordered_globals\": [\"x\", \"i\"], \"heap\": {}, \"stdout\": \"\", \"func_name\": \"<module>\", \"stack_to_render\": [], \"line\": 4, \"globals\": {\"i\": 492, \"x\": 492}, \"event\": \"step_line\"}, {\"ordered_globals\": [\"x\", \"i\"], \"heap\": {}, \"stdout\": \"\", \"func_name\": \"<module>\", \"stack_to_render\": [], \"line\": 3, \"globals\": {\"i\": 492, \"x\": 493}, \"event\": \"step_line\"}, {\"ordered_globals\": [\"x\", \"i\"], \"heap\": {}, \"stdout\": \"\", \"func_name\": \"<module>\", \"stack_to_render\": [], \"line\": 4, \"globals\": {\"i\": 493, \"x\": 493}, \"event\": \"step_line\"}, {\"ordered_globals\": [\"x\", \"i\"], \"heap\": {}, \"stdout\": \"\", \"func_name\": \"<module>\", \"stack_to_render\": [], \"line\": 3, \"globals\": {\"i\": 493, \"x\": 494}, \"event\": \"step_line\"}, {\"ordered_globals\": [\"x\", \"i\"], \"heap\": {}, \"stdout\": \"\", \"func_name\": \"<module>\", \"stack_to_render\": [], \"line\": 4, \"globals\": {\"i\": 494, \"x\": 494}, \"event\": \"step_line\"}, {\"ordered_globals\": [\"x\", \"i\"], \"heap\": {}, \"stdout\": \"\", \"func_name\": \"<module>\", \"stack_to_render\": [], \"line\": 3, \"globals\": {\"i\": 494, \"x\": 495}, \"event\": \"step_line\"}, {\"ordered_globals\": [\"x\", \"i\"], \"heap\": {}, \"stdout\": \"\", \"func_name\": \"<module>\", \"stack_to_render\": [], \"line\": 4, \"globals\": {\"i\": 495, \"x\": 495}, \"event\": \"step_line\"}, {\"ordered_globals\": [\"x\", \"i\"], \"heap\": {}, \"stdout\": \"\", \"func_name\": \"<module>\", \"stack_to_render\": [], \"line\": 3, \"globals\": {\"i\": 495, \"x\": 496}, \"event\": \"step_line\"}, {\"ordered_globals\": [\"x\", \"i\"], \"heap\": {}, \"stdout\": \"\", \"func_name\": \"<module>\", \"stack_to_render\": [], \"line\": 4, \"globals\": {\"i\": 496, \"x\": 496}, \"event\": \"step_line\"}, {\"ordered_globals\": [\"x\", \"i\"], \"heap\": {}, \"stdout\": \"\", \"func_name\": \"<module>\", \"stack_to_render\": [], \"line\": 3, \"globals\": {\"i\": 496, \"x\": 497}, \"event\": \"step_line\"}, {\"ordered_globals\": [\"x\", \"i\"], \"heap\": {}, \"stdout\": \"\", \"func_name\": \"<module>\", \"stack_to_render\": [], \"line\": 4, \"globals\": {\"i\": 497, \"x\": 497}, \"event\": \"step_line\"}, {\"ordered_globals\": [\"x\", \"i\"], \"heap\": {}, \"stdout\": \"\", \"func_name\": \"<module>\", \"stack_to_render\": [], \"line\": 3, \"globals\": {\"i\": 497, \"x\": 498}, \"event\": \"step_line\"}, {\"ordered_globals\": [\"x\", \"i\"], \"heap\": {}, \"stdout\": \"\", \"func_name\": \"<module>\", \"stack_to_render\": [], \"line\": 4, \"globals\": {\"i\": 498, \"x\": 498}, \"event\": \"step_line\"}, {\"ordered_globals\": [\"x\", \"i\"], \"heap\": {}, \"stdout\": \"\", \"func_name\": \"<module>\", \"stack_to_render\": [], \"line\": 3, \"globals\": {\"i\": 498, \"x\": 499}, \"event\": \"step_line\"}, {\"event\": \"instruction_limit_reached\", \"exception_msg\": \"Stopped after running 1000 steps. Please shorten your code,\\nsince Python Tutor is not designed to handle long-running code.\"}]}\n",
       "        </script>\n",
       "        <div id=\"jm16664355-dfa9-4093-a8eb-4f8c1a4c26bf\" class=\"pytutorVisualizer\"> </div>\n",
       " \n",
       "        <style>\n",
       "        .vizLayoutTd {\n",
       "            background-color: #fff !important;\n",
       "        }\n",
       "                            \n",
       "        #pyStdout {\n",
       "            min-height:25px;\n",
       "        }\n",
       "\n",
       "        /* 'Edit this code' link, hiding because replaces browser tab !!!*/\n",
       "        #editCodeLinkDiv {\n",
       "            display:none;  \n",
       "        }\n",
       "        </style>   \n",
       "                            \n",
       "        <script>\n",
       "        (function(){\n",
       "\n",
       "            var trace = JSON.parse(document.getElementById('json-jm16664355-dfa9-4093-a8eb-4f8c1a4c26bf').innerHTML);                                        \n",
       "            // NOTE 1: id without #\n",
       "            // NOTE 2 - maybe there are more predictable ways, but this will work anyway\n",
       "            //        - id should be number\n",
       "            visualizerIdOverride = Math.trunc(Math.random() * 100000000000)\n",
       "            addVisualizerToPage(trace, 'jm16664355-dfa9-4093-a8eb-4f8c1a4c26bf',{'embeddedMode' : false,\n",
       "                                             'visualizerIdOverride':visualizerIdOverride})  \n",
       "            \n",
       "            \n",
       "            // set overflow for pytuts - need to do in python as css \n",
       "            // does not allow parent selection\n",
       "            var pytuts = $('.pytutorVisualizer')\n",
       "            pytuts.closest('div.output_html.rendered_html.output_result')\n",
       "                    .css('overflow-x', 'visible')\n",
       "        \n",
       "            //pytuts.closest('div.output_html.rendered_html.output_result')\n",
       "            //      .css('background-color','red')                \n",
       "            \n",
       "        })()\n",
       "        </script>\n",
       "                \n",
       "                "
      ],
      "text/plain": [
       "<IPython.core.display.HTML object>"
      ]
     },
     "execution_count": 7,
     "metadata": {},
     "output_type": "execute_result"
    }
   ],
   "source": [
    "x = 0\n",
    "for i in range(10000):\n",
    "    x += 1\n",
    "print(x)\n",
    "jupman.pytut()"
   ]
  },
  {
   "cell_type": "markdown",
   "metadata": {},
   "source": [
    "**jupman.pytut infinite loops**: Since execution occurs first in Jupyter and then in Python tutor, if you have an infinite loop no Python Tutor instance will be spawned: \n",
    "\n",
    "```python\n",
    "while True:\n",
    "    pass\n",
    "\n",
    "jupman.pytut()\n",
    "```"
   ]
  },
  {
   "cell_type": "markdown",
   "metadata": {},
   "source": [
    "**jupman.pytut() resizability:** long vertical and horizontal expansion should work:"
   ]
  },
  {
   "cell_type": "code",
   "execution_count": 8,
   "metadata": {},
   "outputs": [
    {
     "data": {
      "text/html": [
       "\n",
       "        <script src=\"_static/js/pytutor-embed.bundle.min.js\" type=\"application/javascript\"></script>\n",
       "     \n",
       "        <script id=\"json-jm9053ec13-0015-4d45-9b43-956f51d2a3dc\" type=\"application/json\" >\n",
       "            {\"code\": \" \\nx = {0:'a'}\\nfor i in range(1,30):\\n    x[i] = x[i-1]+str(i*10000)\", \"trace\": [{\"ordered_globals\": [], \"heap\": {}, \"stdout\": \"\", \"func_name\": \"<module>\", \"stack_to_render\": [], \"line\": 2, \"globals\": {}, \"event\": \"step_line\"}, {\"ordered_globals\": [\"x\"], \"heap\": {\"1\": [\"DICT\", [0, \"a\"]]}, \"stdout\": \"\", \"func_name\": \"<module>\", \"stack_to_render\": [], \"line\": 3, \"globals\": {\"x\": [\"REF\", 1]}, \"event\": \"step_line\"}, {\"ordered_globals\": [\"x\", \"i\"], \"heap\": {\"1\": [\"DICT\", [0, \"a\"]]}, \"stdout\": \"\", \"func_name\": \"<module>\", \"stack_to_render\": [], \"line\": 4, \"globals\": {\"i\": 1, \"x\": [\"REF\", 1]}, \"event\": \"step_line\"}, {\"ordered_globals\": [\"x\", \"i\"], \"heap\": {\"1\": [\"DICT\", [0, \"a\"], [1, \"a10000\"]]}, \"stdout\": \"\", \"func_name\": \"<module>\", \"stack_to_render\": [], \"line\": 3, \"globals\": {\"i\": 1, \"x\": [\"REF\", 1]}, \"event\": \"step_line\"}, {\"ordered_globals\": [\"x\", \"i\"], \"heap\": {\"1\": [\"DICT\", [0, \"a\"], [1, \"a10000\"]]}, \"stdout\": \"\", \"func_name\": \"<module>\", \"stack_to_render\": [], \"line\": 4, \"globals\": {\"i\": 2, \"x\": [\"REF\", 1]}, \"event\": \"step_line\"}, {\"ordered_globals\": [\"x\", \"i\"], \"heap\": {\"1\": [\"DICT\", [0, \"a\"], [1, \"a10000\"], [2, \"a1000020000\"]]}, \"stdout\": \"\", \"func_name\": \"<module>\", \"stack_to_render\": [], \"line\": 3, \"globals\": {\"i\": 2, \"x\": [\"REF\", 1]}, \"event\": \"step_line\"}, {\"ordered_globals\": [\"x\", \"i\"], \"heap\": {\"1\": [\"DICT\", [0, \"a\"], [1, \"a10000\"], [2, \"a1000020000\"]]}, \"stdout\": \"\", \"func_name\": \"<module>\", \"stack_to_render\": [], \"line\": 4, \"globals\": {\"i\": 3, \"x\": [\"REF\", 1]}, \"event\": \"step_line\"}, {\"ordered_globals\": [\"x\", \"i\"], \"heap\": {\"1\": [\"DICT\", [0, \"a\"], [1, \"a10000\"], [2, \"a1000020000\"], [3, \"a100002000030000\"]]}, \"stdout\": \"\", \"func_name\": \"<module>\", \"stack_to_render\": [], \"line\": 3, \"globals\": {\"i\": 3, \"x\": [\"REF\", 1]}, \"event\": \"step_line\"}, {\"ordered_globals\": [\"x\", \"i\"], \"heap\": {\"1\": [\"DICT\", [0, \"a\"], [1, \"a10000\"], [2, \"a1000020000\"], [3, \"a100002000030000\"]]}, \"stdout\": \"\", \"func_name\": \"<module>\", \"stack_to_render\": [], \"line\": 4, \"globals\": {\"i\": 4, \"x\": [\"REF\", 1]}, \"event\": \"step_line\"}, {\"ordered_globals\": [\"x\", \"i\"], \"heap\": {\"1\": [\"DICT\", [0, \"a\"], [1, \"a10000\"], [2, \"a1000020000\"], [3, \"a100002000030000\"], [4, \"a10000200003000040000\"]]}, \"stdout\": \"\", \"func_name\": \"<module>\", \"stack_to_render\": [], \"line\": 3, \"globals\": {\"i\": 4, \"x\": [\"REF\", 1]}, \"event\": \"step_line\"}, {\"ordered_globals\": [\"x\", \"i\"], \"heap\": {\"1\": [\"DICT\", [0, \"a\"], [1, \"a10000\"], [2, \"a1000020000\"], [3, \"a100002000030000\"], [4, \"a10000200003000040000\"]]}, \"stdout\": \"\", \"func_name\": \"<module>\", \"stack_to_render\": [], \"line\": 4, \"globals\": {\"i\": 5, \"x\": [\"REF\", 1]}, \"event\": \"step_line\"}, {\"ordered_globals\": [\"x\", \"i\"], \"heap\": {\"1\": [\"DICT\", [0, \"a\"], [1, \"a10000\"], [2, \"a1000020000\"], [3, \"a100002000030000\"], [4, \"a10000200003000040000\"], [5, \"a1000020000300004000050000\"]]}, \"stdout\": \"\", \"func_name\": \"<module>\", \"stack_to_render\": [], \"line\": 3, \"globals\": {\"i\": 5, \"x\": [\"REF\", 1]}, \"event\": \"step_line\"}, {\"ordered_globals\": [\"x\", \"i\"], \"heap\": {\"1\": [\"DICT\", [0, \"a\"], [1, \"a10000\"], [2, \"a1000020000\"], [3, \"a100002000030000\"], [4, \"a10000200003000040000\"], [5, \"a1000020000300004000050000\"]]}, \"stdout\": \"\", \"func_name\": \"<module>\", \"stack_to_render\": [], \"line\": 4, \"globals\": {\"i\": 6, \"x\": [\"REF\", 1]}, \"event\": \"step_line\"}, {\"ordered_globals\": [\"x\", \"i\"], \"heap\": {\"1\": [\"DICT\", [0, \"a\"], [1, \"a10000\"], [2, \"a1000020000\"], [3, \"a100002000030000\"], [4, \"a10000200003000040000\"], [5, \"a1000020000300004000050000\"], [6, \"a100002000030000400005000060000\"]]}, \"stdout\": \"\", \"func_name\": \"<module>\", \"stack_to_render\": [], \"line\": 3, \"globals\": {\"i\": 6, \"x\": [\"REF\", 1]}, \"event\": \"step_line\"}, {\"ordered_globals\": [\"x\", \"i\"], \"heap\": {\"1\": [\"DICT\", [0, \"a\"], [1, \"a10000\"], [2, \"a1000020000\"], [3, \"a100002000030000\"], [4, \"a10000200003000040000\"], [5, \"a1000020000300004000050000\"], [6, \"a100002000030000400005000060000\"]]}, \"stdout\": \"\", \"func_name\": \"<module>\", \"stack_to_render\": [], \"line\": 4, \"globals\": {\"i\": 7, \"x\": [\"REF\", 1]}, \"event\": \"step_line\"}, {\"ordered_globals\": [\"x\", \"i\"], \"heap\": {\"1\": [\"DICT\", [0, \"a\"], [1, \"a10000\"], [2, \"a1000020000\"], [3, \"a100002000030000\"], [4, \"a10000200003000040000\"], [5, \"a1000020000300004000050000\"], [6, \"a100002000030000400005000060000\"], [7, \"a10000200003000040000500006000070000\"]]}, \"stdout\": \"\", \"func_name\": \"<module>\", \"stack_to_render\": [], \"line\": 3, \"globals\": {\"i\": 7, \"x\": [\"REF\", 1]}, \"event\": \"step_line\"}, {\"ordered_globals\": [\"x\", \"i\"], \"heap\": {\"1\": [\"DICT\", [0, \"a\"], [1, \"a10000\"], [2, \"a1000020000\"], [3, \"a100002000030000\"], [4, \"a10000200003000040000\"], [5, \"a1000020000300004000050000\"], [6, \"a100002000030000400005000060000\"], [7, \"a10000200003000040000500006000070000\"]]}, \"stdout\": \"\", \"func_name\": \"<module>\", \"stack_to_render\": [], \"line\": 4, \"globals\": {\"i\": 8, \"x\": [\"REF\", 1]}, \"event\": \"step_line\"}, {\"ordered_globals\": [\"x\", \"i\"], \"heap\": {\"1\": [\"DICT\", [0, \"a\"], [1, \"a10000\"], [2, \"a1000020000\"], [3, \"a100002000030000\"], [4, \"a10000200003000040000\"], [5, \"a1000020000300004000050000\"], [6, \"a100002000030000400005000060000\"], [7, \"a10000200003000040000500006000070000\"], [8, \"a1000020000300004000050000600007000080000\"]]}, \"stdout\": \"\", \"func_name\": \"<module>\", \"stack_to_render\": [], \"line\": 3, \"globals\": {\"i\": 8, \"x\": [\"REF\", 1]}, \"event\": \"step_line\"}, {\"ordered_globals\": [\"x\", \"i\"], \"heap\": {\"1\": [\"DICT\", [0, \"a\"], [1, \"a10000\"], [2, \"a1000020000\"], [3, \"a100002000030000\"], [4, \"a10000200003000040000\"], [5, \"a1000020000300004000050000\"], [6, \"a100002000030000400005000060000\"], [7, \"a10000200003000040000500006000070000\"], [8, \"a1000020000300004000050000600007000080000\"]]}, \"stdout\": \"\", \"func_name\": \"<module>\", \"stack_to_render\": [], \"line\": 4, \"globals\": {\"i\": 9, \"x\": [\"REF\", 1]}, \"event\": \"step_line\"}, {\"ordered_globals\": [\"x\", \"i\"], \"heap\": {\"1\": [\"DICT\", [0, \"a\"], [1, \"a10000\"], [2, \"a1000020000\"], [3, \"a100002000030000\"], [4, \"a10000200003000040000\"], [5, \"a1000020000300004000050000\"], [6, \"a100002000030000400005000060000\"], [7, \"a10000200003000040000500006000070000\"], [8, \"a1000020000300004000050000600007000080000\"], [9, \"a100002000030000400005000060000700008000090000\"]]}, \"stdout\": \"\", \"func_name\": \"<module>\", \"stack_to_render\": [], \"line\": 3, \"globals\": {\"i\": 9, \"x\": [\"REF\", 1]}, \"event\": \"step_line\"}, {\"ordered_globals\": [\"x\", \"i\"], \"heap\": {\"1\": [\"DICT\", [0, \"a\"], [1, \"a10000\"], [2, \"a1000020000\"], [3, \"a100002000030000\"], [4, \"a10000200003000040000\"], [5, \"a1000020000300004000050000\"], [6, \"a100002000030000400005000060000\"], [7, \"a10000200003000040000500006000070000\"], [8, \"a1000020000300004000050000600007000080000\"], [9, \"a100002000030000400005000060000700008000090000\"]]}, \"stdout\": \"\", \"func_name\": \"<module>\", \"stack_to_render\": [], \"line\": 4, \"globals\": {\"i\": 10, \"x\": [\"REF\", 1]}, \"event\": \"step_line\"}, {\"ordered_globals\": [\"x\", \"i\"], \"heap\": {\"1\": [\"DICT\", [0, \"a\"], [1, \"a10000\"], [2, \"a1000020000\"], [3, \"a100002000030000\"], [4, \"a10000200003000040000\"], [5, \"a1000020000300004000050000\"], [6, \"a100002000030000400005000060000\"], [7, \"a10000200003000040000500006000070000\"], [8, \"a1000020000300004000050000600007000080000\"], [9, \"a100002000030000400005000060000700008000090000\"], [10, \"a100002000030000400005000060000700008000090000100000\"]]}, \"stdout\": \"\", \"func_name\": \"<module>\", \"stack_to_render\": [], \"line\": 3, \"globals\": {\"i\": 10, \"x\": [\"REF\", 1]}, \"event\": \"step_line\"}, {\"ordered_globals\": [\"x\", \"i\"], \"heap\": {\"1\": [\"DICT\", [0, \"a\"], [1, \"a10000\"], [2, \"a1000020000\"], [3, \"a100002000030000\"], [4, \"a10000200003000040000\"], [5, \"a1000020000300004000050000\"], [6, \"a100002000030000400005000060000\"], [7, \"a10000200003000040000500006000070000\"], [8, \"a1000020000300004000050000600007000080000\"], [9, \"a100002000030000400005000060000700008000090000\"], [10, \"a100002000030000400005000060000700008000090000100000\"]]}, \"stdout\": \"\", \"func_name\": \"<module>\", \"stack_to_render\": [], \"line\": 4, \"globals\": {\"i\": 11, \"x\": [\"REF\", 1]}, \"event\": \"step_line\"}, {\"ordered_globals\": [\"x\", \"i\"], \"heap\": {\"1\": [\"DICT\", [0, \"a\"], [1, \"a10000\"], [2, \"a1000020000\"], [3, \"a100002000030000\"], [4, \"a10000200003000040000\"], [5, \"a1000020000300004000050000\"], [6, \"a100002000030000400005000060000\"], [7, \"a10000200003000040000500006000070000\"], [8, \"a1000020000300004000050000600007000080000\"], [9, \"a100002000030000400005000060000700008000090000\"], [10, \"a100002000030000400005000060000700008000090000100000\"], [11, \"a100002000030000400005000060000700008000090000100000110000\"]]}, \"stdout\": \"\", \"func_name\": \"<module>\", \"stack_to_render\": [], \"line\": 3, \"globals\": {\"i\": 11, \"x\": [\"REF\", 1]}, \"event\": \"step_line\"}, {\"ordered_globals\": [\"x\", \"i\"], \"heap\": {\"1\": [\"DICT\", [0, \"a\"], [1, \"a10000\"], [2, \"a1000020000\"], [3, \"a100002000030000\"], [4, \"a10000200003000040000\"], [5, \"a1000020000300004000050000\"], [6, \"a100002000030000400005000060000\"], [7, \"a10000200003000040000500006000070000\"], [8, \"a1000020000300004000050000600007000080000\"], [9, \"a100002000030000400005000060000700008000090000\"], [10, \"a100002000030000400005000060000700008000090000100000\"], [11, \"a100002000030000400005000060000700008000090000100000110000\"]]}, \"stdout\": \"\", \"func_name\": \"<module>\", \"stack_to_render\": [], \"line\": 4, \"globals\": {\"i\": 12, \"x\": [\"REF\", 1]}, \"event\": \"step_line\"}, {\"ordered_globals\": [\"x\", \"i\"], \"heap\": {\"1\": [\"DICT\", [0, \"a\"], [1, \"a10000\"], [2, \"a1000020000\"], [3, \"a100002000030000\"], [4, \"a10000200003000040000\"], [5, \"a1000020000300004000050000\"], [6, \"a100002000030000400005000060000\"], [7, \"a10000200003000040000500006000070000\"], [8, \"a1000020000300004000050000600007000080000\"], [9, \"a100002000030000400005000060000700008000090000\"], [10, \"a100002000030000400005000060000700008000090000100000\"], [11, \"a100002000030000400005000060000700008000090000100000110000\"], [12, \"a100002000030000400005000060000700008000090000100000110000120000\"]]}, \"stdout\": \"\", \"func_name\": \"<module>\", \"stack_to_render\": [], \"line\": 3, \"globals\": {\"i\": 12, \"x\": [\"REF\", 1]}, \"event\": \"step_line\"}, {\"ordered_globals\": [\"x\", \"i\"], \"heap\": {\"1\": [\"DICT\", [0, \"a\"], [1, \"a10000\"], [2, \"a1000020000\"], [3, \"a100002000030000\"], [4, \"a10000200003000040000\"], [5, \"a1000020000300004000050000\"], [6, \"a100002000030000400005000060000\"], [7, \"a10000200003000040000500006000070000\"], [8, \"a1000020000300004000050000600007000080000\"], [9, \"a100002000030000400005000060000700008000090000\"], [10, \"a100002000030000400005000060000700008000090000100000\"], [11, \"a100002000030000400005000060000700008000090000100000110000\"], [12, \"a100002000030000400005000060000700008000090000100000110000120000\"]]}, \"stdout\": \"\", \"func_name\": \"<module>\", \"stack_to_render\": [], \"line\": 4, \"globals\": {\"i\": 13, \"x\": [\"REF\", 1]}, \"event\": \"step_line\"}, {\"ordered_globals\": [\"x\", \"i\"], \"heap\": {\"1\": [\"DICT\", [0, \"a\"], [1, \"a10000\"], [2, \"a1000020000\"], [3, \"a100002000030000\"], [4, \"a10000200003000040000\"], [5, \"a1000020000300004000050000\"], [6, \"a100002000030000400005000060000\"], [7, \"a10000200003000040000500006000070000\"], [8, \"a1000020000300004000050000600007000080000\"], [9, \"a100002000030000400005000060000700008000090000\"], [10, \"a100002000030000400005000060000700008000090000100000\"], [11, \"a100002000030000400005000060000700008000090000100000110000\"], [12, \"a100002000030000400005000060000700008000090000100000110000120000\"], [13, \"a100002000030000400005000060000700008000090000100000110000120000130000\"]]}, \"stdout\": \"\", \"func_name\": \"<module>\", \"stack_to_render\": [], \"line\": 3, \"globals\": {\"i\": 13, \"x\": [\"REF\", 1]}, \"event\": \"step_line\"}, {\"ordered_globals\": [\"x\", \"i\"], \"heap\": {\"1\": [\"DICT\", [0, \"a\"], [1, \"a10000\"], [2, \"a1000020000\"], [3, \"a100002000030000\"], [4, \"a10000200003000040000\"], [5, \"a1000020000300004000050000\"], [6, \"a100002000030000400005000060000\"], [7, \"a10000200003000040000500006000070000\"], [8, \"a1000020000300004000050000600007000080000\"], [9, \"a100002000030000400005000060000700008000090000\"], [10, \"a100002000030000400005000060000700008000090000100000\"], [11, \"a100002000030000400005000060000700008000090000100000110000\"], [12, \"a100002000030000400005000060000700008000090000100000110000120000\"], [13, \"a100002000030000400005000060000700008000090000100000110000120000130000\"]]}, \"stdout\": \"\", \"func_name\": \"<module>\", \"stack_to_render\": [], \"line\": 4, \"globals\": {\"i\": 14, \"x\": [\"REF\", 1]}, \"event\": \"step_line\"}, {\"ordered_globals\": [\"x\", \"i\"], \"heap\": {\"1\": [\"DICT\", [0, \"a\"], [1, \"a10000\"], [2, \"a1000020000\"], [3, \"a100002000030000\"], [4, \"a10000200003000040000\"], [5, \"a1000020000300004000050000\"], [6, \"a100002000030000400005000060000\"], [7, \"a10000200003000040000500006000070000\"], [8, \"a1000020000300004000050000600007000080000\"], [9, \"a100002000030000400005000060000700008000090000\"], [10, \"a100002000030000400005000060000700008000090000100000\"], [11, \"a100002000030000400005000060000700008000090000100000110000\"], [12, \"a100002000030000400005000060000700008000090000100000110000120000\"], [13, \"a100002000030000400005000060000700008000090000100000110000120000130000\"], [14, \"a100002000030000400005000060000700008000090000100000110000120000130000140000\"]]}, \"stdout\": \"\", \"func_name\": \"<module>\", \"stack_to_render\": [], \"line\": 3, \"globals\": {\"i\": 14, \"x\": [\"REF\", 1]}, \"event\": \"step_line\"}, {\"ordered_globals\": [\"x\", \"i\"], \"heap\": {\"1\": [\"DICT\", [0, \"a\"], [1, \"a10000\"], [2, \"a1000020000\"], [3, \"a100002000030000\"], [4, \"a10000200003000040000\"], [5, \"a1000020000300004000050000\"], [6, \"a100002000030000400005000060000\"], [7, \"a10000200003000040000500006000070000\"], [8, \"a1000020000300004000050000600007000080000\"], [9, \"a100002000030000400005000060000700008000090000\"], [10, \"a100002000030000400005000060000700008000090000100000\"], [11, \"a100002000030000400005000060000700008000090000100000110000\"], [12, \"a100002000030000400005000060000700008000090000100000110000120000\"], [13, \"a100002000030000400005000060000700008000090000100000110000120000130000\"], [14, \"a100002000030000400005000060000700008000090000100000110000120000130000140000\"]]}, \"stdout\": \"\", \"func_name\": \"<module>\", \"stack_to_render\": [], \"line\": 4, \"globals\": {\"i\": 15, \"x\": [\"REF\", 1]}, \"event\": \"step_line\"}, {\"ordered_globals\": [\"x\", \"i\"], \"heap\": {\"1\": [\"DICT\", [0, \"a\"], [1, \"a10000\"], [2, \"a1000020000\"], [3, \"a100002000030000\"], [4, \"a10000200003000040000\"], [5, \"a1000020000300004000050000\"], [6, \"a100002000030000400005000060000\"], [7, \"a10000200003000040000500006000070000\"], [8, \"a1000020000300004000050000600007000080000\"], [9, \"a100002000030000400005000060000700008000090000\"], [10, \"a100002000030000400005000060000700008000090000100000\"], [11, \"a100002000030000400005000060000700008000090000100000110000\"], [12, \"a100002000030000400005000060000700008000090000100000110000120000\"], [13, \"a100002000030000400005000060000700008000090000100000110000120000130000\"], [14, \"a100002000030000400005000060000700008000090000100000110000120000130000140000\"], [15, \"a100002000030000400005000060000700008000090000100000110000120000130000140000150000\"]]}, \"stdout\": \"\", \"func_name\": \"<module>\", \"stack_to_render\": [], \"line\": 3, \"globals\": {\"i\": 15, \"x\": [\"REF\", 1]}, \"event\": \"step_line\"}, {\"ordered_globals\": [\"x\", \"i\"], \"heap\": {\"1\": [\"DICT\", [0, \"a\"], [1, \"a10000\"], [2, \"a1000020000\"], [3, \"a100002000030000\"], [4, \"a10000200003000040000\"], [5, \"a1000020000300004000050000\"], [6, \"a100002000030000400005000060000\"], [7, \"a10000200003000040000500006000070000\"], [8, \"a1000020000300004000050000600007000080000\"], [9, \"a100002000030000400005000060000700008000090000\"], [10, \"a100002000030000400005000060000700008000090000100000\"], [11, \"a100002000030000400005000060000700008000090000100000110000\"], [12, \"a100002000030000400005000060000700008000090000100000110000120000\"], [13, \"a100002000030000400005000060000700008000090000100000110000120000130000\"], [14, \"a100002000030000400005000060000700008000090000100000110000120000130000140000\"], [15, \"a100002000030000400005000060000700008000090000100000110000120000130000140000150000\"]]}, \"stdout\": \"\", \"func_name\": \"<module>\", \"stack_to_render\": [], \"line\": 4, \"globals\": {\"i\": 16, \"x\": [\"REF\", 1]}, \"event\": \"step_line\"}, {\"ordered_globals\": [\"x\", \"i\"], \"heap\": {\"1\": [\"DICT\", [0, \"a\"], [1, \"a10000\"], [2, \"a1000020000\"], [3, \"a100002000030000\"], [4, \"a10000200003000040000\"], [5, \"a1000020000300004000050000\"], [6, \"a100002000030000400005000060000\"], [7, \"a10000200003000040000500006000070000\"], [8, \"a1000020000300004000050000600007000080000\"], [9, \"a100002000030000400005000060000700008000090000\"], [10, \"a100002000030000400005000060000700008000090000100000\"], [11, \"a100002000030000400005000060000700008000090000100000110000\"], [12, \"a100002000030000400005000060000700008000090000100000110000120000\"], [13, \"a100002000030000400005000060000700008000090000100000110000120000130000\"], [14, \"a100002000030000400005000060000700008000090000100000110000120000130000140000\"], [15, \"a100002000030000400005000060000700008000090000100000110000120000130000140000150000\"], [16, \"a100002000030000400005000060000700008000090000100000110000120000130000140000150000160000\"]]}, \"stdout\": \"\", \"func_name\": \"<module>\", \"stack_to_render\": [], \"line\": 3, \"globals\": {\"i\": 16, \"x\": [\"REF\", 1]}, \"event\": \"step_line\"}, {\"ordered_globals\": [\"x\", \"i\"], \"heap\": {\"1\": [\"DICT\", [0, \"a\"], [1, \"a10000\"], [2, \"a1000020000\"], [3, \"a100002000030000\"], [4, \"a10000200003000040000\"], [5, \"a1000020000300004000050000\"], [6, \"a100002000030000400005000060000\"], [7, \"a10000200003000040000500006000070000\"], [8, \"a1000020000300004000050000600007000080000\"], [9, \"a100002000030000400005000060000700008000090000\"], [10, \"a100002000030000400005000060000700008000090000100000\"], [11, \"a100002000030000400005000060000700008000090000100000110000\"], [12, \"a100002000030000400005000060000700008000090000100000110000120000\"], [13, \"a100002000030000400005000060000700008000090000100000110000120000130000\"], [14, \"a100002000030000400005000060000700008000090000100000110000120000130000140000\"], [15, \"a100002000030000400005000060000700008000090000100000110000120000130000140000150000\"], [16, \"a100002000030000400005000060000700008000090000100000110000120000130000140000150000160000\"]]}, \"stdout\": \"\", \"func_name\": \"<module>\", \"stack_to_render\": [], \"line\": 4, \"globals\": {\"i\": 17, \"x\": [\"REF\", 1]}, \"event\": \"step_line\"}, {\"ordered_globals\": [\"x\", \"i\"], \"heap\": {\"1\": [\"DICT\", [0, \"a\"], [1, \"a10000\"], [2, \"a1000020000\"], [3, \"a100002000030000\"], [4, \"a10000200003000040000\"], [5, \"a1000020000300004000050000\"], [6, \"a100002000030000400005000060000\"], [7, \"a10000200003000040000500006000070000\"], [8, \"a1000020000300004000050000600007000080000\"], [9, \"a100002000030000400005000060000700008000090000\"], [10, \"a100002000030000400005000060000700008000090000100000\"], [11, \"a100002000030000400005000060000700008000090000100000110000\"], [12, \"a100002000030000400005000060000700008000090000100000110000120000\"], [13, \"a100002000030000400005000060000700008000090000100000110000120000130000\"], [14, \"a100002000030000400005000060000700008000090000100000110000120000130000140000\"], [15, \"a100002000030000400005000060000700008000090000100000110000120000130000140000150000\"], [16, \"a100002000030000400005000060000700008000090000100000110000120000130000140000150000160000\"], [17, \"a100002000030000400005000060000700008000090000100000110000120000130000140000150000160000170000\"]]}, \"stdout\": \"\", \"func_name\": \"<module>\", \"stack_to_render\": [], \"line\": 3, \"globals\": {\"i\": 17, \"x\": [\"REF\", 1]}, \"event\": \"step_line\"}, {\"ordered_globals\": [\"x\", \"i\"], \"heap\": {\"1\": [\"DICT\", [0, \"a\"], [1, \"a10000\"], [2, \"a1000020000\"], [3, \"a100002000030000\"], [4, \"a10000200003000040000\"], [5, \"a1000020000300004000050000\"], [6, \"a100002000030000400005000060000\"], [7, \"a10000200003000040000500006000070000\"], [8, \"a1000020000300004000050000600007000080000\"], [9, \"a100002000030000400005000060000700008000090000\"], [10, \"a100002000030000400005000060000700008000090000100000\"], [11, \"a100002000030000400005000060000700008000090000100000110000\"], [12, \"a100002000030000400005000060000700008000090000100000110000120000\"], [13, \"a100002000030000400005000060000700008000090000100000110000120000130000\"], [14, \"a100002000030000400005000060000700008000090000100000110000120000130000140000\"], [15, \"a100002000030000400005000060000700008000090000100000110000120000130000140000150000\"], [16, \"a100002000030000400005000060000700008000090000100000110000120000130000140000150000160000\"], [17, \"a100002000030000400005000060000700008000090000100000110000120000130000140000150000160000170000\"]]}, \"stdout\": \"\", \"func_name\": \"<module>\", \"stack_to_render\": [], \"line\": 4, \"globals\": {\"i\": 18, \"x\": [\"REF\", 1]}, \"event\": \"step_line\"}, {\"ordered_globals\": [\"x\", \"i\"], \"heap\": {\"1\": [\"DICT\", [0, \"a\"], [1, \"a10000\"], [2, \"a1000020000\"], [3, \"a100002000030000\"], [4, \"a10000200003000040000\"], [5, \"a1000020000300004000050000\"], [6, \"a100002000030000400005000060000\"], [7, \"a10000200003000040000500006000070000\"], [8, \"a1000020000300004000050000600007000080000\"], [9, \"a100002000030000400005000060000700008000090000\"], [10, \"a100002000030000400005000060000700008000090000100000\"], [11, \"a100002000030000400005000060000700008000090000100000110000\"], [12, \"a100002000030000400005000060000700008000090000100000110000120000\"], [13, \"a100002000030000400005000060000700008000090000100000110000120000130000\"], [14, \"a100002000030000400005000060000700008000090000100000110000120000130000140000\"], [15, \"a100002000030000400005000060000700008000090000100000110000120000130000140000150000\"], [16, \"a100002000030000400005000060000700008000090000100000110000120000130000140000150000160000\"], [17, \"a100002000030000400005000060000700008000090000100000110000120000130000140000150000160000170000\"], [18, \"a100002000030000400005000060000700008000090000100000110000120000130000140000150000160000170000180000\"]]}, \"stdout\": \"\", \"func_name\": \"<module>\", \"stack_to_render\": [], \"line\": 3, \"globals\": {\"i\": 18, \"x\": [\"REF\", 1]}, \"event\": \"step_line\"}, {\"ordered_globals\": [\"x\", \"i\"], \"heap\": {\"1\": [\"DICT\", [0, \"a\"], [1, \"a10000\"], [2, \"a1000020000\"], [3, \"a100002000030000\"], [4, \"a10000200003000040000\"], [5, \"a1000020000300004000050000\"], [6, \"a100002000030000400005000060000\"], [7, \"a10000200003000040000500006000070000\"], [8, \"a1000020000300004000050000600007000080000\"], [9, \"a100002000030000400005000060000700008000090000\"], [10, \"a100002000030000400005000060000700008000090000100000\"], [11, \"a100002000030000400005000060000700008000090000100000110000\"], [12, \"a100002000030000400005000060000700008000090000100000110000120000\"], [13, \"a100002000030000400005000060000700008000090000100000110000120000130000\"], [14, \"a100002000030000400005000060000700008000090000100000110000120000130000140000\"], [15, \"a100002000030000400005000060000700008000090000100000110000120000130000140000150000\"], [16, \"a100002000030000400005000060000700008000090000100000110000120000130000140000150000160000\"], [17, \"a100002000030000400005000060000700008000090000100000110000120000130000140000150000160000170000\"], [18, \"a100002000030000400005000060000700008000090000100000110000120000130000140000150000160000170000180000\"]]}, \"stdout\": \"\", \"func_name\": \"<module>\", \"stack_to_render\": [], \"line\": 4, \"globals\": {\"i\": 19, \"x\": [\"REF\", 1]}, \"event\": \"step_line\"}, {\"ordered_globals\": [\"x\", \"i\"], \"heap\": {\"1\": [\"DICT\", [0, \"a\"], [1, \"a10000\"], [2, \"a1000020000\"], [3, \"a100002000030000\"], [4, \"a10000200003000040000\"], [5, \"a1000020000300004000050000\"], [6, \"a100002000030000400005000060000\"], [7, \"a10000200003000040000500006000070000\"], [8, \"a1000020000300004000050000600007000080000\"], [9, \"a100002000030000400005000060000700008000090000\"], [10, \"a100002000030000400005000060000700008000090000100000\"], [11, \"a100002000030000400005000060000700008000090000100000110000\"], [12, \"a100002000030000400005000060000700008000090000100000110000120000\"], [13, \"a100002000030000400005000060000700008000090000100000110000120000130000\"], [14, \"a100002000030000400005000060000700008000090000100000110000120000130000140000\"], [15, \"a100002000030000400005000060000700008000090000100000110000120000130000140000150000\"], [16, \"a100002000030000400005000060000700008000090000100000110000120000130000140000150000160000\"], [17, \"a100002000030000400005000060000700008000090000100000110000120000130000140000150000160000170000\"], [18, \"a100002000030000400005000060000700008000090000100000110000120000130000140000150000160000170000180000\"], [19, \"a100002000030000400005000060000700008000090000100000110000120000130000140000150000160000170000180000190000\"]]}, \"stdout\": \"\", \"func_name\": \"<module>\", \"stack_to_render\": [], \"line\": 3, \"globals\": {\"i\": 19, \"x\": [\"REF\", 1]}, \"event\": \"step_line\"}, {\"ordered_globals\": [\"x\", \"i\"], \"heap\": {\"1\": [\"DICT\", [0, \"a\"], [1, \"a10000\"], [2, \"a1000020000\"], [3, \"a100002000030000\"], [4, \"a10000200003000040000\"], [5, \"a1000020000300004000050000\"], [6, \"a100002000030000400005000060000\"], [7, \"a10000200003000040000500006000070000\"], [8, \"a1000020000300004000050000600007000080000\"], [9, \"a100002000030000400005000060000700008000090000\"], [10, \"a100002000030000400005000060000700008000090000100000\"], [11, \"a100002000030000400005000060000700008000090000100000110000\"], [12, \"a100002000030000400005000060000700008000090000100000110000120000\"], [13, \"a100002000030000400005000060000700008000090000100000110000120000130000\"], [14, \"a100002000030000400005000060000700008000090000100000110000120000130000140000\"], [15, \"a100002000030000400005000060000700008000090000100000110000120000130000140000150000\"], [16, \"a100002000030000400005000060000700008000090000100000110000120000130000140000150000160000\"], [17, \"a100002000030000400005000060000700008000090000100000110000120000130000140000150000160000170000\"], [18, \"a100002000030000400005000060000700008000090000100000110000120000130000140000150000160000170000180000\"], [19, \"a100002000030000400005000060000700008000090000100000110000120000130000140000150000160000170000180000190000\"]]}, \"stdout\": \"\", \"func_name\": \"<module>\", \"stack_to_render\": [], \"line\": 4, \"globals\": {\"i\": 20, \"x\": [\"REF\", 1]}, \"event\": \"step_line\"}, {\"ordered_globals\": [\"x\", \"i\"], \"heap\": {\"1\": [\"DICT\", [0, \"a\"], [1, \"a10000\"], [2, \"a1000020000\"], [3, \"a100002000030000\"], [4, \"a10000200003000040000\"], [5, \"a1000020000300004000050000\"], [6, \"a100002000030000400005000060000\"], [7, \"a10000200003000040000500006000070000\"], [8, \"a1000020000300004000050000600007000080000\"], [9, \"a100002000030000400005000060000700008000090000\"], [10, \"a100002000030000400005000060000700008000090000100000\"], [11, \"a100002000030000400005000060000700008000090000100000110000\"], [12, \"a100002000030000400005000060000700008000090000100000110000120000\"], [13, \"a100002000030000400005000060000700008000090000100000110000120000130000\"], [14, \"a100002000030000400005000060000700008000090000100000110000120000130000140000\"], [15, \"a100002000030000400005000060000700008000090000100000110000120000130000140000150000\"], [16, \"a100002000030000400005000060000700008000090000100000110000120000130000140000150000160000\"], [17, \"a100002000030000400005000060000700008000090000100000110000120000130000140000150000160000170000\"], [18, \"a100002000030000400005000060000700008000090000100000110000120000130000140000150000160000170000180000\"], [19, \"a100002000030000400005000060000700008000090000100000110000120000130000140000150000160000170000180000190000\"], [20, \"a100002000030000400005000060000700008000090000100000110000120000130000140000150000160000170000180000190000200000\"]]}, \"stdout\": \"\", \"func_name\": \"<module>\", \"stack_to_render\": [], \"line\": 3, \"globals\": {\"i\": 20, \"x\": [\"REF\", 1]}, \"event\": \"step_line\"}, {\"ordered_globals\": [\"x\", \"i\"], \"heap\": {\"1\": [\"DICT\", [0, \"a\"], [1, \"a10000\"], [2, \"a1000020000\"], [3, \"a100002000030000\"], [4, \"a10000200003000040000\"], [5, \"a1000020000300004000050000\"], [6, \"a100002000030000400005000060000\"], [7, \"a10000200003000040000500006000070000\"], [8, \"a1000020000300004000050000600007000080000\"], [9, \"a100002000030000400005000060000700008000090000\"], [10, \"a100002000030000400005000060000700008000090000100000\"], [11, \"a100002000030000400005000060000700008000090000100000110000\"], [12, \"a100002000030000400005000060000700008000090000100000110000120000\"], [13, \"a100002000030000400005000060000700008000090000100000110000120000130000\"], [14, \"a100002000030000400005000060000700008000090000100000110000120000130000140000\"], [15, \"a100002000030000400005000060000700008000090000100000110000120000130000140000150000\"], [16, \"a100002000030000400005000060000700008000090000100000110000120000130000140000150000160000\"], [17, \"a100002000030000400005000060000700008000090000100000110000120000130000140000150000160000170000\"], [18, \"a100002000030000400005000060000700008000090000100000110000120000130000140000150000160000170000180000\"], [19, \"a100002000030000400005000060000700008000090000100000110000120000130000140000150000160000170000180000190000\"], [20, \"a100002000030000400005000060000700008000090000100000110000120000130000140000150000160000170000180000190000200000\"]]}, \"stdout\": \"\", \"func_name\": \"<module>\", \"stack_to_render\": [], \"line\": 4, \"globals\": {\"i\": 21, \"x\": [\"REF\", 1]}, \"event\": \"step_line\"}, {\"ordered_globals\": [\"x\", \"i\"], \"heap\": {\"1\": [\"DICT\", [0, \"a\"], [1, \"a10000\"], [2, \"a1000020000\"], [3, \"a100002000030000\"], [4, \"a10000200003000040000\"], [5, \"a1000020000300004000050000\"], [6, \"a100002000030000400005000060000\"], [7, \"a10000200003000040000500006000070000\"], [8, \"a1000020000300004000050000600007000080000\"], [9, \"a100002000030000400005000060000700008000090000\"], [10, \"a100002000030000400005000060000700008000090000100000\"], [11, \"a100002000030000400005000060000700008000090000100000110000\"], [12, \"a100002000030000400005000060000700008000090000100000110000120000\"], [13, \"a100002000030000400005000060000700008000090000100000110000120000130000\"], [14, \"a100002000030000400005000060000700008000090000100000110000120000130000140000\"], [15, \"a100002000030000400005000060000700008000090000100000110000120000130000140000150000\"], [16, \"a100002000030000400005000060000700008000090000100000110000120000130000140000150000160000\"], [17, \"a100002000030000400005000060000700008000090000100000110000120000130000140000150000160000170000\"], [18, \"a100002000030000400005000060000700008000090000100000110000120000130000140000150000160000170000180000\"], [19, \"a100002000030000400005000060000700008000090000100000110000120000130000140000150000160000170000180000190000\"], [20, \"a100002000030000400005000060000700008000090000100000110000120000130000140000150000160000170000180000190000200000\"], [21, \"a100002000030000400005000060000700008000090000100000110000120000130000140000150000160000170000180000190000200000210000\"]]}, \"stdout\": \"\", \"func_name\": \"<module>\", \"stack_to_render\": [], \"line\": 3, \"globals\": {\"i\": 21, \"x\": [\"REF\", 1]}, \"event\": \"step_line\"}, {\"ordered_globals\": [\"x\", \"i\"], \"heap\": {\"1\": [\"DICT\", [0, \"a\"], [1, \"a10000\"], [2, \"a1000020000\"], [3, \"a100002000030000\"], [4, \"a10000200003000040000\"], [5, \"a1000020000300004000050000\"], [6, \"a100002000030000400005000060000\"], [7, \"a10000200003000040000500006000070000\"], [8, \"a1000020000300004000050000600007000080000\"], [9, \"a100002000030000400005000060000700008000090000\"], [10, \"a100002000030000400005000060000700008000090000100000\"], [11, \"a100002000030000400005000060000700008000090000100000110000\"], [12, \"a100002000030000400005000060000700008000090000100000110000120000\"], [13, \"a100002000030000400005000060000700008000090000100000110000120000130000\"], [14, \"a100002000030000400005000060000700008000090000100000110000120000130000140000\"], [15, \"a100002000030000400005000060000700008000090000100000110000120000130000140000150000\"], [16, \"a100002000030000400005000060000700008000090000100000110000120000130000140000150000160000\"], [17, \"a100002000030000400005000060000700008000090000100000110000120000130000140000150000160000170000\"], [18, \"a100002000030000400005000060000700008000090000100000110000120000130000140000150000160000170000180000\"], [19, \"a100002000030000400005000060000700008000090000100000110000120000130000140000150000160000170000180000190000\"], [20, \"a100002000030000400005000060000700008000090000100000110000120000130000140000150000160000170000180000190000200000\"], [21, \"a100002000030000400005000060000700008000090000100000110000120000130000140000150000160000170000180000190000200000210000\"]]}, \"stdout\": \"\", \"func_name\": \"<module>\", \"stack_to_render\": [], \"line\": 4, \"globals\": {\"i\": 22, \"x\": [\"REF\", 1]}, \"event\": \"step_line\"}, {\"ordered_globals\": [\"x\", \"i\"], \"heap\": {\"1\": [\"DICT\", [0, \"a\"], [1, \"a10000\"], [2, \"a1000020000\"], [3, \"a100002000030000\"], [4, \"a10000200003000040000\"], [5, \"a1000020000300004000050000\"], [6, \"a100002000030000400005000060000\"], [7, \"a10000200003000040000500006000070000\"], [8, \"a1000020000300004000050000600007000080000\"], [9, \"a100002000030000400005000060000700008000090000\"], [10, \"a100002000030000400005000060000700008000090000100000\"], [11, \"a100002000030000400005000060000700008000090000100000110000\"], [12, \"a100002000030000400005000060000700008000090000100000110000120000\"], [13, \"a100002000030000400005000060000700008000090000100000110000120000130000\"], [14, \"a100002000030000400005000060000700008000090000100000110000120000130000140000\"], [15, \"a100002000030000400005000060000700008000090000100000110000120000130000140000150000\"], [16, \"a100002000030000400005000060000700008000090000100000110000120000130000140000150000160000\"], [17, \"a100002000030000400005000060000700008000090000100000110000120000130000140000150000160000170000\"], [18, \"a100002000030000400005000060000700008000090000100000110000120000130000140000150000160000170000180000\"], [19, \"a100002000030000400005000060000700008000090000100000110000120000130000140000150000160000170000180000190000\"], [20, \"a100002000030000400005000060000700008000090000100000110000120000130000140000150000160000170000180000190000200000\"], [21, \"a100002000030000400005000060000700008000090000100000110000120000130000140000150000160000170000180000190000200000210000\"], [22, \"a100002000030000400005000060000700008000090000100000110000120000130000140000150000160000170000180000190000200000210000220000\"]]}, \"stdout\": \"\", \"func_name\": \"<module>\", \"stack_to_render\": [], \"line\": 3, \"globals\": {\"i\": 22, \"x\": [\"REF\", 1]}, \"event\": \"step_line\"}, {\"ordered_globals\": [\"x\", \"i\"], \"heap\": {\"1\": [\"DICT\", [0, \"a\"], [1, \"a10000\"], [2, \"a1000020000\"], [3, \"a100002000030000\"], [4, \"a10000200003000040000\"], [5, \"a1000020000300004000050000\"], [6, \"a100002000030000400005000060000\"], [7, \"a10000200003000040000500006000070000\"], [8, \"a1000020000300004000050000600007000080000\"], [9, \"a100002000030000400005000060000700008000090000\"], [10, \"a100002000030000400005000060000700008000090000100000\"], [11, \"a100002000030000400005000060000700008000090000100000110000\"], [12, \"a100002000030000400005000060000700008000090000100000110000120000\"], [13, \"a100002000030000400005000060000700008000090000100000110000120000130000\"], [14, \"a100002000030000400005000060000700008000090000100000110000120000130000140000\"], [15, \"a100002000030000400005000060000700008000090000100000110000120000130000140000150000\"], [16, \"a100002000030000400005000060000700008000090000100000110000120000130000140000150000160000\"], [17, \"a100002000030000400005000060000700008000090000100000110000120000130000140000150000160000170000\"], [18, \"a100002000030000400005000060000700008000090000100000110000120000130000140000150000160000170000180000\"], [19, \"a100002000030000400005000060000700008000090000100000110000120000130000140000150000160000170000180000190000\"], [20, \"a100002000030000400005000060000700008000090000100000110000120000130000140000150000160000170000180000190000200000\"], [21, \"a100002000030000400005000060000700008000090000100000110000120000130000140000150000160000170000180000190000200000210000\"], [22, \"a100002000030000400005000060000700008000090000100000110000120000130000140000150000160000170000180000190000200000210000220000\"]]}, \"stdout\": \"\", \"func_name\": \"<module>\", \"stack_to_render\": [], \"line\": 4, \"globals\": {\"i\": 23, \"x\": [\"REF\", 1]}, \"event\": \"step_line\"}, {\"ordered_globals\": [\"x\", \"i\"], \"heap\": {\"1\": [\"DICT\", [0, \"a\"], [1, \"a10000\"], [2, \"a1000020000\"], [3, \"a100002000030000\"], [4, \"a10000200003000040000\"], [5, \"a1000020000300004000050000\"], [6, \"a100002000030000400005000060000\"], [7, \"a10000200003000040000500006000070000\"], [8, \"a1000020000300004000050000600007000080000\"], [9, \"a100002000030000400005000060000700008000090000\"], [10, \"a100002000030000400005000060000700008000090000100000\"], [11, \"a100002000030000400005000060000700008000090000100000110000\"], [12, \"a100002000030000400005000060000700008000090000100000110000120000\"], [13, \"a100002000030000400005000060000700008000090000100000110000120000130000\"], [14, \"a100002000030000400005000060000700008000090000100000110000120000130000140000\"], [15, \"a100002000030000400005000060000700008000090000100000110000120000130000140000150000\"], [16, \"a100002000030000400005000060000700008000090000100000110000120000130000140000150000160000\"], [17, \"a100002000030000400005000060000700008000090000100000110000120000130000140000150000160000170000\"], [18, \"a100002000030000400005000060000700008000090000100000110000120000130000140000150000160000170000180000\"], [19, \"a100002000030000400005000060000700008000090000100000110000120000130000140000150000160000170000180000190000\"], [20, \"a100002000030000400005000060000700008000090000100000110000120000130000140000150000160000170000180000190000200000\"], [21, \"a100002000030000400005000060000700008000090000100000110000120000130000140000150000160000170000180000190000200000210000\"], [22, \"a100002000030000400005000060000700008000090000100000110000120000130000140000150000160000170000180000190000200000210000220000\"], [23, \"a100002000030000400005000060000700008000090000100000110000120000130000140000150000160000170000180000190000200000210000220000230000\"]]}, \"stdout\": \"\", \"func_name\": \"<module>\", \"stack_to_render\": [], \"line\": 3, \"globals\": {\"i\": 23, \"x\": [\"REF\", 1]}, \"event\": \"step_line\"}, {\"ordered_globals\": [\"x\", \"i\"], \"heap\": {\"1\": [\"DICT\", [0, \"a\"], [1, \"a10000\"], [2, \"a1000020000\"], [3, \"a100002000030000\"], [4, \"a10000200003000040000\"], [5, \"a1000020000300004000050000\"], [6, \"a100002000030000400005000060000\"], [7, \"a10000200003000040000500006000070000\"], [8, \"a1000020000300004000050000600007000080000\"], [9, \"a100002000030000400005000060000700008000090000\"], [10, \"a100002000030000400005000060000700008000090000100000\"], [11, \"a100002000030000400005000060000700008000090000100000110000\"], [12, \"a100002000030000400005000060000700008000090000100000110000120000\"], [13, \"a100002000030000400005000060000700008000090000100000110000120000130000\"], [14, \"a100002000030000400005000060000700008000090000100000110000120000130000140000\"], [15, \"a100002000030000400005000060000700008000090000100000110000120000130000140000150000\"], [16, \"a100002000030000400005000060000700008000090000100000110000120000130000140000150000160000\"], [17, \"a100002000030000400005000060000700008000090000100000110000120000130000140000150000160000170000\"], [18, \"a100002000030000400005000060000700008000090000100000110000120000130000140000150000160000170000180000\"], [19, \"a100002000030000400005000060000700008000090000100000110000120000130000140000150000160000170000180000190000\"], [20, \"a100002000030000400005000060000700008000090000100000110000120000130000140000150000160000170000180000190000200000\"], [21, \"a100002000030000400005000060000700008000090000100000110000120000130000140000150000160000170000180000190000200000210000\"], [22, \"a100002000030000400005000060000700008000090000100000110000120000130000140000150000160000170000180000190000200000210000220000\"], [23, \"a100002000030000400005000060000700008000090000100000110000120000130000140000150000160000170000180000190000200000210000220000230000\"]]}, \"stdout\": \"\", \"func_name\": \"<module>\", \"stack_to_render\": [], \"line\": 4, \"globals\": {\"i\": 24, \"x\": [\"REF\", 1]}, \"event\": \"step_line\"}, {\"ordered_globals\": [\"x\", \"i\"], \"heap\": {\"1\": [\"DICT\", [0, \"a\"], [1, \"a10000\"], [2, \"a1000020000\"], [3, \"a100002000030000\"], [4, \"a10000200003000040000\"], [5, \"a1000020000300004000050000\"], [6, \"a100002000030000400005000060000\"], [7, \"a10000200003000040000500006000070000\"], [8, \"a1000020000300004000050000600007000080000\"], [9, \"a100002000030000400005000060000700008000090000\"], [10, \"a100002000030000400005000060000700008000090000100000\"], [11, \"a100002000030000400005000060000700008000090000100000110000\"], [12, \"a100002000030000400005000060000700008000090000100000110000120000\"], [13, \"a100002000030000400005000060000700008000090000100000110000120000130000\"], [14, \"a100002000030000400005000060000700008000090000100000110000120000130000140000\"], [15, \"a100002000030000400005000060000700008000090000100000110000120000130000140000150000\"], [16, \"a100002000030000400005000060000700008000090000100000110000120000130000140000150000160000\"], [17, \"a100002000030000400005000060000700008000090000100000110000120000130000140000150000160000170000\"], [18, \"a100002000030000400005000060000700008000090000100000110000120000130000140000150000160000170000180000\"], [19, \"a100002000030000400005000060000700008000090000100000110000120000130000140000150000160000170000180000190000\"], [20, \"a100002000030000400005000060000700008000090000100000110000120000130000140000150000160000170000180000190000200000\"], [21, \"a100002000030000400005000060000700008000090000100000110000120000130000140000150000160000170000180000190000200000210000\"], [22, \"a100002000030000400005000060000700008000090000100000110000120000130000140000150000160000170000180000190000200000210000220000\"], [23, \"a100002000030000400005000060000700008000090000100000110000120000130000140000150000160000170000180000190000200000210000220000230000\"], [24, \"a100002000030000400005000060000700008000090000100000110000120000130000140000150000160000170000180000190000200000210000220000230000240000\"]]}, \"stdout\": \"\", \"func_name\": \"<module>\", \"stack_to_render\": [], \"line\": 3, \"globals\": {\"i\": 24, \"x\": [\"REF\", 1]}, \"event\": \"step_line\"}, {\"ordered_globals\": [\"x\", \"i\"], \"heap\": {\"1\": [\"DICT\", [0, \"a\"], [1, \"a10000\"], [2, \"a1000020000\"], [3, \"a100002000030000\"], [4, \"a10000200003000040000\"], [5, \"a1000020000300004000050000\"], [6, \"a100002000030000400005000060000\"], [7, \"a10000200003000040000500006000070000\"], [8, \"a1000020000300004000050000600007000080000\"], [9, \"a100002000030000400005000060000700008000090000\"], [10, \"a100002000030000400005000060000700008000090000100000\"], [11, \"a100002000030000400005000060000700008000090000100000110000\"], [12, \"a100002000030000400005000060000700008000090000100000110000120000\"], [13, \"a100002000030000400005000060000700008000090000100000110000120000130000\"], [14, \"a100002000030000400005000060000700008000090000100000110000120000130000140000\"], [15, \"a100002000030000400005000060000700008000090000100000110000120000130000140000150000\"], [16, \"a100002000030000400005000060000700008000090000100000110000120000130000140000150000160000\"], [17, \"a100002000030000400005000060000700008000090000100000110000120000130000140000150000160000170000\"], [18, \"a100002000030000400005000060000700008000090000100000110000120000130000140000150000160000170000180000\"], [19, \"a100002000030000400005000060000700008000090000100000110000120000130000140000150000160000170000180000190000\"], [20, \"a100002000030000400005000060000700008000090000100000110000120000130000140000150000160000170000180000190000200000\"], [21, \"a100002000030000400005000060000700008000090000100000110000120000130000140000150000160000170000180000190000200000210000\"], [22, \"a100002000030000400005000060000700008000090000100000110000120000130000140000150000160000170000180000190000200000210000220000\"], [23, \"a100002000030000400005000060000700008000090000100000110000120000130000140000150000160000170000180000190000200000210000220000230000\"], [24, \"a100002000030000400005000060000700008000090000100000110000120000130000140000150000160000170000180000190000200000210000220000230000240000\"]]}, \"stdout\": \"\", \"func_name\": \"<module>\", \"stack_to_render\": [], \"line\": 4, \"globals\": {\"i\": 25, \"x\": [\"REF\", 1]}, \"event\": \"step_line\"}, {\"ordered_globals\": [\"x\", \"i\"], \"heap\": {\"1\": [\"DICT\", [0, \"a\"], [1, \"a10000\"], [2, \"a1000020000\"], [3, \"a100002000030000\"], [4, \"a10000200003000040000\"], [5, \"a1000020000300004000050000\"], [6, \"a100002000030000400005000060000\"], [7, \"a10000200003000040000500006000070000\"], [8, \"a1000020000300004000050000600007000080000\"], [9, \"a100002000030000400005000060000700008000090000\"], [10, \"a100002000030000400005000060000700008000090000100000\"], [11, \"a100002000030000400005000060000700008000090000100000110000\"], [12, \"a100002000030000400005000060000700008000090000100000110000120000\"], [13, \"a100002000030000400005000060000700008000090000100000110000120000130000\"], [14, \"a100002000030000400005000060000700008000090000100000110000120000130000140000\"], [15, \"a100002000030000400005000060000700008000090000100000110000120000130000140000150000\"], [16, \"a100002000030000400005000060000700008000090000100000110000120000130000140000150000160000\"], [17, \"a100002000030000400005000060000700008000090000100000110000120000130000140000150000160000170000\"], [18, \"a100002000030000400005000060000700008000090000100000110000120000130000140000150000160000170000180000\"], [19, \"a100002000030000400005000060000700008000090000100000110000120000130000140000150000160000170000180000190000\"], [20, \"a100002000030000400005000060000700008000090000100000110000120000130000140000150000160000170000180000190000200000\"], [21, \"a100002000030000400005000060000700008000090000100000110000120000130000140000150000160000170000180000190000200000210000\"], [22, \"a100002000030000400005000060000700008000090000100000110000120000130000140000150000160000170000180000190000200000210000220000\"], [23, \"a100002000030000400005000060000700008000090000100000110000120000130000140000150000160000170000180000190000200000210000220000230000\"], [24, \"a100002000030000400005000060000700008000090000100000110000120000130000140000150000160000170000180000190000200000210000220000230000240000\"], [25, \"a100002000030000400005000060000700008000090000100000110000120000130000140000150000160000170000180000190000200000210000220000230000240000250000\"]]}, \"stdout\": \"\", \"func_name\": \"<module>\", \"stack_to_render\": [], \"line\": 3, \"globals\": {\"i\": 25, \"x\": [\"REF\", 1]}, \"event\": \"step_line\"}, {\"ordered_globals\": [\"x\", \"i\"], \"heap\": {\"1\": [\"DICT\", [0, \"a\"], [1, \"a10000\"], [2, \"a1000020000\"], [3, \"a100002000030000\"], [4, \"a10000200003000040000\"], [5, \"a1000020000300004000050000\"], [6, \"a100002000030000400005000060000\"], [7, \"a10000200003000040000500006000070000\"], [8, \"a1000020000300004000050000600007000080000\"], [9, \"a100002000030000400005000060000700008000090000\"], [10, \"a100002000030000400005000060000700008000090000100000\"], [11, \"a100002000030000400005000060000700008000090000100000110000\"], [12, \"a100002000030000400005000060000700008000090000100000110000120000\"], [13, \"a100002000030000400005000060000700008000090000100000110000120000130000\"], [14, \"a100002000030000400005000060000700008000090000100000110000120000130000140000\"], [15, \"a100002000030000400005000060000700008000090000100000110000120000130000140000150000\"], [16, \"a100002000030000400005000060000700008000090000100000110000120000130000140000150000160000\"], [17, \"a100002000030000400005000060000700008000090000100000110000120000130000140000150000160000170000\"], [18, \"a100002000030000400005000060000700008000090000100000110000120000130000140000150000160000170000180000\"], [19, \"a100002000030000400005000060000700008000090000100000110000120000130000140000150000160000170000180000190000\"], [20, \"a100002000030000400005000060000700008000090000100000110000120000130000140000150000160000170000180000190000200000\"], [21, \"a100002000030000400005000060000700008000090000100000110000120000130000140000150000160000170000180000190000200000210000\"], [22, \"a100002000030000400005000060000700008000090000100000110000120000130000140000150000160000170000180000190000200000210000220000\"], [23, \"a100002000030000400005000060000700008000090000100000110000120000130000140000150000160000170000180000190000200000210000220000230000\"], [24, \"a100002000030000400005000060000700008000090000100000110000120000130000140000150000160000170000180000190000200000210000220000230000240000\"], [25, \"a100002000030000400005000060000700008000090000100000110000120000130000140000150000160000170000180000190000200000210000220000230000240000250000\"]]}, \"stdout\": \"\", \"func_name\": \"<module>\", \"stack_to_render\": [], \"line\": 4, \"globals\": {\"i\": 26, \"x\": [\"REF\", 1]}, \"event\": \"step_line\"}, {\"ordered_globals\": [\"x\", \"i\"], \"heap\": {\"1\": [\"DICT\", [0, \"a\"], [1, \"a10000\"], [2, \"a1000020000\"], [3, \"a100002000030000\"], [4, \"a10000200003000040000\"], [5, \"a1000020000300004000050000\"], [6, \"a100002000030000400005000060000\"], [7, \"a10000200003000040000500006000070000\"], [8, \"a1000020000300004000050000600007000080000\"], [9, \"a100002000030000400005000060000700008000090000\"], [10, \"a100002000030000400005000060000700008000090000100000\"], [11, \"a100002000030000400005000060000700008000090000100000110000\"], [12, \"a100002000030000400005000060000700008000090000100000110000120000\"], [13, \"a100002000030000400005000060000700008000090000100000110000120000130000\"], [14, \"a100002000030000400005000060000700008000090000100000110000120000130000140000\"], [15, \"a100002000030000400005000060000700008000090000100000110000120000130000140000150000\"], [16, \"a100002000030000400005000060000700008000090000100000110000120000130000140000150000160000\"], [17, \"a100002000030000400005000060000700008000090000100000110000120000130000140000150000160000170000\"], [18, \"a100002000030000400005000060000700008000090000100000110000120000130000140000150000160000170000180000\"], [19, \"a100002000030000400005000060000700008000090000100000110000120000130000140000150000160000170000180000190000\"], [20, \"a100002000030000400005000060000700008000090000100000110000120000130000140000150000160000170000180000190000200000\"], [21, \"a100002000030000400005000060000700008000090000100000110000120000130000140000150000160000170000180000190000200000210000\"], [22, \"a100002000030000400005000060000700008000090000100000110000120000130000140000150000160000170000180000190000200000210000220000\"], [23, \"a100002000030000400005000060000700008000090000100000110000120000130000140000150000160000170000180000190000200000210000220000230000\"], [24, \"a100002000030000400005000060000700008000090000100000110000120000130000140000150000160000170000180000190000200000210000220000230000240000\"], [25, \"a100002000030000400005000060000700008000090000100000110000120000130000140000150000160000170000180000190000200000210000220000230000240000250000\"], [26, \"a100002000030000400005000060000700008000090000100000110000120000130000140000150000160000170000180000190000200000210000220000230000240000250000260000\"]]}, \"stdout\": \"\", \"func_name\": \"<module>\", \"stack_to_render\": [], \"line\": 3, \"globals\": {\"i\": 26, \"x\": [\"REF\", 1]}, \"event\": \"step_line\"}, {\"ordered_globals\": [\"x\", \"i\"], \"heap\": {\"1\": [\"DICT\", [0, \"a\"], [1, \"a10000\"], [2, \"a1000020000\"], [3, \"a100002000030000\"], [4, \"a10000200003000040000\"], [5, \"a1000020000300004000050000\"], [6, \"a100002000030000400005000060000\"], [7, \"a10000200003000040000500006000070000\"], [8, \"a1000020000300004000050000600007000080000\"], [9, \"a100002000030000400005000060000700008000090000\"], [10, \"a100002000030000400005000060000700008000090000100000\"], [11, \"a100002000030000400005000060000700008000090000100000110000\"], [12, \"a100002000030000400005000060000700008000090000100000110000120000\"], [13, \"a100002000030000400005000060000700008000090000100000110000120000130000\"], [14, \"a100002000030000400005000060000700008000090000100000110000120000130000140000\"], [15, \"a100002000030000400005000060000700008000090000100000110000120000130000140000150000\"], [16, \"a100002000030000400005000060000700008000090000100000110000120000130000140000150000160000\"], [17, \"a100002000030000400005000060000700008000090000100000110000120000130000140000150000160000170000\"], [18, \"a100002000030000400005000060000700008000090000100000110000120000130000140000150000160000170000180000\"], [19, \"a100002000030000400005000060000700008000090000100000110000120000130000140000150000160000170000180000190000\"], [20, \"a100002000030000400005000060000700008000090000100000110000120000130000140000150000160000170000180000190000200000\"], [21, \"a100002000030000400005000060000700008000090000100000110000120000130000140000150000160000170000180000190000200000210000\"], [22, \"a100002000030000400005000060000700008000090000100000110000120000130000140000150000160000170000180000190000200000210000220000\"], [23, \"a100002000030000400005000060000700008000090000100000110000120000130000140000150000160000170000180000190000200000210000220000230000\"], [24, \"a100002000030000400005000060000700008000090000100000110000120000130000140000150000160000170000180000190000200000210000220000230000240000\"], [25, \"a100002000030000400005000060000700008000090000100000110000120000130000140000150000160000170000180000190000200000210000220000230000240000250000\"], [26, \"a100002000030000400005000060000700008000090000100000110000120000130000140000150000160000170000180000190000200000210000220000230000240000250000260000\"]]}, \"stdout\": \"\", \"func_name\": \"<module>\", \"stack_to_render\": [], \"line\": 4, \"globals\": {\"i\": 27, \"x\": [\"REF\", 1]}, \"event\": \"step_line\"}, {\"ordered_globals\": [\"x\", \"i\"], \"heap\": {\"1\": [\"DICT\", [0, \"a\"], [1, \"a10000\"], [2, \"a1000020000\"], [3, \"a100002000030000\"], [4, \"a10000200003000040000\"], [5, \"a1000020000300004000050000\"], [6, \"a100002000030000400005000060000\"], [7, \"a10000200003000040000500006000070000\"], [8, \"a1000020000300004000050000600007000080000\"], [9, \"a100002000030000400005000060000700008000090000\"], [10, \"a100002000030000400005000060000700008000090000100000\"], [11, \"a100002000030000400005000060000700008000090000100000110000\"], [12, \"a100002000030000400005000060000700008000090000100000110000120000\"], [13, \"a100002000030000400005000060000700008000090000100000110000120000130000\"], [14, \"a100002000030000400005000060000700008000090000100000110000120000130000140000\"], [15, \"a100002000030000400005000060000700008000090000100000110000120000130000140000150000\"], [16, \"a100002000030000400005000060000700008000090000100000110000120000130000140000150000160000\"], [17, \"a100002000030000400005000060000700008000090000100000110000120000130000140000150000160000170000\"], [18, \"a100002000030000400005000060000700008000090000100000110000120000130000140000150000160000170000180000\"], [19, \"a100002000030000400005000060000700008000090000100000110000120000130000140000150000160000170000180000190000\"], [20, \"a100002000030000400005000060000700008000090000100000110000120000130000140000150000160000170000180000190000200000\"], [21, \"a100002000030000400005000060000700008000090000100000110000120000130000140000150000160000170000180000190000200000210000\"], [22, \"a100002000030000400005000060000700008000090000100000110000120000130000140000150000160000170000180000190000200000210000220000\"], [23, \"a100002000030000400005000060000700008000090000100000110000120000130000140000150000160000170000180000190000200000210000220000230000\"], [24, \"a100002000030000400005000060000700008000090000100000110000120000130000140000150000160000170000180000190000200000210000220000230000240000\"], [25, \"a100002000030000400005000060000700008000090000100000110000120000130000140000150000160000170000180000190000200000210000220000230000240000250000\"], [26, \"a100002000030000400005000060000700008000090000100000110000120000130000140000150000160000170000180000190000200000210000220000230000240000250000260000\"], [27, \"a100002000030000400005000060000700008000090000100000110000120000130000140000150000160000170000180000190000200000210000220000230000240000250000260000270000\"]]}, \"stdout\": \"\", \"func_name\": \"<module>\", \"stack_to_render\": [], \"line\": 3, \"globals\": {\"i\": 27, \"x\": [\"REF\", 1]}, \"event\": \"step_line\"}, {\"ordered_globals\": [\"x\", \"i\"], \"heap\": {\"1\": [\"DICT\", [0, \"a\"], [1, \"a10000\"], [2, \"a1000020000\"], [3, \"a100002000030000\"], [4, \"a10000200003000040000\"], [5, \"a1000020000300004000050000\"], [6, \"a100002000030000400005000060000\"], [7, \"a10000200003000040000500006000070000\"], [8, \"a1000020000300004000050000600007000080000\"], [9, \"a100002000030000400005000060000700008000090000\"], [10, \"a100002000030000400005000060000700008000090000100000\"], [11, \"a100002000030000400005000060000700008000090000100000110000\"], [12, \"a100002000030000400005000060000700008000090000100000110000120000\"], [13, \"a100002000030000400005000060000700008000090000100000110000120000130000\"], [14, \"a100002000030000400005000060000700008000090000100000110000120000130000140000\"], [15, \"a100002000030000400005000060000700008000090000100000110000120000130000140000150000\"], [16, \"a100002000030000400005000060000700008000090000100000110000120000130000140000150000160000\"], [17, \"a100002000030000400005000060000700008000090000100000110000120000130000140000150000160000170000\"], [18, \"a100002000030000400005000060000700008000090000100000110000120000130000140000150000160000170000180000\"], [19, \"a100002000030000400005000060000700008000090000100000110000120000130000140000150000160000170000180000190000\"], [20, \"a100002000030000400005000060000700008000090000100000110000120000130000140000150000160000170000180000190000200000\"], [21, \"a100002000030000400005000060000700008000090000100000110000120000130000140000150000160000170000180000190000200000210000\"], [22, \"a100002000030000400005000060000700008000090000100000110000120000130000140000150000160000170000180000190000200000210000220000\"], [23, \"a100002000030000400005000060000700008000090000100000110000120000130000140000150000160000170000180000190000200000210000220000230000\"], [24, \"a100002000030000400005000060000700008000090000100000110000120000130000140000150000160000170000180000190000200000210000220000230000240000\"], [25, \"a100002000030000400005000060000700008000090000100000110000120000130000140000150000160000170000180000190000200000210000220000230000240000250000\"], [26, \"a100002000030000400005000060000700008000090000100000110000120000130000140000150000160000170000180000190000200000210000220000230000240000250000260000\"], [27, \"a100002000030000400005000060000700008000090000100000110000120000130000140000150000160000170000180000190000200000210000220000230000240000250000260000270000\"]]}, \"stdout\": \"\", \"func_name\": \"<module>\", \"stack_to_render\": [], \"line\": 4, \"globals\": {\"i\": 28, \"x\": [\"REF\", 1]}, \"event\": \"step_line\"}, {\"ordered_globals\": [\"x\", \"i\"], \"heap\": {\"1\": [\"DICT\", [0, \"a\"], [1, \"a10000\"], [2, \"a1000020000\"], [3, \"a100002000030000\"], [4, \"a10000200003000040000\"], [5, \"a1000020000300004000050000\"], [6, \"a100002000030000400005000060000\"], [7, \"a10000200003000040000500006000070000\"], [8, \"a1000020000300004000050000600007000080000\"], [9, \"a100002000030000400005000060000700008000090000\"], [10, \"a100002000030000400005000060000700008000090000100000\"], [11, \"a100002000030000400005000060000700008000090000100000110000\"], [12, \"a100002000030000400005000060000700008000090000100000110000120000\"], [13, \"a100002000030000400005000060000700008000090000100000110000120000130000\"], [14, \"a100002000030000400005000060000700008000090000100000110000120000130000140000\"], [15, \"a100002000030000400005000060000700008000090000100000110000120000130000140000150000\"], [16, \"a100002000030000400005000060000700008000090000100000110000120000130000140000150000160000\"], [17, \"a100002000030000400005000060000700008000090000100000110000120000130000140000150000160000170000\"], [18, \"a100002000030000400005000060000700008000090000100000110000120000130000140000150000160000170000180000\"], [19, \"a100002000030000400005000060000700008000090000100000110000120000130000140000150000160000170000180000190000\"], [20, \"a100002000030000400005000060000700008000090000100000110000120000130000140000150000160000170000180000190000200000\"], [21, \"a100002000030000400005000060000700008000090000100000110000120000130000140000150000160000170000180000190000200000210000\"], [22, \"a100002000030000400005000060000700008000090000100000110000120000130000140000150000160000170000180000190000200000210000220000\"], [23, \"a100002000030000400005000060000700008000090000100000110000120000130000140000150000160000170000180000190000200000210000220000230000\"], [24, \"a100002000030000400005000060000700008000090000100000110000120000130000140000150000160000170000180000190000200000210000220000230000240000\"], [25, \"a100002000030000400005000060000700008000090000100000110000120000130000140000150000160000170000180000190000200000210000220000230000240000250000\"], [26, \"a100002000030000400005000060000700008000090000100000110000120000130000140000150000160000170000180000190000200000210000220000230000240000250000260000\"], [27, \"a100002000030000400005000060000700008000090000100000110000120000130000140000150000160000170000180000190000200000210000220000230000240000250000260000270000\"], [28, \"a100002000030000400005000060000700008000090000100000110000120000130000140000150000160000170000180000190000200000210000220000230000240000250000260000270000280000\"]]}, \"stdout\": \"\", \"func_name\": \"<module>\", \"stack_to_render\": [], \"line\": 3, \"globals\": {\"i\": 28, \"x\": [\"REF\", 1]}, \"event\": \"step_line\"}, {\"ordered_globals\": [\"x\", \"i\"], \"heap\": {\"1\": [\"DICT\", [0, \"a\"], [1, \"a10000\"], [2, \"a1000020000\"], [3, \"a100002000030000\"], [4, \"a10000200003000040000\"], [5, \"a1000020000300004000050000\"], [6, \"a100002000030000400005000060000\"], [7, \"a10000200003000040000500006000070000\"], [8, \"a1000020000300004000050000600007000080000\"], [9, \"a100002000030000400005000060000700008000090000\"], [10, \"a100002000030000400005000060000700008000090000100000\"], [11, \"a100002000030000400005000060000700008000090000100000110000\"], [12, \"a100002000030000400005000060000700008000090000100000110000120000\"], [13, \"a100002000030000400005000060000700008000090000100000110000120000130000\"], [14, \"a100002000030000400005000060000700008000090000100000110000120000130000140000\"], [15, \"a100002000030000400005000060000700008000090000100000110000120000130000140000150000\"], [16, \"a100002000030000400005000060000700008000090000100000110000120000130000140000150000160000\"], [17, \"a100002000030000400005000060000700008000090000100000110000120000130000140000150000160000170000\"], [18, \"a100002000030000400005000060000700008000090000100000110000120000130000140000150000160000170000180000\"], [19, \"a100002000030000400005000060000700008000090000100000110000120000130000140000150000160000170000180000190000\"], [20, \"a100002000030000400005000060000700008000090000100000110000120000130000140000150000160000170000180000190000200000\"], [21, \"a100002000030000400005000060000700008000090000100000110000120000130000140000150000160000170000180000190000200000210000\"], [22, \"a100002000030000400005000060000700008000090000100000110000120000130000140000150000160000170000180000190000200000210000220000\"], [23, \"a100002000030000400005000060000700008000090000100000110000120000130000140000150000160000170000180000190000200000210000220000230000\"], [24, \"a100002000030000400005000060000700008000090000100000110000120000130000140000150000160000170000180000190000200000210000220000230000240000\"], [25, \"a100002000030000400005000060000700008000090000100000110000120000130000140000150000160000170000180000190000200000210000220000230000240000250000\"], [26, \"a100002000030000400005000060000700008000090000100000110000120000130000140000150000160000170000180000190000200000210000220000230000240000250000260000\"], [27, \"a100002000030000400005000060000700008000090000100000110000120000130000140000150000160000170000180000190000200000210000220000230000240000250000260000270000\"], [28, \"a100002000030000400005000060000700008000090000100000110000120000130000140000150000160000170000180000190000200000210000220000230000240000250000260000270000280000\"]]}, \"stdout\": \"\", \"func_name\": \"<module>\", \"stack_to_render\": [], \"line\": 4, \"globals\": {\"i\": 29, \"x\": [\"REF\", 1]}, \"event\": \"step_line\"}, {\"ordered_globals\": [\"x\", \"i\"], \"heap\": {\"1\": [\"DICT\", [0, \"a\"], [1, \"a10000\"], [2, \"a1000020000\"], [3, \"a100002000030000\"], [4, \"a10000200003000040000\"], [5, \"a1000020000300004000050000\"], [6, \"a100002000030000400005000060000\"], [7, \"a10000200003000040000500006000070000\"], [8, \"a1000020000300004000050000600007000080000\"], [9, \"a100002000030000400005000060000700008000090000\"], [10, \"a100002000030000400005000060000700008000090000100000\"], [11, \"a100002000030000400005000060000700008000090000100000110000\"], [12, \"a100002000030000400005000060000700008000090000100000110000120000\"], [13, \"a100002000030000400005000060000700008000090000100000110000120000130000\"], [14, \"a100002000030000400005000060000700008000090000100000110000120000130000140000\"], [15, \"a100002000030000400005000060000700008000090000100000110000120000130000140000150000\"], [16, \"a100002000030000400005000060000700008000090000100000110000120000130000140000150000160000\"], [17, \"a100002000030000400005000060000700008000090000100000110000120000130000140000150000160000170000\"], [18, \"a100002000030000400005000060000700008000090000100000110000120000130000140000150000160000170000180000\"], [19, \"a100002000030000400005000060000700008000090000100000110000120000130000140000150000160000170000180000190000\"], [20, \"a100002000030000400005000060000700008000090000100000110000120000130000140000150000160000170000180000190000200000\"], [21, \"a100002000030000400005000060000700008000090000100000110000120000130000140000150000160000170000180000190000200000210000\"], [22, \"a100002000030000400005000060000700008000090000100000110000120000130000140000150000160000170000180000190000200000210000220000\"], [23, \"a100002000030000400005000060000700008000090000100000110000120000130000140000150000160000170000180000190000200000210000220000230000\"], [24, \"a100002000030000400005000060000700008000090000100000110000120000130000140000150000160000170000180000190000200000210000220000230000240000\"], [25, \"a100002000030000400005000060000700008000090000100000110000120000130000140000150000160000170000180000190000200000210000220000230000240000250000\"], [26, \"a100002000030000400005000060000700008000090000100000110000120000130000140000150000160000170000180000190000200000210000220000230000240000250000260000\"], [27, \"a100002000030000400005000060000700008000090000100000110000120000130000140000150000160000170000180000190000200000210000220000230000240000250000260000270000\"], [28, \"a100002000030000400005000060000700008000090000100000110000120000130000140000150000160000170000180000190000200000210000220000230000240000250000260000270000280000\"], [29, \"a100002000030000400005000060000700008000090000100000110000120000130000140000150000160000170000180000190000200000210000220000230000240000250000260000270000280000290000\"]]}, \"stdout\": \"\", \"func_name\": \"<module>\", \"stack_to_render\": [], \"line\": 3, \"globals\": {\"i\": 29, \"x\": [\"REF\", 1]}, \"event\": \"step_line\"}, {\"ordered_globals\": [\"x\", \"i\"], \"heap\": {\"1\": [\"DICT\", [0, \"a\"], [1, \"a10000\"], [2, \"a1000020000\"], [3, \"a100002000030000\"], [4, \"a10000200003000040000\"], [5, \"a1000020000300004000050000\"], [6, \"a100002000030000400005000060000\"], [7, \"a10000200003000040000500006000070000\"], [8, \"a1000020000300004000050000600007000080000\"], [9, \"a100002000030000400005000060000700008000090000\"], [10, \"a100002000030000400005000060000700008000090000100000\"], [11, \"a100002000030000400005000060000700008000090000100000110000\"], [12, \"a100002000030000400005000060000700008000090000100000110000120000\"], [13, \"a100002000030000400005000060000700008000090000100000110000120000130000\"], [14, \"a100002000030000400005000060000700008000090000100000110000120000130000140000\"], [15, \"a100002000030000400005000060000700008000090000100000110000120000130000140000150000\"], [16, \"a100002000030000400005000060000700008000090000100000110000120000130000140000150000160000\"], [17, \"a100002000030000400005000060000700008000090000100000110000120000130000140000150000160000170000\"], [18, \"a100002000030000400005000060000700008000090000100000110000120000130000140000150000160000170000180000\"], [19, \"a100002000030000400005000060000700008000090000100000110000120000130000140000150000160000170000180000190000\"], [20, \"a100002000030000400005000060000700008000090000100000110000120000130000140000150000160000170000180000190000200000\"], [21, \"a100002000030000400005000060000700008000090000100000110000120000130000140000150000160000170000180000190000200000210000\"], [22, \"a100002000030000400005000060000700008000090000100000110000120000130000140000150000160000170000180000190000200000210000220000\"], [23, \"a100002000030000400005000060000700008000090000100000110000120000130000140000150000160000170000180000190000200000210000220000230000\"], [24, \"a100002000030000400005000060000700008000090000100000110000120000130000140000150000160000170000180000190000200000210000220000230000240000\"], [25, \"a100002000030000400005000060000700008000090000100000110000120000130000140000150000160000170000180000190000200000210000220000230000240000250000\"], [26, \"a100002000030000400005000060000700008000090000100000110000120000130000140000150000160000170000180000190000200000210000220000230000240000250000260000\"], [27, \"a100002000030000400005000060000700008000090000100000110000120000130000140000150000160000170000180000190000200000210000220000230000240000250000260000270000\"], [28, \"a100002000030000400005000060000700008000090000100000110000120000130000140000150000160000170000180000190000200000210000220000230000240000250000260000270000280000\"], [29, \"a100002000030000400005000060000700008000090000100000110000120000130000140000150000160000170000180000190000200000210000220000230000240000250000260000270000280000290000\"]]}, \"stdout\": \"\", \"func_name\": \"<module>\", \"stack_to_render\": [], \"line\": 3, \"globals\": {\"i\": 29, \"x\": [\"REF\", 1]}, \"event\": \"return\"}]}\n",
       "        </script>\n",
       "        <div id=\"jm9053ec13-0015-4d45-9b43-956f51d2a3dc\" class=\"pytutorVisualizer\"> </div>\n",
       " \n",
       "        <style>\n",
       "        .vizLayoutTd {\n",
       "            background-color: #fff !important;\n",
       "        }\n",
       "                            \n",
       "        #pyStdout {\n",
       "            min-height:25px;\n",
       "        }\n",
       "\n",
       "        /* 'Edit this code' link, hiding because replaces browser tab !!!*/\n",
       "        #editCodeLinkDiv {\n",
       "            display:none;  \n",
       "        }\n",
       "        </style>   \n",
       "                            \n",
       "        <script>\n",
       "        (function(){\n",
       "\n",
       "            var trace = JSON.parse(document.getElementById('json-jm9053ec13-0015-4d45-9b43-956f51d2a3dc').innerHTML);                                        \n",
       "            // NOTE 1: id without #\n",
       "            // NOTE 2 - maybe there are more predictable ways, but this will work anyway\n",
       "            //        - id should be number\n",
       "            visualizerIdOverride = Math.trunc(Math.random() * 100000000000)\n",
       "            addVisualizerToPage(trace, 'jm9053ec13-0015-4d45-9b43-956f51d2a3dc',{'embeddedMode' : false,\n",
       "                                             'visualizerIdOverride':visualizerIdOverride})  \n",
       "            \n",
       "            \n",
       "            // set overflow for pytuts - need to do in python as css \n",
       "            // does not allow parent selection\n",
       "            var pytuts = $('.pytutorVisualizer')\n",
       "            pytuts.closest('div.output_html.rendered_html.output_result')\n",
       "                    .css('overflow-x', 'visible')\n",
       "        \n",
       "            //pytuts.closest('div.output_html.rendered_html.output_result')\n",
       "            //      .css('background-color','red')                \n",
       "            \n",
       "        })()\n",
       "        </script>\n",
       "                \n",
       "                "
      ],
      "text/plain": [
       "<IPython.core.display.HTML object>"
      ]
     },
     "execution_count": 8,
     "metadata": {},
     "output_type": "execute_result"
    }
   ],
   "source": [
    "x = {0:'a'}\n",
    "for i in range(1,30):\n",
    "    x[i] = x[i-1]+str(i*10000)\n",
    "jupman.pytut()"
   ]
  },
  {
   "cell_type": "markdown",
   "metadata": {},
   "source": [
    "**jupman.pytut cross arrows**: With multiple visualizations, arrows shouldn't cross from one to the other even if underlying script is loaded multiple times (relates to visualizerIdOverride)"
   ]
  },
  {
   "cell_type": "code",
   "execution_count": 9,
   "metadata": {},
   "outputs": [
    {
     "data": {
      "text/html": [
       "\n",
       "        <script src=\"_static/js/pytutor-embed.bundle.min.js\" type=\"application/javascript\"></script>\n",
       "     \n",
       "        <script id=\"json-jmbb741a5f-ef01-4c48-b583-d3359f7c6dcb\" type=\"application/json\" >\n",
       "            {\"code\": \" \\nx = [1,2,3]\", \"trace\": [{\"ordered_globals\": [], \"heap\": {}, \"stdout\": \"\", \"func_name\": \"<module>\", \"stack_to_render\": [], \"line\": 2, \"globals\": {}, \"event\": \"step_line\"}, {\"ordered_globals\": [\"x\"], \"heap\": {\"1\": [\"LIST\", 1, 2, 3]}, \"stdout\": \"\", \"func_name\": \"<module>\", \"stack_to_render\": [], \"line\": 2, \"globals\": {\"x\": [\"REF\", 1]}, \"event\": \"return\"}]}\n",
       "        </script>\n",
       "        <div id=\"jmbb741a5f-ef01-4c48-b583-d3359f7c6dcb\" class=\"pytutorVisualizer\"> </div>\n",
       " \n",
       "        <style>\n",
       "        .vizLayoutTd {\n",
       "            background-color: #fff !important;\n",
       "        }\n",
       "                            \n",
       "        #pyStdout {\n",
       "            min-height:25px;\n",
       "        }\n",
       "\n",
       "        /* 'Edit this code' link, hiding because replaces browser tab !!!*/\n",
       "        #editCodeLinkDiv {\n",
       "            display:none;  \n",
       "        }\n",
       "        </style>   \n",
       "                            \n",
       "        <script>\n",
       "        (function(){\n",
       "\n",
       "            var trace = JSON.parse(document.getElementById('json-jmbb741a5f-ef01-4c48-b583-d3359f7c6dcb').innerHTML);                                        \n",
       "            // NOTE 1: id without #\n",
       "            // NOTE 2 - maybe there are more predictable ways, but this will work anyway\n",
       "            //        - id should be number\n",
       "            visualizerIdOverride = Math.trunc(Math.random() * 100000000000)\n",
       "            addVisualizerToPage(trace, 'jmbb741a5f-ef01-4c48-b583-d3359f7c6dcb',{'embeddedMode' : false,\n",
       "                                             'visualizerIdOverride':visualizerIdOverride})  \n",
       "            \n",
       "            \n",
       "            // set overflow for pytuts - need to do in python as css \n",
       "            // does not allow parent selection\n",
       "            var pytuts = $('.pytutorVisualizer')\n",
       "            pytuts.closest('div.output_html.rendered_html.output_result')\n",
       "                    .css('overflow-x', 'visible')\n",
       "        \n",
       "            //pytuts.closest('div.output_html.rendered_html.output_result')\n",
       "            //      .css('background-color','red')                \n",
       "            \n",
       "        })()\n",
       "        </script>\n",
       "                \n",
       "                "
      ],
      "text/plain": [
       "<IPython.core.display.HTML object>"
      ]
     },
     "execution_count": 9,
     "metadata": {},
     "output_type": "execute_result"
    }
   ],
   "source": [
    "x = [1,2,3]\n",
    "\n",
    "\n",
    "jupman.pytut()"
   ]
  },
  {
   "cell_type": "markdown",
   "metadata": {},
   "source": [
    "**jupman.pytut print output**: With only one line of print, Print output panel shouldn't be too short:"
   ]
  },
  {
   "cell_type": "code",
   "execution_count": 10,
   "metadata": {
    "scrolled": true
   },
   "outputs": [
    {
     "name": "stdout",
     "output_type": "stream",
     "text": [
      "hello\n"
     ]
    },
    {
     "data": {
      "text/html": [
       "\n",
       "        <script src=\"_static/js/pytutor-embed.bundle.min.js\" type=\"application/javascript\"></script>\n",
       "     \n",
       "        <script id=\"json-jmdf3706bd-2aac-449b-9254-d170b51632e9\" type=\"application/json\" >\n",
       "            {\"code\": \" \\nprint(\\\"hello\\\")\", \"trace\": [{\"ordered_globals\": [], \"heap\": {}, \"stdout\": \"\", \"func_name\": \"<module>\", \"stack_to_render\": [], \"line\": 2, \"globals\": {}, \"event\": \"step_line\"}, {\"ordered_globals\": [], \"heap\": {}, \"stdout\": \"hello\\n\", \"func_name\": \"<module>\", \"stack_to_render\": [], \"line\": 2, \"globals\": {}, \"event\": \"return\"}]}\n",
       "        </script>\n",
       "        <div id=\"jmdf3706bd-2aac-449b-9254-d170b51632e9\" class=\"pytutorVisualizer\"> </div>\n",
       " \n",
       "        <style>\n",
       "        .vizLayoutTd {\n",
       "            background-color: #fff !important;\n",
       "        }\n",
       "                            \n",
       "        #pyStdout {\n",
       "            min-height:25px;\n",
       "        }\n",
       "\n",
       "        /* 'Edit this code' link, hiding because replaces browser tab !!!*/\n",
       "        #editCodeLinkDiv {\n",
       "            display:none;  \n",
       "        }\n",
       "        </style>   \n",
       "                            \n",
       "        <script>\n",
       "        (function(){\n",
       "\n",
       "            var trace = JSON.parse(document.getElementById('json-jmdf3706bd-2aac-449b-9254-d170b51632e9').innerHTML);                                        \n",
       "            // NOTE 1: id without #\n",
       "            // NOTE 2 - maybe there are more predictable ways, but this will work anyway\n",
       "            //        - id should be number\n",
       "            visualizerIdOverride = Math.trunc(Math.random() * 100000000000)\n",
       "            addVisualizerToPage(trace, 'jmdf3706bd-2aac-449b-9254-d170b51632e9',{'embeddedMode' : false,\n",
       "                                             'visualizerIdOverride':visualizerIdOverride})  \n",
       "            \n",
       "            \n",
       "            // set overflow for pytuts - need to do in python as css \n",
       "            // does not allow parent selection\n",
       "            var pytuts = $('.pytutorVisualizer')\n",
       "            pytuts.closest('div.output_html.rendered_html.output_result')\n",
       "                    .css('overflow-x', 'visible')\n",
       "        \n",
       "            //pytuts.closest('div.output_html.rendered_html.output_result')\n",
       "            //      .css('background-color','red')                \n",
       "            \n",
       "        })()\n",
       "        </script>\n",
       "                \n",
       "                "
      ],
      "text/plain": [
       "<IPython.core.display.HTML object>"
      ]
     },
     "execution_count": 10,
     "metadata": {},
     "output_type": "execute_result"
    }
   ],
   "source": [
    "print(\"hello\")\n",
    "\n",
    "jupman.pytut()"
   ]
  },
  {
   "cell_type": "code",
   "execution_count": 11,
   "metadata": {},
   "outputs": [
    {
     "data": {
      "text/html": [
       "\n",
       "        <script src=\"_static/js/pytutor-embed.bundle.min.js\" type=\"application/javascript\"></script>\n",
       "     \n",
       "        <script id=\"json-jmc9be9da2-3754-4a09-95f0-225ca053a0e3\" type=\"application/json\" >\n",
       "            {\"code\": \" \\ny = [1,2,3,4]\", \"trace\": [{\"ordered_globals\": [], \"heap\": {}, \"stdout\": \"\", \"func_name\": \"<module>\", \"stack_to_render\": [], \"line\": 2, \"globals\": {}, \"event\": \"step_line\"}, {\"ordered_globals\": [\"y\"], \"heap\": {\"1\": [\"LIST\", 1, 2, 3, 4]}, \"stdout\": \"\", \"func_name\": \"<module>\", \"stack_to_render\": [], \"line\": 2, \"globals\": {\"y\": [\"REF\", 1]}, \"event\": \"return\"}]}\n",
       "        </script>\n",
       "        <div id=\"jmc9be9da2-3754-4a09-95f0-225ca053a0e3\" class=\"pytutorVisualizer\"> </div>\n",
       " \n",
       "        <style>\n",
       "        .vizLayoutTd {\n",
       "            background-color: #fff !important;\n",
       "        }\n",
       "                            \n",
       "        #pyStdout {\n",
       "            min-height:25px;\n",
       "        }\n",
       "\n",
       "        /* 'Edit this code' link, hiding because replaces browser tab !!!*/\n",
       "        #editCodeLinkDiv {\n",
       "            display:none;  \n",
       "        }\n",
       "        </style>   \n",
       "                            \n",
       "        <script>\n",
       "        (function(){\n",
       "\n",
       "            var trace = JSON.parse(document.getElementById('json-jmc9be9da2-3754-4a09-95f0-225ca053a0e3').innerHTML);                                        \n",
       "            // NOTE 1: id without #\n",
       "            // NOTE 2 - maybe there are more predictable ways, but this will work anyway\n",
       "            //        - id should be number\n",
       "            visualizerIdOverride = Math.trunc(Math.random() * 100000000000)\n",
       "            addVisualizerToPage(trace, 'jmc9be9da2-3754-4a09-95f0-225ca053a0e3',{'embeddedMode' : false,\n",
       "                                             'visualizerIdOverride':visualizerIdOverride})  \n",
       "            \n",
       "            \n",
       "            // set overflow for pytuts - need to do in python as css \n",
       "            // does not allow parent selection\n",
       "            var pytuts = $('.pytutorVisualizer')\n",
       "            pytuts.closest('div.output_html.rendered_html.output_result')\n",
       "                    .css('overflow-x', 'visible')\n",
       "        \n",
       "            //pytuts.closest('div.output_html.rendered_html.output_result')\n",
       "            //      .css('background-color','red')                \n",
       "            \n",
       "        })()\n",
       "        </script>\n",
       "                \n",
       "                "
      ],
      "text/plain": [
       "<IPython.core.display.HTML object>"
      ]
     },
     "execution_count": 11,
     "metadata": {},
     "output_type": "execute_result"
    }
   ],
   "source": [
    "y = [1,2,3,4]\n",
    "\n",
    "\n",
    "jupman.pytut()"
   ]
  },
  {
   "cell_type": "markdown",
   "metadata": {},
   "source": [
    "### HTML magics\n",
    "\n",
    "Another option is to directly paste Python Tutor iframe in the cells, and use Jupyter `%%HTML` magics command. \n",
    "\n",
    "HTML should be available both in notebook and website - of course, requires an internet connection.\n",
    "\n",
    "Beware: you need the HTTP**S** !"
   ]
  },
  {
   "cell_type": "code",
   "execution_count": 12,
   "metadata": {
    "raw_mimetype": "text/html"
   },
   "outputs": [
    {
     "data": {
      "text/html": [
       "\n",
       "<iframe width=\"800\" height=\"300\" frameborder=\"0\"\n",
       "        src=\"https://pythontutor.com/iframe-embed.html#code=x+%3D+5%0Ay+%3D+10%0Az+%3D+x+%2B+y&cumulative=false&py=2&curInstr=3\">\n",
       "</iframe>"
      ],
      "text/plain": [
       "<IPython.core.display.HTML object>"
      ]
     },
     "metadata": {},
     "output_type": "display_data"
    }
   ],
   "source": [
    "%%HTML\n",
    "\n",
    "<iframe width=\"800\" height=\"300\" frameborder=\"0\"\n",
    "        src=\"https://pythontutor.com/iframe-embed.html#code=x+%3D+5%0Ay+%3D+10%0Az+%3D+x+%2B+y&cumulative=false&py=2&curInstr=3\">\n",
    "</iframe>"
   ]
  },
  {
   "cell_type": "markdown",
   "metadata": {},
   "source": [
    "### NBTutor"
   ]
  },
  {
   "cell_type": "markdown",
   "metadata": {},
   "source": [
    "To show Python Tutor in notebooks, there is already a jupyter extension called [NBTutor](https://github.com/lgpage/nbtutor) , afterwards you can use magic `%%nbtutor` to show the interpreter.\n",
    "\n",
    "Unfortunately, it doesn't show in the generated HTML :-/\n"
   ]
  },
  {
   "cell_type": "code",
   "execution_count": 13,
   "metadata": {},
   "outputs": [],
   "source": [
    "%reload_ext nbtutor"
   ]
  },
  {
   "cell_type": "code",
   "execution_count": 14,
   "metadata": {},
   "outputs": [
    {
     "name": "stdout",
     "output_type": "stream",
     "text": [
      "ciao\n",
      "ciao\n",
      "ciao\n"
     ]
    },
    {
     "data": {
      "text/plain": [
       "12"
      ]
     },
     "execution_count": 14,
     "metadata": {},
     "output_type": "execute_result"
    }
   ],
   "source": [
    "%%nbtutor\n",
    "\n",
    "for x in range(1,4):\n",
    "    print(\"ciao\")\n",
    "x=5\n",
    "y=7\n",
    "x +y\n"
   ]
  },
  {
   "cell_type": "markdown",
   "metadata": {},
   "source": [
    "## Stripping answers\n",
    "\n",
    "For stripping answers examples, see [jupyter-example/jupyter-example-sol](jupyter-example/jupyter-example-sol.ipynb). For explanation, see [usage](usage.ipynb#Tags-to-strip)"
   ]
  },
  {
   "cell_type": "markdown",
   "metadata": {
    "dav-prop": "bla"
   },
   "source": [
    "## Metadata to HTML classes\n"
   ]
  },
  {
   "cell_type": "markdown",
   "metadata": {},
   "source": [
    "## Formatting problems"
   ]
  },
  {
   "cell_type": "markdown",
   "metadata": {},
   "source": [
    "### Characters per line\n",
    "\n",
    "\n",
    "Python standard for code has limit to 79, many styles have 80 (see [Wikipedia](https://en.wikipedia.org/wiki/Characters_per_line))\n",
    "\n",
    "We can keep 80:\n",
    "\n",
    "```\n",
    "--------------------------------------------------------------------------------\n",
    "```\n",
    "\n",
    "\n",
    "```python\n",
    "--------------------------------------------------------------------------------\n",
    "```\n",
    "\n",
    "\n",
    "Errors hold 75 dashes:\n",
    "\n",
    "Plain:\n",
    "```\n",
    "---------------------------------------------------------------------------\n",
    "ZeroDivisionError                         Traceback (most recent call last)\n",
    "<ipython-input-15-9e1622b385b6> in <module>()\n",
    "----> 1 1/0\n",
    "\n",
    "ZeroDivisionError: division by zero\n",
    "\n",
    "```\n",
    "\n",
    "As Python markup:\n",
    "```python\n",
    "---------------------------------------------------------------------------\n",
    "ZeroDivisionError                         Traceback (most recent call last)\n",
    "<ipython-input-15-9e1622b385b6> in <module>()\n",
    "----> 1 1/0\n",
    "\n",
    "ZeroDivisionError: division by zero\n",
    "```"
   ]
  },
  {
   "cell_type": "code",
   "execution_count": 15,
   "metadata": {},
   "outputs": [
    {
     "data": {
      "text/plain": [
       "75"
      ]
     },
     "execution_count": 15,
     "metadata": {},
     "output_type": "execute_result"
    }
   ],
   "source": [
    "len('---------------------------------------------------------------------------')"
   ]
  },
  {
   "cell_type": "markdown",
   "metadata": {},
   "source": [
    "On website this **may** display a scroll bar, because it will actually print `'` apexes plus the dashes"
   ]
  },
  {
   "cell_type": "code",
   "execution_count": 16,
   "metadata": {},
   "outputs": [
    {
     "data": {
      "text/plain": [
       "'--------------------------------------------------------------------------------'"
      ]
     },
     "execution_count": 16,
     "metadata": {},
     "output_type": "execute_result"
    }
   ],
   "source": [
    "'-'*80"
   ]
  },
  {
   "cell_type": "markdown",
   "metadata": {},
   "source": [
    "This should **not** display a scrollbar:"
   ]
  },
  {
   "cell_type": "code",
   "execution_count": 17,
   "metadata": {},
   "outputs": [
    {
     "data": {
      "text/plain": [
       "'------------------------------------------------------------------------------'"
      ]
     },
     "execution_count": 17,
     "metadata": {},
     "output_type": "execute_result"
    }
   ],
   "source": [
    "'-'*78"
   ]
  },
  {
   "cell_type": "markdown",
   "metadata": {},
   "source": [
    "This should **not** display a scrollbar:"
   ]
  },
  {
   "cell_type": "code",
   "execution_count": 18,
   "metadata": {
    "scrolled": true
   },
   "outputs": [
    {
     "name": "stdout",
     "output_type": "stream",
     "text": [
      "--------------------------------------------------------------------------------\n"
     ]
    }
   ],
   "source": [
    "print('-'*80)"
   ]
  },
  {
   "cell_type": "markdown",
   "metadata": {},
   "source": [
    "### Very large input\n",
    "\n",
    "In Jupyter: default behaviour, show scrollbar\n",
    "\n",
    "On the website: should expand in horizontal as much as it wants, the rationale is that for input code since it may be printed to PDF you should always manually put line breaks."
   ]
  },
  {
   "cell_type": "code",
   "execution_count": 19,
   "metadata": {},
   "outputs": [],
   "source": [
    "# line with an exceedingly long comment line with an exceedingly long comment line with an exceedingly long comment line with an exceedingly long comment line with an exceedingly long comment line with an exceedingly long comment\n",
    "\n",
    "# line with an an out-of-this-world long comment line with an an out-of-this-world long comment line with an an out-of-this-world long comment line with an an out-of-this-world long comment line with an an out-of-this-world long comment line with an an out-of-this-world long comment line with an an out-of-this-world long comment line with an an out-of-this-world long comment line with an an out-of-this-world long comment line with an an out-of-this-world long comment line with an an out-of-this-world long comment line with an an out-of-this-world long comment line with an an out-of-this-world long comment line with an an out-of-this-world long comment line with an an out-of-this-world long comment line with an an out-of-this-world long comment line with an an out-of-this-world long comment line with an an out-of-this-world long comment line with an an out-of-this-world long comment line with an an out-of-this-world long comment line with an an out-of-this-world long comment line with an an out-of-this-world long comment line with an an out-of-this-world long comment line with an an out-of-this-world long comment line with an an out-of-this-world long comment line with an an out-of-this-world long comment line with an an out-of-this-world long comment line with an an out-of-this-world long comment line with an an out-of-this-world long comment line with an an out-of-this-world long comment line with an an out-of-this-world long comment line with an an out-of-this-world long comment line with an an out-of-this-world long comment line with an an out-of-this-world long comment line with an an out-of-this-world long comment line with an an out-of-this-world long comment line with an an out-of-this-world long comment line with an an out-of-this-world long comment line with an an out-of-this-world long comment line with an an out-of-this-world long comment line with an an out-of-this-world long comment line with an an out-of-this-world long comment line with an an out-of-this-world long comment line with an an out-of-this-world long comment line with an an out-of-this-world long comment line with an an out-of-this-world long comment line with an an out-of-this-world long comment line with an an out-of-this-world long comment line with an an out-of-this-world long comment line with an an out-of-this-world long comment line with an an out-of-this-world long comment line with an an out-of-this-world long comment line with an an out-of-this-world long comment line with an an out-of-this-world long comment line with an an out-of-this-world long comment line with an an out-of-this-world long comment line with an an out-of-this-world long comment line with an an out-of-this-world long comment line with an an out-of-this-world long comment line with an an out-of-this-world long comment line with an an out-of-this-world long comment line with an an out-of-this-world long comment line with an an out-of-this-world long comment line with an an out-of-this-world long comment line with an an out-of-this-world long comment line with an an out-of-this-world long comment line with an an out-of-this-world long comment line with an an out-of-this-world long comment line with an an out-of-this-world long comment line with an an out-of-this-world long comment line with an an out-of-this-world long comment line with an an out-of-this-world long comment line with an an out-of-this-world long comment line with an an out-of-this-world long comment line with an an out-of-this-world long comment line with an an out-of-this-world long comment line with an an out-of-this-world long comment line with an an out-of-this-world long comment line with an an out-of-this-world long comment line with an an out-of-this-world long comment line with an an out-of-this-world long comment line with an an out-of-this-world long comment line with an an out-of-this-world long comment line with an an out-of-this-world long comment line with an an out-of-this-world long comment line with an an out-of-this-world long comment line with an an out-of-this-world long comment line with an an out-of-this-world long comment line with an an out-of-this-world long comment line with an an out-of-this-world long comment line with an an out-of-this-world long comment line with an an out-of-this-world long comment line with an an out-of-this-world long comment line with an an out-of-this-world long comment line with an an out-of-this-world long comment line with an an out-of-this-world long comment line with an an out-of-this-world long comment line with an an out-of-this-world long comment line with an an out-of-this-world long comment line with an an out-of-this-world long comment line with an an out-of-this-world long comment line with an an out-of-this-world long comment line with an an out-of-this-world long comment line with an an out-of-this-world long comment line with an an out-of-this-world long comment line with an an out-of-this-world long comment line with an an out-of-this-world long comment line with an an out-of-this-world long comment\n",
    "\n"
   ]
  },
  {
   "cell_type": "markdown",
   "metadata": {},
   "source": [
    "**Very long HTML** (and long code line)\n",
    "\n",
    "Should expand in vertical as much as it wants."
   ]
  },
  {
   "cell_type": "code",
   "execution_count": 20,
   "metadata": {},
   "outputs": [
    {
     "data": {
      "text/html": [
       "\n",
       "<iframe width=\"100%\" height=\"1300px\" frameBorder=\"0\" src=\"https://umap.openstreetmap.fr/en/map/mia-mappa-agritur_182055?scaleControl=false&miniMap=false&scrollWheelZoom=false&zoomControl=true&allowEdit=false&moreControl=true&searchControl=null&tilelayersControl=null&embedControl=null&datalayersControl=true&onLoadPanel=undefined&captionBar=false#11/46.0966/11.4024\"></iframe><p><a href=\"http://umap.openstreetmap.fr/en/map/mia-mappa-agritur_182055\">See full screen</a></p>\n"
      ],
      "text/plain": [
       "<IPython.core.display.HTML object>"
      ]
     },
     "metadata": {},
     "output_type": "display_data"
    }
   ],
   "source": [
    "%%HTML\n",
    "\n",
    "<iframe width=\"100%\" height=\"1300px\" frameBorder=\"0\" src=\"https://umap.openstreetmap.fr/en/map/mia-mappa-agritur_182055?scaleControl=false&miniMap=false&scrollWheelZoom=false&zoomControl=true&allowEdit=false&moreControl=true&searchControl=null&tilelayersControl=null&embedControl=null&datalayersControl=true&onLoadPanel=undefined&captionBar=false#11/46.0966/11.4024\"></iframe><p><a href=\"http://umap.openstreetmap.fr/en/map/mia-mappa-agritur_182055\">See full screen</a></p>\n",
    "\n"
   ]
  },
  {
   "cell_type": "markdown",
   "metadata": {},
   "source": [
    "### Very long output\n",
    "\n",
    "In Jupyter: by clicking, you can collapse\n",
    "\n",
    "On the website: a scrollbar should appear"
   ]
  },
  {
   "cell_type": "code",
   "execution_count": 21,
   "metadata": {
    "scrolled": false
   },
   "outputs": [
    {
     "name": "stdout",
     "output_type": "stream",
     "text": [
      "long output ... 0\n",
      "long output ... 1\n",
      "long output ... 2\n",
      "long output ... 3\n",
      "long output ... 4\n",
      "long output ... 5\n",
      "long output ... 6\n",
      "long output ... 7\n",
      "long output ... 8\n",
      "long output ... 9\n",
      "long output ... 10\n",
      "long output ... 11\n",
      "long output ... 12\n",
      "long output ... 13\n",
      "long output ... 14\n",
      "long output ... 15\n",
      "long output ... 16\n",
      "long output ... 17\n",
      "long output ... 18\n",
      "long output ... 19\n",
      "long output ... 20\n",
      "long output ... 21\n",
      "long output ... 22\n",
      "long output ... 23\n",
      "long output ... 24\n",
      "long output ... 25\n",
      "long output ... 26\n",
      "long output ... 27\n",
      "long output ... 28\n",
      "long output ... 29\n",
      "long output ... 30\n",
      "long output ... 31\n",
      "long output ... 32\n",
      "long output ... 33\n",
      "long output ... 34\n",
      "long output ... 35\n",
      "long output ... 36\n",
      "long output ... 37\n",
      "long output ... 38\n",
      "long output ... 39\n",
      "long output ... 40\n",
      "long output ... 41\n",
      "long output ... 42\n",
      "long output ... 43\n",
      "long output ... 44\n",
      "long output ... 45\n",
      "long output ... 46\n",
      "long output ... 47\n",
      "long output ... 48\n",
      "long output ... 49\n",
      "long output ... 50\n",
      "long output ... 51\n",
      "long output ... 52\n",
      "long output ... 53\n",
      "long output ... 54\n",
      "long output ... 55\n",
      "long output ... 56\n",
      "long output ... 57\n",
      "long output ... 58\n",
      "long output ... 59\n",
      "long output ... 60\n",
      "long output ... 61\n",
      "long output ... 62\n",
      "long output ... 63\n",
      "long output ... 64\n",
      "long output ... 65\n",
      "long output ... 66\n",
      "long output ... 67\n",
      "long output ... 68\n",
      "long output ... 69\n",
      "long output ... 70\n",
      "long output ... 71\n",
      "long output ... 72\n",
      "long output ... 73\n",
      "long output ... 74\n",
      "long output ... 75\n",
      "long output ... 76\n",
      "long output ... 77\n",
      "long output ... 78\n",
      "long output ... 79\n",
      "long output ... 80\n",
      "long output ... 81\n",
      "long output ... 82\n",
      "long output ... 83\n",
      "long output ... 84\n",
      "long output ... 85\n",
      "long output ... 86\n",
      "long output ... 87\n",
      "long output ... 88\n",
      "long output ... 89\n",
      "long output ... 90\n",
      "long output ... 91\n",
      "long output ... 92\n",
      "long output ... 93\n",
      "long output ... 94\n",
      "long output ... 95\n",
      "long output ... 96\n",
      "long output ... 97\n",
      "long output ... 98\n",
      "long output ... 99\n",
      "long output ... 100\n",
      "long output ... 101\n",
      "long output ... 102\n",
      "long output ... 103\n",
      "long output ... 104\n",
      "long output ... 105\n",
      "long output ... 106\n",
      "long output ... 107\n",
      "long output ... 108\n",
      "long output ... 109\n",
      "long output ... 110\n",
      "long output ... 111\n",
      "long output ... 112\n",
      "long output ... 113\n",
      "long output ... 114\n",
      "long output ... 115\n",
      "long output ... 116\n",
      "long output ... 117\n",
      "long output ... 118\n",
      "long output ... 119\n",
      "long output ... 120\n",
      "long output ... 121\n",
      "long output ... 122\n",
      "long output ... 123\n",
      "long output ... 124\n",
      "long output ... 125\n",
      "long output ... 126\n",
      "long output ... 127\n",
      "long output ... 128\n",
      "long output ... 129\n",
      "long output ... 130\n",
      "long output ... 131\n",
      "long output ... 132\n",
      "long output ... 133\n",
      "long output ... 134\n",
      "long output ... 135\n",
      "long output ... 136\n",
      "long output ... 137\n",
      "long output ... 138\n",
      "long output ... 139\n",
      "long output ... 140\n",
      "long output ... 141\n",
      "long output ... 142\n",
      "long output ... 143\n",
      "long output ... 144\n",
      "long output ... 145\n",
      "long output ... 146\n",
      "long output ... 147\n",
      "long output ... 148\n",
      "long output ... 149\n"
     ]
    }
   ],
   "source": [
    "for x in range(150):\n",
    "    print('long output ...', x)"
   ]
  },
  {
   "cell_type": "code",
   "execution_count": null,
   "metadata": {},
   "outputs": [],
   "source": []
  }
 ],
 "metadata": {
  "celltoolbar": "Visualize",
  "kernelspec": {
   "display_name": "Python 3",
   "language": "python",
   "name": "python3"
  },
  "language_info": {
   "codemirror_mode": {
    "name": "ipython",
    "version": 3
   },
   "file_extension": ".py",
   "mimetype": "text/x-python",
   "name": "python",
   "nbconvert_exporter": "python",
   "pygments_lexer": "ipython3",
   "version": "3.5.2"
  },
  "toc": {
   "base_numbering": 1,
   "nav_menu": {},
   "number_sections": false,
   "sideBar": true,
   "skip_h1_title": false,
   "title_cell": "Table of Contents",
   "title_sidebar": "Contents",
   "toc_cell": false,
   "toc_position": {
    "height": "calc(100% - 180px)",
    "left": "10px",
    "top": "150px",
    "width": "311px"
   },
   "toc_section_display": true,
   "toc_window_display": true
  }
 },
 "nbformat": 4,
 "nbformat_minor": 2
}
