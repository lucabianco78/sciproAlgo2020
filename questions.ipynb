{
 "cells": [
  {
   "cell_type": "markdown",
   "metadata": {},
   "source": [
    "## Theory questions"
   ]
  },
  {
   "cell_type": "markdown",
   "metadata": {},
   "source": [
    "1. Given a list $L$ of $n$ elements, please compute the asymptotic computational complexity of the following function, explaining your reasoning.\n",
    "\n",
    "```\n",
    "def my_fun(L):\n",
    "    R = 0\n",
    "    cnt = 0\n",
    "    for i in range(len(L)):\n",
    "        for j in range(len(L)-1,0,-1):\n",
    "            k = 0\n",
    "            while k < 4:\n",
    "                cnt+= 1\n",
    "                R = R + L[j] - L[i]\n",
    "                k += 1\n",
    "    return R\n",
    "```"
   ]
  },
  {
   "cell_type": "markdown",
   "metadata": {},
   "source": [
    "2. Given an algorithm that **frequently checks the presence of an element its internal data structure**. Please briefly answer the following questions: \n",
    "\n",
    "    * What data structure would you choose? Why?\n",
    "\n",
    "    * In case entries are sorted, would you use the same data structures?"
   ]
  },
  {
   "cell_type": "code",
   "execution_count": 7,
   "metadata": {},
   "outputs": [
    {
     "name": "stdout",
     "output_type": "stream",
     "text": [
      "360\n",
      "180\n"
     ]
    }
   ],
   "source": [
    "L = list(range(10))\n",
    "\n",
    "def my_fun(L):\n",
    "    R = 0\n",
    "    cnt = 0\n",
    "    for i in range(len(L)):\n",
    "        for j in range(len(L)-1,0,-1):\n",
    "            k = 0\n",
    "            while k < 4:\n",
    "                cnt+= 1\n",
    "                R = R + L[j] - L[i]\n",
    "                k += 1\n",
    "    return R\n",
    "\n",
    "print(my_fun(L))"
   ]
  },
  {
   "cell_type": "markdown",
   "metadata": {},
   "source": [
    "## January 2020"
   ]
  },
  {
   "cell_type": "markdown",
   "metadata": {},
   "source": [
    "1. Given a list $L$ of $n$ elements, please compute the asymptotic computational complexity of the \n",
    "following function, explaining your reasoning.\n",
    "\n",
    "```\n",
    "def my_fun(L):\n",
    "    n = len(L)\n",
    "    if n <= 1:\n",
    "        return 1\n",
    "    else:\n",
    "        L1 = L[0:n//2]\n",
    "        L2 = L[n//2:]\n",
    "        a = my_fun(L1) + max(L1)\n",
    "        b = my_fun(L2) + max(L2)\n",
    "        return a + b \n",
    "```\n",
    "\n"
   ]
  },
  {
   "cell_type": "code",
   "execution_count": 24,
   "metadata": {},
   "outputs": [
    {
     "name": "stdout",
     "output_type": "stream",
     "text": [
      "10158\n"
     ]
    }
   ],
   "source": [
    "#According to the master theorem:\n",
    "#a=2, b=2, alpha = log 2 / log 2 = 1\n",
    "#beta = 1 \n",
    "#--> complexity =  Theta(n log n)\n",
    "%reset -f -s \n",
    "def my_fun(L):\n",
    "    n = len(L)\n",
    "    if n <= 1:\n",
    "        return 1\n",
    "    else:\n",
    "        L1 = L[0:n//2]\n",
    "        L2 = L[n//2:]\n",
    "        a = my_fun(L1) + max(L1)\n",
    "        b = my_fun(L2) + max(L2)\n",
    "        return a + b\n",
    "    \n",
    "    \n",
    "L = range(100)\n",
    "print(my_fun(L))"
   ]
  },
  {
   "cell_type": "markdown",
   "metadata": {},
   "source": [
    "2. Briefly describe the main differences between the stack and queue data structures. Please provide an example of where you would use one or the other. "
   ]
  },
  {
   "cell_type": "markdown",
   "metadata": {},
   "source": [
    "### Part A (1)\n",
    "\n",
    "Given a list of DNA sequences (for simplicity consider all upper case letters in the alphabet {A.C,T,G,N}) write a function that outputs a list of the same sequences sorted by increasing GC content (i.e. sum of G,C over the total). \n",
    "\n",
    "Note that you are allowed to write one or more functions to solve this exercise.\n",
    "ex:\n",
    "```\n",
    "Input: \n",
    "['TAAAATTTTATA', 'NNN', '', 'ATACATA', 'ATC', 'AAACCCTTTGGG', 'GGGGCCGGCC']\n",
    "\n",
    "Output:\n",
    "['ATACATA', 'AAACCCTTTGGG', 'GGGGCCGGCC', 'TAAAATTTTATA', 'NNN', 'ATC', '']\n",
    "```\n",
    "\n",
    "\n"
   ]
  },
  {
   "cell_type": "code",
   "execution_count": 3,
   "metadata": {},
   "outputs": [
    {
     "name": "stdout",
     "output_type": "stream",
     "text": [
      "['ATACATA', 'AAACCCTTTGGG', 'GGGGCCGGCC', 'TAAAATTTTATA', 'NNN', 'ATC', '']\n",
      "[0.14285714285714285, 0.5, 1.0, 0.0, 0.0, 0.3333333333333333, 0]\n",
      "['TAAAATTTTATA', 'NNN', '', 'ATACATA', 'ATC', 'AAACCCTTTGGG', 'GGGGCCGGCC']\n",
      "['ATACATA', 'AAACCCTTTGGG', 'GGGGCCGGCC', 'TAAAATTTTATA', 'NNN', 'ATC', '']\n"
     ]
    }
   ],
   "source": [
    "def compute_gc(seq):\n",
    "    gc = 0\n",
    "    for i in seq:\n",
    "        if i == \"G\" or i == \"C\":\n",
    "            gc +=1\n",
    "    if len(seq) > 0:\n",
    "        return gc/len(seq)\n",
    "    else:\n",
    "        return 0\n",
    "\n",
    "def sort_list_byGC(L):\n",
    "    tmpL = [(x,compute_gc(x)) for x in seqs]\n",
    "    tmpL.sort(key = lambda x : x[1])\n",
    "    return [x[0] for x in tmpL]\n",
    "\n",
    "\n",
    "seqs = ['ATACATA', \"AAACCCTTTGGG\", \"GGGGCCGGCC\", \"TAAAATTTTATA\", \"NNN\", \"ATC\", \"\" ]\n",
    "\n",
    "print(seqs)\n",
    "print([compute_gc(x) for x in seqs])\n",
    "print(sort_list_byGC(seqs))\n",
    "print(seqs)"
   ]
  },
  {
   "cell_type": "markdown",
   "metadata": {},
   "source": [
    "## Other questions\n",
    "\n",
    "\n",
    "1. What do we mean when we say that an algorithm has $O(n)$ complexity? And $\\Omega(n)$? And $\\Theta(n)$?\n",
    "\n",
    "2. Briefly describe the two classic ways of visiting the nodes of a graph (USED FEBRUARY!)\n",
    "\n",
    "3. What is a Binary Search Tree (BST)? What can we use it for?\n",
    "\n",
    "4. What is a hash function? Which python data structures use hash functions?\n"
   ]
  },
  {
   "cell_type": "markdown",
   "metadata": {},
   "source": [
    "# February 2020\n",
    "\n",
    "## Theory\n",
    "\n",
    "1. Given a list $L$ of $n$ elements, please compute the asymptotic computational complexity of the \n",
    "following function, explaining your reasoning. Any ideas on how to improve the complexity of this code?\n",
    "\n",
    "```\n",
    "def my_fun(L):\n",
    "    n = len(L)\n",
    "    out = []\n",
    "    for i in range(n-2):\n",
    "        out.insert(0,L[i] + L[i+3] + L[i+2] + L[i+1])    \n",
    "    return out\n",
    "```\n",
    "\n",
    "\n",
    "2. Briefly describe the two classic ways of visiting the nodes of a graph.\n",
    "\n",
    "\n",
    "\n",
    "### Part A\n",
    "\n",
    "Given the multi-fasta file sequences.fasta write the following function: \n",
    "\n",
    "```test_kmer(fasta_file, kmer_seq)``` : that given the fasta file and a kmer sequence kmer_seq returns a dictionary  with the identifier of the sequence as key and a list of all positions of kmer_seq in that sequence as value.\n",
    "\n",
    "Hint: you can use Biopython.\n",
    "\n",
    "Example. If fasta_file contains the following sequences:\n",
    "```\n",
    ">s1\n",
    "ATTAGCCTAATA\n",
    ">s2\n",
    "ATATACATAC\n",
    ">s3\n",
    "TTTTTATTATTTTA\n",
    ">s4\n",
    "```"
   ]
  },
  {
   "cell_type": "code",
   "execution_count": 16,
   "metadata": {},
   "outputs": [
    {
     "name": "stdout",
     "output_type": "stream",
     "text": [
      "Done\n"
     ]
    }
   ],
   "source": [
    "#Complexity is n^2 because insert is O(n)\n",
    "def my_fun(L):\n",
    "    n = len(L)\n",
    "    out = []\n",
    "    for i in range(n-3):\n",
    "        out.insert(0,L[i] + L[i+3] + L[i+2] + L[i+1])\n",
    "    \n",
    "    return out\n",
    "\n",
    "from collections import deque\n",
    "def my_fun2(L):\n",
    "    n = len(L)\n",
    "    out = deque()\n",
    "    for i in range(n-3):\n",
    "        out.insert(0,L[i] + L[i+3] + L[i+2] + L[i+1])\n",
    "    \n",
    "    return out\n",
    "\n",
    "myL = list(range(200000))\n",
    "#print(myL)\n",
    "O = my_fun2(myL)\n",
    "#print(O)\n",
    "print(\"Done\")\n",
    "\n",
    "\n"
   ]
  },
  {
   "cell_type": "code",
   "execution_count": null,
   "metadata": {},
   "outputs": [],
   "source": []
  },
  {
   "cell_type": "code",
   "execution_count": null,
   "metadata": {},
   "outputs": [],
   "source": []
  }
 ],
 "metadata": {
  "kernelspec": {
   "display_name": "Python 3",
   "language": "python",
   "name": "python3"
  },
  "language_info": {
   "codemirror_mode": {
    "name": "ipython",
    "version": 3
   },
   "file_extension": ".py",
   "mimetype": "text/x-python",
   "name": "python",
   "nbconvert_exporter": "python",
   "pygments_lexer": "ipython3",
   "version": "3.6.9"
  }
 },
 "nbformat": 4,
 "nbformat_minor": 2
}
