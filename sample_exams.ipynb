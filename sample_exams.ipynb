{
 "cells": [
  {
   "cell_type": "markdown",
   "metadata": {},
   "source": [
    "### Past Exams\n",
    "\n",
    "Below you can find some past exams for you to get an idea on how the final exam is likely to look like.\n",
    "\n",
    "* [Sample Exam 1](PAST_EXAMS/QCB_exam.pdf)\n",
    "\n",
    "* [Sample Exam 2](PAST_EXAMS/QCB_exam1.pdf)\n",
    "\n",
    "* [Sample Exam 3](PAST_EXAMS/QCB_exam2.pdf)\n",
    "\n",
    "* [Sample Exam 4](PAST_EXAMS/QCB_exam3.pdf)"
   ]
  }
 ],
 "metadata": {
  "kernelspec": {
   "display_name": "Python 3",
   "language": "python",
   "name": "python3"
  },
  "language_info": {
   "codemirror_mode": {
    "name": "ipython",
    "version": 3
   },
   "file_extension": ".py",
   "mimetype": "text/x-python",
   "name": "python",
   "nbconvert_exporter": "python",
   "pygments_lexer": "ipython3",
   "version": "3.6.9"
  }
 },
 "nbformat": 4,
 "nbformat_minor": 2
}
