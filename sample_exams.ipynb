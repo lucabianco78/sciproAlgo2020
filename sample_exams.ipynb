{
 "cells": [
  {
   "cell_type": "markdown",
   "metadata": {},
   "source": [
    "### Past Exams\n",
    "\n",
    "Below you can find some past exams. This is to help you getting an idea on how the final exam is likely to look like.\n",
    "\n",
    "* [Sample Exam 1](PAST_EXAMS/QCB_exam.pdf)\n",
    "\n",
    "* [Sample Exam 2](PAST_EXAMS/QCB_exam1.pdf)\n",
    "\n",
    "* [Sample Exam 3](PAST_EXAMS/QCB_exam2.pdf)\n",
    "\n",
    "* [Sample Exam 4](PAST_EXAMS/QCB_exam3.pdf)\n",
    "\n",
    "* [Exam 10/02/2021](PAST_EXAMS/QCB_exam_210210.pdf)\n",
    "\n",
    "The input files needed follow:\n",
    "\n",
    "* Exam1: \n",
    "    * [marker_data.tsv](PAST_EXAMS/marker_data.tsv)\n",
    "    \n",
    "* Exam2: \n",
    "    * [test_genes.tsv](PAST_EXAMS/test_genes.tsv)\n",
    "    * [test_seqs.fasta](PAST_EXAMS/test_seqs.fasta)\n",
    "    \n",
    "* Exam3: \n",
    "    * [ctg_data.tsv](PAST_EXAMS/ctg_data.tsv)\n",
    "    * [MyQueue.py](PAST_EXAMS/MyQueue.py)\n",
    "    * [ReversibleQueue.py](PAST_EXAMS/ReversibleQueue.py)\n",
    "    \n",
    "\n",
    "* Exam4: \n",
    "    * [sample.fastq](PAST_EXAMS/sample.fastq)\n",
    "    * [DiGraphLL.py](PAST_EXAMS/DiGraphLL.py)    \n",
    "    \n",
    "* Exam 10/02/2021: \n",
    "    * [sample.fastq](PAST_EXAMS/sample.fastq)\n",
    "    "
   ]
  }
 ],
 "metadata": {
  "kernelspec": {
   "display_name": "Python 3",
   "language": "python",
   "name": "python3"
  },
  "language_info": {
   "codemirror_mode": {
    "name": "ipython",
    "version": 3
   },
   "file_extension": ".py",
   "mimetype": "text/x-python",
   "name": "python",
   "nbconvert_exporter": "python",
   "pygments_lexer": "ipython3",
   "version": "3.6.9"
  }
 },
 "nbformat": 4,
 "nbformat_minor": 2
}
