{
 "cells": [
  {
   "cell_type": "markdown",
   "metadata": {},
   "source": [
    "# Scientific Programming: Algorithms"
   ]
  },
  {
   "cell_type": "markdown",
   "metadata": {},
   "source": [
    "# General Info\n",
    "\n",
    "The contacts to reach me can be found [at this page](http://www.fmach.it/CRI/info-generali/organizzazione/Biologia-computazionale/BIANCO-LUCA).\n",
    "\n",
    "## Timetable and lecture rooms\n",
    "\n",
    "Lectures will take place on Tuesdays from 15:30 to 17:30 (synchronous online if not otherwise communicated) and on Thursdays from 15:30 to 17:30 (synchronous online if not otherwise communicated). This second part of the Scientific Programming course will tentatively run from 03/11/2020 to 14/12/2020.\n",
    "\n",
    "\n",
    "## Midterm\n",
    "\n",
    "The midterm of this part of the course will take place on Wednesday, December 16th, online at 11:30-13.30.\n",
    "\n",
    "## Moodle\n",
    "In the moodle page of the course you can find announcements and videos of the lectures. It can be found [here](https://didatticaonline.unitn.it/dol/course/view.php?id=25445).\n",
    "\n",
    "## Zoom links\n",
    "The zoom links for the lectures can be found in the Announcements section of the moodle web page.\n",
    "\n",
    "## Slides\n",
    "\n",
    "The slides shown during the lectures will gradually appear below:\n",
    "\n",
    "* Lecture 1-2: [Introduction to algorithms](slides/Lecture1.pdf)\n",
    "\n",
    "\n",
    "\n",
    "## Teaching assistants\n",
    "\n",
    "[David Leoni](https://www5.unitn.it/People/it/Web/Persona/PER0014767#INFO) (for Data Science)  \n",
    "\n",
    "[Erik Dassi](https://www5.unitn.it/People/it/Web/Persona/PER0010586/) (for QCB) \n",
    "\n",
    "\n",
    "## Course material \n",
    "\n",
    "Brad Miller and David Ranum. *Problem Solving with Algorithms and Data Structures using Python*. An interactive version is freely available at [this link](http://interactivepython.org/runestone/static/pythonds/index.html). \n",
    "\n",
    "Other material includes the following books:\n",
    "\n",
    "* Lutz. Learning Python (5th edition). O’REILLY (2013)\n",
    "\n",
    "* Hetland. Python Algorithms: Mastering Basic Algorithms in the Python Language. Apress, 2nd ed. (2014)\n",
    "\n",
    "and (thanks to Prof. Alberto Montresor)\n",
    "\n",
    "\n",
    "* Introduction to algorithms\t| [Link](notes/notes01.pdf)\n",
    "\n",
    "* Big-Oh Notation\t| [Link](notes/notes02.pdf)\n",
    "\n",
    "* Sorting\t| [Link](notes/notes07.pdf)\n",
    "\n",
    "* Dynamic Programming\t| [Link](notes/pd.pdf)\n",
    "\n",
    "* Greedy Algorithms\t| [Link](notes/genome-rearrangements.pdf)\n",
    "\n",
    "* String Algorithms\t| [Link](notes/string-algorithms.pdf)\n",
    "\n",
    "\n",
    "### Link to lab material\n",
    "\n",
    "Material for QCB students can be found [here](https://bitbucket.org/erikdassi/sciprog2020).\n",
    "\n",
    "Material for Data Science students can be found [here](https://datasciprolab.readthedocs.io/en/latest/).\n",
    "\n",
    "\n",
    "## Acknowledgements\n",
    "\n",
    "I would like to thank Prof. Alberto Montresor for kindly allowing me to use his slides and Dr. David Leoni for all his help and for sharing Jupman with me. I would also like to thank Dr. Stefano Teso for allowing us to use some of his material of a previous course.\n"
   ]
  },
  {
   "cell_type": "markdown",
   "metadata": {
    "nbsphinx": "hidden"
   },
   "source": [
    "\n",
    "\n",
    "* Lecture 2-3: [Algorithms and complexity](slides/Lecture2.pdf)\n",
    " \n",
    "* Lecture 3-4: [Algorithms and complexity ](slides/Lecture3.pdf)\n",
    "\n",
    "* Lecture 5-6: [Data Structures 1](slides/Lecture4.pdf)\n",
    "\n",
    "* Lecture 6-7: [Data Structures 2](slides/Lecture5.pdf)\n",
    "\n",
    "* Lecture 7-8: [Trees](slides/Lecture6.pdf)\n",
    "\n",
    "* Lecture 9-10: [Graphs](slides/Lecture7.pdf)\n",
    "\n",
    "* Lecture 11: [Dynamic Programming](slides/Lecture8.pdf)\n",
    "\n",
    "* Lecture 12: [Other paradigms](slides/Lecture9.pdf)"
   ]
  }
 ],
 "metadata": {
  "celltoolbar": "Edit Metadata",
  "kernelspec": {
   "display_name": "Python 3",
   "language": "python",
   "name": "python3"
  },
  "language_info": {
   "codemirror_mode": {
    "name": "ipython",
    "version": 3
   },
   "file_extension": ".py",
   "mimetype": "text/x-python",
   "name": "python",
   "nbconvert_exporter": "python",
   "pygments_lexer": "ipython3",
   "version": "3.6.9"
  },
  "toc": {
   "base_numbering": 1,
   "nav_menu": {},
   "number_sections": false,
   "sideBar": true,
   "skip_h1_title": false,
   "title_cell": "Table of Contents",
   "title_sidebar": "Contents",
   "toc_cell": false,
   "toc_position": {},
   "toc_section_display": true,
   "toc_window_display": false
  }
 },
 "nbformat": 4,
 "nbformat_minor": 2
}
