{
 "cells": [
  {
   "cell_type": "markdown",
   "metadata": {},
   "source": [
    "## Code for sorting algorithms\n",
    "\n",
    "\n",
    "\n",
    "## Selection sort:"
   ]
  },
  {
   "cell_type": "code",
   "execution_count": 1,
   "metadata": {},
   "outputs": [
    {
     "name": "stdout",
     "output_type": "stream",
     "text": [
      "[7, 4, 2, 1, 8, 3, 5]\n",
      "[1, 2, 3, 4, 5, 7, 8]\n"
     ]
    }
   ],
   "source": [
    "#returns the index of the minimum element in A[i:]\n",
    "def argmin(A,i):\n",
    "    min_pos = i\n",
    "    for j in range(i+1, len(A)):\n",
    "        if A[j] < A[min_pos]:\n",
    "            min_pos = j\n",
    "    return min_pos\n",
    "\n",
    "def selection_sort(A):\n",
    "    for i in range(len(A)-1):\n",
    "        ind = argmin(A,i)\n",
    "        A[i], A[ind] = A[ind], A[i] #swap\n",
    "\n",
    "\n",
    "\n",
    "L = [7,4,2,1,8,3,5]\n",
    "print(\"{}\".format(L))\n",
    "selection_sort(L)\n",
    "print(\"{}\".format(L))"
   ]
  },
  {
   "cell_type": "markdown",
   "metadata": {},
   "source": [
    "## Insertion sort:\n"
   ]
  },
  {
   "cell_type": "code",
   "execution_count": 2,
   "metadata": {},
   "outputs": [
    {
     "name": "stdout",
     "output_type": "stream",
     "text": [
      "[7, 4, 2, 1, 8, 3, 5]\n",
      "[1, 2, 3, 4, 5, 7, 8]\n"
     ]
    }
   ],
   "source": [
    "def insertion_sort(A):\n",
    "    for i in range(1,len(A)):\n",
    "        tmp = A[i]\n",
    "        j = i\n",
    "        while j > 0 and A[j-1] > tmp:\n",
    "            A[j] = A[j-1]\n",
    "            j = j -1\n",
    "        A[j] = tmp\n",
    "    \n",
    "\n",
    "            \n",
    "L = [7,4,2,1,8,3,5]\n",
    "print(\"{}\".format(L))\n",
    "insertion_sort(L)\n",
    "print(\"{}\".format(L))"
   ]
  },
  {
   "cell_type": "markdown",
   "metadata": {},
   "source": [
    "## Merge sort:\n",
    "\n",
    "Merge sort requires three methods:\n",
    "\n",
    "1. **merge**: gets two sorted lists (A[first:mid] and A[mid+1:last+1]) and produces a sorted list with all the elements. Builds the return list by getting the minimum element of the two lists, “removing” it from the corresponding list and appending it to the list with the result. “removal” can be done by using two indexes pointing to the smallest elements of each of the two (sub)lists and incrementing the index of the minimum of the two (i.e. the element that is also copied to the result list);\n",
    "\n",
    "2. **recursiveMergeSort**: gets an unordered (sub)list, the index of the beginning of the list and the index of the end of the list and recursively splits it in two halves until it reaches lists with length 0 or 1, at that point it starts merging pairs of sorted lists to build the result (with merge);\n",
    "\n",
    "3. **mergeSort** gets an unordered list and applies the recursiveMergeSort method to it starting from position 0 to len−1."
   ]
  },
  {
   "cell_type": "code",
   "execution_count": 4,
   "metadata": {},
   "outputs": [
    {
     "name": "stdout",
     "output_type": "stream",
     "text": [
      "[12, 71, 44, 33, 22, 9, 7, -1, 12, 13]\n",
      "[-1, 7, 9, 12, 12, 13, 22, 33, 44, 71]\n"
     ]
    }
   ],
   "source": [
    "def merge(A, first, last, mid):\n",
    "    i = first\n",
    "    j = mid + 1\n",
    "    B = []\n",
    "    \n",
    "    while i<= mid and j<=last:\n",
    "        if A[i] <= A[j]:\n",
    "            B.append(A[i])\n",
    "            i = i +1\n",
    "        else:\n",
    "            B.append(A[j])\n",
    "            j = j + 1\n",
    "    while i <= mid:\n",
    "        B.append(A[i])\n",
    "        i = i + 1\n",
    "        \n",
    "    for k in range(len(B)):\n",
    "        A[first + k] = B[k]\n",
    "        \n",
    "        \n",
    "#A = [1,7, 9, 11, 4, 5, 6, 13,19]\n",
    "\n",
    "#print(A)\n",
    "#merge(A,0,8,3)\n",
    "#print(A)\n",
    "\n",
    "\n",
    "def recursive_merge_sort(A, first, last):\n",
    "    if last > first:\n",
    "        m = (first + last) //2\n",
    "        recursive_merge_sort(A,first,m)\n",
    "        recursive_merge_sort(A,m+1, last)\n",
    "        merge(A,first,last, m)\n",
    "\n",
    "def merge_sort(A):\n",
    "    recursive_merge_sort(A, 0, len(A)-1)\n",
    "    \n",
    "\n",
    "L = [12, 71, 44, 33, 22, 9, 7, -1, 12,13]\n",
    "print(L)\n",
    "merge_sort(L)\n",
    "print(L)\n"
   ]
  },
  {
   "cell_type": "markdown",
   "metadata": {},
   "source": [
    "## Quick sort\n",
    "\n",
    "The algorithm makes use of the following methods:\n",
    "pivot : gets the list, a start and end index, sets the first element as pivot and reorders all the elements in the list from start to end in such a way that all the elements to the left of the pivot (i.e. having index lower) are smaller than the pivot and all the elements to the right (i.e. with index higher) are bigger than the pivot. The function returns the index of the pivot;\n",
    "\n",
    "swap: gets two indexes and swaps their values;\n",
    "\n",
    "recursiveQuickSort: gets an unordered (sub)list, with start and end positions, finds the pivot and recursively applies the same procedure to the sublists to the left and right of the pivot (if sublist has size > 1);\n",
    "\n",
    "quickSort: gets an unordered list and applies the recursive quick sort procedure to it.\n"
   ]
  },
  {
   "cell_type": "code",
   "execution_count": 2,
   "metadata": {},
   "outputs": [
    {
     "name": "stdout",
     "output_type": "stream",
     "text": [
      "[12, 71, 44, 33, 22, 9, 7, -1, 12, 13]\n",
      "[-1, 7, 9, 12, 12, 13, 22, 33, 44, 71]\n"
     ]
    }
   ],
   "source": [
    "def pivot(A, first, last):\n",
    "    p = A[first]\n",
    "    j = first\n",
    "    for i in range(first+1, last+1):\n",
    "        if A[i] < p:  #A[i] should be to \n",
    "                      #the right of p\n",
    "                \n",
    "            j = j + 1 #points to the last \n",
    "                      #element smaller than p\n",
    "            A[i],A[j] = A[j],A[i] #swap the values    \n",
    "            \n",
    "    A[first] = A[j] #last smaller is placed at the beginning\n",
    "    A[j] = p #p goes to position j\n",
    "    return j #returns index\n",
    "        \n",
    "\n",
    "def quick_sort_rec(A,first,last):\n",
    "    if first < last: #if we have more than 1 element\n",
    "        p = pivot(A, first,last)\n",
    "        quick_sort_rec(A,first,p-1) #pivot is in the\n",
    "        quick_sort_rec(A,p+1,last)  #right place\n",
    "    \n",
    "def quick_sort(A):\n",
    "    quick_sort_rec(A,0,len(A)-1)\n",
    "    \n",
    "L = [12, 71, 44, 33, 22, 9, 7, -1, 12,13]\n",
    "print(L)\n",
    "quick_sort(L)\n",
    "print(L)"
   ]
  },
  {
   "cell_type": "markdown",
   "metadata": {},
   "source": [
    "### Counting sort (from 0 to k)\n",
    "\n"
   ]
  },
  {
   "cell_type": "code",
   "execution_count": 5,
   "metadata": {},
   "outputs": [
    {
     "name": "stdout",
     "output_type": "stream",
     "text": [
      "[12, 71, 44, 33, 22, 9, 7, 0, 11, 13]\n",
      "[0, 7, 9, 11, 12, 13, 22, 33, 44, 71]\n"
     ]
    }
   ],
   "source": [
    "#A is assumed to have all elements in [0,k-1]\n",
    "def counting_sort(A, k):\n",
    "    B = [0]*k\n",
    "    for i in A:\n",
    "        B[i] += 1\n",
    "    \n",
    "    j = 0\n",
    "    for i in range(len(B)):\n",
    "        while B[i] > 0:\n",
    "            A[j] = i\n",
    "            B[i] -= 1\n",
    "            j += 1\n",
    "    \n",
    "\n",
    "#L = [12, 71, 44, 33, 22, 9, 7, 0, 120000000,13]\n",
    "L = [12, 71, 44, 33, 22, 9, 7, 0, 11,13]\n",
    "print(L)\n",
    "counting_sort(L, max(L)+1)\n",
    "print(L)\n"
   ]
  },
  {
   "cell_type": "markdown",
   "metadata": {},
   "source": [
    "### Counting sort (from m to M)"
   ]
  },
  {
   "cell_type": "code",
   "execution_count": 3,
   "metadata": {},
   "outputs": [
    {
     "name": "stdout",
     "output_type": "stream",
     "text": [
      "[12, 71, 44, 33, 22, 9, 7, 9, 12, 13]\n",
      "[7, 9, 9, 12, 12, 13, 22, 33, 44, 71]\n"
     ]
    }
   ],
   "source": [
    "def counting_sort(A):\n",
    "    M = A[0]\n",
    "    m = A[0]\n",
    "    for i in range(1,len(A)):\n",
    "        if M < A[i]:\n",
    "            M = A[i]\n",
    "        if m > A[i]:\n",
    "            m = A[i]\n",
    "            \n",
    "    B = [0]*(M-m+1)\n",
    "\n",
    "    for a in A:\n",
    "        B[a - m] = B[a - m] + 1\n",
    "\n",
    "    j = 0\n",
    "    for i in range(M-m + 1):\n",
    "        while B[i] > 0:\n",
    "            A[j] = i + m\n",
    "            B[i] = B[i] - 1\n",
    "            j = j + 1\n",
    "            \n",
    "L = [12, 71, 44, 33, 22, 9, 7, 9, 12,13]\n",
    "print(L)\n",
    "counting_sort(L)\n",
    "print(L)"
   ]
  },
  {
   "cell_type": "markdown",
   "metadata": {},
   "source": [
    "## Bubble sort\n",
    "\n",
    "Pseudocode:\n",
    "\n",
    "```\n",
    "procedure BubbleSort(A:list)\n",
    "  swapFlag ← true\n",
    "  while swapFlag do\n",
    "    swapFlag ← false\n",
    "    for i ← 0 to length(A)-2  do\n",
    "      if A[i] > A[i+1] then\n",
    "        swap( A[i], A[i+1] )\n",
    "        swapFlag ← true\n",
    "```\n",
    "\n",
    "Graphical idea:\n",
    "\n",
    "![](Bubble-sort-example-300px.gif)\n",
    "\n",
    "credits: Wikipedia\n",
    "\n",
    "The algorithm can be slightly improved noticing that at every iteration we place the biggest element of the unsorted part in its final place).\n"
   ]
  },
  {
   "cell_type": "code",
   "execution_count": 21,
   "metadata": {},
   "outputs": [
    {
     "name": "stdout",
     "output_type": "stream",
     "text": [
      "[12, 71, 44, 33, 22, 9, 7, 9, 12, 13]\n",
      "\t - 12 44 33 22 9 7 9 12 13 71\n",
      "\t - 12 33 22 9 7 9 12 13 44 71\n",
      "\t - 12 22 9 7 9 12 13 33 44 71\n",
      "\t - 12 9 7 9 12 13 22 33 44 71\n",
      "\t - 9 7 9 12 12 13 22 33 44 71\n",
      "\t - 7 9 9 12 12 13 22 33 44 71\n",
      "\t - 7 9 9 12 12 13 22 33 44 71\n",
      "[7, 9, 9, 12, 12, 13, 22, 33, 44, 71]\n",
      "[14, 13, 12, 11, 10, 9, 8, 7, 6, 5, 4, 3, 2, 1, 0]\n",
      "\t - 13 12 11 10 9 8 7 6 5 4 3 2 1 0 14\n",
      "\t - 12 11 10 9 8 7 6 5 4 3 2 1 0 13 14\n",
      "\t - 11 10 9 8 7 6 5 4 3 2 1 0 12 13 14\n",
      "\t - 10 9 8 7 6 5 4 3 2 1 0 11 12 13 14\n",
      "\t - 9 8 7 6 5 4 3 2 1 0 10 11 12 13 14\n",
      "\t - 8 7 6 5 4 3 2 1 0 9 10 11 12 13 14\n",
      "\t - 7 6 5 4 3 2 1 0 8 9 10 11 12 13 14\n",
      "\t - 6 5 4 3 2 1 0 7 8 9 10 11 12 13 14\n",
      "\t - 5 4 3 2 1 0 6 7 8 9 10 11 12 13 14\n",
      "\t - 4 3 2 1 0 5 6 7 8 9 10 11 12 13 14\n",
      "\t - 3 2 1 0 4 5 6 7 8 9 10 11 12 13 14\n",
      "\t - 2 1 0 3 4 5 6 7 8 9 10 11 12 13 14\n",
      "\t - 1 0 2 3 4 5 6 7 8 9 10 11 12 13 14\n",
      "\t - 0 1 2 3 4 5 6 7 8 9 10 11 12 13 14\n",
      "\t - 0 1 2 3 4 5 6 7 8 9 10 11 12 13 14\n",
      "[0, 1, 2, 3, 4, 5, 6, 7, 8, 9, 10, 11, 12, 13, 14]\n"
     ]
    }
   ],
   "source": [
    "\n",
    "def bubble_sort(A):\n",
    "    swapFlag = True\n",
    "    while swapFlag:\n",
    "        swapFlag = False\n",
    "        for i in range(0,len(A)-1):\n",
    "            if A[i] > A[i+1]:\n",
    "                A[i], A[i+1] = A[i+1], A[i]\n",
    "                swapFlag = True\n",
    "        print(\"\\t - \" + \" \".join([str(x) for x in A]))\n",
    "\n",
    "L = [12, 71, 44, 33, 22, 9, 7, 9, 12,13]\n",
    "print(L)\n",
    "bubble_sort(L)\n",
    "print(L)\n",
    "      \n",
    "L = list(range(15))\n",
    "L.reverse()\n",
    "print(L)\n",
    "bubble_sort(L)\n",
    "print(L)\n"
   ]
  },
  {
   "cell_type": "markdown",
   "metadata": {},
   "source": [
    "Optimized code:\n",
    "    "
   ]
  },
  {
   "cell_type": "code",
   "execution_count": 2,
   "metadata": {},
   "outputs": [
    {
     "name": "stdout",
     "output_type": "stream",
     "text": [
      "[12, 71, 44, 33, 22, 9, 7, 9, 12, 13]\n",
      "[7, 9, 9, 12, 12, 13, 22, 33, 44, 71]\n",
      "[14, 13, 12, 11, 10, 9, 8, 7, 6, 5, 4, 3, 2, 1, 0]\n",
      "[0, 1, 2, 3, 4, 5, 6, 7, 8, 9, 10, 11, 12, 13, 14]\n"
     ]
    }
   ],
   "source": [
    "def bubble_sort_opt(A):\n",
    "    swapFlag = True\n",
    "    end = len(A) -1 \n",
    "    while swapFlag:\n",
    "        swapFlag = False\n",
    "        for i in range(0,end):\n",
    "            if A[i] > A[i+1]:\n",
    "                A[i], A[i+1] = A[i+1], A[i]\n",
    "                swapFlag = True\n",
    "        end = end - 1 \n",
    "        #print(\"\\t - \" + \" \".join([str(x) for x in A]))\n",
    "\n",
    "L = [12, 71, 44, 33, 22, 9, 7, 9, 12,13]\n",
    "print(L)\n",
    "bubble_sort_opt(L)\n",
    "print(L)\n",
    "      \n",
    "L = list(range(15))\n",
    "L.reverse()\n",
    "print(L)\n",
    "bubble_sort_opt(L)\n",
    "print(L)"
   ]
  },
  {
   "cell_type": "code",
   "execution_count": null,
   "metadata": {},
   "outputs": [],
   "source": []
  },
  {
   "cell_type": "code",
   "execution_count": null,
   "metadata": {},
   "outputs": [],
   "source": []
  }
 ],
 "metadata": {
  "kernelspec": {
   "display_name": "Python 3",
   "language": "python",
   "name": "python3"
  },
  "language_info": {
   "codemirror_mode": {
    "name": "ipython",
    "version": 3
   },
   "file_extension": ".py",
   "mimetype": "text/x-python",
   "name": "python",
   "nbconvert_exporter": "python",
   "pygments_lexer": "ipython3",
   "version": "3.6.9"
  }
 },
 "nbformat": 4,
 "nbformat_minor": 2
}
