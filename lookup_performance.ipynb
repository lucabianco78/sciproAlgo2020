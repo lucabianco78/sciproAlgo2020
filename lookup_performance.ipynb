{
 "cells": [
  {
   "cell_type": "markdown",
   "metadata": {},
   "source": [
    "### Lookup performance check\n",
    "\n",
    "Let's check the performance of the lookup function by creating a random set of N elements"
   ]
  },
  {
   "cell_type": "code",
   "execution_count": null,
   "metadata": {},
   "outputs": [],
   "source": [
    "import random\n",
    "from time import time\n",
    "\n",
    "#V1: linear code ~ N\n",
    "\n",
    "def lookup(L, v):\n",
    "    for i in range(len(L)):\n",
    "        if L[i] == v:\n",
    "            return i\n",
    "        elif L[i] > v:\n",
    "            return -1\n",
    "    return -1\n",
    "\n",
    "#V2: dicotomic search ~ log N\n",
    "def lookup_rec(L, v, start,end):\n",
    "    if end < start:\n",
    "        return -1\n",
    "    else:\n",
    "        m = (start + end)//2\n",
    "        if L[m] == v: #found!\n",
    "            return m\n",
    "        elif v < L[m]: #look to the left\n",
    "            return lookup_rec(L, v, start, m-1)\n",
    "        else: #look to the right\n",
    "            return lookup_rec(L, v, m+1, end)\n",
    "        \n",
    "\n",
    "        \n",
    "if __name__ == \"__main__\":\n",
    "    values = [random.randint(-30,30) for x in range(0,50000000)]\n",
    "    \n",
    "    searched_vals = [random.randint(-30,30) for x in range(1000)]\n",
    "    input(\"Ready?\")\n",
    "    for i in range(1,5):\n",
    "        st = time()\n",
    "        print(\"V1: {} elements. Looking for {}, index: {}. Elapsed time: {:.3f}s\".format(100000000*i,\n",
    "                                                                           searched_vals[i],\n",
    "                                                                           lookup(values[0:10000000*i], searched_vals[i]), \n",
    "                                                                           time()-st))\n"
   ]
  },
  {
   "cell_type": "code",
   "execution_count": null,
   "metadata": {},
   "outputs": [],
   "source": []
  }
 ],
 "metadata": {
  "kernelspec": {
   "display_name": "Python 3",
   "language": "python",
   "name": "python3"
  },
  "language_info": {
   "codemirror_mode": {
    "name": "ipython",
    "version": 3
   },
   "file_extension": ".py",
   "mimetype": "text/x-python",
   "name": "python",
   "nbconvert_exporter": "python",
   "pygments_lexer": "ipython3",
   "version": "3.6.9"
  }
 },
 "nbformat": 4,
 "nbformat_minor": 2
}
